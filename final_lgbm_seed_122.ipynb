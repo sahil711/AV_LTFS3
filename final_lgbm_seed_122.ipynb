{
 "cells": [
  {
   "cell_type": "code",
   "execution_count": 1,
   "metadata": {},
   "outputs": [
    {
     "name": "stdout",
     "output_type": "stream",
     "text": [
      "Requirement already satisfied: lightgbm==3.1.1 in /home/sahil/anaconda3/lib/python3.7/site-packages (3.1.1)\n",
      "Requirement already satisfied: numpy in /home/sahil/anaconda3/lib/python3.7/site-packages (from lightgbm==3.1.1) (1.19.2)\n",
      "Requirement already satisfied: scikit-learn!=0.22.0 in /home/sahil/anaconda3/lib/python3.7/site-packages (from lightgbm==3.1.1) (0.23.2)\n",
      "Requirement already satisfied: scipy in /home/sahil/anaconda3/lib/python3.7/site-packages (from lightgbm==3.1.1) (1.5.2)\n",
      "Requirement already satisfied: wheel in /home/sahil/anaconda3/lib/python3.7/site-packages (from lightgbm==3.1.1) (0.36.2)\n",
      "Requirement already satisfied: joblib>=0.11 in /home/sahil/anaconda3/lib/python3.7/site-packages (from scikit-learn!=0.22.0->lightgbm==3.1.1) (1.0.0)\n",
      "Requirement already satisfied: threadpoolctl>=2.0.0 in /home/sahil/anaconda3/lib/python3.7/site-packages (from scikit-learn!=0.22.0->lightgbm==3.1.1) (2.1.0)\n"
     ]
    }
   ],
   "source": [
    "!pip install lightgbm==3.1.1"
   ]
  },
  {
   "cell_type": "code",
   "execution_count": 2,
   "metadata": {},
   "outputs": [
    {
     "data": {
      "text/html": [
       "<style type='text/css'>\n",
       ".datatable table.frame { margin-bottom: 0; }\n",
       ".datatable table.frame thead { border-bottom: none; }\n",
       ".datatable table.frame tr.coltypes td {  color: #FFFFFF;  line-height: 6px;  padding: 0 0.5em;}\n",
       ".datatable .bool    { background: #DDDD99; }\n",
       ".datatable .object  { background: #565656; }\n",
       ".datatable .int     { background: #5D9E5D; }\n",
       ".datatable .float   { background: #4040CC; }\n",
       ".datatable .str     { background: #CC4040; }\n",
       ".datatable .row_index {  background: var(--jp-border-color3);  border-right: 1px solid var(--jp-border-color0);  color: var(--jp-ui-font-color3);  font-size: 9px;}\n",
       ".datatable .frame tr.coltypes .row_index {  background: var(--jp-border-color0);}\n",
       ".datatable th:nth-child(2) { padding-left: 12px; }\n",
       ".datatable .hellipsis {  color: var(--jp-cell-editor-border-color);}\n",
       ".datatable .vellipsis {  background: var(--jp-layout-color0);  color: var(--jp-cell-editor-border-color);}\n",
       ".datatable .na {  color: var(--jp-cell-editor-border-color);  font-size: 80%;}\n",
       ".datatable .footer { font-size: 9px; }\n",
       ".datatable .frame_dimensions {  background: var(--jp-border-color3);  border-top: 1px solid var(--jp-border-color0);  color: var(--jp-ui-font-color3);  display: inline-block;  opacity: 0.6;  padding: 1px 10px 1px 5px;}\n",
       "</style>\n"
      ],
      "text/plain": [
       "<IPython.core.display.HTML object>"
      ]
     },
     "metadata": {},
     "output_type": "display_data"
    }
   ],
   "source": [
    "import numpy as np\n",
    "import pandas as pd\n",
    "from sklearn.model_selection import *\n",
    "from lightgbm import LGBMClassifier\n",
    "from sklearn.metrics import f1_score\n",
    "import gc\n",
    "from tqdm.notebook import tqdm\n",
    "pd.options.display.max_columns = 100"
   ]
  },
  {
   "cell_type": "code",
   "execution_count": 3,
   "metadata": {},
   "outputs": [],
   "source": [
    "DATA_DIR = 'data/'"
   ]
  },
  {
   "cell_type": "code",
   "execution_count": 4,
   "metadata": {},
   "outputs": [
    {
     "name": "stdout",
     "output_type": "stream",
     "text": [
      "CPU times: user 3.05 s, sys: 264 ms, total: 3.31 s\n",
      "Wall time: 3.34 s\n",
      "CPU times: user 3.05 s, sys: 264 ms, total: 3.31 s\n",
      "Wall time: 3.34 s\n"
     ]
    }
   ],
   "source": [
    "%%time\n",
    "%%time\n",
    "train_bureau = pd.read_csv(DATA_DIR+'train_bureau.csv')\n",
    "test_bureau = pd.read_csv(DATA_DIR+'test_bureau.csv')\n",
    "train = pd.read_csv(DATA_DIR+'train_Data.csv')\n",
    "test = pd.read_csv(DATA_DIR+'test_Data.csv')\n",
    "# data_dict = pd.read_csv(DATA_DIR+'data_dict.csv')\n",
    "# ss = pd.read_csv(DATA_DIR+'sample_submission_ejm25Dc.csv')"
   ]
  },
  {
   "cell_type": "code",
   "execution_count": 5,
   "metadata": {},
   "outputs": [],
   "source": [
    "ID_COL, TARGET_COL = 'ID', 'Top-up Month'\n",
    "target_mapper = pd.Series({'No Top-up Service': 0,\n",
    "                           '12-18 Months': 1,\n",
    "                           '18-24 Months': 2,\n",
    "                           '24-30 Months': 3,\n",
    "                           '30-36 Months': 4,\n",
    "                           '36-48 Months': 5,\n",
    "                           ' > 48 Months': 6,\n",
    " })\n",
    "target_inv_mapper = pd.Series(index = target_mapper.values, data = target_mapper.index)\n",
    "train[TARGET_COL] = train[TARGET_COL].map(target_mapper)"
   ]
  },
  {
   "cell_type": "code",
   "execution_count": 6,
   "metadata": {},
   "outputs": [
    {
     "data": {
      "text/plain": [
       "0"
      ]
     },
     "execution_count": 6,
     "metadata": {},
     "output_type": "execute_result"
    }
   ],
   "source": [
    "df = train.append(test).reset_index(drop = True)\n",
    "date_cols = ['DisbursalDate', 'MaturityDAte', 'AuthDate']\n",
    "df[date_cols] = df[date_cols].apply(lambda x: pd.to_datetime(x))\n",
    "\n",
    "del df['AssetID']\n",
    "gc.collect()"
   ]
  },
  {
   "cell_type": "code",
   "execution_count": 7,
   "metadata": {},
   "outputs": [],
   "source": [
    "df_bureau = train_bureau.append(test_bureau).reset_index(drop = True)\n",
    "df_bureau = df_bureau.drop_duplicates(['ID','DISBURSED-DT'],keep='first')\n",
    "date_cols = ['DATE-REPORTED', 'DISBURSED-DT', 'CLOSE-DT', 'LAST-PAYMENT-DATE']\n",
    "df_bureau[date_cols] = df_bureau[date_cols].apply(lambda x: pd.to_datetime(x, errors = 'coerce'))\n",
    "df_bureau = df_bureau.sort_values(by = ['ID', 'DISBURSED-DT']).reset_index(drop = True)\n",
    "df_bureau['app_dd'] = df_bureau['ID'].map(df.set_index('ID')['DisbursalDate'])"
   ]
  },
  {
   "cell_type": "code",
   "execution_count": 8,
   "metadata": {},
   "outputs": [],
   "source": [
    "def clean(x):\n",
    "    try:\n",
    "        return float(str(x).replace(',', ''))\n",
    "    except:\n",
    "        return np.nan\n",
    "    \n",
    "df_bureau['DISBURSED-AMT/HIGH CREDIT'] = df_bureau['DISBURSED-AMT/HIGH CREDIT'].apply(lambda x: clean(x))\n",
    "df_bureau['DISBURSED-DT_days_since_start'] = (df_bureau['DISBURSED-DT'] - df_bureau['DISBURSED-DT'].min()).dt.days"
   ]
  },
  {
   "cell_type": "code",
   "execution_count": 9,
   "metadata": {},
   "outputs": [],
   "source": [
    "use_acct_types = ['Gold Loan', 'Personal', 'Tractor Loan', 'Overdraft', 'Business Loan Priority Sector  Agriculture', \n",
    "                 'Auto Loan (Personal)', 'Kisan Credit Card', 'Consumer Loan', 'Business Loan']"
   ]
  },
  {
   "cell_type": "code",
   "execution_count": 10,
   "metadata": {},
   "outputs": [
    {
     "data": {
      "application/vnd.jupyter.widget-view+json": {
       "model_id": "70539f984177419ab8bfda8b3c99ff1c",
       "version_major": 2,
       "version_minor": 0
      },
      "text/plain": [
       "HBox(children=(HTML(value=''), FloatProgress(value=0.0, max=5.0), HTML(value='')))"
      ]
     },
     "metadata": {},
     "output_type": "display_data"
    },
    {
     "name": "stdout",
     "output_type": "stream",
     "text": [
      "\n"
     ]
    }
   ],
   "source": [
    "######## ACCT-TYPE features\n",
    "use_acct_types = ['Gold Loan', 'Tractor Loan', 'Overdraft', 'Business Loan Priority Sector  Agriculture',\n",
    "                 'Commercial Vehicle Loan']\n",
    "\n",
    "\n",
    "for a in tqdm(use_acct_types):\n",
    "    fltr = df_bureau['ACCT-TYPE'] == a\n",
    "    df[f'ACCT-TYPE_{a}_DISBURSED_DT_max'] = df['ID'].map(df_bureau[fltr].groupby('ID')['DISBURSED-DT_days_since_start'].max())\n",
    "    \n",
    "    df['tmp'] = df['ID'].map(df_bureau[fltr].groupby('ID')['DISBURSED-DT'].max())\n",
    "    df[f'ACCT-TYPE_{a}_DISBURSED_DT_max - DisbursalDate'] = (df['tmp'] - df['DisbursalDate']).dt.days\n",
    "    \n",
    "    df[f'ACCT-TYPE_{a}_DISBURSED-AMT/HIGH CREDIT_last'] = df['ID'].map(df_bureau[fltr].groupby('ID')['DISBURSED-AMT/HIGH CREDIT'].last())\n",
    "    df[f'ACCT-TYPE_{a}_DISBURSED-AMT/HIGH CREDIT_max'] = df['ID'].map(df_bureau[fltr].groupby('ID')['DISBURSED-AMT/HIGH CREDIT'].max())\n",
    "    df[f'ACCT-TYPE_{a}_DISBURSED-AMT/HIGH CREDIT_last - DisbursalAmount'] = df[f'ACCT-TYPE_{a}_DISBURSED-AMT/HIGH CREDIT_last'] - df['DisbursalAmount']\n",
    "    \n",
    "    \n",
    "    \n",
    "del df['tmp']"
   ]
  },
  {
   "cell_type": "code",
   "execution_count": 11,
   "metadata": {},
   "outputs": [
    {
     "data": {
      "application/vnd.jupyter.widget-view+json": {
       "model_id": "ee9b54cea5854933972b8328cc6f4ade",
       "version_major": 2,
       "version_minor": 0
      },
      "text/plain": [
       "HBox(children=(HTML(value=''), FloatProgress(value=0.0, max=5.0), HTML(value='')))"
      ]
     },
     "metadata": {},
     "output_type": "display_data"
    },
    {
     "name": "stdout",
     "output_type": "stream",
     "text": [
      "\n"
     ]
    },
    {
     "data": {
      "text/plain": [
       "40"
      ]
     },
     "execution_count": 11,
     "metadata": {},
     "output_type": "execute_result"
    }
   ],
   "source": [
    "for a in tqdm(use_acct_types):\n",
    "    fltr = df_bureau['ACCT-TYPE'] == a\n",
    "    df[f'ACCT-TYPE_{a}_DISBURSED_DT_max'] = df['ID'].map(df_bureau[fltr].groupby('ID')['DISBURSED-DT_days_since_start'].max())\n",
    "    fltr2 = fltr & (df_bureau['DISBURSED-DT'] > df_bureau['app_dd'])\n",
    "    \n",
    "    df[f'ACCT-TYPE_{a}_DISBURSED_DT_next_after_loan'] = df['ID'].map(df_bureau[fltr2].groupby('ID')['DISBURSED-DT_days_since_start'].first())\n",
    "    df['tmp'] = df['ID'].map(df_bureau[df_bureau['DISBURSED-DT'] == df_bureau['app_dd']].set_index('ID')['DISBURSED-DT_days_since_start'])\n",
    "    \n",
    "    f = f'ACCT-TYPE_{a}_DISBURSED_DT_next_after_loan - DisbursalDate'\n",
    "    df[f] = (df[f'ACCT-TYPE_{a}_DISBURSED_DT_next_after_loan'] - df['tmp'])     \n",
    "    \n",
    "    df['tmp'] = df['ID'].map(df_bureau[fltr].groupby('ID')['DISBURSED-DT'].max())\n",
    "    df[f'ACCT-TYPE_{a}_DISBURSED_DT_max - DisbursalDate'] = (df['tmp'] - df['DisbursalDate']).dt.days\n",
    "\n",
    "    \n",
    "    df[f'ACCT-TYPE_{a}_DISBURSED-AMT/HIGH CREDIT_last'] = df['ID'].map(df_bureau[fltr].groupby('ID')['DISBURSED-AMT/HIGH CREDIT'].last())\n",
    "    df[f'ACCT-TYPE_{a}_DISBURSED-AMT/HIGH CREDIT_max'] = df['ID'].map(df_bureau[fltr].groupby('ID')['DISBURSED-AMT/HIGH CREDIT'].max())\n",
    "    df[f'ACCT-TYPE_{a}_DISBURSED-AMT/HIGH CREDIT_last - DisbursalAmount'] = df[f'ACCT-TYPE_{a}_DISBURSED-AMT/HIGH CREDIT_last'] - df['DisbursalAmount']\n",
    "    \n",
    "    \n",
    "del df['tmp']\n",
    "gc.collect()"
   ]
  },
  {
   "cell_type": "code",
   "execution_count": 12,
   "metadata": {},
   "outputs": [],
   "source": [
    "tmp = df_bureau[df_bureau['DISBURSED-DT'] > df_bureau['app_dd']]\n",
    "\n",
    "f = f'TOTAL_DISBURSED-AMT/HIGH CREDIT_after_DisbursalDate'\n",
    "df[f] = df['ID'].map(tmp.groupby('ID')['DISBURSED-AMT/HIGH CREDIT'].sum())\n",
    "\n",
    "f = f'MAX_DISBURSED-AMT/HIGH CREDIT_after_DisbursalDate'\n",
    "df[f] = df['ID'].map(tmp.groupby('ID')['DISBURSED-AMT/HIGH CREDIT'].max())\n",
    "\n",
    "f = f'LAST_DISBURSED-AMT/HIGH CREDIT'\n",
    "df[f] = df['ID'].map(df_bureau.groupby('ID')['DISBURSED-AMT/HIGH CREDIT'].last())"
   ]
  },
  {
   "cell_type": "code",
   "execution_count": 13,
   "metadata": {},
   "outputs": [],
   "source": [
    "df_bureau['first_DISBURSED-DT'] = df_bureau.groupby(\"ID\")['DISBURSED-DT'].transform('first')\n",
    "df_bureau['DISBURSED-DT_days_since_first_loan'] = (df_bureau['DISBURSED-DT'] - df_bureau['first_DISBURSED-DT']).dt.days\n",
    "df_bureau['DISBURSED-DT_days_since_DisbursalDate'] = (df_bureau['DISBURSED-DT'] - df_bureau['app_dd']).dt.days"
   ]
  },
  {
   "cell_type": "code",
   "execution_count": 14,
   "metadata": {},
   "outputs": [
    {
     "data": {
      "application/vnd.jupyter.widget-view+json": {
       "model_id": "1c676a66d5ed4da5a311bfb85e750a14",
       "version_major": 2,
       "version_minor": 0
      },
      "text/plain": [
       "HBox(children=(HTML(value=''), FloatProgress(value=0.0, max=2.0), HTML(value='')))"
      ]
     },
     "metadata": {},
     "output_type": "display_data"
    },
    {
     "name": "stdout",
     "output_type": "stream",
     "text": [
      "\n"
     ]
    }
   ],
   "source": [
    "for a in tqdm(df_bureau['SELF-INDICATOR'].unique()):\n",
    "    fltr = df_bureau['SELF-INDICATOR'] == a\n",
    "    df[f'SELF-INDICATOR-TYPE_{a}_DISBURSED_DT_max'] = df['ID'].map(df_bureau[fltr].groupby('ID')['DISBURSED-DT_days_since_start'].max())\n",
    "    \n",
    "    df['tmp'] = df['ID'].map(df_bureau[fltr].groupby('ID')['DISBURSED-DT'].max())\n",
    "    df[f'SELF-INDICATOR_{a}_DISBURSED_DT_max - DisbursalDate'] = (df['tmp'] - df['DisbursalDate']).dt.days\n",
    "    \n",
    "    df[f'SELF-INDICATOR_{a}_DISBURSED-AMT/HIGH CREDIT_last'] = df['ID'].map(df_bureau[fltr].groupby('ID')['DISBURSED-AMT/HIGH CREDIT'].last())\n",
    "\n",
    "    \n",
    "del df['tmp']"
   ]
  },
  {
   "cell_type": "code",
   "execution_count": 15,
   "metadata": {},
   "outputs": [
    {
     "data": {
      "application/vnd.jupyter.widget-view+json": {
       "model_id": "782e41e0615343df9fab0e7a4d43d402",
       "version_major": 2,
       "version_minor": 0
      },
      "text/plain": [
       "HBox(children=(HTML(value=''), FloatProgress(value=0.0, max=2.0), HTML(value='')))"
      ]
     },
     "metadata": {},
     "output_type": "display_data"
    },
    {
     "data": {
      "application/vnd.jupyter.widget-view+json": {
       "model_id": "72548f9b2e054144bde72d21b844d12c",
       "version_major": 2,
       "version_minor": 0
      },
      "text/plain": [
       "HBox(children=(HTML(value=''), FloatProgress(value=0.0, max=4.0), HTML(value='')))"
      ]
     },
     "metadata": {},
     "output_type": "display_data"
    },
    {
     "name": "stdout",
     "output_type": "stream",
     "text": [
      "\n"
     ]
    },
    {
     "data": {
      "application/vnd.jupyter.widget-view+json": {
       "model_id": "28f04c470f1146dba7ab08eae56dc628",
       "version_major": 2,
       "version_minor": 0
      },
      "text/plain": [
       "HBox(children=(HTML(value=''), FloatProgress(value=0.0, max=4.0), HTML(value='')))"
      ]
     },
     "metadata": {},
     "output_type": "display_data"
    },
    {
     "name": "stdout",
     "output_type": "stream",
     "text": [
      "\n",
      "\n"
     ]
    }
   ],
   "source": [
    "for s in tqdm(df_bureau['SELF-INDICATOR'].unique()):\n",
    "    for c in tqdm(['Personal Loan', 'Gold Loan', 'Kisan Credit Card', 'Consumer Loan']):\n",
    "        fltr = (df_bureau['SELF-INDICATOR'] == s) & (df_bureau[f'ACCT-TYPE'] == c)\n",
    "        df[f'SELF-INDICATOR-TYPE_{a}_ACCT-TYPE_{c}_DISBURSED_DT_max_days_since_first_loan'] = df['ID'].map(df_bureau[fltr].groupby('ID')['DISBURSED-DT_days_since_first_loan'].max())\n",
    "        df[f'SELF-INDICATOR-TYPE_{a}_ACCT-TYPE_{c}_DISBURSED_DT_max_days_since_DisbursalDate'] = \\\n",
    "        df['ID'].map(df_bureau[fltr].groupby('ID')['DISBURSED-DT_days_since_DisbursalDate'].max())\n",
    "        \n",
    "        fltr_add = (df_bureau['DISBURSED-DT'] > df_bureau['app_dd']) & fltr\n",
    "        \n",
    "        \n",
    "        df[f'SELF-INDICATOR-TYPE_{a}_ACCT-TYPE_{c}_DISBURSED_DT_just_after_DisbursalDate'] = \\\n",
    "        df['ID'].map(df_bureau[fltr_add].groupby('ID')['DISBURSED-DT_days_since_DisbursalDate'].nth(0))\n",
    "        \n",
    "        \n",
    "        \n",
    "        df[f'SELF-INDICATOR-TYPE_{a}_ACCT-TYPE_{c}_DISBURSED_DT_2nd_last_days_since_DisbursalDate'] = \\\n",
    "        df['ID'].map(df_bureau[fltr].groupby('ID')['DISBURSED-DT_days_since_DisbursalDate'].nth(-2))             \n",
    "        \n",
    "        \n",
    "        df[f'SELF-INDICATOR-TYPE_{a}_ACCT-TYPE_{c}_DISBURSED_DT_3rd_last_days_since_DisbursalDate'] = \\\n",
    "        df['ID'].map(df_bureau[fltr].groupby('ID')['DISBURSED-DT_days_since_DisbursalDate'].nth(-3))\n",
    "        \n",
    "        df[f'SELF-INDICATOR-TYPE_{a}_ACCT-TYPE_{c}_DISBURSED_DT_4th_last_days_since_DisbursalDate'] = \\\n",
    "        df['ID'].map(df_bureau[fltr].groupby('ID')['DISBURSED-DT_days_since_DisbursalDate'].nth(-4))\n",
    "        \n",
    "        df[f'SELF-INDICATOR-TYPE_{a}_ACCT-TYPE_{c}_DISBURSED_DT_5th_last_days_since_DisbursalDate'] = \\\n",
    "        df['ID'].map(df_bureau[fltr].groupby('ID')['DISBURSED-DT_days_since_DisbursalDate'].nth(-5))\n",
    "\n",
    "        df[f'SELF-INDICATOR-TYPE_{a}_ACCT-TYPE_{c}_last_DISBURSED-AMT/HIGH CREDIT'] = \\\n",
    "        df['ID'].map(df_bureau[fltr].groupby('ID')['DISBURSED-AMT/HIGH CREDIT'].last())"
   ]
  },
  {
   "cell_type": "code",
   "execution_count": 16,
   "metadata": {},
   "outputs": [
    {
     "data": {
      "application/vnd.jupyter.widget-view+json": {
       "model_id": "d55ea572ff154facbe86f5ab7b671041",
       "version_major": 2,
       "version_minor": 0
      },
      "text/plain": [
       "HBox(children=(HTML(value=''), FloatProgress(value=0.0, max=2.0), HTML(value='')))"
      ]
     },
     "metadata": {},
     "output_type": "display_data"
    },
    {
     "name": "stdout",
     "output_type": "stream",
     "text": [
      "\n"
     ]
    }
   ],
   "source": [
    "for s in tqdm(df_bureau['SELF-INDICATOR'].unique()):\n",
    "\n",
    "    fltr = (df_bureau['SELF-INDICATOR'] == s) & (df_bureau[f'ACCT-TYPE'].isin(['Personal Loan', 'Gold Loan']))\n",
    "    df[f'SELF-INDICATOR-TYPE_{a}_Non Tractor Loan_DISBURSED_DT_max_days_since_first_loan'] = df['ID'].map(df_bureau[fltr].groupby('ID')['DISBURSED-DT_days_since_first_loan'].max())\n",
    "\n",
    "    df[f'SELF-INDICATOR-TYPE_{a}_Non Tractor Loan_DISBURSED_DT_max_days_since_DisbursalDate'] = \\\n",
    "    df['ID'].map(df_bureau[fltr].groupby('ID')['DISBURSED-DT_days_since_DisbursalDate'].max())\n",
    "\n",
    "\n",
    "    df[f'SELF-INDICATOR-TYPE_{a}_Non Tractor Loan_DISBURSED_DT_just_after_DisbursalDate'] = \\\n",
    "    df['ID'].map(df_bureau[fltr_add].groupby('ID')['DISBURSED-DT_days_since_DisbursalDate'].nth(0))\n",
    "\n",
    "\n",
    "    df[f'SELF-INDICATOR-TYPE_{a}_Non Tractor Loan_DISBURSED_DT_2nd_last_days_since_DisbursalDate'] = \\\n",
    "    df['ID'].map(df_bureau[fltr].groupby('ID')['DISBURSED-DT_days_since_DisbursalDate'].nth(-2))\n",
    "\n",
    "    df[f'SELF-INDICATOR-TYPE_{a}_Non Tractor Loan_DISBURSED_DT_3rd_last_days_since_DisbursalDate'] = \\\n",
    "    df['ID'].map(df_bureau[fltr].groupby('ID')['DISBURSED-DT_days_since_DisbursalDate'].nth(-3))\n",
    "\n",
    "    df[f'SELF-INDICATOR-TYPE_{a}_Non Tractor Loan_DISBURSED_DT_4th_last_days_since_DisbursalDate'] = \\\n",
    "    df['ID'].map(df_bureau[fltr].groupby('ID')['DISBURSED-DT_days_since_DisbursalDate'].nth(-4))\n",
    "    \n",
    "    df[f'SELF-INDICATOR-TYPE_{a}_Non Tractor Loan_DISBURSED_DT_5th_last_days_since_DisbursalDate'] = \\\n",
    "    df['ID'].map(df_bureau[fltr].groupby('ID')['DISBURSED-DT_days_since_DisbursalDate'].nth(-5))\n",
    "\n",
    "    df[f'SELF-INDICATOR-TYPE_{a}_Non Tractor Loan_last_DISBURSED-AMT/HIGH CREDIT'] = \\\n",
    "    df['ID'].map(df_bureau[fltr].groupby('ID')['DISBURSED-AMT/HIGH CREDIT'].last())"
   ]
  },
  {
   "cell_type": "code",
   "execution_count": 17,
   "metadata": {},
   "outputs": [
    {
     "data": {
      "application/vnd.jupyter.widget-view+json": {
       "model_id": "3bdd7fa31e4e42ffaf269866b07390e3",
       "version_major": 2,
       "version_minor": 0
      },
      "text/plain": [
       "HBox(children=(HTML(value=''), FloatProgress(value=0.0, max=2.0), HTML(value='')))"
      ]
     },
     "metadata": {},
     "output_type": "display_data"
    },
    {
     "name": "stdout",
     "output_type": "stream",
     "text": [
      "\n"
     ]
    }
   ],
   "source": [
    "for s in tqdm(df_bureau['SELF-INDICATOR'].unique()):\n",
    "\n",
    "    fltr = (df_bureau['SELF-INDICATOR'] == s) & (df_bureau[f'ACCT-TYPE'].isin(['Business Loan Priority Sector  Agriculture', 'Tractor Loan']))\n",
    "\n",
    "    df[f'SELF-INDICATOR-TYPE_{a}_Non Tractor Loan2_DISBURSED_DT_max_days_since_DisbursalDate'] = \\\n",
    "    df['ID'].map(df_bureau[fltr].groupby('ID')['DISBURSED-DT_days_since_DisbursalDate'].max())\n",
    "\n",
    "\n",
    "    df[f'SELF-INDICATOR-TYPE_{a}_Non Tractor Loan2_DISBURSED_DT_just_after_DisbursalDate'] = \\\n",
    "    df['ID'].map(df_bureau[fltr_add].groupby('ID')['DISBURSED-DT_days_since_DisbursalDate'].nth(0))"
   ]
  },
  {
   "cell_type": "code",
   "execution_count": 18,
   "metadata": {},
   "outputs": [
    {
     "data": {
      "application/vnd.jupyter.widget-view+json": {
       "model_id": "46616129009d49398cdd74d0b282b5f5",
       "version_major": 2,
       "version_minor": 0
      },
      "text/plain": [
       "HBox(children=(HTML(value=''), FloatProgress(value=0.0, max=10.0), HTML(value='')))"
      ]
     },
     "metadata": {},
     "output_type": "display_data"
    },
    {
     "name": "stdout",
     "output_type": "stream",
     "text": [
      "\n"
     ]
    },
    {
     "data": {
      "application/vnd.jupyter.widget-view+json": {
       "model_id": "2420c077323740a286eeaa3a096695b5",
       "version_major": 2,
       "version_minor": 0
      },
      "text/plain": [
       "HBox(children=(HTML(value=''), FloatProgress(value=0.0, max=10.0), HTML(value='')))"
      ]
     },
     "metadata": {},
     "output_type": "display_data"
    },
    {
     "name": "stdout",
     "output_type": "stream",
     "text": [
      "\n"
     ]
    }
   ],
   "source": [
    "col = 'ACCOUNT-STATUS'\n",
    "for a in ['Tractor Loan', 'Gold Loan']:\n",
    "    for o in tqdm(df_bureau[col].unique()):\n",
    "        for s in df_bureau['SELF-INDICATOR'].unique():\n",
    "\n",
    "            fltr = (df_bureau['SELF-INDICATOR'] == s) & (df_bureau[f'ACCT-TYPE'] == a) & (df_bureau[col] == o)\n",
    "\n",
    "            df[f'ACCT_TYPE_{a}_SELF-INDICATOR_{s}_{col}_{o}_DISBURSED_DT_max_days_since_DisbursalDate'] = \\\n",
    "            df['ID'].map(df_bureau[fltr].groupby('ID')['DISBURSED-DT_days_since_DisbursalDate'].max())\n",
    "\n",
    "\n",
    "            df[f'ACCT_TYPE_{a}_SELF-INDICATOR_{s}_{col}_{o}_DISBURSED_DT_just_after_DisbursalDate'] = \\\n",
    "            df['ID'].map(df_bureau[fltr_add].groupby('ID')['DISBURSED-DT_days_since_DisbursalDate'].nth(0))"
   ]
  },
  {
   "cell_type": "code",
   "execution_count": 19,
   "metadata": {},
   "outputs": [
    {
     "data": {
      "application/vnd.jupyter.widget-view+json": {
       "model_id": "176486dcba4943b9be492fdc81dd1a6d",
       "version_major": 2,
       "version_minor": 0
      },
      "text/plain": [
       "HBox(children=(HTML(value=''), FloatProgress(value=0.0, max=12.0), HTML(value='')))"
      ]
     },
     "metadata": {},
     "output_type": "display_data"
    },
    {
     "name": "stdout",
     "output_type": "stream",
     "text": [
      "\n"
     ]
    },
    {
     "data": {
      "application/vnd.jupyter.widget-view+json": {
       "model_id": "d9e35b3087404052b66fac83e57f6f1f",
       "version_major": 2,
       "version_minor": 0
      },
      "text/plain": [
       "HBox(children=(HTML(value=''), FloatProgress(value=0.0, max=12.0), HTML(value='')))"
      ]
     },
     "metadata": {},
     "output_type": "display_data"
    },
    {
     "name": "stdout",
     "output_type": "stream",
     "text": [
      "\n"
     ]
    },
    {
     "data": {
      "application/vnd.jupyter.widget-view+json": {
       "model_id": "f319bea854f34d8491883dc8e6497d23",
       "version_major": 2,
       "version_minor": 0
      },
      "text/plain": [
       "HBox(children=(HTML(value=''), FloatProgress(value=0.0, max=12.0), HTML(value='')))"
      ]
     },
     "metadata": {},
     "output_type": "display_data"
    },
    {
     "name": "stdout",
     "output_type": "stream",
     "text": [
      "\n"
     ]
    }
   ],
   "source": [
    "col = 'CONTRIBUTOR-TYPE'\n",
    "for a in ['Tractor Loan', 'Gold Loan', 'Personal Loan']:\n",
    "    for o in tqdm(df_bureau[col].unique()):\n",
    "        for s in df_bureau['SELF-INDICATOR'].unique():\n",
    "\n",
    "            fltr = (df_bureau['SELF-INDICATOR'] == s) & (df_bureau[f'ACCT-TYPE'] == a) & (df_bureau[col] == o)\n",
    "\n",
    "            df[f'ACCT_TYPE_{a}_SELF-INDICATOR_{s}_{col}_{o}_DISBURSED_DT_max_days_since_DisbursalDate'] = \\\n",
    "            df['ID'].map(df_bureau[fltr].groupby('ID')['DISBURSED-DT_days_since_DisbursalDate'].max())\n",
    "\n",
    "\n",
    "            df[f'ACCT_TYPE_{a}_SELF-INDICATOR_{s}_{col}_{o}_DISBURSED_DT_just_after_DisbursalDate'] = \\\n",
    "            df['ID'].map(df_bureau[fltr_add].groupby('ID')['DISBURSED-DT_days_since_DisbursalDate'].nth(0))"
   ]
  },
  {
   "cell_type": "code",
   "execution_count": 20,
   "metadata": {},
   "outputs": [],
   "source": [
    "for i in range(1, 3):\n",
    "    fltr = df_bureau['DISBURSED-DT'] >= df_bureau['app_dd']\n",
    "    \n",
    "    df['tmp'] = df['ID'].map(df_bureau[fltr].groupby(\"ID\")['DISBURSED-DT'].nth(i))\n",
    "    df[f'DisbursalDT - DISBURSED-DT_next_{i}'] = (df['DisbursalDate'] - df['tmp']).dt.days\n",
    "    \n",
    "    df['tmp'] = df['ID'].map(df_bureau[fltr].groupby(\"ID\")['DISBURSED-DT'].nth(-i))\n",
    "    df[f'DisbursalDT - DISBURSED-DT_last_{i}'] = (df['DisbursalDate'] - df['tmp']).dt.days\n",
    "    \n",
    "    df['tmp'] = df['ID'].map(df_bureau[fltr].groupby(\"ID\")['DISBURSED-AMT/HIGH CREDIT'].nth(-i))\n",
    "    df[f'DisbursalAmount - DISBURSED-AMT/HIGH CREDIT_last_{i}'] = (df['DisbursalAmount'] - df['tmp'])\n",
    "    \n",
    "del df['tmp']"
   ]
  },
  {
   "cell_type": "code",
   "execution_count": 21,
   "metadata": {},
   "outputs": [
    {
     "data": {
      "application/vnd.jupyter.widget-view+json": {
       "model_id": "51896f70af7d4781bb865eac73a9970f",
       "version_major": 2,
       "version_minor": 0
      },
      "text/plain": [
       "HBox(children=(HTML(value=''), FloatProgress(value=0.0, max=5.0), HTML(value='')))"
      ]
     },
     "metadata": {},
     "output_type": "display_data"
    },
    {
     "name": "stdout",
     "output_type": "stream",
     "text": [
      "\n"
     ]
    }
   ],
   "source": [
    "tmp = df_bureau[df_bureau['DISBURSED-DT'] > df_bureau['app_dd']]\n",
    "for c in tqdm(['Personal Loan', 'Gold Loan', 'Kisan Credit Card', 'Consumer Loan', 'Business Loan']):\n",
    "    df[f'ACCT-TYPE_{c}_after_DisbursalDate_DISBURSED-AMT/HIGH CREDIT_mean'] = df['ID'].map(tmp[tmp['ACCT-TYPE'] == c].groupby('ID')['DISBURSED-AMT/HIGH CREDIT'].mean())\n",
    "    df[f'ACCT-TYPE_{c}_after_DisbursalDate_DISBURSED-AMT/HIGH CREDIT_max'] = df['ID'].map(tmp[tmp['ACCT-TYPE'] == c].groupby('ID')['DISBURSED-AMT/HIGH CREDIT'].max())\n",
    "    df[f'ACCT-TYPE_{c}_after_DisbursalDate_DISBURSED-AMT/HIGH CREDIT_first'] = df['ID'].map(tmp[tmp['ACCT-TYPE'] == c].groupby('ID')['DISBURSED-AMT/HIGH CREDIT'].first())\n",
    "    df[f'ACCT-TYPE_{c}_after_DisbursalDate_DISBURSED-AMT/HIGH CREDIT_second'] = df['ID'].map(tmp[tmp['ACCT-TYPE'] == c].groupby('ID')['DISBURSED-AMT/HIGH CREDIT'].nth(1))\n",
    "    df[f'ACCT-TYPE_{c}_after_DisbursalDate_DISBURSED-AMT/HIGH CREDIT_max - DisbursalAmount'] = df[f'ACCT-TYPE_{c}_after_DisbursalDate_DISBURSED-AMT/HIGH CREDIT_max'] - df['DisbursalAmount']\n",
    "    df[f'ACCT-TYPE_{c}_after_DisbursalDate_DISBURSED-AMT/HIGH CREDIT_first - DisbursalAmount'] = df[f'ACCT-TYPE_{c}_after_DisbursalDate_DISBURSED-AMT/HIGH CREDIT_first'] - df['DisbursalAmount']\n",
    "    df[f'ACCT-TYPE_{c}_after_DisbursalDate_DISBURSED-AMT/HIGH CREDIT_second - DisbursalAmount'] = df[f'ACCT-TYPE_{c}_after_DisbursalDate_DISBURSED-AMT/HIGH CREDIT_second'] - df['DisbursalAmount']\n",
    "    df[f'ACCT-TYPE_{c}_after_DisbursalDate_total_loans'] = df['ID'].map(tmp[tmp['ACCT-TYPE'] == c].groupby('ID').size())\n",
    "    "
   ]
  },
  {
   "cell_type": "code",
   "execution_count": 22,
   "metadata": {},
   "outputs": [],
   "source": [
    "df['ID_freq'] = df['ID'].map(df_bureau['ID'].value_counts())\n",
    "df['ID_freq'] = (df['ID_freq'] == 1)"
   ]
  },
  {
   "cell_type": "code",
   "execution_count": 23,
   "metadata": {},
   "outputs": [],
   "source": [
    "fltr = df_bureau['app_dd'] == df_bureau['DISBURSED-DT']\n",
    "df_bureau['total_loan_days'] = (df_bureau['CLOSE-DT'] - df_bureau['DISBURSED-DT']).dt.days\n",
    "df['total_loan_days'] = df['ID'].map(df_bureau[fltr].set_index('ID')['total_loan_days'])\n",
    "df['total_loan_days_max'] = df['ID'].map(df_bureau.groupby('ID')['total_loan_days'].max())\n",
    "df['total_loan_days_min'] = df['ID'].map(df_bureau.groupby('ID')['total_loan_days'].min())\n",
    "df['total_loan_days_first'] = df['ID'].map(df_bureau.groupby('ID')['total_loan_days'].first())\n",
    "df['total_loan_days_last'] = df['ID'].map(df_bureau.groupby('ID')['total_loan_days'].last())\n",
    "df['total_loan_days_range'] = df['total_loan_days_max'] - df['total_loan_days_min']"
   ]
  },
  {
   "cell_type": "code",
   "execution_count": 24,
   "metadata": {},
   "outputs": [],
   "source": [
    "df['DisbursalDate - MaturityDAte'] = (df['DisbursalDate'] - df['MaturityDAte']).dt.days"
   ]
  },
  {
   "cell_type": "code",
   "execution_count": 25,
   "metadata": {},
   "outputs": [],
   "source": [
    "for c in ['ACCT-TYPE', 'DISBURSED-AMT/HIGH CREDIT']:\n",
    "    df[c + '_first'] = df['ID'].map(df_bureau.groupby('ID')[c].first())\n",
    "    df[c + '_last'] = df['ID'].map(df_bureau.groupby('ID')[c].last())\n",
    "    df[c + '_second_last'] = df['ID'].map(df_bureau.groupby('ID')[c].nth(-2))\n",
    "    \n",
    "    \n",
    "df['ACCT-TYPE'] = df['ID'].map(df_bureau[df_bureau['DISBURSED-DT'] > df_bureau['app_dd']].groupby(\"ID\")['ACCT-TYPE'].first())"
   ]
  },
  {
   "cell_type": "code",
   "execution_count": 26,
   "metadata": {},
   "outputs": [],
   "source": [
    "fltr = df_bureau['DISBURSED-DT'] > df_bureau['app_dd']\n",
    "tmp = df_bureau[fltr]\n",
    "for c in df_bureau['SELF-INDICATOR'].unique():\n",
    "    df_bureau['tmp'] = (df_bureau['SELF-INDICATOR'] == c)*1\n",
    "    df[f'mean_{c}_all'] = df['ID'].map(df_bureau.groupby('ID')['tmp'].mean())\n",
    "    df[f'sum_{c}_all'] = df['ID'].map(df_bureau.groupby('ID')['tmp'].sum())"
   ]
  },
  {
   "cell_type": "code",
   "execution_count": 27,
   "metadata": {},
   "outputs": [
    {
     "name": "stdout",
     "output_type": "stream",
     "text": [
      "['Frequency', 'InstlmentMode', 'LoanStatus', 'PaymentMode', 'Area', 'SEX', 'City', 'State', 'ACCT-TYPE_first', 'ACCT-TYPE_last', 'ACCT-TYPE_second_last', 'ACCT-TYPE']\n"
     ]
    }
   ],
   "source": [
    "cat_cols = df.head().select_dtypes('object').columns.tolist()\n",
    "cat_cols = [c for c in cat_cols if c not in ['DisbursalDate', 'MaturityDAte', 'AuthDate']]\n",
    "print(cat_cols)\n",
    "for c in cat_cols:\n",
    "    df[c] = pd.factorize(df[c])[0]\n",
    "    \n"
   ]
  },
  {
   "cell_type": "code",
   "execution_count": 28,
   "metadata": {},
   "outputs": [
    {
     "data": {
      "text/plain": [
       "113"
      ]
     },
     "execution_count": 28,
     "metadata": {},
     "output_type": "execute_result"
    }
   ],
   "source": [
    "vc = (df.isnull().sum()/df.shape[0]).sort_values(ascending = False)\n",
    "to_drop = vc[vc > 0.99].index.tolist()\n",
    "len(to_drop)"
   ]
  },
  {
   "cell_type": "code",
   "execution_count": 29,
   "metadata": {},
   "outputs": [
    {
     "name": "stdout",
     "output_type": "stream",
     "text": [
      "(128655, 400) (14745, 400)\n",
      "282\n"
     ]
    }
   ],
   "source": [
    "train, test = df[:train.shape[0]].reset_index(drop = True), df[train.shape[0]:].reset_index(drop = True)\n",
    "print(train.shape, test.shape)\n",
    "\n",
    "fts = [c for c in train.columns if c not in [ID_COL,TARGET_COL, 'DisbursalDate', 'MaturityDAte', 'AuthDate'] + to_drop]\n",
    "print(len(fts))"
   ]
  },
  {
   "cell_type": "code",
   "execution_count": 30,
   "metadata": {},
   "outputs": [],
   "source": [
    "def lgb_f1_score(y_true, y_pred):\n",
    "    y_pred = y_pred.reshape(7, -1).T\n",
    "    y_pred = y_pred.argmax(axis=1) # scikits f1 doesn't like probabilities\n",
    "    return 'f1', f1_score(y_true, y_pred, average='macro'), True"
   ]
  },
  {
   "cell_type": "code",
   "execution_count": 31,
   "metadata": {
    "collapsed": true,
    "jupyter": {
     "outputs_hidden": true
    }
   },
   "outputs": [
    {
     "name": "stdout",
     "output_type": "stream",
     "text": [
      "-1\n",
      "Training until validation scores don't improve for 300 rounds\n",
      "[50]\tvalid_0's f1: 0.727341\n",
      "[100]\tvalid_0's f1: 0.729213\n",
      "[150]\tvalid_0's f1: 0.728806\n",
      "[200]\tvalid_0's f1: 0.729847\n",
      "[250]\tvalid_0's f1: 0.729323\n",
      "[300]\tvalid_0's f1: 0.727116\n",
      "[350]\tvalid_0's f1: 0.727723\n",
      "[400]\tvalid_0's f1: 0.730025\n",
      "Early stopping, best iteration is:\n",
      "[113]\tvalid_0's f1: 0.731093\n",
      "\n",
      "Fold 1 Val score: 0.73109\n",
      "\n",
      "6\n",
      "Training until validation scores don't improve for 300 rounds\n",
      "[50]\tvalid_0's f1: 0.712642\n",
      "[100]\tvalid_0's f1: 0.716049\n",
      "[150]\tvalid_0's f1: 0.714668\n",
      "[200]\tvalid_0's f1: 0.717464\n",
      "[250]\tvalid_0's f1: 0.716328\n",
      "[300]\tvalid_0's f1: 0.717029\n",
      "[350]\tvalid_0's f1: 0.715026\n",
      "Early stopping, best iteration is:\n",
      "[83]\tvalid_0's f1: 0.718559\n",
      "\n",
      "Fold 2 Val score: 0.71856\n",
      "\n",
      "-1\n",
      "Training until validation scores don't improve for 300 rounds\n",
      "[50]\tvalid_0's f1: 0.684503\n",
      "[100]\tvalid_0's f1: 0.704434\n",
      "[150]\tvalid_0's f1: 0.709718\n",
      "[200]\tvalid_0's f1: 0.715408\n",
      "[250]\tvalid_0's f1: 0.719593\n",
      "[300]\tvalid_0's f1: 0.718061\n",
      "[350]\tvalid_0's f1: 0.719117\n",
      "[400]\tvalid_0's f1: 0.719245\n",
      "[450]\tvalid_0's f1: 0.719285\n",
      "[500]\tvalid_0's f1: 0.719433\n",
      "[550]\tvalid_0's f1: 0.72023\n",
      "[600]\tvalid_0's f1: 0.720017\n",
      "[650]\tvalid_0's f1: 0.718379\n",
      "[700]\tvalid_0's f1: 0.718847\n",
      "[750]\tvalid_0's f1: 0.719879\n",
      "[800]\tvalid_0's f1: 0.719669\n",
      "[850]\tvalid_0's f1: 0.718928\n",
      "[900]\tvalid_0's f1: 0.720044\n",
      "[950]\tvalid_0's f1: 0.719984\n",
      "[1000]\tvalid_0's f1: 0.720057\n",
      "[1050]\tvalid_0's f1: 0.719994\n",
      "Early stopping, best iteration is:\n",
      "[770]\tvalid_0's f1: 0.72165\n",
      "\n",
      "Fold 3 Val score: 0.72165\n",
      "\n",
      "16\n",
      "Training until validation scores don't improve for 300 rounds\n",
      "[50]\tvalid_0's f1: 0.708978\n",
      "[100]\tvalid_0's f1: 0.722835\n",
      "[150]\tvalid_0's f1: 0.725731\n",
      "[200]\tvalid_0's f1: 0.728084\n",
      "[250]\tvalid_0's f1: 0.728311\n",
      "[300]\tvalid_0's f1: 0.729293\n",
      "[350]\tvalid_0's f1: 0.730366\n",
      "[400]\tvalid_0's f1: 0.72867\n",
      "[450]\tvalid_0's f1: 0.727297\n",
      "[500]\tvalid_0's f1: 0.728319\n",
      "[550]\tvalid_0's f1: 0.730154\n",
      "[600]\tvalid_0's f1: 0.730643\n",
      "[650]\tvalid_0's f1: 0.731635\n",
      "[700]\tvalid_0's f1: 0.734028\n",
      "[750]\tvalid_0's f1: 0.733601\n",
      "[800]\tvalid_0's f1: 0.730805\n",
      "[850]\tvalid_0's f1: 0.731934\n",
      "[900]\tvalid_0's f1: 0.73007\n",
      "[950]\tvalid_0's f1: 0.731919\n",
      "[1000]\tvalid_0's f1: 0.732041\n",
      "[1050]\tvalid_0's f1: 0.731551\n",
      "Early stopping, best iteration is:\n",
      "[761]\tvalid_0's f1: 0.734509\n",
      "\n",
      "Fold 4 Val score: 0.73451\n",
      "\n",
      "12\n",
      "Training until validation scores don't improve for 300 rounds\n",
      "[50]\tvalid_0's f1: 0.719015\n",
      "[100]\tvalid_0's f1: 0.730528\n",
      "[150]\tvalid_0's f1: 0.730493\n",
      "[200]\tvalid_0's f1: 0.731579\n",
      "[250]\tvalid_0's f1: 0.732383\n",
      "[300]\tvalid_0's f1: 0.729662\n",
      "[350]\tvalid_0's f1: 0.729189\n",
      "[400]\tvalid_0's f1: 0.729565\n",
      "[450]\tvalid_0's f1: 0.729164\n",
      "[500]\tvalid_0's f1: 0.729896\n",
      "[550]\tvalid_0's f1: 0.729182\n",
      "Early stopping, best iteration is:\n",
      "[257]\tvalid_0's f1: 0.733884\n",
      "\n",
      "Fold 5 Val score: 0.73388\n",
      "\n",
      "9\n",
      "Training until validation scores don't improve for 300 rounds\n",
      "[50]\tvalid_0's f1: 0.724533\n",
      "[100]\tvalid_0's f1: 0.733266\n",
      "[150]\tvalid_0's f1: 0.735073\n",
      "[200]\tvalid_0's f1: 0.735995\n",
      "[250]\tvalid_0's f1: 0.73567\n",
      "[300]\tvalid_0's f1: 0.733987\n",
      "[350]\tvalid_0's f1: 0.735821\n",
      "[400]\tvalid_0's f1: 0.737078\n",
      "[450]\tvalid_0's f1: 0.736327\n",
      "[500]\tvalid_0's f1: 0.736684\n",
      "[550]\tvalid_0's f1: 0.735504\n",
      "[600]\tvalid_0's f1: 0.737853\n",
      "[650]\tvalid_0's f1: 0.738674\n",
      "[700]\tvalid_0's f1: 0.738202\n",
      "[750]\tvalid_0's f1: 0.738699\n",
      "[800]\tvalid_0's f1: 0.738599\n",
      "[850]\tvalid_0's f1: 0.739324\n",
      "[900]\tvalid_0's f1: 0.738549\n",
      "[950]\tvalid_0's f1: 0.738325\n",
      "[1000]\tvalid_0's f1: 0.738632\n",
      "[1050]\tvalid_0's f1: 0.738505\n",
      "[1100]\tvalid_0's f1: 0.738051\n",
      "[1150]\tvalid_0's f1: 0.738308\n",
      "Early stopping, best iteration is:\n",
      "[865]\tvalid_0's f1: 0.740383\n",
      "\n",
      "Fold 6 Val score: 0.74038\n",
      "\n",
      "-1\n",
      "Training until validation scores don't improve for 300 rounds\n",
      "[50]\tvalid_0's f1: 0.703328\n",
      "[100]\tvalid_0's f1: 0.713217\n",
      "[150]\tvalid_0's f1: 0.713799\n",
      "[200]\tvalid_0's f1: 0.714375\n",
      "[250]\tvalid_0's f1: 0.716375\n",
      "[300]\tvalid_0's f1: 0.715475\n",
      "[350]\tvalid_0's f1: 0.715375\n",
      "[400]\tvalid_0's f1: 0.716594\n",
      "[450]\tvalid_0's f1: 0.716192\n",
      "[500]\tvalid_0's f1: 0.716982\n",
      "[550]\tvalid_0's f1: 0.717618\n",
      "[600]\tvalid_0's f1: 0.717129\n",
      "[650]\tvalid_0's f1: 0.717992\n",
      "[700]\tvalid_0's f1: 0.717843\n",
      "[750]\tvalid_0's f1: 0.718405\n",
      "[800]\tvalid_0's f1: 0.71838\n",
      "[850]\tvalid_0's f1: 0.717023\n",
      "[900]\tvalid_0's f1: 0.718231\n",
      "[950]\tvalid_0's f1: 0.718527\n",
      "Early stopping, best iteration is:\n",
      "[674]\tvalid_0's f1: 0.719173\n",
      "\n",
      "Fold 7 Val score: 0.71917\n",
      "\n",
      "9\n",
      "Training until validation scores don't improve for 300 rounds\n",
      "[50]\tvalid_0's f1: 0.712174\n",
      "[100]\tvalid_0's f1: 0.720737\n",
      "[150]\tvalid_0's f1: 0.72361\n",
      "[200]\tvalid_0's f1: 0.724988\n",
      "[250]\tvalid_0's f1: 0.72774\n",
      "[300]\tvalid_0's f1: 0.728152\n",
      "[350]\tvalid_0's f1: 0.729067\n",
      "[400]\tvalid_0's f1: 0.729467\n",
      "[450]\tvalid_0's f1: 0.728948\n",
      "[500]\tvalid_0's f1: 0.728345\n",
      "[550]\tvalid_0's f1: 0.729963\n",
      "[600]\tvalid_0's f1: 0.728732\n",
      "[650]\tvalid_0's f1: 0.730638\n",
      "[700]\tvalid_0's f1: 0.730827\n",
      "[750]\tvalid_0's f1: 0.729961\n",
      "[800]\tvalid_0's f1: 0.731641\n",
      "[850]\tvalid_0's f1: 0.730997\n",
      "[900]\tvalid_0's f1: 0.732287\n",
      "[950]\tvalid_0's f1: 0.729765\n",
      "[1000]\tvalid_0's f1: 0.730588\n",
      "[1050]\tvalid_0's f1: 0.731257\n",
      "[1100]\tvalid_0's f1: 0.731142\n",
      "Early stopping, best iteration is:\n",
      "[813]\tvalid_0's f1: 0.732315\n",
      "\n",
      "Fold 8 Val score: 0.73231\n",
      "\n",
      "4\n",
      "Training until validation scores don't improve for 300 rounds\n",
      "[50]\tvalid_0's f1: 0.679969\n",
      "[100]\tvalid_0's f1: 0.696864\n",
      "[150]\tvalid_0's f1: 0.702161\n",
      "[200]\tvalid_0's f1: 0.706898\n",
      "[250]\tvalid_0's f1: 0.712498\n",
      "[300]\tvalid_0's f1: 0.713189\n",
      "[350]\tvalid_0's f1: 0.714771\n",
      "[400]\tvalid_0's f1: 0.716322\n",
      "[450]\tvalid_0's f1: 0.717412\n",
      "[500]\tvalid_0's f1: 0.715972\n",
      "[550]\tvalid_0's f1: 0.717569\n",
      "[600]\tvalid_0's f1: 0.71567\n",
      "[650]\tvalid_0's f1: 0.71623\n",
      "[700]\tvalid_0's f1: 0.715559\n",
      "[750]\tvalid_0's f1: 0.717899\n",
      "[800]\tvalid_0's f1: 0.717545\n",
      "[850]\tvalid_0's f1: 0.717839\n",
      "[900]\tvalid_0's f1: 0.715834\n",
      "[950]\tvalid_0's f1: 0.717113\n",
      "[1000]\tvalid_0's f1: 0.716731\n",
      "[1050]\tvalid_0's f1: 0.718428\n",
      "[1100]\tvalid_0's f1: 0.717561\n",
      "[1150]\tvalid_0's f1: 0.718645\n",
      "[1200]\tvalid_0's f1: 0.718109\n",
      "[1250]\tvalid_0's f1: 0.71783\n",
      "[1300]\tvalid_0's f1: 0.718463\n",
      "Early stopping, best iteration is:\n",
      "[1020]\tvalid_0's f1: 0.719616\n",
      "\n",
      "Fold 9 Val score: 0.71962\n",
      "\n",
      "-1\n",
      "Training until validation scores don't improve for 300 rounds\n",
      "[50]\tvalid_0's f1: 0.693492\n",
      "[100]\tvalid_0's f1: 0.706459\n",
      "[150]\tvalid_0's f1: 0.709137\n",
      "[200]\tvalid_0's f1: 0.708921\n",
      "[250]\tvalid_0's f1: 0.712873\n",
      "[300]\tvalid_0's f1: 0.715189\n",
      "[350]\tvalid_0's f1: 0.71268\n",
      "[400]\tvalid_0's f1: 0.714265\n",
      "[450]\tvalid_0's f1: 0.714123\n",
      "[500]\tvalid_0's f1: 0.714974\n",
      "[550]\tvalid_0's f1: 0.71432\n",
      "[600]\tvalid_0's f1: 0.715252\n",
      "Early stopping, best iteration is:\n",
      "[302]\tvalid_0's f1: 0.715652\n",
      "\n",
      "Fold 10 Val score: 0.71565\n",
      "\n",
      "\n",
      "OOF Auc is : 0.727039\n"
     ]
    }
   ],
   "source": [
    "np.random.seed(52)\n",
    "N_SPLITS = 10\n",
    "folds = StratifiedKFold(N_SPLITS, shuffle = True, random_state = 122)\n",
    "oofs = np.zeros((len(train), 7))\n",
    "preds = np.zeros((len(test), 7))\n",
    "fi_df = pd.DataFrame()\n",
    "\n",
    "for fold_, (trn_idx, val_idx) in enumerate(folds.split(train, train[TARGET_COL])):\n",
    "    \n",
    "    X_trn, y_trn = train[fts].iloc[trn_idx], train[TARGET_COL].iloc[trn_idx]\n",
    "    X_val, y_val = train[fts].iloc[val_idx], train[TARGET_COL].iloc[val_idx]\n",
    "    \n",
    "    params = {\n",
    "        'learning_rate': np.random.choice([0.05, 0.06, 0.08, 0.04, 0.1])/2,\n",
    "        'colsample_bytree': np.random.choice([0.25, 0.5, 0.65, 0.8, 0.95, 0.7, 0.68]),\n",
    "        'reg_alpha': np.random.choice([0.22, 0.85, 0.65, 0.7, 0.1])*1.5,\n",
    "        'reg_lambda': np.random.choice([0.7, 0.1, 0.22, 0.85, 0.65, 0.05])*1.3,\n",
    "        'max_depth': np.random.choice([8, 4, 9, 6, 12, -1, 16]),\n",
    "        'n_estimators': 10000000000,\n",
    "        'metric': 'None',\n",
    "        'subsample_for_bin': 100000000000,\n",
    "        'objective':'binary',\n",
    "        'num_leaves': 121,\n",
    "        'min_child_samples': 10,\n",
    "    }\n",
    "\n",
    "    print(params['max_depth'])\n",
    "    \n",
    "    clf = LGBMClassifier(**params)\n",
    "    clf.fit(X_trn, y_trn, eval_set = [(X_val, y_val)], verbose = 50, early_stopping_rounds = 300, eval_metric = lgb_f1_score)\n",
    "    \n",
    "    vp = clf.predict_proba(X_val)\n",
    "    val_score = round(f1_score(y_val, vp.argmax(axis = 1), average = 'macro'), 5)\n",
    "    \n",
    "    print(f'\\nFold {fold_+1} Val score: {val_score}\\n')\n",
    "    \n",
    "    tp = clf.predict_proba(test[fts])\n",
    "    \n",
    "    oofs[val_idx] = vp\n",
    "    preds += tp/N_SPLITS\n",
    "        \n",
    "    fi_df = fi_df.append(pd.DataFrame({'fold': fold_, 'feature': fts, 'importance': clf.feature_importances_}))\n",
    "    \n",
    "oof_score = round(f1_score(train[TARGET_COL], oofs.argmax(axis=1), average = 'macro'), 6)\n",
    "print(f'\\nOOF Auc is : {oof_score}')"
   ]
  },
  {
   "cell_type": "code",
   "execution_count": 32,
   "metadata": {},
   "outputs": [
    {
     "name": "stdout",
     "output_type": "stream",
     "text": [
      "\n",
      "OOF Auc is : 0.727039\n"
     ]
    }
   ],
   "source": [
    "oof_score = round(f1_score(train[TARGET_COL], oofs.argmax(axis=1), average = 'macro'), 6)\n",
    "print(f'\\nOOF Auc is : {oof_score}')"
   ]
  },
  {
   "cell_type": "code",
   "execution_count": 33,
   "metadata": {},
   "outputs": [],
   "source": [
    "train2 = oofs.copy()\n",
    "test2 = preds.copy()\n"
   ]
  },
  {
   "cell_type": "code",
   "execution_count": 34,
   "metadata": {
    "collapsed": true,
    "jupyter": {
     "outputs_hidden": true
    }
   },
   "outputs": [
    {
     "name": "stdout",
     "output_type": "stream",
     "text": [
      "Training until validation scores don't improve for 200 rounds\n",
      "[50]\tvalid_0's f1: 0.728413\n",
      "[100]\tvalid_0's f1: 0.72978\n",
      "[150]\tvalid_0's f1: 0.728347\n",
      "[200]\tvalid_0's f1: 0.727114\n",
      "[250]\tvalid_0's f1: 0.726859\n",
      "Early stopping, best iteration is:\n",
      "[76]\tvalid_0's f1: 0.731798\n",
      "\n",
      "Fold 1 Val score: 0.7318\n",
      "\n",
      "Training until validation scores don't improve for 200 rounds\n",
      "[50]\tvalid_0's f1: 0.721285\n",
      "[100]\tvalid_0's f1: 0.719085\n",
      "[150]\tvalid_0's f1: 0.720635\n",
      "[200]\tvalid_0's f1: 0.719724\n",
      "[250]\tvalid_0's f1: 0.719409\n",
      "Early stopping, best iteration is:\n",
      "[52]\tvalid_0's f1: 0.721636\n",
      "\n",
      "Fold 2 Val score: 0.72164\n",
      "\n",
      "Training until validation scores don't improve for 200 rounds\n",
      "[50]\tvalid_0's f1: 0.715285\n",
      "[100]\tvalid_0's f1: 0.723188\n",
      "[150]\tvalid_0's f1: 0.723182\n",
      "[200]\tvalid_0's f1: 0.723433\n",
      "[250]\tvalid_0's f1: 0.725334\n",
      "[300]\tvalid_0's f1: 0.723946\n",
      "[350]\tvalid_0's f1: 0.723777\n",
      "[400]\tvalid_0's f1: 0.723214\n",
      "Early stopping, best iteration is:\n",
      "[244]\tvalid_0's f1: 0.725334\n",
      "\n",
      "Fold 3 Val score: 0.72533\n",
      "\n",
      "Training until validation scores don't improve for 200 rounds\n",
      "[50]\tvalid_0's f1: 0.731267\n",
      "[100]\tvalid_0's f1: 0.734987\n",
      "[150]\tvalid_0's f1: 0.735479\n",
      "[200]\tvalid_0's f1: 0.735142\n",
      "[250]\tvalid_0's f1: 0.734489\n",
      "[300]\tvalid_0's f1: 0.734241\n",
      "Early stopping, best iteration is:\n",
      "[103]\tvalid_0's f1: 0.736081\n",
      "\n",
      "Fold 4 Val score: 0.73608\n",
      "\n",
      "Training until validation scores don't improve for 200 rounds\n",
      "[50]\tvalid_0's f1: 0.725145\n",
      "[100]\tvalid_0's f1: 0.734128\n",
      "[150]\tvalid_0's f1: 0.735308\n",
      "[200]\tvalid_0's f1: 0.735973\n",
      "[250]\tvalid_0's f1: 0.736757\n",
      "[300]\tvalid_0's f1: 0.73821\n",
      "[350]\tvalid_0's f1: 0.737911\n",
      "[400]\tvalid_0's f1: 0.73931\n",
      "[450]\tvalid_0's f1: 0.73893\n",
      "[500]\tvalid_0's f1: 0.739527\n",
      "[550]\tvalid_0's f1: 0.74037\n",
      "[600]\tvalid_0's f1: 0.740256\n",
      "[650]\tvalid_0's f1: 0.740421\n",
      "[700]\tvalid_0's f1: 0.740036\n",
      "[750]\tvalid_0's f1: 0.741088\n",
      "[800]\tvalid_0's f1: 0.74159\n",
      "[850]\tvalid_0's f1: 0.740315\n",
      "[900]\tvalid_0's f1: 0.740262\n",
      "[950]\tvalid_0's f1: 0.740056\n",
      "Early stopping, best iteration is:\n",
      "[779]\tvalid_0's f1: 0.74159\n",
      "\n",
      "Fold 5 Val score: 0.74159\n",
      "\n",
      "Training until validation scores don't improve for 200 rounds\n",
      "[50]\tvalid_0's f1: 0.731747\n",
      "[100]\tvalid_0's f1: 0.733368\n",
      "[150]\tvalid_0's f1: 0.73419\n",
      "[200]\tvalid_0's f1: 0.733011\n",
      "[250]\tvalid_0's f1: 0.733917\n",
      "Early stopping, best iteration is:\n",
      "[77]\tvalid_0's f1: 0.735866\n",
      "\n",
      "Fold 6 Val score: 0.73587\n",
      "\n",
      "Training until validation scores don't improve for 200 rounds\n",
      "[50]\tvalid_0's f1: 0.718645\n",
      "[100]\tvalid_0's f1: 0.71945\n",
      "[150]\tvalid_0's f1: 0.719906\n",
      "[200]\tvalid_0's f1: 0.720313\n",
      "[250]\tvalid_0's f1: 0.720509\n",
      "[300]\tvalid_0's f1: 0.721035\n",
      "[350]\tvalid_0's f1: 0.719967\n",
      "[400]\tvalid_0's f1: 0.720026\n",
      "[450]\tvalid_0's f1: 0.720997\n",
      "Early stopping, best iteration is:\n",
      "[287]\tvalid_0's f1: 0.721223\n",
      "\n",
      "Fold 7 Val score: 0.72122\n",
      "\n",
      "Training until validation scores don't improve for 200 rounds\n",
      "[50]\tvalid_0's f1: 0.728571\n",
      "[100]\tvalid_0's f1: 0.730743\n",
      "[150]\tvalid_0's f1: 0.730373\n",
      "[200]\tvalid_0's f1: 0.730472\n",
      "[250]\tvalid_0's f1: 0.731493\n",
      "[300]\tvalid_0's f1: 0.731545\n",
      "[350]\tvalid_0's f1: 0.731827\n",
      "[400]\tvalid_0's f1: 0.731771\n",
      "[450]\tvalid_0's f1: 0.731908\n",
      "[500]\tvalid_0's f1: 0.731724\n",
      "Early stopping, best iteration is:\n",
      "[316]\tvalid_0's f1: 0.733054\n",
      "\n",
      "Fold 8 Val score: 0.73305\n",
      "\n",
      "Training until validation scores don't improve for 200 rounds\n",
      "[50]\tvalid_0's f1: 0.727595\n",
      "[100]\tvalid_0's f1: 0.729984\n",
      "[150]\tvalid_0's f1: 0.728335\n",
      "[200]\tvalid_0's f1: 0.728293\n",
      "[250]\tvalid_0's f1: 0.726141\n",
      "Early stopping, best iteration is:\n",
      "[95]\tvalid_0's f1: 0.730274\n",
      "\n",
      "Fold 9 Val score: 0.73027\n",
      "\n",
      "Training until validation scores don't improve for 200 rounds\n",
      "[50]\tvalid_0's f1: 0.71172\n",
      "[100]\tvalid_0's f1: 0.720996\n",
      "[150]\tvalid_0's f1: 0.723689\n",
      "[200]\tvalid_0's f1: 0.723122\n",
      "[250]\tvalid_0's f1: 0.724875\n",
      "[300]\tvalid_0's f1: 0.723948\n",
      "[350]\tvalid_0's f1: 0.723638\n",
      "[400]\tvalid_0's f1: 0.723372\n",
      "Early stopping, best iteration is:\n",
      "[243]\tvalid_0's f1: 0.724875\n",
      "\n",
      "Fold 10 Val score: 0.72487\n",
      "\n",
      "\n",
      "OOF Auc is : 0.730487\n"
     ]
    }
   ],
   "source": [
    "for fold_, (trn_idx, val_idx) in enumerate(folds.split(train, train[TARGET_COL])):\n",
    "    \n",
    "    X_trn, y_trn = train2[trn_idx], train[TARGET_COL].iloc[trn_idx]\n",
    "    X_val, y_val = train2[val_idx], train[TARGET_COL].iloc[val_idx]\n",
    "    \n",
    "    params = {\n",
    "        'learning_rate': 0.02,#np.random.choice([0.05, 0.06, 0.08, 0.04, 0.1])/5,\n",
    "        'colsample_bytree': 0.8,#np.random.choice([0.25, 0.5, 0.65, 0.8, 0.95, 0.7, 0.68]),\n",
    "        'reg_alpha': 0.3,#np.random.choice([0.22, 0.85, 0.65, 0.7, 0.1]),\n",
    "        'reg_lambda': 0.3,#np.random.choice([0.7, 0.1, 0.22, 0.85, 0.65, 0.05]),\n",
    "        'max_depth': -1,#np.random.choice([4, 6, 8, 12, -1]),\n",
    "        'n_estimators': 10000000000,\n",
    "        'metric': 'None',\n",
    "        'subsample_for_bin': 100000000000,\n",
    "        'objective':'binary',\n",
    "        'num_leaves': 31,\n",
    "        'min_child_samples': 7,\n",
    "    }\n",
    "\n",
    "    \n",
    "    clf = LGBMClassifier(**params)\n",
    "    clf.fit(X_trn, y_trn, eval_set = [(X_val, y_val)], verbose = 50, early_stopping_rounds = 200, eval_metric = lgb_f1_score)\n",
    "    \n",
    "    vp = clf.predict_proba(X_val)\n",
    "    val_score = round(f1_score(y_val, vp.argmax(axis = 1), average = 'macro'), 5)\n",
    "    \n",
    "    print(f'\\nFold {fold_+1} Val score: {val_score}\\n')\n",
    "    \n",
    "    tp = clf.predict_proba(test2)\n",
    "    \n",
    "    oofs[val_idx] = vp\n",
    "    preds += tp/N_SPLITS\n",
    "\n",
    "    \n",
    "oof_score = round(f1_score(train[TARGET_COL], oofs.argmax(axis=1), average = 'macro'), 6)\n",
    "print(f'\\nOOF Auc is : {oof_score}')"
   ]
  },
  {
   "cell_type": "code",
   "execution_count": 35,
   "metadata": {},
   "outputs": [
    {
     "name": "stdout",
     "output_type": "stream",
     "text": [
      "0.7304874481644227\n"
     ]
    }
   ],
   "source": [
    "tmp = oofs.copy()\n",
    "oof_score = f1_score(train[TARGET_COL], tmp.round(4).argmax(axis=1), average = 'macro')\n",
    "print(oof_score)\n",
    "pd.DataFrame(oofs).round(4).to_csv('oofs_seed_122_nikhil_cv_0.7304.csv')"
   ]
  },
  {
   "cell_type": "code",
   "execution_count": 36,
   "metadata": {},
   "outputs": [],
   "source": [
    "tmp = preds.copy()\n",
    "pred_labels = pd.Series(tmp.argmax(axis = 1))\n",
    "preds_actual = pred_labels.map(target_inv_mapper)\n",
    "pd.DataFrame(preds).round(4).to_csv('preds_seed_122_nikhil_cv_0.7304.csv')"
   ]
  }
 ],
 "metadata": {
  "kernelspec": {
   "display_name": "Python 3",
   "language": "python",
   "name": "python3"
  },
  "language_info": {
   "codemirror_mode": {
    "name": "ipython",
    "version": 3
   },
   "file_extension": ".py",
   "mimetype": "text/x-python",
   "name": "python",
   "nbconvert_exporter": "python",
   "pygments_lexer": "ipython3",
   "version": "3.7.4"
  }
 },
 "nbformat": 4,
 "nbformat_minor": 4
}
