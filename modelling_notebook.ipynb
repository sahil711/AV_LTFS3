{
 "cells": [
  {
   "cell_type": "code",
   "execution_count": 1,
   "metadata": {},
   "outputs": [],
   "source": [
    "%config Completer.use_jedi = False\n",
    "import pandas as pd\n",
    "import numpy as np\n",
    "pd.options.display.max_rows=1000\n",
    "pd.options.display.max_columns=1000\n",
    "import math\n",
    "import re\n",
    "import datetime as dt\n",
    "from bureau_fc import get_bureau_feats\n",
    "from multiprocessing import Pool\n",
    "import warnings\n",
    "warnings.filterwarnings(\"ignore\")\n",
    "import copy\n",
    "from sklearn.metrics import f1_score"
   ]
  },
  {
   "cell_type": "code",
   "execution_count": 2,
   "metadata": {},
   "outputs": [
    {
     "data": {
      "text/html": [
       "<style type='text/css'>\n",
       ".datatable table.frame { margin-bottom: 0; }\n",
       ".datatable table.frame thead { border-bottom: none; }\n",
       ".datatable table.frame tr.coltypes td {  color: #FFFFFF;  line-height: 6px;  padding: 0 0.5em;}\n",
       ".datatable .bool    { background: #DDDD99; }\n",
       ".datatable .object  { background: #565656; }\n",
       ".datatable .int     { background: #5D9E5D; }\n",
       ".datatable .float   { background: #4040CC; }\n",
       ".datatable .str     { background: #CC4040; }\n",
       ".datatable .row_index {  background: var(--jp-border-color3);  border-right: 1px solid var(--jp-border-color0);  color: var(--jp-ui-font-color3);  font-size: 9px;}\n",
       ".datatable .frame tr.coltypes .row_index {  background: var(--jp-border-color0);}\n",
       ".datatable th:nth-child(2) { padding-left: 12px; }\n",
       ".datatable .hellipsis {  color: var(--jp-cell-editor-border-color);}\n",
       ".datatable .vellipsis {  background: var(--jp-layout-color0);  color: var(--jp-cell-editor-border-color);}\n",
       ".datatable .na {  color: var(--jp-cell-editor-border-color);  font-size: 80%;}\n",
       ".datatable .footer { font-size: 9px; }\n",
       ".datatable .frame_dimensions {  background: var(--jp-border-color3);  border-top: 1px solid var(--jp-border-color0);  color: var(--jp-ui-font-color3);  display: inline-block;  opacity: 0.6;  padding: 1px 10px 1px 5px;}\n",
       "</style>\n"
      ],
      "text/plain": [
       "<IPython.core.display.HTML object>"
      ]
     },
     "metadata": {},
     "output_type": "display_data"
    }
   ],
   "source": [
    "import sys\n",
    "sys.path.append('ml_lib/')\n",
    "from encoding import FreqeuncyEncoding\n",
    "from custom_classifier_mutliclass import Estimator\n",
    "from hyperopt_multiclass import HyperOptModelSelection\n",
    "from hyperopt import hp\n",
    "from sklearn.model_selection import StratifiedKFold\n",
    "from lightgbm import LGBMClassifier"
   ]
  },
  {
   "cell_type": "code",
   "execution_count": 3,
   "metadata": {},
   "outputs": [],
   "source": [
    "DATA_DIR = '/home/sahil/data/av/AV_LTFS3/data/'"
   ]
  },
  {
   "cell_type": "code",
   "execution_count": 4,
   "metadata": {},
   "outputs": [],
   "source": [
    "train = pd.read_csv(DATA_DIR+'train_Data.csv')\n",
    "test = pd.read_csv(DATA_DIR+'test_Data.csv')"
   ]
  },
  {
   "cell_type": "code",
   "execution_count": 5,
   "metadata": {},
   "outputs": [],
   "source": [
    "target_map = {'No Top-up Service': 0,\n",
    " '12-18 Months': 1,\n",
    " '18-24 Months': 2,\n",
    " '24-30 Months': 3,\n",
    " '30-36 Months': 4,\n",
    " '36-48 Months': 5,\n",
    " ' > 48 Months': 6,\n",
    " }\n",
    "train['Top-up Month'] = train['Top-up Month'].map(target_map)"
   ]
  },
  {
   "cell_type": "code",
   "execution_count": 6,
   "metadata": {},
   "outputs": [],
   "source": [
    "reverse_map = {v:k for k,v in target_map.items()}"
   ]
  },
  {
   "cell_type": "code",
   "execution_count": 7,
   "metadata": {},
   "outputs": [
    {
     "data": {
      "text/plain": [
       "{0: 'No Top-up Service',\n",
       " 1: '12-18 Months',\n",
       " 2: '18-24 Months',\n",
       " 3: '24-30 Months',\n",
       " 4: '30-36 Months',\n",
       " 5: '36-48 Months',\n",
       " 6: ' > 48 Months'}"
      ]
     },
     "execution_count": 7,
     "metadata": {},
     "output_type": "execute_result"
    }
   ],
   "source": [
    "reverse_map"
   ]
  },
  {
   "cell_type": "code",
   "execution_count": 8,
   "metadata": {},
   "outputs": [
    {
     "data": {
      "text/plain": [
       "0    106677\n",
       "6      8366\n",
       "5      3656\n",
       "3      3492\n",
       "4      3062\n",
       "2      2368\n",
       "1      1034\n",
       "Name: Top-up Month, dtype: int64"
      ]
     },
     "execution_count": 8,
     "metadata": {},
     "output_type": "execute_result"
    }
   ],
   "source": [
    "train['Top-up Month'].value_counts()"
   ]
  },
  {
   "cell_type": "code",
   "execution_count": 9,
   "metadata": {},
   "outputs": [
    {
     "data": {
      "text/plain": [
       "0"
      ]
     },
     "execution_count": 9,
     "metadata": {},
     "output_type": "execute_result"
    }
   ],
   "source": [
    "df = pd.read_pickle('training_data/data.pkl')\n",
    "df2 = pd.read_pickle('tfidf_feats1.pkl')\n",
    "df = df.merge(df2,on='ID',how='left')\n",
    "del df2\n",
    "import gc\n",
    "gc.collect()"
   ]
  },
  {
   "cell_type": "code",
   "execution_count": 10,
   "metadata": {},
   "outputs": [
    {
     "data": {
      "text/plain": [
       "(143400, 1514)"
      ]
     },
     "execution_count": 10,
     "metadata": {},
     "output_type": "execute_result"
    }
   ],
   "source": [
    "df.shape"
   ]
  },
  {
   "cell_type": "code",
   "execution_count": 11,
   "metadata": {},
   "outputs": [],
   "source": [
    "# df.shape"
   ]
  },
  {
   "cell_type": "code",
   "execution_count": 12,
   "metadata": {},
   "outputs": [],
   "source": [
    "cat_cols=[]\n",
    "target = 'Top-up Month'\n",
    "drop_cols = ['ID','DisbursalDate','MaturityDAte','AuthDate','AssetID','PiNCODE']\n",
    "num_cols = (df.columns[~df.columns.isin([target]+drop_cols+cat_cols)].tolist())\n",
    "use_cols = cat_cols+num_cols"
   ]
  },
  {
   "cell_type": "code",
   "execution_count": 13,
   "metadata": {},
   "outputs": [
    {
     "data": {
      "text/plain": [
       "1512"
      ]
     },
     "execution_count": 13,
     "metadata": {},
     "output_type": "execute_result"
    }
   ],
   "source": [
    "len(num_cols)"
   ]
  },
  {
   "cell_type": "code",
   "execution_count": 14,
   "metadata": {},
   "outputs": [],
   "source": [
    "# df[pd.read_pickle('training_data/500_feats_data_tfidf.pkl').columns].to_pickle('training_data/500_feats_data_tfidf.pkl')"
   ]
  },
  {
   "cell_type": "code",
   "execution_count": 15,
   "metadata": {},
   "outputs": [],
   "source": [
    "train = df[df.ID.isin(train.ID)]\n",
    "test = df[df.ID.isin(test.ID)]\n",
    "train = train.sort_values('ID',ascending=True)\n",
    "test = test.sort_values('ID',ascending=True)\n",
    "train[target] = train[target].astype('int')"
   ]
  },
  {
   "cell_type": "code",
   "execution_count": 16,
   "metadata": {},
   "outputs": [
    {
     "data": {
      "text/plain": [
       "((128655, 1514), (14745, 1514))"
      ]
     },
     "execution_count": 16,
     "metadata": {},
     "output_type": "execute_result"
    }
   ],
   "source": [
    "train.shape,test.shape"
   ]
  },
  {
   "cell_type": "code",
   "execution_count": 17,
   "metadata": {},
   "outputs": [
    {
     "data": {
      "text/plain": [
       "44"
      ]
     },
     "execution_count": 17,
     "metadata": {},
     "output_type": "execute_result"
    }
   ],
   "source": [
    "del df,\n",
    "gc.collect()"
   ]
  },
  {
   "cell_type": "code",
   "execution_count": 18,
   "metadata": {},
   "outputs": [],
   "source": [
    "folds = StratifiedKFold(5, shuffle = True, random_state = 2)\n",
    "folds = [(x,y) for x,y in folds.split(train,train[target])]"
   ]
  },
  {
   "cell_type": "code",
   "execution_count": 19,
   "metadata": {},
   "outputs": [
    {
     "data": {
      "text/plain": [
       "1512"
      ]
     },
     "execution_count": 19,
     "metadata": {},
     "output_type": "execute_result"
    }
   ],
   "source": [
    "len(use_cols)"
   ]
  },
  {
   "cell_type": "code",
   "execution_count": 20,
   "metadata": {},
   "outputs": [],
   "source": [
    "lgbm_space = {\n",
    "    \"n_estimators\": 5000,\n",
    "    \"num_leaves\": hp.quniform(\"num_leaves\", 32, 192, 32),\n",
    "    \"min_child_weight\": hp.quniform(\"min_child_weight\", 10, 100, 20),\n",
    "    \"subsample\": hp.quniform(\"subsample\", 0.5, 1, 0.1),\n",
    "    \"colsample_bytree\": hp.quniform(\"colsample_bytree\", 0.5, 1, 0.1),\n",
    "    \"subsample_freq\": 5,\n",
    "    \"objective\": \"multiclass\",\n",
    "    \"boosting_type\": \"gbdt\",\n",
    "    \"learning_rate\": 0.1,\n",
    "    \"n_jobs\": -1,\n",
    "}"
   ]
  },
  {
   "cell_type": "code",
   "execution_count": 21,
   "metadata": {},
   "outputs": [],
   "source": [
    "est = Estimator(model = LGBMClassifier(),validation_scheme=folds,early_stopping_rounds=100,n_jobs=-1)"
   ]
  },
  {
   "cell_type": "code",
   "execution_count": 23,
   "metadata": {},
   "outputs": [],
   "source": [
    "# %%time\n",
    "# hyp= HyperOptModelSelection(model=est,space=lgbm_space,max_evals=50,is_maximize=True,log_file_path='hyp4.txt')"
   ]
  },
  {
   "cell_type": "code",
   "execution_count": 24,
   "metadata": {},
   "outputs": [
    {
     "name": "stdout",
     "output_type": "stream",
     "text": [
      "CPU times: user 1 µs, sys: 0 ns, total: 1 µs\n",
      "Wall time: 3.81 µs\n"
     ]
    }
   ],
   "source": [
    "%%time\n",
    "# hyp.fit(train[use_cols].values,train[target].values)"
   ]
  },
  {
   "cell_type": "code",
   "execution_count": 25,
   "metadata": {},
   "outputs": [],
   "source": [
    "# params={'boosting_type': 'gbdt', 'colsample_bytree': 0.8, 'learning_rate': 0.1, 'min_child_weight': 40.0, 'n_estimators': 5000,\n",
    "#         'n_jobs': -1, 'num_leaves': 96, 'objective': 'multiclass', 'subsample': 1.0, 'subsample_freq': 5}\n",
    "\n",
    "params = {'boosting_type': 'gbdt', 'colsample_bytree': 0.8, 'learning_rate': 0.1, 'min_child_weight': 20.0, 'n_estimators': 5000,\n",
    " 'n_jobs': -1, 'num_leaves': 64, 'objective': 'multiclass', 'subsample': 1.0, 'subsample_freq': 5}"
   ]
  },
  {
   "cell_type": "code",
   "execution_count": 26,
   "metadata": {},
   "outputs": [],
   "source": [
    "# est = Estimator(model = LGBMClassifier(colsample_bytree=0.7000000000000001, min_child_weight=60.0,learning_rate=0.1,\n",
    "#                n_estimators=5000, num_leaves=64, objective='multiclass',metric='None',\n",
    "#                subsample_freq=5),validation_scheme=folds,early_stopping_rounds=100,n_jobs=-1)\n",
    "\n",
    "est = Estimator(model = LGBMClassifier(**params),validation_scheme=folds,early_stopping_rounds=100,n_jobs=-1)"
   ]
  },
  {
   "cell_type": "code",
   "execution_count": 27,
   "metadata": {},
   "outputs": [
    {
     "name": "stdout",
     "output_type": "stream",
     "text": [
      "Training until validation scores don't improve for 100 rounds\n",
      "[100]\tvalid_0's multi_logloss: 0.277424\tvalid_1's multi_logloss: 0.147215\n",
      "Early stopping, best iteration is:\n",
      "[93]\tvalid_0's multi_logloss: 0.277288\tvalid_1's multi_logloss: 0.153245\n",
      "Training until validation scores don't improve for 100 rounds\n",
      "[100]\tvalid_0's multi_logloss: 0.273074\tvalid_1's multi_logloss: 0.148219\n",
      "[200]\tvalid_0's multi_logloss: 0.278714\tvalid_1's multi_logloss: 0.0883823\n",
      "Early stopping, best iteration is:\n",
      "[106]\tvalid_0's multi_logloss: 0.272919\tvalid_1's multi_logloss: 0.143239\n",
      "Training until validation scores don't improve for 100 rounds\n",
      "[100]\tvalid_0's multi_logloss: 0.273832\tvalid_1's multi_logloss: 0.147946\n",
      "Early stopping, best iteration is:\n",
      "[89]\tvalid_0's multi_logloss: 0.273612\tvalid_1's multi_logloss: 0.157696\n",
      "Training until validation scores don't improve for 100 rounds\n",
      "[100]\tvalid_0's multi_logloss: 0.274118\tvalid_1's multi_logloss: 0.148404\n",
      "[200]\tvalid_0's multi_logloss: 0.279768\tvalid_1's multi_logloss: 0.0885063\n",
      "Early stopping, best iteration is:\n",
      "[104]\tvalid_0's multi_logloss: 0.274056\tvalid_1's multi_logloss: 0.145001\n",
      "Training until validation scores don't improve for 100 rounds\n",
      "[100]\tvalid_0's multi_logloss: 0.264954\tvalid_1's multi_logloss: 0.14941\n",
      "[200]\tvalid_0's multi_logloss: 0.269902\tvalid_1's multi_logloss: 0.0901227\n",
      "Early stopping, best iteration is:\n",
      "[106]\tvalid_0's multi_logloss: 0.264861\tvalid_1's multi_logloss: 0.144673\n"
     ]
    }
   ],
   "source": [
    "temp = est.fit_transform(train[use_cols].values,train[target].values)"
   ]
  },
  {
   "cell_type": "code",
   "execution_count": 29,
   "metadata": {},
   "outputs": [
    {
     "data": {
      "text/plain": [
       "0.27254720000000004"
      ]
     },
     "execution_count": 29,
     "metadata": {},
     "output_type": "execute_result"
    }
   ],
   "source": [
    "np.mean([0.277288,0.272919,0.273612,0.274056,0.264861])"
   ]
  },
  {
   "cell_type": "code",
   "execution_count": 28,
   "metadata": {},
   "outputs": [
    {
     "data": {
      "text/plain": [
       "([0.7150687527492691,\n",
       "  0.7253377493324094,\n",
       "  0.7226694619410213,\n",
       "  0.7227856518915358,\n",
       "  0.7314023595137764],\n",
       " 0.7236004766926883)"
      ]
     },
     "execution_count": 28,
     "metadata": {},
     "output_type": "execute_result"
    }
   ],
   "source": [
    "est.cv_scores,est.overall_cv_score"
   ]
  },
  {
   "cell_type": "code",
   "execution_count": null,
   "metadata": {},
   "outputs": [],
   "source": []
  },
  {
   "cell_type": "code",
   "execution_count": 35,
   "metadata": {},
   "outputs": [
    {
     "name": "stdout",
     "output_type": "stream",
     "text": [
      "CPU times: user 798 µs, sys: 2 µs, total: 800 µs\n",
      "Wall time: 548 µs\n"
     ]
    }
   ],
   "source": [
    "%%time\n",
    "lgbm_space = {\n",
    "    \"n_estimators\": 5000,\n",
    "    \"num_leaves\": hp.quniform(\"num_leaves\", 4, 16, 4),\n",
    "    \"min_child_weight\": hp.quniform(\"min_child_weight\", 10, 100, 20),\n",
    "    \"subsample\": hp.quniform(\"subsample\", 0.5, 1, 0.1),\n",
    "    \"colsample_bytree\": hp.quniform(\"colsample_bytree\", 0.5, 1, 0.1),\n",
    "    \"subsample_freq\": 5,\n",
    "    \"objective\": \"multiclass\",\n",
    "    \"boosting_type\": \"gbdt\",\n",
    "    \"learning_rate\": 0.1,\n",
    "    \"n_jobs\": -1,\n",
    "}\n",
    "hyp= HyperOptModelSelection(model=est,space=lgbm_space,max_evals=50,is_maximize=True,log_file_path='hyp_meta.txt')"
   ]
  },
  {
   "cell_type": "code",
   "execution_count": 67,
   "metadata": {},
   "outputs": [],
   "source": [
    "# hyp.fit(temp,train[target].values)"
   ]
  },
  {
   "cell_type": "code",
   "execution_count": 37,
   "metadata": {},
   "outputs": [],
   "source": [
    "meta_est = hyp.best_estimator"
   ]
  },
  {
   "cell_type": "code",
   "execution_count": 38,
   "metadata": {},
   "outputs": [
    {
     "data": {
      "text/plain": [
       "LGBMClassifier(colsample_bytree=0.5, min_child_weight=80.0, n_estimators=5000,\n",
       "               num_leaves=12, objective='multiclass', subsample=0.8,\n",
       "               subsample_freq=5)"
      ]
     },
     "execution_count": 38,
     "metadata": {},
     "output_type": "execute_result"
    }
   ],
   "source": [
    "meta_est.model"
   ]
  },
  {
   "cell_type": "code",
   "execution_count": 70,
   "metadata": {},
   "outputs": [],
   "source": [
    "meta_params = {'boosting_type': 'gbdt',\n",
    " 'colsample_bytree': 0.5,\n",
    " 'learning_rate': 0.1,\n",
    " 'min_child_weight': 80.0,\n",
    " 'n_estimators': 5000,\n",
    " 'n_jobs': -1,\n",
    " 'num_leaves': 12,\n",
    " 'objective': 'multiclass',\n",
    " 'subsample': 0.8,\n",
    " 'subsample_freq': 5}\n",
    "\n",
    "meta_est = Estimator(model = LGBMClassifier(**meta_params),validation_scheme=folds,early_stopping_rounds=100,n_jobs=-1)"
   ]
  },
  {
   "cell_type": "code",
   "execution_count": 71,
   "metadata": {},
   "outputs": [
    {
     "name": "stdout",
     "output_type": "stream",
     "text": [
      "Training until validation scores don't improve for 100 rounds\n",
      "[100]\tvalid_0's multi_logloss: 0.278479\tvalid_1's multi_logloss: 0.259084\n",
      "[200]\tvalid_0's multi_logloss: 0.278844\tvalid_1's multi_logloss: 0.25074\n",
      "Early stopping, best iteration is:\n",
      "[127]\tvalid_0's multi_logloss: 0.278236\tvalid_1's multi_logloss: 0.256277\n",
      "Training until validation scores don't improve for 100 rounds\n",
      "[100]\tvalid_0's multi_logloss: 0.271899\tvalid_1's multi_logloss: 0.260577\n",
      "[200]\tvalid_0's multi_logloss: 0.272413\tvalid_1's multi_logloss: 0.252039\n",
      "Early stopping, best iteration is:\n",
      "[125]\tvalid_0's multi_logloss: 0.271612\tvalid_1's multi_logloss: 0.257948\n",
      "Training until validation scores don't improve for 100 rounds\n",
      "[100]\tvalid_0's multi_logloss: 0.273313\tvalid_1's multi_logloss: 0.260081\n",
      "[200]\tvalid_0's multi_logloss: 0.273264\tvalid_1's multi_logloss: 0.251644\n",
      "Early stopping, best iteration is:\n",
      "[124]\tvalid_0's multi_logloss: 0.272774\tvalid_1's multi_logloss: 0.257486\n",
      "Training until validation scores don't improve for 100 rounds\n",
      "[100]\tvalid_0's multi_logloss: 0.273757\tvalid_1's multi_logloss: 0.260271\n",
      "[200]\tvalid_0's multi_logloss: 0.273306\tvalid_1's multi_logloss: 0.251916\n",
      "Early stopping, best iteration is:\n",
      "[127]\tvalid_0's multi_logloss: 0.273189\tvalid_1's multi_logloss: 0.257437\n",
      "Training until validation scores don't improve for 100 rounds\n",
      "[100]\tvalid_0's multi_logloss: 0.263013\tvalid_1's multi_logloss: 0.262833\n",
      "[200]\tvalid_0's multi_logloss: 0.262421\tvalid_1's multi_logloss: 0.254449\n",
      "Early stopping, best iteration is:\n",
      "[170]\tvalid_0's multi_logloss: 0.262225\tvalid_1's multi_logloss: 0.256568\n"
     ]
    },
    {
     "data": {
      "text/plain": [
       "([0.7189437536877117,\n",
       "  0.732607017588078,\n",
       "  0.7224522777567273,\n",
       "  0.7259197637012166,\n",
       "  0.7361811736390812],\n",
       " 0.7272938602752097)"
      ]
     },
     "execution_count": 71,
     "metadata": {},
     "output_type": "execute_result"
    }
   ],
   "source": [
    "oof_preds = meta_est.fit_transform(temp,train[target].values)\n",
    "meta_est.cv_scores,meta_est.overall_cv_score"
   ]
  },
  {
   "cell_type": "code",
   "execution_count": 73,
   "metadata": {},
   "outputs": [
    {
     "data": {
      "text/plain": [
       "0.2716072"
      ]
     },
     "execution_count": 73,
     "metadata": {},
     "output_type": "execute_result"
    }
   ],
   "source": [
    "np.mean([0.262225,0.273189,0.272774,0.271612,0.278236])"
   ]
  },
  {
   "cell_type": "code",
   "execution_count": 41,
   "metadata": {},
   "outputs": [
    {
     "data": {
      "text/plain": [
       "0    0.882857\n",
       "6    0.047204\n",
       "5    0.018429\n",
       "3    0.016463\n",
       "4    0.015110\n",
       "2    0.013089\n",
       "1    0.006848\n",
       "dtype: float64"
      ]
     },
     "execution_count": 41,
     "metadata": {},
     "output_type": "execute_result"
    }
   ],
   "source": [
    "pd.Series(oof_preds.argmax(axis=1)).value_counts(1)"
   ]
  },
  {
   "cell_type": "code",
   "execution_count": 40,
   "metadata": {},
   "outputs": [],
   "source": [
    "# feat_imp = est.feature_importance_df(use_cols)\n",
    "# train[feat_imp.column.iloc[:500].tolist()+['ID',target]].to_pickle('training_data/500_feats_data_tfidf.pkl')"
   ]
  },
  {
   "cell_type": "code",
   "execution_count": 42,
   "metadata": {},
   "outputs": [
    {
     "data": {
      "text/plain": [
       "0.7272938602752097"
      ]
     },
     "execution_count": 42,
     "metadata": {},
     "output_type": "execute_result"
    }
   ],
   "source": [
    "f1_score(train[target],pd.Series(oof_preds.argmax(axis=1)),average='macro')"
   ]
  },
  {
   "cell_type": "code",
   "execution_count": 50,
   "metadata": {},
   "outputs": [],
   "source": [
    "test_preds = [est.predict_proba(test[use_cols].values) for est in est.fitted_models]\n",
    "meta_test_df = np.mean(test_preds,axis=0)"
   ]
  },
  {
   "cell_type": "code",
   "execution_count": 56,
   "metadata": {},
   "outputs": [],
   "source": [
    "test_preds = [est.predict_proba(meta_test_df) for est in meta_est.fitted_models]"
   ]
  },
  {
   "cell_type": "code",
   "execution_count": 61,
   "metadata": {},
   "outputs": [
    {
     "data": {
      "text/plain": [
       "0    0.918616\n",
       "6    0.037369\n",
       "5    0.017904\n",
       "4    0.007731\n",
       "2    0.006850\n",
       "3    0.006104\n",
       "1    0.005426\n",
       "dtype: float64"
      ]
     },
     "execution_count": 61,
     "metadata": {},
     "output_type": "execute_result"
    }
   ],
   "source": [
    "pd.Series(meta_test_df.argmax(1)).value_counts(1)"
   ]
  },
  {
   "cell_type": "code",
   "execution_count": 47,
   "metadata": {},
   "outputs": [],
   "source": [
    "# pd.Series(np.sum(test_preds,axis=0).argmax(axis=1)).value_counts(1)"
   ]
  },
  {
   "cell_type": "code",
   "execution_count": 57,
   "metadata": {},
   "outputs": [],
   "source": [
    "test['Top-up Month'] = np.sum(test_preds,axis=0).argmax(axis=1)"
   ]
  },
  {
   "cell_type": "code",
   "execution_count": 58,
   "metadata": {},
   "outputs": [
    {
     "data": {
      "text/plain": [
       "0    0.912648\n",
       "6    0.038047\n",
       "5    0.018379\n",
       "4    0.010173\n",
       "2    0.007664\n",
       "3    0.006985\n",
       "1    0.006104\n",
       "Name: Top-up Month, dtype: float64"
      ]
     },
     "execution_count": 58,
     "metadata": {},
     "output_type": "execute_result"
    }
   ],
   "source": [
    "test['Top-up Month'].value_counts(1)"
   ]
  },
  {
   "cell_type": "code",
   "execution_count": 63,
   "metadata": {},
   "outputs": [],
   "source": [
    "sub = test[['ID','Top-up Month']]"
   ]
  },
  {
   "cell_type": "code",
   "execution_count": 65,
   "metadata": {},
   "outputs": [],
   "source": [
    "sub['Top-up Month'] = sub['Top-up Month'].map(reverse_map)"
   ]
  },
  {
   "cell_type": "code",
   "execution_count": 66,
   "metadata": {},
   "outputs": [],
   "source": [
    "sub.to_csv('LGBM_TFIDF_META_CV0.7273.csv',index=False)"
   ]
  },
  {
   "cell_type": "code",
   "execution_count": null,
   "metadata": {},
   "outputs": [],
   "source": []
  }
 ],
 "metadata": {
  "kernelspec": {
   "display_name": "Python 3",
   "language": "python",
   "name": "python3"
  },
  "language_info": {
   "codemirror_mode": {
    "name": "ipython",
    "version": 3
   },
   "file_extension": ".py",
   "mimetype": "text/x-python",
   "name": "python",
   "nbconvert_exporter": "python",
   "pygments_lexer": "ipython3",
   "version": "3.7.4"
  }
 },
 "nbformat": 4,
 "nbformat_minor": 4
}
