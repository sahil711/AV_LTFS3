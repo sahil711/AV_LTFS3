{
 "cells": [
  {
   "cell_type": "code",
   "execution_count": 1,
   "metadata": {},
   "outputs": [
    {
     "name": "stdout",
     "output_type": "stream",
     "text": [
      "Requirement already satisfied: lightgbm==3.1.1 in /home/sahil/anaconda3/lib/python3.7/site-packages (3.1.1)\n",
      "Requirement already satisfied: scikit-learn!=0.22.0 in /home/sahil/anaconda3/lib/python3.7/site-packages (from lightgbm==3.1.1) (0.23.2)\n",
      "Requirement already satisfied: numpy in /home/sahil/anaconda3/lib/python3.7/site-packages (from lightgbm==3.1.1) (1.19.2)\n",
      "Requirement already satisfied: scipy in /home/sahil/anaconda3/lib/python3.7/site-packages (from lightgbm==3.1.1) (1.5.2)\n",
      "Requirement already satisfied: wheel in /home/sahil/anaconda3/lib/python3.7/site-packages (from lightgbm==3.1.1) (0.36.2)\n",
      "Requirement already satisfied: threadpoolctl>=2.0.0 in /home/sahil/anaconda3/lib/python3.7/site-packages (from scikit-learn!=0.22.0->lightgbm==3.1.1) (2.1.0)\n",
      "Requirement already satisfied: joblib>=0.11 in /home/sahil/anaconda3/lib/python3.7/site-packages (from scikit-learn!=0.22.0->lightgbm==3.1.1) (1.0.0)\n"
     ]
    }
   ],
   "source": [
    "!pip install lightgbm==3.1.1"
   ]
  },
  {
   "cell_type": "code",
   "execution_count": 2,
   "metadata": {},
   "outputs": [
    {
     "data": {
      "text/html": [
       "<style type='text/css'>\n",
       ".datatable table.frame { margin-bottom: 0; }\n",
       ".datatable table.frame thead { border-bottom: none; }\n",
       ".datatable table.frame tr.coltypes td {  color: #FFFFFF;  line-height: 6px;  padding: 0 0.5em;}\n",
       ".datatable .bool    { background: #DDDD99; }\n",
       ".datatable .object  { background: #565656; }\n",
       ".datatable .int     { background: #5D9E5D; }\n",
       ".datatable .float   { background: #4040CC; }\n",
       ".datatable .str     { background: #CC4040; }\n",
       ".datatable .row_index {  background: var(--jp-border-color3);  border-right: 1px solid var(--jp-border-color0);  color: var(--jp-ui-font-color3);  font-size: 9px;}\n",
       ".datatable .frame tr.coltypes .row_index {  background: var(--jp-border-color0);}\n",
       ".datatable th:nth-child(2) { padding-left: 12px; }\n",
       ".datatable .hellipsis {  color: var(--jp-cell-editor-border-color);}\n",
       ".datatable .vellipsis {  background: var(--jp-layout-color0);  color: var(--jp-cell-editor-border-color);}\n",
       ".datatable .na {  color: var(--jp-cell-editor-border-color);  font-size: 80%;}\n",
       ".datatable .footer { font-size: 9px; }\n",
       ".datatable .frame_dimensions {  background: var(--jp-border-color3);  border-top: 1px solid var(--jp-border-color0);  color: var(--jp-ui-font-color3);  display: inline-block;  opacity: 0.6;  padding: 1px 10px 1px 5px;}\n",
       "</style>\n"
      ],
      "text/plain": [
       "<IPython.core.display.HTML object>"
      ]
     },
     "metadata": {},
     "output_type": "display_data"
    }
   ],
   "source": [
    "import numpy as np\n",
    "import pandas as pd\n",
    "from sklearn.model_selection import *\n",
    "from lightgbm import LGBMClassifier\n",
    "from sklearn.metrics import f1_score\n",
    "import gc\n",
    "from tqdm.notebook import tqdm\n",
    "pd.options.display.max_columns = 100"
   ]
  },
  {
   "cell_type": "code",
   "execution_count": 3,
   "metadata": {},
   "outputs": [],
   "source": [
    "DATA_DIR = 'data/'"
   ]
  },
  {
   "cell_type": "code",
   "execution_count": 4,
   "metadata": {},
   "outputs": [
    {
     "name": "stdout",
     "output_type": "stream",
     "text": [
      "CPU times: user 3.08 s, sys: 184 ms, total: 3.27 s\n",
      "Wall time: 3.27 s\n",
      "CPU times: user 3.08 s, sys: 184 ms, total: 3.27 s\n",
      "Wall time: 3.27 s\n"
     ]
    }
   ],
   "source": [
    "%%time\n",
    "%%time\n",
    "train_bureau = pd.read_csv(DATA_DIR+'train_bureau.csv')\n",
    "test_bureau = pd.read_csv(DATA_DIR+'test_bureau.csv')\n",
    "train = pd.read_csv(DATA_DIR+'train_Data.csv')\n",
    "test = pd.read_csv(DATA_DIR+'test_Data.csv')\n",
    "# data_dict = pd.read_csv(DATA_DIR+'data_dict.csv')\n",
    "# ss = pd.read_csv(DATA_DIR+'sample_submission_ejm25Dc.csv')"
   ]
  },
  {
   "cell_type": "code",
   "execution_count": 5,
   "metadata": {},
   "outputs": [],
   "source": [
    "ID_COL, TARGET_COL = 'ID', 'Top-up Month'\n",
    "target_mapper = pd.Series({'No Top-up Service': 0,\n",
    "                           '12-18 Months': 1,\n",
    "                           '18-24 Months': 2,\n",
    "                           '24-30 Months': 3,\n",
    "                           '30-36 Months': 4,\n",
    "                           '36-48 Months': 5,\n",
    "                           ' > 48 Months': 6,\n",
    " })\n",
    "target_inv_mapper = pd.Series(index = target_mapper.values, data = target_mapper.index)\n",
    "train[TARGET_COL] = train[TARGET_COL].map(target_mapper)"
   ]
  },
  {
   "cell_type": "code",
   "execution_count": 6,
   "metadata": {},
   "outputs": [
    {
     "data": {
      "text/plain": [
       "0"
      ]
     },
     "execution_count": 6,
     "metadata": {},
     "output_type": "execute_result"
    }
   ],
   "source": [
    "df = train.append(test).reset_index(drop = True)\n",
    "date_cols = ['DisbursalDate', 'MaturityDAte', 'AuthDate']\n",
    "df[date_cols] = df[date_cols].apply(lambda x: pd.to_datetime(x))\n",
    "\n",
    "del df['AssetID']\n",
    "gc.collect()"
   ]
  },
  {
   "cell_type": "code",
   "execution_count": 7,
   "metadata": {},
   "outputs": [],
   "source": [
    "df_bureau = train_bureau.append(test_bureau).reset_index(drop = True)\n",
    "df_bureau = df_bureau.drop_duplicates(['ID','DISBURSED-DT'],keep='first')\n",
    "date_cols = ['DATE-REPORTED', 'DISBURSED-DT', 'CLOSE-DT', 'LAST-PAYMENT-DATE']\n",
    "df_bureau[date_cols] = df_bureau[date_cols].apply(lambda x: pd.to_datetime(x, errors = 'coerce'))\n",
    "df_bureau = df_bureau.sort_values(by = ['ID', 'DISBURSED-DT']).reset_index(drop = True)\n",
    "df_bureau['app_dd'] = df_bureau['ID'].map(df.set_index('ID')['DisbursalDate'])"
   ]
  },
  {
   "cell_type": "code",
   "execution_count": 8,
   "metadata": {},
   "outputs": [],
   "source": [
    "def clean(x):\n",
    "    try:\n",
    "        return float(str(x).replace(',', ''))\n",
    "    except:\n",
    "        return np.nan\n",
    "    \n",
    "df_bureau['DISBURSED-AMT/HIGH CREDIT'] = df_bureau['DISBURSED-AMT/HIGH CREDIT'].apply(lambda x: clean(x))\n",
    "df_bureau['DISBURSED-DT_days_since_start'] = (df_bureau['DISBURSED-DT'] - df_bureau['DISBURSED-DT'].min()).dt.days"
   ]
  },
  {
   "cell_type": "code",
   "execution_count": 9,
   "metadata": {},
   "outputs": [],
   "source": [
    "use_acct_types = ['Gold Loan', 'Personal', 'Tractor Loan', 'Overdraft', 'Business Loan Priority Sector  Agriculture', \n",
    "                 'Auto Loan (Personal)', 'Kisan Credit Card', 'Consumer Loan', 'Business Loan']"
   ]
  },
  {
   "cell_type": "code",
   "execution_count": 10,
   "metadata": {},
   "outputs": [
    {
     "data": {
      "application/vnd.jupyter.widget-view+json": {
       "model_id": "71c0d636c3cd44aba3250a41c11f9c58",
       "version_major": 2,
       "version_minor": 0
      },
      "text/plain": [
       "HBox(children=(HTML(value=''), FloatProgress(value=0.0, max=5.0), HTML(value='')))"
      ]
     },
     "metadata": {},
     "output_type": "display_data"
    },
    {
     "name": "stdout",
     "output_type": "stream",
     "text": [
      "\n"
     ]
    }
   ],
   "source": [
    "######## ACCT-TYPE features\n",
    "use_acct_types = ['Gold Loan', 'Tractor Loan', 'Overdraft', 'Business Loan Priority Sector  Agriculture',\n",
    "                 'Commercial Vehicle Loan']\n",
    "\n",
    "\n",
    "for a in tqdm(use_acct_types):\n",
    "    fltr = df_bureau['ACCT-TYPE'] == a\n",
    "    df[f'ACCT-TYPE_{a}_DISBURSED_DT_max'] = df['ID'].map(df_bureau[fltr].groupby('ID')['DISBURSED-DT_days_since_start'].max())\n",
    "    \n",
    "    df['tmp'] = df['ID'].map(df_bureau[fltr].groupby('ID')['DISBURSED-DT'].max())\n",
    "    df[f'ACCT-TYPE_{a}_DISBURSED_DT_max - DisbursalDate'] = (df['tmp'] - df['DisbursalDate']).dt.days\n",
    "    \n",
    "    df[f'ACCT-TYPE_{a}_DISBURSED-AMT/HIGH CREDIT_last'] = df['ID'].map(df_bureau[fltr].groupby('ID')['DISBURSED-AMT/HIGH CREDIT'].last())\n",
    "    df[f'ACCT-TYPE_{a}_DISBURSED-AMT/HIGH CREDIT_max'] = df['ID'].map(df_bureau[fltr].groupby('ID')['DISBURSED-AMT/HIGH CREDIT'].max())\n",
    "    df[f'ACCT-TYPE_{a}_DISBURSED-AMT/HIGH CREDIT_last - DisbursalAmount'] = df[f'ACCT-TYPE_{a}_DISBURSED-AMT/HIGH CREDIT_last'] - df['DisbursalAmount']\n",
    "    \n",
    "    \n",
    "    \n",
    "del df['tmp']"
   ]
  },
  {
   "cell_type": "code",
   "execution_count": 11,
   "metadata": {},
   "outputs": [
    {
     "data": {
      "application/vnd.jupyter.widget-view+json": {
       "model_id": "b4553701335344acb6db3e79b2800739",
       "version_major": 2,
       "version_minor": 0
      },
      "text/plain": [
       "HBox(children=(HTML(value=''), FloatProgress(value=0.0, max=5.0), HTML(value='')))"
      ]
     },
     "metadata": {},
     "output_type": "display_data"
    },
    {
     "name": "stdout",
     "output_type": "stream",
     "text": [
      "\n"
     ]
    },
    {
     "data": {
      "text/plain": [
       "50"
      ]
     },
     "execution_count": 11,
     "metadata": {},
     "output_type": "execute_result"
    }
   ],
   "source": [
    "for a in tqdm(use_acct_types):\n",
    "    fltr = df_bureau['ACCT-TYPE'] == a\n",
    "    df[f'ACCT-TYPE_{a}_DISBURSED_DT_max'] = df['ID'].map(df_bureau[fltr].groupby('ID')['DISBURSED-DT_days_since_start'].max())\n",
    "    fltr2 = fltr & (df_bureau['DISBURSED-DT'] > df_bureau['app_dd'])\n",
    "    \n",
    "    df[f'ACCT-TYPE_{a}_DISBURSED_DT_next_after_loan'] = df['ID'].map(df_bureau[fltr2].groupby('ID')['DISBURSED-DT_days_since_start'].first())\n",
    "    df['tmp'] = df['ID'].map(df_bureau[df_bureau['DISBURSED-DT'] == df_bureau['app_dd']].set_index('ID')['DISBURSED-DT_days_since_start'])\n",
    "    \n",
    "    f = f'ACCT-TYPE_{a}_DISBURSED_DT_next_after_loan - DisbursalDate'\n",
    "    df[f] = (df[f'ACCT-TYPE_{a}_DISBURSED_DT_next_after_loan'] - df['tmp'])     \n",
    "    \n",
    "    df['tmp'] = df['ID'].map(df_bureau[fltr].groupby('ID')['DISBURSED-DT'].max())\n",
    "    df[f'ACCT-TYPE_{a}_DISBURSED_DT_max - DisbursalDate'] = (df['tmp'] - df['DisbursalDate']).dt.days\n",
    "\n",
    "    \n",
    "    df[f'ACCT-TYPE_{a}_DISBURSED-AMT/HIGH CREDIT_last'] = df['ID'].map(df_bureau[fltr].groupby('ID')['DISBURSED-AMT/HIGH CREDIT'].last())\n",
    "    df[f'ACCT-TYPE_{a}_DISBURSED-AMT/HIGH CREDIT_max'] = df['ID'].map(df_bureau[fltr].groupby('ID')['DISBURSED-AMT/HIGH CREDIT'].max())\n",
    "    df[f'ACCT-TYPE_{a}_DISBURSED-AMT/HIGH CREDIT_last - DisbursalAmount'] = df[f'ACCT-TYPE_{a}_DISBURSED-AMT/HIGH CREDIT_last'] - df['DisbursalAmount']\n",
    "    \n",
    "    \n",
    "del df['tmp']\n",
    "gc.collect()"
   ]
  },
  {
   "cell_type": "code",
   "execution_count": 12,
   "metadata": {},
   "outputs": [],
   "source": [
    "tmp = df_bureau[df_bureau['DISBURSED-DT'] > df_bureau['app_dd']]\n",
    "\n",
    "f = f'TOTAL_DISBURSED-AMT/HIGH CREDIT_after_DisbursalDate'\n",
    "df[f] = df['ID'].map(tmp.groupby('ID')['DISBURSED-AMT/HIGH CREDIT'].sum())\n",
    "\n",
    "f = f'MAX_DISBURSED-AMT/HIGH CREDIT_after_DisbursalDate'\n",
    "df[f] = df['ID'].map(tmp.groupby('ID')['DISBURSED-AMT/HIGH CREDIT'].max())\n",
    "\n",
    "f = f'LAST_DISBURSED-AMT/HIGH CREDIT'\n",
    "df[f] = df['ID'].map(df_bureau.groupby('ID')['DISBURSED-AMT/HIGH CREDIT'].last())"
   ]
  },
  {
   "cell_type": "code",
   "execution_count": 13,
   "metadata": {},
   "outputs": [],
   "source": [
    "df_bureau['first_DISBURSED-DT'] = df_bureau.groupby(\"ID\")['DISBURSED-DT'].transform('first')\n",
    "df_bureau['DISBURSED-DT_days_since_first_loan'] = (df_bureau['DISBURSED-DT'] - df_bureau['first_DISBURSED-DT']).dt.days\n",
    "df_bureau['DISBURSED-DT_days_since_DisbursalDate'] = (df_bureau['DISBURSED-DT'] - df_bureau['app_dd']).dt.days"
   ]
  },
  {
   "cell_type": "code",
   "execution_count": 14,
   "metadata": {},
   "outputs": [
    {
     "data": {
      "application/vnd.jupyter.widget-view+json": {
       "model_id": "9903cb937a25482d9edcb2f25204c702",
       "version_major": 2,
       "version_minor": 0
      },
      "text/plain": [
       "HBox(children=(HTML(value=''), FloatProgress(value=0.0, max=2.0), HTML(value='')))"
      ]
     },
     "metadata": {},
     "output_type": "display_data"
    },
    {
     "name": "stdout",
     "output_type": "stream",
     "text": [
      "\n"
     ]
    }
   ],
   "source": [
    "for a in tqdm(df_bureau['SELF-INDICATOR'].unique()):\n",
    "    fltr = df_bureau['SELF-INDICATOR'] == a\n",
    "    df[f'SELF-INDICATOR-TYPE_{a}_DISBURSED_DT_max'] = df['ID'].map(df_bureau[fltr].groupby('ID')['DISBURSED-DT_days_since_start'].max())\n",
    "    \n",
    "    df['tmp'] = df['ID'].map(df_bureau[fltr].groupby('ID')['DISBURSED-DT'].max())\n",
    "    df[f'SELF-INDICATOR_{a}_DISBURSED_DT_max - DisbursalDate'] = (df['tmp'] - df['DisbursalDate']).dt.days\n",
    "    \n",
    "    df[f'SELF-INDICATOR_{a}_DISBURSED-AMT/HIGH CREDIT_last'] = df['ID'].map(df_bureau[fltr].groupby('ID')['DISBURSED-AMT/HIGH CREDIT'].last())\n",
    "\n",
    "    \n",
    "del df['tmp']"
   ]
  },
  {
   "cell_type": "code",
   "execution_count": 15,
   "metadata": {},
   "outputs": [
    {
     "data": {
      "application/vnd.jupyter.widget-view+json": {
       "model_id": "d883d715bfc14e059e7e1e648c809dd6",
       "version_major": 2,
       "version_minor": 0
      },
      "text/plain": [
       "HBox(children=(HTML(value=''), FloatProgress(value=0.0, max=2.0), HTML(value='')))"
      ]
     },
     "metadata": {},
     "output_type": "display_data"
    },
    {
     "data": {
      "application/vnd.jupyter.widget-view+json": {
       "model_id": "e1a36a4b2b5746c5b7d945ec1b643b7b",
       "version_major": 2,
       "version_minor": 0
      },
      "text/plain": [
       "HBox(children=(HTML(value=''), FloatProgress(value=0.0, max=4.0), HTML(value='')))"
      ]
     },
     "metadata": {},
     "output_type": "display_data"
    },
    {
     "name": "stdout",
     "output_type": "stream",
     "text": [
      "\n"
     ]
    },
    {
     "data": {
      "application/vnd.jupyter.widget-view+json": {
       "model_id": "b8aee481e33a442aaf97685aa5dafd85",
       "version_major": 2,
       "version_minor": 0
      },
      "text/plain": [
       "HBox(children=(HTML(value=''), FloatProgress(value=0.0, max=4.0), HTML(value='')))"
      ]
     },
     "metadata": {},
     "output_type": "display_data"
    },
    {
     "name": "stdout",
     "output_type": "stream",
     "text": [
      "\n",
      "\n"
     ]
    }
   ],
   "source": [
    "for s in tqdm(df_bureau['SELF-INDICATOR'].unique()):\n",
    "    for c in tqdm(['Personal Loan', 'Gold Loan', 'Kisan Credit Card', 'Consumer Loan']):\n",
    "        fltr = (df_bureau['SELF-INDICATOR'] == s) & (df_bureau[f'ACCT-TYPE'] == c)\n",
    "        df[f'SELF-INDICATOR-TYPE_{a}_ACCT-TYPE_{c}_DISBURSED_DT_max_days_since_first_loan'] = df['ID'].map(df_bureau[fltr].groupby('ID')['DISBURSED-DT_days_since_first_loan'].max())\n",
    "        df[f'SELF-INDICATOR-TYPE_{a}_ACCT-TYPE_{c}_DISBURSED_DT_max_days_since_DisbursalDate'] = \\\n",
    "        df['ID'].map(df_bureau[fltr].groupby('ID')['DISBURSED-DT_days_since_DisbursalDate'].max())\n",
    "        \n",
    "        fltr_add = (df_bureau['DISBURSED-DT'] > df_bureau['app_dd']) & fltr\n",
    "        \n",
    "        \n",
    "        df[f'SELF-INDICATOR-TYPE_{a}_ACCT-TYPE_{c}_DISBURSED_DT_just_after_DisbursalDate'] = \\\n",
    "        df['ID'].map(df_bureau[fltr_add].groupby('ID')['DISBURSED-DT_days_since_DisbursalDate'].nth(0))\n",
    "        \n",
    "        \n",
    "        \n",
    "        df[f'SELF-INDICATOR-TYPE_{a}_ACCT-TYPE_{c}_DISBURSED_DT_2nd_last_days_since_DisbursalDate'] = \\\n",
    "        df['ID'].map(df_bureau[fltr].groupby('ID')['DISBURSED-DT_days_since_DisbursalDate'].nth(-2))             \n",
    "        \n",
    "        \n",
    "        df[f'SELF-INDICATOR-TYPE_{a}_ACCT-TYPE_{c}_DISBURSED_DT_3rd_last_days_since_DisbursalDate'] = \\\n",
    "        df['ID'].map(df_bureau[fltr].groupby('ID')['DISBURSED-DT_days_since_DisbursalDate'].nth(-3))\n",
    "        \n",
    "        df[f'SELF-INDICATOR-TYPE_{a}_ACCT-TYPE_{c}_DISBURSED_DT_4th_last_days_since_DisbursalDate'] = \\\n",
    "        df['ID'].map(df_bureau[fltr].groupby('ID')['DISBURSED-DT_days_since_DisbursalDate'].nth(-4))\n",
    "        \n",
    "        df[f'SELF-INDICATOR-TYPE_{a}_ACCT-TYPE_{c}_DISBURSED_DT_5th_last_days_since_DisbursalDate'] = \\\n",
    "        df['ID'].map(df_bureau[fltr].groupby('ID')['DISBURSED-DT_days_since_DisbursalDate'].nth(-5))\n",
    "\n",
    "        df[f'SELF-INDICATOR-TYPE_{a}_ACCT-TYPE_{c}_last_DISBURSED-AMT/HIGH CREDIT'] = \\\n",
    "        df['ID'].map(df_bureau[fltr].groupby('ID')['DISBURSED-AMT/HIGH CREDIT'].last())"
   ]
  },
  {
   "cell_type": "code",
   "execution_count": 16,
   "metadata": {},
   "outputs": [
    {
     "data": {
      "application/vnd.jupyter.widget-view+json": {
       "model_id": "4faf0c27ede247ea93c333201a8e3103",
       "version_major": 2,
       "version_minor": 0
      },
      "text/plain": [
       "HBox(children=(HTML(value=''), FloatProgress(value=0.0, max=2.0), HTML(value='')))"
      ]
     },
     "metadata": {},
     "output_type": "display_data"
    },
    {
     "name": "stdout",
     "output_type": "stream",
     "text": [
      "\n"
     ]
    }
   ],
   "source": [
    "for s in tqdm(df_bureau['SELF-INDICATOR'].unique()):\n",
    "\n",
    "    fltr = (df_bureau['SELF-INDICATOR'] == s) & (df_bureau[f'ACCT-TYPE'].isin(['Personal Loan', 'Gold Loan']))\n",
    "    df[f'SELF-INDICATOR-TYPE_{a}_Non Tractor Loan_DISBURSED_DT_max_days_since_first_loan'] = df['ID'].map(df_bureau[fltr].groupby('ID')['DISBURSED-DT_days_since_first_loan'].max())\n",
    "\n",
    "    df[f'SELF-INDICATOR-TYPE_{a}_Non Tractor Loan_DISBURSED_DT_max_days_since_DisbursalDate'] = \\\n",
    "    df['ID'].map(df_bureau[fltr].groupby('ID')['DISBURSED-DT_days_since_DisbursalDate'].max())\n",
    "\n",
    "\n",
    "    df[f'SELF-INDICATOR-TYPE_{a}_Non Tractor Loan_DISBURSED_DT_just_after_DisbursalDate'] = \\\n",
    "    df['ID'].map(df_bureau[fltr_add].groupby('ID')['DISBURSED-DT_days_since_DisbursalDate'].nth(0))\n",
    "\n",
    "\n",
    "    df[f'SELF-INDICATOR-TYPE_{a}_Non Tractor Loan_DISBURSED_DT_2nd_last_days_since_DisbursalDate'] = \\\n",
    "    df['ID'].map(df_bureau[fltr].groupby('ID')['DISBURSED-DT_days_since_DisbursalDate'].nth(-2))\n",
    "\n",
    "    df[f'SELF-INDICATOR-TYPE_{a}_Non Tractor Loan_DISBURSED_DT_3rd_last_days_since_DisbursalDate'] = \\\n",
    "    df['ID'].map(df_bureau[fltr].groupby('ID')['DISBURSED-DT_days_since_DisbursalDate'].nth(-3))\n",
    "\n",
    "    df[f'SELF-INDICATOR-TYPE_{a}_Non Tractor Loan_DISBURSED_DT_4th_last_days_since_DisbursalDate'] = \\\n",
    "    df['ID'].map(df_bureau[fltr].groupby('ID')['DISBURSED-DT_days_since_DisbursalDate'].nth(-4))\n",
    "    \n",
    "    df[f'SELF-INDICATOR-TYPE_{a}_Non Tractor Loan_DISBURSED_DT_5th_last_days_since_DisbursalDate'] = \\\n",
    "    df['ID'].map(df_bureau[fltr].groupby('ID')['DISBURSED-DT_days_since_DisbursalDate'].nth(-5))\n",
    "\n",
    "    df[f'SELF-INDICATOR-TYPE_{a}_Non Tractor Loan_last_DISBURSED-AMT/HIGH CREDIT'] = \\\n",
    "    df['ID'].map(df_bureau[fltr].groupby('ID')['DISBURSED-AMT/HIGH CREDIT'].last())"
   ]
  },
  {
   "cell_type": "code",
   "execution_count": 17,
   "metadata": {},
   "outputs": [
    {
     "data": {
      "application/vnd.jupyter.widget-view+json": {
       "model_id": "c46769f8491b4dd3a3862c82ccfdd327",
       "version_major": 2,
       "version_minor": 0
      },
      "text/plain": [
       "HBox(children=(HTML(value=''), FloatProgress(value=0.0, max=2.0), HTML(value='')))"
      ]
     },
     "metadata": {},
     "output_type": "display_data"
    },
    {
     "name": "stdout",
     "output_type": "stream",
     "text": [
      "\n"
     ]
    }
   ],
   "source": [
    "for s in tqdm(df_bureau['SELF-INDICATOR'].unique()):\n",
    "\n",
    "    fltr = (df_bureau['SELF-INDICATOR'] == s) & (df_bureau[f'ACCT-TYPE'].isin(['Business Loan Priority Sector  Agriculture', 'Tractor Loan']))\n",
    "\n",
    "    df[f'SELF-INDICATOR-TYPE_{a}_Non Tractor Loan2_DISBURSED_DT_max_days_since_DisbursalDate'] = \\\n",
    "    df['ID'].map(df_bureau[fltr].groupby('ID')['DISBURSED-DT_days_since_DisbursalDate'].max())\n",
    "\n",
    "\n",
    "    df[f'SELF-INDICATOR-TYPE_{a}_Non Tractor Loan2_DISBURSED_DT_just_after_DisbursalDate'] = \\\n",
    "    df['ID'].map(df_bureau[fltr_add].groupby('ID')['DISBURSED-DT_days_since_DisbursalDate'].nth(0))"
   ]
  },
  {
   "cell_type": "code",
   "execution_count": 18,
   "metadata": {},
   "outputs": [
    {
     "data": {
      "application/vnd.jupyter.widget-view+json": {
       "model_id": "3f4fd25a3caa4b39943d77026c033810",
       "version_major": 2,
       "version_minor": 0
      },
      "text/plain": [
       "HBox(children=(HTML(value=''), FloatProgress(value=0.0, max=10.0), HTML(value='')))"
      ]
     },
     "metadata": {},
     "output_type": "display_data"
    },
    {
     "name": "stdout",
     "output_type": "stream",
     "text": [
      "\n"
     ]
    },
    {
     "data": {
      "application/vnd.jupyter.widget-view+json": {
       "model_id": "3c03990b61bd4195aaeb15b71fbefafd",
       "version_major": 2,
       "version_minor": 0
      },
      "text/plain": [
       "HBox(children=(HTML(value=''), FloatProgress(value=0.0, max=10.0), HTML(value='')))"
      ]
     },
     "metadata": {},
     "output_type": "display_data"
    },
    {
     "name": "stdout",
     "output_type": "stream",
     "text": [
      "\n"
     ]
    },
    {
     "data": {
      "application/vnd.jupyter.widget-view+json": {
       "model_id": "8c33638c51fc4fdf854fe08fee956e80",
       "version_major": 2,
       "version_minor": 0
      },
      "text/plain": [
       "HBox(children=(HTML(value=''), FloatProgress(value=0.0, max=10.0), HTML(value='')))"
      ]
     },
     "metadata": {},
     "output_type": "display_data"
    },
    {
     "name": "stdout",
     "output_type": "stream",
     "text": [
      "\n"
     ]
    }
   ],
   "source": [
    "col = 'ACCOUNT-STATUS'\n",
    "for a in ['Tractor Loan', 'Gold Loan', 'Personal Loan']:\n",
    "    for o in tqdm(df_bureau[col].unique()):\n",
    "        for s in df_bureau['SELF-INDICATOR'].unique():\n",
    "\n",
    "            fltr = (df_bureau['SELF-INDICATOR'] == s) & (df_bureau[f'ACCT-TYPE'] == a) & (df_bureau[col] == o)\n",
    "\n",
    "            df[f'ACCT_TYPE_{a}_SELF-INDICATOR_{s}_{col}_{o}_DISBURSED_DT_max_days_since_DisbursalDate'] = \\\n",
    "            df['ID'].map(df_bureau[fltr].groupby('ID')['DISBURSED-DT_days_since_DisbursalDate'].max())\n",
    "\n",
    "\n",
    "            df[f'ACCT_TYPE_{a}_SELF-INDICATOR_{s}_{col}_{o}_DISBURSED_DT_just_after_DisbursalDate'] = \\\n",
    "            df['ID'].map(df_bureau[fltr_add].groupby('ID')['DISBURSED-DT_days_since_DisbursalDate'].nth(0))"
   ]
  },
  {
   "cell_type": "code",
   "execution_count": 19,
   "metadata": {},
   "outputs": [
    {
     "data": {
      "application/vnd.jupyter.widget-view+json": {
       "model_id": "4f2eb9d080054223b7cd8954898deb6a",
       "version_major": 2,
       "version_minor": 0
      },
      "text/plain": [
       "HBox(children=(HTML(value=''), FloatProgress(value=0.0, max=12.0), HTML(value='')))"
      ]
     },
     "metadata": {},
     "output_type": "display_data"
    },
    {
     "name": "stdout",
     "output_type": "stream",
     "text": [
      "\n"
     ]
    },
    {
     "data": {
      "application/vnd.jupyter.widget-view+json": {
       "model_id": "9f78aeebd60f4d6b990bfe72e65dae87",
       "version_major": 2,
       "version_minor": 0
      },
      "text/plain": [
       "HBox(children=(HTML(value=''), FloatProgress(value=0.0, max=12.0), HTML(value='')))"
      ]
     },
     "metadata": {},
     "output_type": "display_data"
    },
    {
     "name": "stdout",
     "output_type": "stream",
     "text": [
      "\n"
     ]
    }
   ],
   "source": [
    "col = 'CONTRIBUTOR-TYPE'\n",
    "for a in ['Tractor Loan', 'Gold Loan']:\n",
    "    for o in tqdm(df_bureau[col].unique()):\n",
    "        for s in df_bureau['SELF-INDICATOR'].unique():\n",
    "\n",
    "            fltr = (df_bureau['SELF-INDICATOR'] == s) & (df_bureau[f'ACCT-TYPE'] == a) & (df_bureau[col] == o)\n",
    "\n",
    "            df[f'ACCT_TYPE_{a}_SELF-INDICATOR_{s}_{col}_{o}_DISBURSED_DT_max_days_since_DisbursalDate'] = \\\n",
    "            df['ID'].map(df_bureau[fltr].groupby('ID')['DISBURSED-DT_days_since_DisbursalDate'].max())\n",
    "\n",
    "\n",
    "            df[f'ACCT_TYPE_{a}_SELF-INDICATOR_{s}_{col}_{o}_DISBURSED_DT_just_after_DisbursalDate'] = \\\n",
    "            df['ID'].map(df_bureau[fltr_add].groupby('ID')['DISBURSED-DT_days_since_DisbursalDate'].nth(0))"
   ]
  },
  {
   "cell_type": "code",
   "execution_count": 20,
   "metadata": {},
   "outputs": [],
   "source": [
    "for i in range(1, 6):\n",
    "    fltr = df_bureau['DISBURSED-DT'] >= df_bureau['app_dd']\n",
    "    \n",
    "    df['tmp'] = df['ID'].map(df_bureau[fltr].groupby(\"ID\")['DISBURSED-DT'].nth(i))\n",
    "    df[f'DisbursalDT - DISBURSED-DT_next_{i}'] = (df['DisbursalDate'] - df['tmp']).dt.days\n",
    "    \n",
    "    df['tmp'] = df['ID'].map(df_bureau[fltr].groupby(\"ID\")['DISBURSED-DT'].nth(-i))\n",
    "    df[f'DisbursalDT - DISBURSED-DT_last_{i}'] = (df['DisbursalDate'] - df['tmp']).dt.days\n",
    "    \n",
    "    df['tmp'] = df['ID'].map(df_bureau[fltr].groupby(\"ID\")['DISBURSED-AMT/HIGH CREDIT'].nth(-i))\n",
    "    df[f'DisbursalAmount - DISBURSED-AMT/HIGH CREDIT_last_{i}'] = (df['DisbursalAmount'] - df['tmp'])\n",
    "    \n",
    "del df['tmp']"
   ]
  },
  {
   "cell_type": "code",
   "execution_count": 21,
   "metadata": {},
   "outputs": [
    {
     "data": {
      "application/vnd.jupyter.widget-view+json": {
       "model_id": "2e1fc331390d465eb37a65ca32ac97c9",
       "version_major": 2,
       "version_minor": 0
      },
      "text/plain": [
       "HBox(children=(HTML(value=''), FloatProgress(value=0.0, max=5.0), HTML(value='')))"
      ]
     },
     "metadata": {},
     "output_type": "display_data"
    },
    {
     "name": "stdout",
     "output_type": "stream",
     "text": [
      "\n"
     ]
    }
   ],
   "source": [
    "tmp = df_bureau[df_bureau['DISBURSED-DT'] > df_bureau['app_dd']]\n",
    "for c in tqdm(['Personal Loan', 'Gold Loan', 'Kisan Credit Card', 'Consumer Loan', 'Business Loan']):\n",
    "    df[f'ACCT-TYPE_{c}_after_DisbursalDate_DISBURSED-AMT/HIGH CREDIT_mean'] = df['ID'].map(tmp[tmp['ACCT-TYPE'] == c].groupby('ID')['DISBURSED-AMT/HIGH CREDIT'].mean())\n",
    "    df[f'ACCT-TYPE_{c}_after_DisbursalDate_DISBURSED-AMT/HIGH CREDIT_max'] = df['ID'].map(tmp[tmp['ACCT-TYPE'] == c].groupby('ID')['DISBURSED-AMT/HIGH CREDIT'].max())\n",
    "    df[f'ACCT-TYPE_{c}_after_DisbursalDate_DISBURSED-AMT/HIGH CREDIT_first'] = df['ID'].map(tmp[tmp['ACCT-TYPE'] == c].groupby('ID')['DISBURSED-AMT/HIGH CREDIT'].first())\n",
    "    df[f'ACCT-TYPE_{c}_after_DisbursalDate_DISBURSED-AMT/HIGH CREDIT_second'] = df['ID'].map(tmp[tmp['ACCT-TYPE'] == c].groupby('ID')['DISBURSED-AMT/HIGH CREDIT'].nth(1))\n",
    "    df[f'ACCT-TYPE_{c}_after_DisbursalDate_DISBURSED-AMT/HIGH CREDIT_max - DisbursalAmount'] = df[f'ACCT-TYPE_{c}_after_DisbursalDate_DISBURSED-AMT/HIGH CREDIT_max'] - df['DisbursalAmount']\n",
    "    df[f'ACCT-TYPE_{c}_after_DisbursalDate_DISBURSED-AMT/HIGH CREDIT_first - DisbursalAmount'] = df[f'ACCT-TYPE_{c}_after_DisbursalDate_DISBURSED-AMT/HIGH CREDIT_first'] - df['DisbursalAmount']\n",
    "    df[f'ACCT-TYPE_{c}_after_DisbursalDate_DISBURSED-AMT/HIGH CREDIT_second - DisbursalAmount'] = df[f'ACCT-TYPE_{c}_after_DisbursalDate_DISBURSED-AMT/HIGH CREDIT_second'] - df['DisbursalAmount']\n",
    "    df[f'ACCT-TYPE_{c}_after_DisbursalDate_total_loans'] = df['ID'].map(tmp[tmp['ACCT-TYPE'] == c].groupby('ID').size())\n",
    "    "
   ]
  },
  {
   "cell_type": "code",
   "execution_count": 22,
   "metadata": {},
   "outputs": [],
   "source": [
    "df['ID_freq'] = df['ID'].map(df_bureau['ID'].value_counts())\n",
    "df['ID_freq'] = (df['ID_freq'] == 1)"
   ]
  },
  {
   "cell_type": "code",
   "execution_count": 23,
   "metadata": {},
   "outputs": [],
   "source": [
    "fltr = df_bureau['app_dd'] == df_bureau['DISBURSED-DT']\n",
    "df_bureau['total_loan_days'] = (df_bureau['CLOSE-DT'] - df_bureau['DISBURSED-DT']).dt.days\n",
    "df['total_loan_days'] = df['ID'].map(df_bureau[fltr].set_index('ID')['total_loan_days'])\n",
    "df['total_loan_days_max'] = df['ID'].map(df_bureau.groupby('ID')['total_loan_days'].max())\n",
    "df['total_loan_days_min'] = df['ID'].map(df_bureau.groupby('ID')['total_loan_days'].min())\n",
    "df['total_loan_days_first'] = df['ID'].map(df_bureau.groupby('ID')['total_loan_days'].first())\n",
    "df['total_loan_days_last'] = df['ID'].map(df_bureau.groupby('ID')['total_loan_days'].last())\n",
    "df['total_loan_days_range'] = df['total_loan_days_max'] - df['total_loan_days_min']"
   ]
  },
  {
   "cell_type": "code",
   "execution_count": 24,
   "metadata": {},
   "outputs": [],
   "source": [
    "df['DisbursalDate - MaturityDAte'] = (df['DisbursalDate'] - df['MaturityDAte']).dt.days"
   ]
  },
  {
   "cell_type": "code",
   "execution_count": 25,
   "metadata": {},
   "outputs": [],
   "source": [
    "for c in ['ACCT-TYPE', 'DISBURSED-AMT/HIGH CREDIT']:\n",
    "    df[c + '_first'] = df['ID'].map(df_bureau.groupby('ID')[c].first())\n",
    "    df[c + '_last'] = df['ID'].map(df_bureau.groupby('ID')[c].last())\n",
    "    df[c + '_second_last'] = df['ID'].map(df_bureau.groupby('ID')[c].nth(-2))\n",
    "    \n",
    "    \n",
    "df['ACCT-TYPE'] = df['ID'].map(df_bureau[df_bureau['DISBURSED-DT'] > df_bureau['app_dd']].groupby(\"ID\")['ACCT-TYPE'].first())"
   ]
  },
  {
   "cell_type": "code",
   "execution_count": 26,
   "metadata": {},
   "outputs": [],
   "source": [
    "fltr = df_bureau['DISBURSED-DT'] > df_bureau['app_dd']\n",
    "tmp = df_bureau[fltr]\n",
    "for c in df_bureau['SELF-INDICATOR'].unique():\n",
    "    df_bureau['tmp'] = (df_bureau['SELF-INDICATOR'] == c)*1\n",
    "    df[f'mean_{c}_all'] = df['ID'].map(df_bureau.groupby('ID')['tmp'].mean())\n",
    "    df[f'sum_{c}_all'] = df['ID'].map(df_bureau.groupby('ID')['tmp'].sum())"
   ]
  },
  {
   "cell_type": "code",
   "execution_count": 27,
   "metadata": {},
   "outputs": [
    {
     "name": "stdout",
     "output_type": "stream",
     "text": [
      "['Frequency', 'InstlmentMode', 'LoanStatus', 'PaymentMode', 'Area', 'SEX', 'City', 'State', 'ACCT-TYPE_first', 'ACCT-TYPE_last', 'ACCT-TYPE_second_last', 'ACCT-TYPE']\n"
     ]
    }
   ],
   "source": [
    "cat_cols = df.head().select_dtypes('object').columns.tolist()\n",
    "cat_cols = [c for c in cat_cols if c not in ['DisbursalDate', 'MaturityDAte', 'AuthDate']]\n",
    "print(cat_cols)\n",
    "for c in cat_cols:\n",
    "    df[c] = pd.factorize(df[c])[0]\n",
    "    \n"
   ]
  },
  {
   "cell_type": "code",
   "execution_count": 28,
   "metadata": {},
   "outputs": [
    {
     "data": {
      "text/plain": [
       "74"
      ]
     },
     "execution_count": 28,
     "metadata": {},
     "output_type": "execute_result"
    }
   ],
   "source": [
    "vc = (df.isnull().sum()/df.shape[0]).sort_values(ascending = False)\n",
    "to_drop = vc[vc == 1].index.tolist()\n",
    "len(to_drop)"
   ]
  },
  {
   "cell_type": "code",
   "execution_count": 29,
   "metadata": {},
   "outputs": [
    {
     "name": "stdout",
     "output_type": "stream",
     "text": [
      "(128655, 401) (14745, 401)\n",
      "322\n"
     ]
    }
   ],
   "source": [
    "train, test = df[:train.shape[0]].reset_index(drop = True), df[train.shape[0]:].reset_index(drop = True)\n",
    "print(train.shape, test.shape)\n",
    "\n",
    "fts = [c for c in train.columns if c not in [ID_COL,TARGET_COL, 'DisbursalDate', 'MaturityDAte', 'AuthDate'] + to_drop]\n",
    "print(len(fts))"
   ]
  },
  {
   "cell_type": "code",
   "execution_count": 30,
   "metadata": {},
   "outputs": [],
   "source": [
    "def lgb_f1_score(y_true, y_pred):\n",
    "    y_pred = y_pred.reshape(7, -1).T\n",
    "    y_pred = y_pred.argmax(axis=1) # scikits f1 doesn't like probabilities\n",
    "    return 'f1', f1_score(y_true, y_pred, average='macro'), True"
   ]
  },
  {
   "cell_type": "code",
   "execution_count": 31,
   "metadata": {
    "collapsed": true,
    "jupyter": {
     "outputs_hidden": true
    }
   },
   "outputs": [
    {
     "name": "stdout",
     "output_type": "stream",
     "text": [
      "-1\n",
      "Training until validation scores don't improve for 300 rounds\n",
      "[50]\tvalid_0's f1: 0.692824\n",
      "[100]\tvalid_0's f1: 0.708428\n",
      "[150]\tvalid_0's f1: 0.715585\n",
      "[200]\tvalid_0's f1: 0.719326\n",
      "[250]\tvalid_0's f1: 0.72117\n",
      "[300]\tvalid_0's f1: 0.722856\n",
      "[350]\tvalid_0's f1: 0.723754\n",
      "[400]\tvalid_0's f1: 0.72456\n",
      "[450]\tvalid_0's f1: 0.724619\n",
      "[500]\tvalid_0's f1: 0.725711\n",
      "[550]\tvalid_0's f1: 0.726084\n",
      "[600]\tvalid_0's f1: 0.72595\n",
      "[650]\tvalid_0's f1: 0.726404\n",
      "[700]\tvalid_0's f1: 0.725666\n",
      "[750]\tvalid_0's f1: 0.724914\n",
      "[800]\tvalid_0's f1: 0.726478\n",
      "[850]\tvalid_0's f1: 0.726066\n",
      "[900]\tvalid_0's f1: 0.72763\n",
      "[950]\tvalid_0's f1: 0.727609\n",
      "[1000]\tvalid_0's f1: 0.727307\n",
      "[1050]\tvalid_0's f1: 0.728299\n",
      "[1100]\tvalid_0's f1: 0.727825\n",
      "[1150]\tvalid_0's f1: 0.727543\n",
      "[1200]\tvalid_0's f1: 0.727795\n",
      "[1250]\tvalid_0's f1: 0.728196\n",
      "[1300]\tvalid_0's f1: 0.728958\n",
      "[1350]\tvalid_0's f1: 0.727276\n",
      "[1400]\tvalid_0's f1: 0.727208\n",
      "[1450]\tvalid_0's f1: 0.727657\n",
      "[1500]\tvalid_0's f1: 0.728083\n",
      "Early stopping, best iteration is:\n",
      "[1239]\tvalid_0's f1: 0.729443\n",
      "\n",
      "Fold 1 Val score: 0.72944\n",
      "\n",
      "8\n",
      "[LightGBM] [Warning] Accuracy may be bad since you didn't explicitly set num_leaves OR 2^max_depth > num_leaves. (num_leaves=31).\n",
      "Training until validation scores don't improve for 300 rounds\n",
      "[50]\tvalid_0's f1: 0.71738\n",
      "[100]\tvalid_0's f1: 0.721954\n",
      "[150]\tvalid_0's f1: 0.723766\n",
      "[200]\tvalid_0's f1: 0.7247\n",
      "[250]\tvalid_0's f1: 0.72387\n",
      "[300]\tvalid_0's f1: 0.724882\n",
      "[350]\tvalid_0's f1: 0.722902\n",
      "[400]\tvalid_0's f1: 0.72219\n",
      "[450]\tvalid_0's f1: 0.722591\n",
      "Early stopping, best iteration is:\n",
      "[164]\tvalid_0's f1: 0.725553\n",
      "\n",
      "Fold 2 Val score: 0.72555\n",
      "\n",
      "7\n",
      "[LightGBM] [Warning] Accuracy may be bad since you didn't explicitly set num_leaves OR 2^max_depth > num_leaves. (num_leaves=31).\n",
      "Training until validation scores don't improve for 300 rounds\n",
      "[50]\tvalid_0's f1: 0.707258\n",
      "[100]\tvalid_0's f1: 0.721547\n",
      "[150]\tvalid_0's f1: 0.723031\n",
      "[200]\tvalid_0's f1: 0.725454\n",
      "[250]\tvalid_0's f1: 0.727353\n",
      "[300]\tvalid_0's f1: 0.731264\n",
      "[350]\tvalid_0's f1: 0.730845\n",
      "[400]\tvalid_0's f1: 0.731309\n",
      "[450]\tvalid_0's f1: 0.731048\n",
      "[500]\tvalid_0's f1: 0.731997\n",
      "[550]\tvalid_0's f1: 0.730849\n",
      "[600]\tvalid_0's f1: 0.730192\n",
      "[650]\tvalid_0's f1: 0.730089\n",
      "[700]\tvalid_0's f1: 0.730624\n",
      "[750]\tvalid_0's f1: 0.730595\n",
      "Early stopping, best iteration is:\n",
      "[492]\tvalid_0's f1: 0.732521\n",
      "\n",
      "Fold 3 Val score: 0.73252\n",
      "\n",
      "7\n",
      "[LightGBM] [Warning] Accuracy may be bad since you didn't explicitly set num_leaves OR 2^max_depth > num_leaves. (num_leaves=31).\n",
      "Training until validation scores don't improve for 300 rounds\n",
      "[50]\tvalid_0's f1: 0.708066\n",
      "[100]\tvalid_0's f1: 0.714159\n",
      "[150]\tvalid_0's f1: 0.715462\n",
      "[200]\tvalid_0's f1: 0.714572\n",
      "[250]\tvalid_0's f1: 0.717343\n",
      "[300]\tvalid_0's f1: 0.718909\n",
      "[350]\tvalid_0's f1: 0.720306\n",
      "[400]\tvalid_0's f1: 0.719477\n",
      "[450]\tvalid_0's f1: 0.719264\n",
      "[500]\tvalid_0's f1: 0.719457\n",
      "[550]\tvalid_0's f1: 0.71873\n",
      "[600]\tvalid_0's f1: 0.719088\n",
      "[650]\tvalid_0's f1: 0.719024\n",
      "Early stopping, best iteration is:\n",
      "[372]\tvalid_0's f1: 0.721435\n",
      "\n",
      "Fold 4 Val score: 0.72144\n",
      "\n",
      "8\n",
      "[LightGBM] [Warning] Accuracy may be bad since you didn't explicitly set num_leaves OR 2^max_depth > num_leaves. (num_leaves=31).\n",
      "Training until validation scores don't improve for 300 rounds\n",
      "[50]\tvalid_0's f1: 0.707972\n",
      "[100]\tvalid_0's f1: 0.716057\n",
      "[150]\tvalid_0's f1: 0.720282\n",
      "[200]\tvalid_0's f1: 0.724757\n",
      "[250]\tvalid_0's f1: 0.724402\n",
      "[300]\tvalid_0's f1: 0.726583\n",
      "[350]\tvalid_0's f1: 0.727861\n",
      "[400]\tvalid_0's f1: 0.727697\n",
      "[450]\tvalid_0's f1: 0.726389\n",
      "[500]\tvalid_0's f1: 0.725598\n",
      "[550]\tvalid_0's f1: 0.726475\n",
      "[600]\tvalid_0's f1: 0.723785\n",
      "[650]\tvalid_0's f1: 0.722966\n",
      "Early stopping, best iteration is:\n",
      "[355]\tvalid_0's f1: 0.728022\n",
      "\n",
      "Fold 5 Val score: 0.72802\n",
      "\n",
      "7\n",
      "[LightGBM] [Warning] Accuracy may be bad since you didn't explicitly set num_leaves OR 2^max_depth > num_leaves. (num_leaves=31).\n",
      "Training until validation scores don't improve for 300 rounds\n",
      "[50]\tvalid_0's f1: 0.697668\n",
      "[100]\tvalid_0's f1: 0.718356\n",
      "[150]\tvalid_0's f1: 0.723108\n",
      "[200]\tvalid_0's f1: 0.724558\n",
      "[250]\tvalid_0's f1: 0.725035\n",
      "[300]\tvalid_0's f1: 0.724205\n",
      "[350]\tvalid_0's f1: 0.724481\n",
      "[400]\tvalid_0's f1: 0.725949\n",
      "[450]\tvalid_0's f1: 0.726214\n",
      "[500]\tvalid_0's f1: 0.726925\n",
      "[550]\tvalid_0's f1: 0.726686\n",
      "[600]\tvalid_0's f1: 0.725347\n",
      "[650]\tvalid_0's f1: 0.726521\n",
      "[700]\tvalid_0's f1: 0.724432\n",
      "[750]\tvalid_0's f1: 0.724489\n",
      "[800]\tvalid_0's f1: 0.725544\n",
      "[850]\tvalid_0's f1: 0.72587\n",
      "Early stopping, best iteration is:\n",
      "[564]\tvalid_0's f1: 0.728054\n",
      "\n",
      "Fold 6 Val score: 0.72805\n",
      "\n",
      "-1\n",
      "Training until validation scores don't improve for 300 rounds\n",
      "[50]\tvalid_0's f1: 0.719448\n",
      "[100]\tvalid_0's f1: 0.724206\n",
      "[150]\tvalid_0's f1: 0.726259\n",
      "[200]\tvalid_0's f1: 0.723637\n",
      "[250]\tvalid_0's f1: 0.723289\n",
      "[300]\tvalid_0's f1: 0.722788\n",
      "[350]\tvalid_0's f1: 0.723073\n",
      "[400]\tvalid_0's f1: 0.723573\n",
      "Early stopping, best iteration is:\n",
      "[130]\tvalid_0's f1: 0.727801\n",
      "\n",
      "Fold 7 Val score: 0.7278\n",
      "\n",
      "7\n",
      "[LightGBM] [Warning] Accuracy may be bad since you didn't explicitly set num_leaves OR 2^max_depth > num_leaves. (num_leaves=31).\n",
      "Training until validation scores don't improve for 300 rounds\n",
      "[50]\tvalid_0's f1: 0.703346\n",
      "[100]\tvalid_0's f1: 0.715318\n",
      "[150]\tvalid_0's f1: 0.717193\n",
      "[200]\tvalid_0's f1: 0.719199\n",
      "[250]\tvalid_0's f1: 0.719887\n",
      "[300]\tvalid_0's f1: 0.720588\n",
      "[350]\tvalid_0's f1: 0.72305\n",
      "[400]\tvalid_0's f1: 0.722529\n",
      "[450]\tvalid_0's f1: 0.722856\n",
      "[500]\tvalid_0's f1: 0.723462\n",
      "[550]\tvalid_0's f1: 0.722602\n",
      "[600]\tvalid_0's f1: 0.723238\n",
      "[650]\tvalid_0's f1: 0.723711\n",
      "[700]\tvalid_0's f1: 0.722956\n",
      "[750]\tvalid_0's f1: 0.723584\n",
      "[800]\tvalid_0's f1: 0.723636\n",
      "[850]\tvalid_0's f1: 0.723983\n",
      "[900]\tvalid_0's f1: 0.724397\n",
      "[950]\tvalid_0's f1: 0.724451\n",
      "[1000]\tvalid_0's f1: 0.721937\n",
      "[1050]\tvalid_0's f1: 0.723995\n",
      "[1100]\tvalid_0's f1: 0.726346\n",
      "[1150]\tvalid_0's f1: 0.725445\n",
      "[1200]\tvalid_0's f1: 0.725314\n",
      "[1250]\tvalid_0's f1: 0.726312\n",
      "[1300]\tvalid_0's f1: 0.727047\n",
      "[1350]\tvalid_0's f1: 0.726824\n",
      "[1400]\tvalid_0's f1: 0.72746\n",
      "[1450]\tvalid_0's f1: 0.727703\n",
      "[1500]\tvalid_0's f1: 0.728087\n",
      "[1550]\tvalid_0's f1: 0.727314\n",
      "[1600]\tvalid_0's f1: 0.727189\n",
      "[1650]\tvalid_0's f1: 0.727402\n",
      "[1700]\tvalid_0's f1: 0.726641\n",
      "[1750]\tvalid_0's f1: 0.726678\n",
      "Early stopping, best iteration is:\n",
      "[1484]\tvalid_0's f1: 0.728087\n",
      "\n",
      "Fold 8 Val score: 0.72809\n",
      "\n",
      "7\n",
      "[LightGBM] [Warning] Accuracy may be bad since you didn't explicitly set num_leaves OR 2^max_depth > num_leaves. (num_leaves=31).\n",
      "Training until validation scores don't improve for 300 rounds\n",
      "[50]\tvalid_0's f1: 0.702169\n",
      "[100]\tvalid_0's f1: 0.720854\n",
      "[150]\tvalid_0's f1: 0.72296\n",
      "[200]\tvalid_0's f1: 0.72486\n",
      "[250]\tvalid_0's f1: 0.729001\n",
      "[300]\tvalid_0's f1: 0.731244\n",
      "[350]\tvalid_0's f1: 0.73337\n",
      "[400]\tvalid_0's f1: 0.733952\n",
      "[450]\tvalid_0's f1: 0.73507\n",
      "[500]\tvalid_0's f1: 0.73518\n",
      "[550]\tvalid_0's f1: 0.735792\n",
      "[600]\tvalid_0's f1: 0.736259\n",
      "[650]\tvalid_0's f1: 0.734314\n",
      "[700]\tvalid_0's f1: 0.734686\n",
      "[750]\tvalid_0's f1: 0.733901\n",
      "[800]\tvalid_0's f1: 0.732039\n",
      "Early stopping, best iteration is:\n",
      "[511]\tvalid_0's f1: 0.7372\n",
      "\n",
      "Fold 9 Val score: 0.7372\n",
      "\n",
      "\n",
      "OOF Auc is : 0.728927\n"
     ]
    }
   ],
   "source": [
    "np.random.seed(52)\n",
    "N_SPLITS = 9\n",
    "folds = StratifiedKFold(N_SPLITS, shuffle = True, random_state = 777)\n",
    "oofs = np.zeros((len(train), 7))\n",
    "preds = np.zeros((len(test), 7))\n",
    "fi_df = pd.DataFrame()\n",
    "\n",
    "for fold_, (trn_idx, val_idx) in enumerate(folds.split(train, train[TARGET_COL])):\n",
    "    \n",
    "    X_trn, y_trn = train[fts].iloc[trn_idx], train[TARGET_COL].iloc[trn_idx]\n",
    "    X_val, y_val = train[fts].iloc[val_idx], train[TARGET_COL].iloc[val_idx]\n",
    "    \n",
    "    params = {\n",
    "        'learning_rate': np.random.choice([0.06, 0.05,  0.1, 0.08, 0.04])/2,\n",
    "        'colsample_bytree': np.random.choice([0.25, 0.5, 0.65, 0.8, 0.95, 0.7, 0.68]) * 0.8,\n",
    "        'reg_alpha': np.random.choice([0.22, 0.85, 0.65, 0.7, 0.1])*1.5,\n",
    "        'reg_lambda': np.random.choice([0.7, 0.1, 0.22, 0.85, 0.65, 0.05])/1.5,\n",
    "        'max_depth': np.random.choice([5, 7, -1, 8, 7]),\n",
    "        'n_estimators': 10000000000,\n",
    "        'metric': 'None',\n",
    "        'subsample_for_bin': 100000000000,\n",
    "        'objective':'binary',\n",
    "        'num_leaves': 31,\n",
    "        'min_child_samples': 9,\n",
    "    }\n",
    "\n",
    "    print(params['max_depth'])\n",
    "    \n",
    "    clf = LGBMClassifier(**params)\n",
    "    clf.fit(X_trn, y_trn, eval_set = [(X_val, y_val)], verbose = 50, early_stopping_rounds = 300, eval_metric = lgb_f1_score)\n",
    "    \n",
    "    vp = clf.predict_proba(X_val)\n",
    "    val_score = round(f1_score(y_val, vp.argmax(axis = 1), average = 'macro'), 5)\n",
    "    \n",
    "    print(f'\\nFold {fold_+1} Val score: {val_score}\\n')\n",
    "    \n",
    "    tp = clf.predict_proba(test[fts])\n",
    "    \n",
    "    oofs[val_idx] = vp\n",
    "    preds += tp/N_SPLITS\n",
    "        \n",
    "    fi_df = fi_df.append(pd.DataFrame({'fold': fold_, 'feature': fts, 'importance': clf.feature_importances_}))\n",
    "    \n",
    "oof_score = round(f1_score(train[TARGET_COL], oofs.argmax(axis=1), average = 'macro'), 6)\n",
    "print(f'\\nOOF Auc is : {oof_score}')"
   ]
  },
  {
   "cell_type": "code",
   "execution_count": 32,
   "metadata": {},
   "outputs": [
    {
     "name": "stdout",
     "output_type": "stream",
     "text": [
      "\n",
      "OOF Auc is : 0.728927\n"
     ]
    }
   ],
   "source": [
    "oof_score = round(f1_score(train[TARGET_COL], oofs.argmax(axis=1), average = 'macro'), 6)\n",
    "print(f'\\nOOF Auc is : {oof_score}')"
   ]
  },
  {
   "cell_type": "code",
   "execution_count": 33,
   "metadata": {},
   "outputs": [],
   "source": [
    "train2 = oofs.copy()\n",
    "test2 = preds.copy()"
   ]
  },
  {
   "cell_type": "code",
   "execution_count": 34,
   "metadata": {
    "collapsed": true,
    "jupyter": {
     "outputs_hidden": true
    }
   },
   "outputs": [
    {
     "name": "stdout",
     "output_type": "stream",
     "text": [
      "Training until validation scores don't improve for 200 rounds\n",
      "[50]\tvalid_0's f1: 0.730132\n",
      "[100]\tvalid_0's f1: 0.733258\n",
      "[150]\tvalid_0's f1: 0.732192\n",
      "[200]\tvalid_0's f1: 0.733136\n",
      "[250]\tvalid_0's f1: 0.734694\n",
      "[300]\tvalid_0's f1: 0.734044\n",
      "[350]\tvalid_0's f1: 0.734861\n",
      "[400]\tvalid_0's f1: 0.733437\n",
      "[450]\tvalid_0's f1: 0.732386\n",
      "[500]\tvalid_0's f1: 0.731722\n",
      "Early stopping, best iteration is:\n",
      "[321]\tvalid_0's f1: 0.735592\n",
      "\n",
      "Fold 1 Val score: 0.73559\n",
      "\n",
      "Training until validation scores don't improve for 200 rounds\n",
      "[50]\tvalid_0's f1: 0.725254\n",
      "[100]\tvalid_0's f1: 0.727067\n",
      "[150]\tvalid_0's f1: 0.725352\n",
      "[200]\tvalid_0's f1: 0.724986\n",
      "[250]\tvalid_0's f1: 0.723246\n",
      "Early stopping, best iteration is:\n",
      "[62]\tvalid_0's f1: 0.72883\n",
      "\n",
      "Fold 2 Val score: 0.72883\n",
      "\n",
      "Training until validation scores don't improve for 200 rounds\n",
      "[50]\tvalid_0's f1: 0.734218\n",
      "[100]\tvalid_0's f1: 0.735455\n",
      "[150]\tvalid_0's f1: 0.734899\n",
      "[200]\tvalid_0's f1: 0.737112\n",
      "[250]\tvalid_0's f1: 0.736573\n",
      "[300]\tvalid_0's f1: 0.736868\n",
      "[350]\tvalid_0's f1: 0.737267\n",
      "[400]\tvalid_0's f1: 0.736597\n",
      "[450]\tvalid_0's f1: 0.733232\n",
      "[500]\tvalid_0's f1: 0.734051\n",
      "Early stopping, best iteration is:\n",
      "[321]\tvalid_0's f1: 0.737682\n",
      "\n",
      "Fold 3 Val score: 0.73768\n",
      "\n",
      "Training until validation scores don't improve for 200 rounds\n",
      "[50]\tvalid_0's f1: 0.720956\n",
      "[100]\tvalid_0's f1: 0.724002\n",
      "[150]\tvalid_0's f1: 0.723031\n",
      "[200]\tvalid_0's f1: 0.722526\n",
      "[250]\tvalid_0's f1: 0.722555\n",
      "Early stopping, best iteration is:\n",
      "[85]\tvalid_0's f1: 0.725266\n",
      "\n",
      "Fold 4 Val score: 0.72527\n",
      "\n",
      "Training until validation scores don't improve for 200 rounds\n",
      "[50]\tvalid_0's f1: 0.726737\n",
      "[100]\tvalid_0's f1: 0.729471\n",
      "[150]\tvalid_0's f1: 0.730151\n",
      "[200]\tvalid_0's f1: 0.730014\n",
      "[250]\tvalid_0's f1: 0.730157\n",
      "Early stopping, best iteration is:\n",
      "[79]\tvalid_0's f1: 0.730772\n",
      "\n",
      "Fold 5 Val score: 0.73077\n",
      "\n",
      "Training until validation scores don't improve for 200 rounds\n",
      "[50]\tvalid_0's f1: 0.724921\n",
      "[100]\tvalid_0's f1: 0.732159\n",
      "[150]\tvalid_0's f1: 0.732311\n",
      "[200]\tvalid_0's f1: 0.731566\n",
      "[250]\tvalid_0's f1: 0.732267\n",
      "Early stopping, best iteration is:\n",
      "[75]\tvalid_0's f1: 0.733495\n",
      "\n",
      "Fold 6 Val score: 0.7335\n",
      "\n",
      "Training until validation scores don't improve for 200 rounds\n",
      "[50]\tvalid_0's f1: 0.724336\n",
      "[100]\tvalid_0's f1: 0.72774\n",
      "[150]\tvalid_0's f1: 0.728159\n",
      "[200]\tvalid_0's f1: 0.728109\n",
      "[250]\tvalid_0's f1: 0.729046\n",
      "[300]\tvalid_0's f1: 0.731412\n",
      "[350]\tvalid_0's f1: 0.730151\n",
      "[400]\tvalid_0's f1: 0.730983\n",
      "[450]\tvalid_0's f1: 0.728665\n",
      "[500]\tvalid_0's f1: 0.728591\n",
      "Early stopping, best iteration is:\n",
      "[317]\tvalid_0's f1: 0.731647\n",
      "\n",
      "Fold 7 Val score: 0.73165\n",
      "\n",
      "Training until validation scores don't improve for 200 rounds\n",
      "[50]\tvalid_0's f1: 0.725632\n",
      "[100]\tvalid_0's f1: 0.7247\n",
      "[150]\tvalid_0's f1: 0.725076\n",
      "[200]\tvalid_0's f1: 0.726016\n",
      "[250]\tvalid_0's f1: 0.726028\n",
      "[300]\tvalid_0's f1: 0.727184\n",
      "[350]\tvalid_0's f1: 0.728101\n",
      "[400]\tvalid_0's f1: 0.726503\n",
      "[450]\tvalid_0's f1: 0.727169\n",
      "[500]\tvalid_0's f1: 0.726544\n",
      "Early stopping, best iteration is:\n",
      "[344]\tvalid_0's f1: 0.728583\n",
      "\n",
      "Fold 8 Val score: 0.72858\n",
      "\n",
      "Training until validation scores don't improve for 200 rounds\n",
      "[50]\tvalid_0's f1: 0.730521\n",
      "[100]\tvalid_0's f1: 0.738688\n",
      "[150]\tvalid_0's f1: 0.739411\n",
      "[200]\tvalid_0's f1: 0.73806\n",
      "[250]\tvalid_0's f1: 0.737433\n",
      "[300]\tvalid_0's f1: 0.737181\n",
      "Early stopping, best iteration is:\n",
      "[124]\tvalid_0's f1: 0.739806\n",
      "\n",
      "Fold 9 Val score: 0.73981\n",
      "\n",
      "\n",
      "OOF Auc is : 0.732594\n"
     ]
    }
   ],
   "source": [
    "for fold_, (trn_idx, val_idx) in enumerate(folds.split(train, train[TARGET_COL])):\n",
    "    \n",
    "    X_trn, y_trn = train2[trn_idx], train[TARGET_COL].iloc[trn_idx]\n",
    "    X_val, y_val = train2[val_idx], train[TARGET_COL].iloc[val_idx]\n",
    "    \n",
    "    params = {\n",
    "        'learning_rate': 0.02,#np.random.choice([0.05, 0.06, 0.08, 0.04, 0.1])/5,\n",
    "        'colsample_bytree': 0.8,#np.random.choice([0.25, 0.5, 0.65, 0.8, 0.95, 0.7, 0.68]),\n",
    "        'reg_alpha': 0.3,#np.random.choice([0.22, 0.85, 0.65, 0.7, 0.1]),\n",
    "        'reg_lambda': 0.3,#np.random.choice([0.7, 0.1, 0.22, 0.85, 0.65, 0.05]),\n",
    "        'max_depth': -1,#np.random.choice([4, 6, 8, 12, -1]),\n",
    "        'n_estimators': 10000000000,\n",
    "        'metric': 'None',\n",
    "        'subsample_for_bin': 100000000000,\n",
    "        'objective':'binary',\n",
    "        'num_leaves': 31,\n",
    "        'min_child_samples': 7,\n",
    "    }\n",
    "\n",
    "    \n",
    "    clf = LGBMClassifier(**params)\n",
    "    clf.fit(X_trn, y_trn, eval_set = [(X_val, y_val)], verbose = 50, early_stopping_rounds = 200, eval_metric = lgb_f1_score)\n",
    "    \n",
    "    vp = clf.predict_proba(X_val)\n",
    "    val_score = round(f1_score(y_val, vp.argmax(axis = 1), average = 'macro'), 5)\n",
    "    \n",
    "    print(f'\\nFold {fold_+1} Val score: {val_score}\\n')\n",
    "    \n",
    "    tp = clf.predict_proba(test2)\n",
    "    \n",
    "    oofs[val_idx] = vp\n",
    "    preds += tp/N_SPLITS\n",
    "\n",
    "    \n",
    "oof_score = round(f1_score(train[TARGET_COL], oofs.argmax(axis=1), average = 'macro'), 6)\n",
    "print(f'\\nOOF Auc is : {oof_score}')"
   ]
  },
  {
   "cell_type": "code",
   "execution_count": 35,
   "metadata": {},
   "outputs": [
    {
     "name": "stdout",
     "output_type": "stream",
     "text": [
      "0.7325935424810164\n"
     ]
    }
   ],
   "source": [
    "tmp = oofs.copy()\n",
    "oof_score = f1_score(train[TARGET_COL], tmp.round(4).argmax(axis=1), average = 'macro')\n",
    "print(oof_score)\n",
    "pd.DataFrame(oofs).round(4).to_csv('oofs_seed_777_nikhil_cv_0.7325.csv')"
   ]
  },
  {
   "cell_type": "code",
   "execution_count": 36,
   "metadata": {},
   "outputs": [],
   "source": [
    "tmp = preds.copy()\n",
    "pred_labels = pd.Series(tmp.argmax(axis = 1))\n",
    "preds_actual = pred_labels.map(target_inv_mapper)\n",
    "pd.DataFrame(preds).round(4).to_csv('preds_seed_777_nikhil_cv_0.7325.csv')"
   ]
  }
 ],
 "metadata": {
  "kernelspec": {
   "display_name": "Python 3",
   "language": "python",
   "name": "python3"
  },
  "language_info": {
   "codemirror_mode": {
    "name": "ipython",
    "version": 3
   },
   "file_extension": ".py",
   "mimetype": "text/x-python",
   "name": "python",
   "nbconvert_exporter": "python",
   "pygments_lexer": "ipython3",
   "version": "3.7.4"
  }
 },
 "nbformat": 4,
 "nbformat_minor": 4
}
