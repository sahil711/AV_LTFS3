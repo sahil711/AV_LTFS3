{
 "cells": [
  {
   "cell_type": "code",
   "execution_count": 1,
   "metadata": {},
   "outputs": [
    {
     "name": "stdout",
     "output_type": "stream",
     "text": [
      "Collecting lightgbm==3.1.1\n",
      "  Using cached lightgbm-3.1.1-py2.py3-none-manylinux1_x86_64.whl (1.8 MB)\n",
      "Requirement already satisfied: scipy in /home/sahil/anaconda3/lib/python3.7/site-packages (from lightgbm==3.1.1) (1.5.2)\n",
      "Requirement already satisfied: wheel in /home/sahil/anaconda3/lib/python3.7/site-packages (from lightgbm==3.1.1) (0.36.2)\n",
      "Requirement already satisfied: numpy in /home/sahil/anaconda3/lib/python3.7/site-packages (from lightgbm==3.1.1) (1.19.2)\n",
      "Requirement already satisfied: scikit-learn!=0.22.0 in /home/sahil/anaconda3/lib/python3.7/site-packages (from lightgbm==3.1.1) (0.23.2)\n",
      "Requirement already satisfied: threadpoolctl>=2.0.0 in /home/sahil/anaconda3/lib/python3.7/site-packages (from scikit-learn!=0.22.0->lightgbm==3.1.1) (2.1.0)\n",
      "Requirement already satisfied: joblib>=0.11 in /home/sahil/anaconda3/lib/python3.7/site-packages (from scikit-learn!=0.22.0->lightgbm==3.1.1) (1.0.0)\n",
      "Installing collected packages: lightgbm\n",
      "  Attempting uninstall: lightgbm\n",
      "    Found existing installation: lightgbm 2.3.1\n",
      "    Uninstalling lightgbm-2.3.1:\n",
      "      Successfully uninstalled lightgbm-2.3.1\n",
      "Successfully installed lightgbm-3.1.1\n"
     ]
    }
   ],
   "source": [
    "!pip install lightgbm==3.1.1"
   ]
  },
  {
   "cell_type": "code",
   "execution_count": 2,
   "metadata": {},
   "outputs": [
    {
     "data": {
      "text/html": [
       "<style type='text/css'>\n",
       ".datatable table.frame { margin-bottom: 0; }\n",
       ".datatable table.frame thead { border-bottom: none; }\n",
       ".datatable table.frame tr.coltypes td {  color: #FFFFFF;  line-height: 6px;  padding: 0 0.5em;}\n",
       ".datatable .bool    { background: #DDDD99; }\n",
       ".datatable .object  { background: #565656; }\n",
       ".datatable .int     { background: #5D9E5D; }\n",
       ".datatable .float   { background: #4040CC; }\n",
       ".datatable .str     { background: #CC4040; }\n",
       ".datatable .row_index {  background: var(--jp-border-color3);  border-right: 1px solid var(--jp-border-color0);  color: var(--jp-ui-font-color3);  font-size: 9px;}\n",
       ".datatable .frame tr.coltypes .row_index {  background: var(--jp-border-color0);}\n",
       ".datatable th:nth-child(2) { padding-left: 12px; }\n",
       ".datatable .hellipsis {  color: var(--jp-cell-editor-border-color);}\n",
       ".datatable .vellipsis {  background: var(--jp-layout-color0);  color: var(--jp-cell-editor-border-color);}\n",
       ".datatable .na {  color: var(--jp-cell-editor-border-color);  font-size: 80%;}\n",
       ".datatable .footer { font-size: 9px; }\n",
       ".datatable .frame_dimensions {  background: var(--jp-border-color3);  border-top: 1px solid var(--jp-border-color0);  color: var(--jp-ui-font-color3);  display: inline-block;  opacity: 0.6;  padding: 1px 10px 1px 5px;}\n",
       "</style>\n"
      ],
      "text/plain": [
       "<IPython.core.display.HTML object>"
      ]
     },
     "metadata": {},
     "output_type": "display_data"
    }
   ],
   "source": [
    "import numpy as np\n",
    "import pandas as pd\n",
    "from sklearn.model_selection import *\n",
    "from lightgbm import LGBMClassifier\n",
    "from sklearn.metrics import f1_score\n",
    "import gc\n",
    "from tqdm.notebook import tqdm\n",
    "pd.options.display.max_columns = 100"
   ]
  },
  {
   "cell_type": "code",
   "execution_count": 3,
   "metadata": {},
   "outputs": [],
   "source": [
    "DATA_DIR = 'data/'"
   ]
  },
  {
   "cell_type": "code",
   "execution_count": 4,
   "metadata": {},
   "outputs": [
    {
     "name": "stdout",
     "output_type": "stream",
     "text": [
      "CPU times: user 3.05 s, sys: 168 ms, total: 3.22 s\n",
      "Wall time: 3.22 s\n"
     ]
    }
   ],
   "source": [
    "%%time\n",
    "train_bureau = pd.read_csv(DATA_DIR+'train_bureau.csv')\n",
    "test_bureau = pd.read_csv(DATA_DIR+'test_bureau.csv')\n",
    "train = pd.read_csv(DATA_DIR+'train_Data.csv')\n",
    "test = pd.read_csv(DATA_DIR+'test_Data.csv')\n",
    "# data_dict = pd.read_csv(DATA_DIR+'data_dict.csv')\n",
    "# ss = pd.read_csv(DATA_DIR+'sample_submission_ejm25Dc.csv')"
   ]
  },
  {
   "cell_type": "code",
   "execution_count": 5,
   "metadata": {},
   "outputs": [],
   "source": [
    "ID_COL, TARGET_COL = 'ID', 'Top-up Month'\n",
    "target_mapper = pd.Series({'No Top-up Service': 0,\n",
    "                           '12-18 Months': 1,\n",
    "                           '18-24 Months': 2,\n",
    "                           '24-30 Months': 3,\n",
    "                           '30-36 Months': 4,\n",
    "                           '36-48 Months': 5,\n",
    "                           ' > 48 Months': 6,\n",
    " })\n",
    "target_inv_mapper = pd.Series(index = target_mapper.values, data = target_mapper.index)\n",
    "train[TARGET_COL] = train[TARGET_COL].map(target_mapper)"
   ]
  },
  {
   "cell_type": "code",
   "execution_count": 6,
   "metadata": {},
   "outputs": [
    {
     "data": {
      "text/plain": [
       "0"
      ]
     },
     "execution_count": 6,
     "metadata": {},
     "output_type": "execute_result"
    }
   ],
   "source": [
    "df = train.append(test).reset_index(drop = True)\n",
    "date_cols = ['DisbursalDate', 'MaturityDAte', 'AuthDate']\n",
    "df[date_cols] = df[date_cols].apply(lambda x: pd.to_datetime(x))\n",
    "\n",
    "del df['AssetID']\n",
    "gc.collect()"
   ]
  },
  {
   "cell_type": "code",
   "execution_count": 7,
   "metadata": {},
   "outputs": [],
   "source": [
    "df_bureau = train_bureau.append(test_bureau).reset_index(drop = True)\n",
    "df_bureau = df_bureau.drop_duplicates(['ID','DISBURSED-DT'],keep='first')\n",
    "date_cols = ['DATE-REPORTED', 'DISBURSED-DT', 'CLOSE-DT', 'LAST-PAYMENT-DATE']\n",
    "df_bureau[date_cols] = df_bureau[date_cols].apply(lambda x: pd.to_datetime(x, errors = 'coerce'))\n",
    "df_bureau = df_bureau.sort_values(by = ['ID', 'DISBURSED-DT']).reset_index(drop = True)\n",
    "df_bureau['app_dd'] = df_bureau['ID'].map(df.set_index('ID')['DisbursalDate'])"
   ]
  },
  {
   "cell_type": "code",
   "execution_count": 8,
   "metadata": {},
   "outputs": [],
   "source": [
    "def clean(x):\n",
    "    try:\n",
    "        return float(str(x).replace(',', ''))\n",
    "    except:\n",
    "        return np.nan\n",
    "    \n",
    "df_bureau['DISBURSED-AMT/HIGH CREDIT'] = df_bureau['DISBURSED-AMT/HIGH CREDIT'].apply(lambda x: clean(x))\n",
    "df_bureau['DISBURSED-DT_days_since_start'] = (df_bureau['DISBURSED-DT'] - df_bureau['DISBURSED-DT'].min()).dt.days"
   ]
  },
  {
   "cell_type": "code",
   "execution_count": 9,
   "metadata": {},
   "outputs": [],
   "source": [
    "use_acct_types = ['Gold Loan', 'Personal', 'Tractor Loan', 'Overdraft', 'Business Loan Priority Sector  Agriculture', \n",
    "                 'Auto Loan (Personal)', 'Kisan Credit Card', 'Consumer Loan', 'Business Loan']"
   ]
  },
  {
   "cell_type": "code",
   "execution_count": 10,
   "metadata": {},
   "outputs": [
    {
     "data": {
      "application/vnd.jupyter.widget-view+json": {
       "model_id": "7382ab91de004e1faf264737deb43833",
       "version_major": 2,
       "version_minor": 0
      },
      "text/plain": [
       "HBox(children=(HTML(value=''), FloatProgress(value=0.0, max=5.0), HTML(value='')))"
      ]
     },
     "metadata": {},
     "output_type": "display_data"
    },
    {
     "name": "stdout",
     "output_type": "stream",
     "text": [
      "\n"
     ]
    }
   ],
   "source": [
    "######## ACCT-TYPE features\n",
    "use_acct_types = ['Gold Loan', 'Tractor Loan', 'Overdraft', 'Business Loan Priority Sector  Agriculture',\n",
    "                 'Commercial Vehicle Loan']\n",
    "\n",
    "\n",
    "for a in tqdm(use_acct_types):\n",
    "    fltr = df_bureau['ACCT-TYPE'] == a\n",
    "    df[f'ACCT-TYPE_{a}_DISBURSED_DT_max'] = df['ID'].map(df_bureau[fltr].groupby('ID')['DISBURSED-DT_days_since_start'].max())\n",
    "    \n",
    "    df['tmp'] = df['ID'].map(df_bureau[fltr].groupby('ID')['DISBURSED-DT'].max())\n",
    "    df[f'ACCT-TYPE_{a}_DISBURSED_DT_max - DisbursalDate'] = (df['tmp'] - df['DisbursalDate']).dt.days\n",
    "    \n",
    "    df[f'ACCT-TYPE_{a}_DISBURSED-AMT/HIGH CREDIT_last'] = df['ID'].map(df_bureau[fltr].groupby('ID')['DISBURSED-AMT/HIGH CREDIT'].last())\n",
    "    df[f'ACCT-TYPE_{a}_DISBURSED-AMT/HIGH CREDIT_max'] = df['ID'].map(df_bureau[fltr].groupby('ID')['DISBURSED-AMT/HIGH CREDIT'].max())\n",
    "    df[f'ACCT-TYPE_{a}_DISBURSED-AMT/HIGH CREDIT_last - DisbursalAmount'] = df[f'ACCT-TYPE_{a}_DISBURSED-AMT/HIGH CREDIT_last'] - df['DisbursalAmount']\n",
    "    \n",
    "    \n",
    "    \n",
    "del df['tmp']"
   ]
  },
  {
   "cell_type": "code",
   "execution_count": 11,
   "metadata": {},
   "outputs": [
    {
     "data": {
      "application/vnd.jupyter.widget-view+json": {
       "model_id": "6292f444d6274a06960f4312b5e25247",
       "version_major": 2,
       "version_minor": 0
      },
      "text/plain": [
       "HBox(children=(HTML(value=''), FloatProgress(value=0.0, max=5.0), HTML(value='')))"
      ]
     },
     "metadata": {},
     "output_type": "display_data"
    },
    {
     "name": "stdout",
     "output_type": "stream",
     "text": [
      "\n"
     ]
    },
    {
     "data": {
      "text/plain": [
       "50"
      ]
     },
     "execution_count": 11,
     "metadata": {},
     "output_type": "execute_result"
    }
   ],
   "source": [
    "for a in tqdm(use_acct_types):\n",
    "    fltr = df_bureau['ACCT-TYPE'] == a\n",
    "    df[f'ACCT-TYPE_{a}_DISBURSED_DT_max'] = df['ID'].map(df_bureau[fltr].groupby('ID')['DISBURSED-DT_days_since_start'].max())\n",
    "    fltr2 = fltr & (df_bureau['DISBURSED-DT'] > df_bureau['app_dd'])\n",
    "    \n",
    "    df[f'ACCT-TYPE_{a}_DISBURSED_DT_next_after_loan'] = df['ID'].map(df_bureau[fltr2].groupby('ID')['DISBURSED-DT_days_since_start'].first())\n",
    "    df['tmp'] = df['ID'].map(df_bureau[df_bureau['DISBURSED-DT'] == df_bureau['app_dd']].set_index('ID')['DISBURSED-DT_days_since_start'])\n",
    "    \n",
    "    f = f'ACCT-TYPE_{a}_DISBURSED_DT_next_after_loan - DisbursalDate'\n",
    "    df[f] = (df[f'ACCT-TYPE_{a}_DISBURSED_DT_next_after_loan'] - df['tmp'])     \n",
    "    \n",
    "    df['tmp'] = df['ID'].map(df_bureau[fltr].groupby('ID')['DISBURSED-DT'].max())\n",
    "    df[f'ACCT-TYPE_{a}_DISBURSED_DT_max - DisbursalDate'] = (df['tmp'] - df['DisbursalDate']).dt.days\n",
    "\n",
    "    \n",
    "    df[f'ACCT-TYPE_{a}_DISBURSED-AMT/HIGH CREDIT_last'] = df['ID'].map(df_bureau[fltr].groupby('ID')['DISBURSED-AMT/HIGH CREDIT'].last())\n",
    "    df[f'ACCT-TYPE_{a}_DISBURSED-AMT/HIGH CREDIT_max'] = df['ID'].map(df_bureau[fltr].groupby('ID')['DISBURSED-AMT/HIGH CREDIT'].max())\n",
    "    df[f'ACCT-TYPE_{a}_DISBURSED-AMT/HIGH CREDIT_last - DisbursalAmount'] = df[f'ACCT-TYPE_{a}_DISBURSED-AMT/HIGH CREDIT_last'] - df['DisbursalAmount']\n",
    "    \n",
    "    \n",
    "del df['tmp']\n",
    "gc.collect()"
   ]
  },
  {
   "cell_type": "code",
   "execution_count": 12,
   "metadata": {},
   "outputs": [],
   "source": [
    "tmp = df_bureau[df_bureau['DISBURSED-DT'] > df_bureau['app_dd']]\n",
    "\n",
    "f = f'TOTAL_DISBURSED-AMT/HIGH CREDIT_after_DisbursalDate'\n",
    "df[f] = df['ID'].map(tmp.groupby('ID')['DISBURSED-AMT/HIGH CREDIT'].sum())\n",
    "\n",
    "f = f'MAX_DISBURSED-AMT/HIGH CREDIT_after_DisbursalDate'\n",
    "df[f] = df['ID'].map(tmp.groupby('ID')['DISBURSED-AMT/HIGH CREDIT'].max())\n",
    "\n",
    "f = f'LAST_DISBURSED-AMT/HIGH CREDIT'\n",
    "df[f] = df['ID'].map(df_bureau.groupby('ID')['DISBURSED-AMT/HIGH CREDIT'].last())"
   ]
  },
  {
   "cell_type": "code",
   "execution_count": 13,
   "metadata": {},
   "outputs": [],
   "source": [
    "df_bureau['first_DISBURSED-DT'] = df_bureau.groupby(\"ID\")['DISBURSED-DT'].transform('first')\n",
    "df_bureau['DISBURSED-DT_days_since_first_loan'] = (df_bureau['DISBURSED-DT'] - df_bureau['first_DISBURSED-DT']).dt.days\n",
    "df_bureau['DISBURSED-DT_days_since_DisbursalDate'] = (df_bureau['DISBURSED-DT'] - df_bureau['app_dd']).dt.days"
   ]
  },
  {
   "cell_type": "code",
   "execution_count": 14,
   "metadata": {},
   "outputs": [
    {
     "data": {
      "application/vnd.jupyter.widget-view+json": {
       "model_id": "2a27d66d68984a208b18aeb4a5d34b49",
       "version_major": 2,
       "version_minor": 0
      },
      "text/plain": [
       "HBox(children=(HTML(value=''), FloatProgress(value=0.0, max=2.0), HTML(value='')))"
      ]
     },
     "metadata": {},
     "output_type": "display_data"
    },
    {
     "name": "stdout",
     "output_type": "stream",
     "text": [
      "\n"
     ]
    }
   ],
   "source": [
    "for a in tqdm(df_bureau['SELF-INDICATOR'].unique()):\n",
    "    fltr = df_bureau['SELF-INDICATOR'] == a\n",
    "    df[f'SELF-INDICATOR-TYPE_{a}_DISBURSED_DT_max'] = df['ID'].map(df_bureau[fltr].groupby('ID')['DISBURSED-DT_days_since_start'].max())\n",
    "    \n",
    "    df['tmp'] = df['ID'].map(df_bureau[fltr].groupby('ID')['DISBURSED-DT'].max())\n",
    "    df[f'SELF-INDICATOR_{a}_DISBURSED_DT_max - DisbursalDate'] = (df['tmp'] - df['DisbursalDate']).dt.days\n",
    "    \n",
    "    df[f'SELF-INDICATOR_{a}_DISBURSED-AMT/HIGH CREDIT_last'] = df['ID'].map(df_bureau[fltr].groupby('ID')['DISBURSED-AMT/HIGH CREDIT'].last())\n",
    "\n",
    "    \n",
    "del df['tmp']"
   ]
  },
  {
   "cell_type": "code",
   "execution_count": 15,
   "metadata": {},
   "outputs": [
    {
     "data": {
      "application/vnd.jupyter.widget-view+json": {
       "model_id": "98278f6b55d14fba8162aceb07264498",
       "version_major": 2,
       "version_minor": 0
      },
      "text/plain": [
       "HBox(children=(HTML(value=''), FloatProgress(value=0.0, max=2.0), HTML(value='')))"
      ]
     },
     "metadata": {},
     "output_type": "display_data"
    },
    {
     "data": {
      "application/vnd.jupyter.widget-view+json": {
       "model_id": "fc85b252fdc94270b5583df2769ee03c",
       "version_major": 2,
       "version_minor": 0
      },
      "text/plain": [
       "HBox(children=(HTML(value=''), FloatProgress(value=0.0, max=4.0), HTML(value='')))"
      ]
     },
     "metadata": {},
     "output_type": "display_data"
    },
    {
     "name": "stdout",
     "output_type": "stream",
     "text": [
      "\n"
     ]
    },
    {
     "data": {
      "application/vnd.jupyter.widget-view+json": {
       "model_id": "003a14965c1a4225af2e712dc04c3829",
       "version_major": 2,
       "version_minor": 0
      },
      "text/plain": [
       "HBox(children=(HTML(value=''), FloatProgress(value=0.0, max=4.0), HTML(value='')))"
      ]
     },
     "metadata": {},
     "output_type": "display_data"
    },
    {
     "name": "stdout",
     "output_type": "stream",
     "text": [
      "\n",
      "\n"
     ]
    }
   ],
   "source": [
    "for s in tqdm(df_bureau['SELF-INDICATOR'].unique()):\n",
    "    for c in tqdm(['Personal Loan', 'Gold Loan', 'Kisan Credit Card', 'Consumer Loan']):\n",
    "        fltr = (df_bureau['SELF-INDICATOR'] == s) & (df_bureau[f'ACCT-TYPE'] == c)\n",
    "        df[f'SELF-INDICATOR-TYPE_{a}_ACCT-TYPE_{c}_DISBURSED_DT_max_days_since_first_loan'] = df['ID'].map(df_bureau[fltr].groupby('ID')['DISBURSED-DT_days_since_first_loan'].max())\n",
    "        df[f'SELF-INDICATOR-TYPE_{a}_ACCT-TYPE_{c}_DISBURSED_DT_max_days_since_DisbursalDate'] = \\\n",
    "        df['ID'].map(df_bureau[fltr].groupby('ID')['DISBURSED-DT_days_since_DisbursalDate'].max())\n",
    "        \n",
    "        fltr_add = (df_bureau['DISBURSED-DT'] > df_bureau['app_dd']) & fltr\n",
    "        \n",
    "        \n",
    "        df[f'SELF-INDICATOR-TYPE_{a}_ACCT-TYPE_{c}_DISBURSED_DT_just_after_DisbursalDate'] = \\\n",
    "        df['ID'].map(df_bureau[fltr_add].groupby('ID')['DISBURSED-DT_days_since_DisbursalDate'].nth(0))\n",
    "        \n",
    "        \n",
    "        \n",
    "        df[f'SELF-INDICATOR-TYPE_{a}_ACCT-TYPE_{c}_DISBURSED_DT_2nd_last_days_since_DisbursalDate'] = \\\n",
    "        df['ID'].map(df_bureau[fltr].groupby('ID')['DISBURSED-DT_days_since_DisbursalDate'].nth(-2))             \n",
    "        \n",
    "        \n",
    "        df[f'SELF-INDICATOR-TYPE_{a}_ACCT-TYPE_{c}_DISBURSED_DT_3rd_last_days_since_DisbursalDate'] = \\\n",
    "        df['ID'].map(df_bureau[fltr].groupby('ID')['DISBURSED-DT_days_since_DisbursalDate'].nth(-3))\n",
    "        \n",
    "        df[f'SELF-INDICATOR-TYPE_{a}_ACCT-TYPE_{c}_DISBURSED_DT_4th_last_days_since_DisbursalDate'] = \\\n",
    "        df['ID'].map(df_bureau[fltr].groupby('ID')['DISBURSED-DT_days_since_DisbursalDate'].nth(-4))\n",
    "        \n",
    "        df[f'SELF-INDICATOR-TYPE_{a}_ACCT-TYPE_{c}_DISBURSED_DT_5th_last_days_since_DisbursalDate'] = \\\n",
    "        df['ID'].map(df_bureau[fltr].groupby('ID')['DISBURSED-DT_days_since_DisbursalDate'].nth(-5))\n",
    "\n",
    "        df[f'SELF-INDICATOR-TYPE_{a}_ACCT-TYPE_{c}_last_DISBURSED-AMT/HIGH CREDIT'] = \\\n",
    "        df['ID'].map(df_bureau[fltr].groupby('ID')['DISBURSED-AMT/HIGH CREDIT'].last())"
   ]
  },
  {
   "cell_type": "code",
   "execution_count": 16,
   "metadata": {},
   "outputs": [
    {
     "data": {
      "application/vnd.jupyter.widget-view+json": {
       "model_id": "58b056b67f5e4809a8652d68afef242e",
       "version_major": 2,
       "version_minor": 0
      },
      "text/plain": [
       "HBox(children=(HTML(value=''), FloatProgress(value=0.0, max=2.0), HTML(value='')))"
      ]
     },
     "metadata": {},
     "output_type": "display_data"
    },
    {
     "name": "stdout",
     "output_type": "stream",
     "text": [
      "\n"
     ]
    }
   ],
   "source": [
    "for s in tqdm(df_bureau['SELF-INDICATOR'].unique()):\n",
    "\n",
    "    fltr = (df_bureau['SELF-INDICATOR'] == s) & (df_bureau[f'ACCT-TYPE'].isin(['Personal Loan', 'Gold Loan']))\n",
    "    df[f'SELF-INDICATOR-TYPE_{a}_Non Tractor Loan_DISBURSED_DT_max_days_since_first_loan'] = df['ID'].map(df_bureau[fltr].groupby('ID')['DISBURSED-DT_days_since_first_loan'].max())\n",
    "\n",
    "    df[f'SELF-INDICATOR-TYPE_{a}_Non Tractor Loan_DISBURSED_DT_max_days_since_DisbursalDate'] = \\\n",
    "    df['ID'].map(df_bureau[fltr].groupby('ID')['DISBURSED-DT_days_since_DisbursalDate'].max())\n",
    "\n",
    "\n",
    "    df[f'SELF-INDICATOR-TYPE_{a}_Non Tractor Loan_DISBURSED_DT_just_after_DisbursalDate'] = \\\n",
    "    df['ID'].map(df_bureau[fltr_add].groupby('ID')['DISBURSED-DT_days_since_DisbursalDate'].nth(0))\n",
    "\n",
    "\n",
    "    df[f'SELF-INDICATOR-TYPE_{a}_Non Tractor Loan_DISBURSED_DT_2nd_last_days_since_DisbursalDate'] = \\\n",
    "    df['ID'].map(df_bureau[fltr].groupby('ID')['DISBURSED-DT_days_since_DisbursalDate'].nth(-2))\n",
    "\n",
    "    df[f'SELF-INDICATOR-TYPE_{a}_Non Tractor Loan_DISBURSED_DT_3rd_last_days_since_DisbursalDate'] = \\\n",
    "    df['ID'].map(df_bureau[fltr].groupby('ID')['DISBURSED-DT_days_since_DisbursalDate'].nth(-3))\n",
    "\n",
    "    df[f'SELF-INDICATOR-TYPE_{a}_Non Tractor Loan_DISBURSED_DT_4th_last_days_since_DisbursalDate'] = \\\n",
    "    df['ID'].map(df_bureau[fltr].groupby('ID')['DISBURSED-DT_days_since_DisbursalDate'].nth(-4))\n",
    "    \n",
    "    df[f'SELF-INDICATOR-TYPE_{a}_Non Tractor Loan_DISBURSED_DT_5th_last_days_since_DisbursalDate'] = \\\n",
    "    df['ID'].map(df_bureau[fltr].groupby('ID')['DISBURSED-DT_days_since_DisbursalDate'].nth(-5))\n",
    "\n",
    "    df[f'SELF-INDICATOR-TYPE_{a}_Non Tractor Loan_last_DISBURSED-AMT/HIGH CREDIT'] = \\\n",
    "    df['ID'].map(df_bureau[fltr].groupby('ID')['DISBURSED-AMT/HIGH CREDIT'].last())"
   ]
  },
  {
   "cell_type": "code",
   "execution_count": 17,
   "metadata": {},
   "outputs": [
    {
     "data": {
      "application/vnd.jupyter.widget-view+json": {
       "model_id": "957921020a3245a8aa8552dcf6416651",
       "version_major": 2,
       "version_minor": 0
      },
      "text/plain": [
       "HBox(children=(HTML(value=''), FloatProgress(value=0.0, max=2.0), HTML(value='')))"
      ]
     },
     "metadata": {},
     "output_type": "display_data"
    },
    {
     "name": "stdout",
     "output_type": "stream",
     "text": [
      "\n"
     ]
    }
   ],
   "source": [
    "for s in tqdm(df_bureau['SELF-INDICATOR'].unique()):\n",
    "\n",
    "    fltr = (df_bureau['SELF-INDICATOR'] == s) & (df_bureau[f'ACCT-TYPE'].isin(['Business Loan Priority Sector  Agriculture', 'Tractor Loan']))\n",
    "\n",
    "    df[f'SELF-INDICATOR-TYPE_{a}_Non Tractor Loan2_DISBURSED_DT_max_days_since_DisbursalDate'] = \\\n",
    "    df['ID'].map(df_bureau[fltr].groupby('ID')['DISBURSED-DT_days_since_DisbursalDate'].max())\n",
    "\n",
    "\n",
    "    df[f'SELF-INDICATOR-TYPE_{a}_Non Tractor Loan2_DISBURSED_DT_just_after_DisbursalDate'] = \\\n",
    "    df['ID'].map(df_bureau[fltr_add].groupby('ID')['DISBURSED-DT_days_since_DisbursalDate'].nth(0))"
   ]
  },
  {
   "cell_type": "code",
   "execution_count": 18,
   "metadata": {},
   "outputs": [
    {
     "data": {
      "application/vnd.jupyter.widget-view+json": {
       "model_id": "e47fcbdc516b4e81b14823ffbaceb9fb",
       "version_major": 2,
       "version_minor": 0
      },
      "text/plain": [
       "HBox(children=(HTML(value=''), FloatProgress(value=0.0, max=10.0), HTML(value='')))"
      ]
     },
     "metadata": {},
     "output_type": "display_data"
    },
    {
     "name": "stdout",
     "output_type": "stream",
     "text": [
      "\n"
     ]
    },
    {
     "data": {
      "application/vnd.jupyter.widget-view+json": {
       "model_id": "01ff321bc87543de94e23419db688ba2",
       "version_major": 2,
       "version_minor": 0
      },
      "text/plain": [
       "HBox(children=(HTML(value=''), FloatProgress(value=0.0, max=10.0), HTML(value='')))"
      ]
     },
     "metadata": {},
     "output_type": "display_data"
    },
    {
     "name": "stdout",
     "output_type": "stream",
     "text": [
      "\n"
     ]
    }
   ],
   "source": [
    "col = 'ACCOUNT-STATUS'\n",
    "for a in ['Tractor Loan', 'Gold Loan']:\n",
    "    for o in tqdm(df_bureau[col].unique()):\n",
    "        for s in df_bureau['SELF-INDICATOR'].unique():\n",
    "\n",
    "            fltr = (df_bureau['SELF-INDICATOR'] == s) & (df_bureau[f'ACCT-TYPE'] == a) & (df_bureau[col] == o)\n",
    "\n",
    "            df[f'ACCT_TYPE_{a}_SELF-INDICATOR_{s}_{col}_{o}_DISBURSED_DT_max_days_since_DisbursalDate'] = \\\n",
    "            df['ID'].map(df_bureau[fltr].groupby('ID')['DISBURSED-DT_days_since_DisbursalDate'].max())\n",
    "\n",
    "\n",
    "            df[f'ACCT_TYPE_{a}_SELF-INDICATOR_{s}_{col}_{o}_DISBURSED_DT_just_after_DisbursalDate'] = \\\n",
    "            df['ID'].map(df_bureau[fltr_add].groupby('ID')['DISBURSED-DT_days_since_DisbursalDate'].nth(0))"
   ]
  },
  {
   "cell_type": "code",
   "execution_count": 19,
   "metadata": {},
   "outputs": [
    {
     "data": {
      "application/vnd.jupyter.widget-view+json": {
       "model_id": "5408422e5415415399a02b5c264266d3",
       "version_major": 2,
       "version_minor": 0
      },
      "text/plain": [
       "HBox(children=(HTML(value=''), FloatProgress(value=0.0, max=12.0), HTML(value='')))"
      ]
     },
     "metadata": {},
     "output_type": "display_data"
    },
    {
     "name": "stdout",
     "output_type": "stream",
     "text": [
      "\n"
     ]
    },
    {
     "data": {
      "application/vnd.jupyter.widget-view+json": {
       "model_id": "2f9bd15608c6447cb77bf23b3a2564e1",
       "version_major": 2,
       "version_minor": 0
      },
      "text/plain": [
       "HBox(children=(HTML(value=''), FloatProgress(value=0.0, max=12.0), HTML(value='')))"
      ]
     },
     "metadata": {},
     "output_type": "display_data"
    },
    {
     "name": "stdout",
     "output_type": "stream",
     "text": [
      "\n"
     ]
    }
   ],
   "source": [
    "col = 'CONTRIBUTOR-TYPE'\n",
    "for a in ['Tractor Loan', 'Gold Loan']:\n",
    "    for o in tqdm(df_bureau[col].unique()):\n",
    "        for s in df_bureau['SELF-INDICATOR'].unique():\n",
    "\n",
    "            fltr = (df_bureau['SELF-INDICATOR'] == s) & (df_bureau[f'ACCT-TYPE'] == a) & (df_bureau[col] == o)\n",
    "\n",
    "            df[f'ACCT_TYPE_{a}_SELF-INDICATOR_{s}_{col}_{o}_DISBURSED_DT_max_days_since_DisbursalDate'] = \\\n",
    "            df['ID'].map(df_bureau[fltr].groupby('ID')['DISBURSED-DT_days_since_DisbursalDate'].max())\n",
    "\n",
    "\n",
    "            df[f'ACCT_TYPE_{a}_SELF-INDICATOR_{s}_{col}_{o}_DISBURSED_DT_just_after_DisbursalDate'] = \\\n",
    "            df['ID'].map(df_bureau[fltr_add].groupby('ID')['DISBURSED-DT_days_since_DisbursalDate'].nth(0))"
   ]
  },
  {
   "cell_type": "code",
   "execution_count": 20,
   "metadata": {},
   "outputs": [],
   "source": [
    "for i in range(1, 3):\n",
    "    fltr = df_bureau['DISBURSED-DT'] >= df_bureau['app_dd']\n",
    "    \n",
    "    df['tmp'] = df['ID'].map(df_bureau[fltr].groupby(\"ID\")['DISBURSED-DT'].nth(i))\n",
    "    df[f'DisbursalDT - DISBURSED-DT_next_{i}'] = (df['DisbursalDate'] - df['tmp']).dt.days\n",
    "    \n",
    "    df['tmp'] = df['ID'].map(df_bureau[fltr].groupby(\"ID\")['DISBURSED-DT'].nth(-i))\n",
    "    df[f'DisbursalDT - DISBURSED-DT_last_{i}'] = (df['DisbursalDate'] - df['tmp']).dt.days\n",
    "    \n",
    "    df['tmp'] = df['ID'].map(df_bureau[fltr].groupby(\"ID\")['DISBURSED-AMT/HIGH CREDIT'].nth(-i))\n",
    "    df[f'DisbursalAmount - DISBURSED-AMT/HIGH CREDIT_last_{i}'] = (df['DisbursalAmount'] - df['tmp'])\n",
    "    \n",
    "del df['tmp']"
   ]
  },
  {
   "cell_type": "code",
   "execution_count": 21,
   "metadata": {},
   "outputs": [
    {
     "data": {
      "application/vnd.jupyter.widget-view+json": {
       "model_id": "75c38e7772b84d79b2867839956a7cf1",
       "version_major": 2,
       "version_minor": 0
      },
      "text/plain": [
       "HBox(children=(HTML(value=''), FloatProgress(value=0.0, max=5.0), HTML(value='')))"
      ]
     },
     "metadata": {},
     "output_type": "display_data"
    },
    {
     "name": "stdout",
     "output_type": "stream",
     "text": [
      "\n"
     ]
    }
   ],
   "source": [
    "tmp = df_bureau[df_bureau['DISBURSED-DT'] > df_bureau['app_dd']]\n",
    "for c in tqdm(['Personal Loan', 'Gold Loan', 'Kisan Credit Card', 'Consumer Loan', 'Business Loan']):\n",
    "    df[f'ACCT-TYPE_{c}_after_DisbursalDate_DISBURSED-AMT/HIGH CREDIT_mean'] = df['ID'].map(tmp[tmp['ACCT-TYPE'] == c].groupby('ID')['DISBURSED-AMT/HIGH CREDIT'].mean())\n",
    "    df[f'ACCT-TYPE_{c}_after_DisbursalDate_DISBURSED-AMT/HIGH CREDIT_max'] = df['ID'].map(tmp[tmp['ACCT-TYPE'] == c].groupby('ID')['DISBURSED-AMT/HIGH CREDIT'].max())\n",
    "    df[f'ACCT-TYPE_{c}_after_DisbursalDate_DISBURSED-AMT/HIGH CREDIT_first'] = df['ID'].map(tmp[tmp['ACCT-TYPE'] == c].groupby('ID')['DISBURSED-AMT/HIGH CREDIT'].first())\n",
    "    df[f'ACCT-TYPE_{c}_after_DisbursalDate_DISBURSED-AMT/HIGH CREDIT_second'] = df['ID'].map(tmp[tmp['ACCT-TYPE'] == c].groupby('ID')['DISBURSED-AMT/HIGH CREDIT'].nth(1))\n",
    "    df[f'ACCT-TYPE_{c}_after_DisbursalDate_DISBURSED-AMT/HIGH CREDIT_max - DisbursalAmount'] = df[f'ACCT-TYPE_{c}_after_DisbursalDate_DISBURSED-AMT/HIGH CREDIT_max'] - df['DisbursalAmount']\n",
    "    df[f'ACCT-TYPE_{c}_after_DisbursalDate_DISBURSED-AMT/HIGH CREDIT_first - DisbursalAmount'] = df[f'ACCT-TYPE_{c}_after_DisbursalDate_DISBURSED-AMT/HIGH CREDIT_first'] - df['DisbursalAmount']\n",
    "    df[f'ACCT-TYPE_{c}_after_DisbursalDate_DISBURSED-AMT/HIGH CREDIT_second - DisbursalAmount'] = df[f'ACCT-TYPE_{c}_after_DisbursalDate_DISBURSED-AMT/HIGH CREDIT_second'] - df['DisbursalAmount']\n",
    "    df[f'ACCT-TYPE_{c}_after_DisbursalDate_total_loans'] = df['ID'].map(tmp[tmp['ACCT-TYPE'] == c].groupby('ID').size())\n",
    "    "
   ]
  },
  {
   "cell_type": "code",
   "execution_count": 22,
   "metadata": {},
   "outputs": [],
   "source": [
    "df['ID_freq'] = df['ID'].map(df_bureau['ID'].value_counts())\n",
    "df['ID_freq'] = (df['ID_freq'] == 1)"
   ]
  },
  {
   "cell_type": "code",
   "execution_count": 23,
   "metadata": {},
   "outputs": [],
   "source": [
    "fltr = df_bureau['app_dd'] == df_bureau['DISBURSED-DT']\n",
    "df_bureau['total_loan_days'] = (df_bureau['CLOSE-DT'] - df_bureau['DISBURSED-DT']).dt.days\n",
    "df['total_loan_days'] = df['ID'].map(df_bureau[fltr].set_index('ID')['total_loan_days'])\n",
    "df['total_loan_days_max'] = df['ID'].map(df_bureau.groupby('ID')['total_loan_days'].max())\n",
    "df['total_loan_days_min'] = df['ID'].map(df_bureau.groupby('ID')['total_loan_days'].min())\n",
    "df['total_loan_days_first'] = df['ID'].map(df_bureau.groupby('ID')['total_loan_days'].first())\n",
    "df['total_loan_days_last'] = df['ID'].map(df_bureau.groupby('ID')['total_loan_days'].last())\n",
    "df['total_loan_days_range'] = df['total_loan_days_max'] - df['total_loan_days_min']"
   ]
  },
  {
   "cell_type": "code",
   "execution_count": 24,
   "metadata": {},
   "outputs": [],
   "source": [
    "df['DisbursalDate - MaturityDAte'] = (df['DisbursalDate'] - df['MaturityDAte']).dt.days"
   ]
  },
  {
   "cell_type": "code",
   "execution_count": 25,
   "metadata": {},
   "outputs": [],
   "source": [
    "for c in ['ACCT-TYPE', 'DISBURSED-AMT/HIGH CREDIT']:\n",
    "    df[c + '_first'] = df['ID'].map(df_bureau.groupby('ID')[c].first())\n",
    "    df[c + '_last'] = df['ID'].map(df_bureau.groupby('ID')[c].last())\n",
    "    df[c + '_second_last'] = df['ID'].map(df_bureau.groupby('ID')[c].nth(-2))\n",
    "    \n",
    "    \n",
    "df['ACCT-TYPE'] = df['ID'].map(df_bureau[df_bureau['DISBURSED-DT'] > df_bureau['app_dd']].groupby(\"ID\")['ACCT-TYPE'].first())"
   ]
  },
  {
   "cell_type": "code",
   "execution_count": 26,
   "metadata": {},
   "outputs": [],
   "source": [
    "fltr = df_bureau['DISBURSED-DT'] > df_bureau['app_dd']\n",
    "tmp = df_bureau[fltr]\n",
    "for c in df_bureau['SELF-INDICATOR'].unique():\n",
    "    df_bureau['tmp'] = (df_bureau['SELF-INDICATOR'] == c)*1\n",
    "    df[f'mean_{c}_all'] = df['ID'].map(df_bureau.groupby('ID')['tmp'].mean())\n",
    "    df[f'sum_{c}_all'] = df['ID'].map(df_bureau.groupby('ID')['tmp'].sum())"
   ]
  },
  {
   "cell_type": "code",
   "execution_count": 27,
   "metadata": {},
   "outputs": [
    {
     "name": "stdout",
     "output_type": "stream",
     "text": [
      "['Frequency', 'InstlmentMode', 'LoanStatus', 'PaymentMode', 'Area', 'SEX', 'City', 'State', 'ACCT-TYPE_first', 'ACCT-TYPE_last', 'ACCT-TYPE_second_last', 'ACCT-TYPE']\n"
     ]
    }
   ],
   "source": [
    "cat_cols = df.head().select_dtypes('object').columns.tolist()\n",
    "cat_cols = [c for c in cat_cols if c not in ['DisbursalDate', 'MaturityDAte', 'AuthDate']]\n",
    "print(cat_cols)\n",
    "for c in cat_cols:\n",
    "    df[c] = pd.factorize(df[c])[0]\n",
    "    \n"
   ]
  },
  {
   "cell_type": "code",
   "execution_count": 28,
   "metadata": {},
   "outputs": [
    {
     "data": {
      "text/plain": [
       "63"
      ]
     },
     "execution_count": 28,
     "metadata": {},
     "output_type": "execute_result"
    }
   ],
   "source": [
    "vc = (df.isnull().sum()/df.shape[0]).sort_values(ascending = False)\n",
    "to_drop = vc[vc == 1].index.tolist()\n",
    "len(to_drop)"
   ]
  },
  {
   "cell_type": "code",
   "execution_count": 29,
   "metadata": {},
   "outputs": [
    {
     "name": "stdout",
     "output_type": "stream",
     "text": [
      "(128655, 352) (14745, 352)\n",
      "284\n"
     ]
    }
   ],
   "source": [
    "train, test = df[:train.shape[0]].reset_index(drop = True), df[train.shape[0]:].reset_index(drop = True)\n",
    "print(train.shape, test.shape)\n",
    "\n",
    "fts = [c for c in train.columns if c not in [ID_COL,TARGET_COL, 'DisbursalDate', 'MaturityDAte', 'AuthDate'] + to_drop]\n",
    "print(len(fts))"
   ]
  },
  {
   "cell_type": "code",
   "execution_count": 31,
   "metadata": {},
   "outputs": [],
   "source": [
    "def lgb_f1_score(y_true, y_pred):\n",
    "    y_pred = y_pred.reshape(7, -1).T\n",
    "    y_pred = y_pred.argmax(axis=1) # scikits f1 doesn't like probabilities\n",
    "    return 'f1', f1_score(y_true, y_pred, average='macro'), True"
   ]
  },
  {
   "cell_type": "code",
   "execution_count": 32,
   "metadata": {
    "collapsed": true,
    "jupyter": {
     "outputs_hidden": true
    }
   },
   "outputs": [
    {
     "name": "stdout",
     "output_type": "stream",
     "text": [
      "8\n",
      "Training until validation scores don't improve for 300 rounds\n",
      "[50]\tvalid_0's f1: 0.711039\n",
      "[100]\tvalid_0's f1: 0.716937\n",
      "[150]\tvalid_0's f1: 0.715414\n",
      "[200]\tvalid_0's f1: 0.719044\n",
      "[250]\tvalid_0's f1: 0.718292\n",
      "[300]\tvalid_0's f1: 0.720048\n",
      "[350]\tvalid_0's f1: 0.71725\n",
      "[400]\tvalid_0's f1: 0.718888\n",
      "[450]\tvalid_0's f1: 0.721683\n",
      "[500]\tvalid_0's f1: 0.719671\n",
      "[550]\tvalid_0's f1: 0.719729\n",
      "[600]\tvalid_0's f1: 0.719162\n",
      "[650]\tvalid_0's f1: 0.720899\n",
      "[700]\tvalid_0's f1: 0.7196\n",
      "[750]\tvalid_0's f1: 0.71893\n",
      "Early stopping, best iteration is:\n",
      "[458]\tvalid_0's f1: 0.722205\n",
      "\n",
      "Fold 1 Val score: 0.7222\n",
      "\n",
      "12\n",
      "Training until validation scores don't improve for 300 rounds\n",
      "[50]\tvalid_0's f1: 0.71359\n",
      "[100]\tvalid_0's f1: 0.732159\n",
      "[150]\tvalid_0's f1: 0.735049\n",
      "[200]\tvalid_0's f1: 0.737695\n",
      "[250]\tvalid_0's f1: 0.738638\n",
      "[300]\tvalid_0's f1: 0.735943\n",
      "[350]\tvalid_0's f1: 0.734269\n",
      "[400]\tvalid_0's f1: 0.735387\n",
      "[450]\tvalid_0's f1: 0.737282\n",
      "[500]\tvalid_0's f1: 0.73727\n",
      "Early stopping, best iteration is:\n",
      "[242]\tvalid_0's f1: 0.740716\n",
      "\n",
      "Fold 2 Val score: 0.74072\n",
      "\n",
      "6\n",
      "Training until validation scores don't improve for 300 rounds\n",
      "[50]\tvalid_0's f1: 0.694743\n",
      "[100]\tvalid_0's f1: 0.700777\n",
      "[150]\tvalid_0's f1: 0.704255\n",
      "[200]\tvalid_0's f1: 0.705076\n",
      "[250]\tvalid_0's f1: 0.706245\n",
      "[300]\tvalid_0's f1: 0.707282\n",
      "[350]\tvalid_0's f1: 0.709229\n",
      "[400]\tvalid_0's f1: 0.711806\n",
      "[450]\tvalid_0's f1: 0.713159\n",
      "[500]\tvalid_0's f1: 0.713748\n",
      "[550]\tvalid_0's f1: 0.715617\n",
      "[600]\tvalid_0's f1: 0.718492\n",
      "[650]\tvalid_0's f1: 0.719113\n",
      "[700]\tvalid_0's f1: 0.718855\n",
      "[750]\tvalid_0's f1: 0.717287\n",
      "[800]\tvalid_0's f1: 0.716951\n",
      "[850]\tvalid_0's f1: 0.716387\n",
      "[900]\tvalid_0's f1: 0.71565\n",
      "Early stopping, best iteration is:\n",
      "[646]\tvalid_0's f1: 0.721016\n",
      "\n",
      "Fold 3 Val score: 0.72102\n",
      "\n",
      "-1\n",
      "Training until validation scores don't improve for 300 rounds\n",
      "[50]\tvalid_0's f1: 0.719472\n",
      "[100]\tvalid_0's f1: 0.730573\n",
      "[150]\tvalid_0's f1: 0.731617\n",
      "[200]\tvalid_0's f1: 0.733926\n",
      "[250]\tvalid_0's f1: 0.734317\n",
      "[300]\tvalid_0's f1: 0.734552\n",
      "[350]\tvalid_0's f1: 0.73441\n",
      "[400]\tvalid_0's f1: 0.73252\n",
      "[450]\tvalid_0's f1: 0.732222\n",
      "[500]\tvalid_0's f1: 0.732255\n",
      "[550]\tvalid_0's f1: 0.728857\n",
      "[600]\tvalid_0's f1: 0.727889\n",
      "Early stopping, best iteration is:\n",
      "[346]\tvalid_0's f1: 0.735244\n",
      "\n",
      "Fold 4 Val score: 0.73524\n",
      "\n",
      "12\n",
      "Training until validation scores don't improve for 300 rounds\n",
      "[50]\tvalid_0's f1: 0.714943\n",
      "[100]\tvalid_0's f1: 0.72585\n",
      "[150]\tvalid_0's f1: 0.726398\n",
      "[200]\tvalid_0's f1: 0.72955\n",
      "[250]\tvalid_0's f1: 0.730712\n",
      "[300]\tvalid_0's f1: 0.731397\n",
      "[350]\tvalid_0's f1: 0.730979\n",
      "[400]\tvalid_0's f1: 0.730563\n",
      "[450]\tvalid_0's f1: 0.73101\n",
      "[500]\tvalid_0's f1: 0.735152\n",
      "[550]\tvalid_0's f1: 0.734106\n",
      "[600]\tvalid_0's f1: 0.734042\n",
      "[650]\tvalid_0's f1: 0.73317\n",
      "[700]\tvalid_0's f1: 0.734603\n",
      "[750]\tvalid_0's f1: 0.733533\n",
      "[800]\tvalid_0's f1: 0.733669\n",
      "[850]\tvalid_0's f1: 0.732438\n",
      "Early stopping, best iteration is:\n",
      "[560]\tvalid_0's f1: 0.73584\n",
      "\n",
      "Fold 5 Val score: 0.73584\n",
      "\n",
      "6\n",
      "Training until validation scores don't improve for 300 rounds\n",
      "[50]\tvalid_0's f1: 0.709942\n",
      "[100]\tvalid_0's f1: 0.710702\n",
      "[150]\tvalid_0's f1: 0.716331\n",
      "[200]\tvalid_0's f1: 0.716628\n",
      "[250]\tvalid_0's f1: 0.718573\n",
      "[300]\tvalid_0's f1: 0.716414\n",
      "[350]\tvalid_0's f1: 0.720798\n",
      "[400]\tvalid_0's f1: 0.719144\n",
      "[450]\tvalid_0's f1: 0.719659\n",
      "[500]\tvalid_0's f1: 0.717824\n",
      "[550]\tvalid_0's f1: 0.717838\n",
      "[600]\tvalid_0's f1: 0.717896\n",
      "Early stopping, best iteration is:\n",
      "[349]\tvalid_0's f1: 0.721184\n",
      "\n",
      "Fold 6 Val score: 0.72118\n",
      "\n",
      "8\n",
      "Training until validation scores don't improve for 300 rounds\n",
      "[50]\tvalid_0's f1: 0.707833\n",
      "[100]\tvalid_0's f1: 0.710547\n",
      "[150]\tvalid_0's f1: 0.708566\n",
      "[200]\tvalid_0's f1: 0.710081\n",
      "[250]\tvalid_0's f1: 0.712044\n",
      "[300]\tvalid_0's f1: 0.715784\n",
      "[350]\tvalid_0's f1: 0.715606\n",
      "[400]\tvalid_0's f1: 0.717055\n",
      "[450]\tvalid_0's f1: 0.716332\n",
      "[500]\tvalid_0's f1: 0.715266\n",
      "[550]\tvalid_0's f1: 0.71721\n",
      "[600]\tvalid_0's f1: 0.717397\n",
      "[650]\tvalid_0's f1: 0.715408\n",
      "[700]\tvalid_0's f1: 0.716347\n",
      "[750]\tvalid_0's f1: 0.715626\n",
      "[800]\tvalid_0's f1: 0.714417\n",
      "[850]\tvalid_0's f1: 0.716379\n",
      "[900]\tvalid_0's f1: 0.717456\n",
      "Early stopping, best iteration is:\n",
      "[618]\tvalid_0's f1: 0.718496\n",
      "\n",
      "Fold 7 Val score: 0.7185\n",
      "\n",
      "6\n",
      "Training until validation scores don't improve for 300 rounds\n",
      "[50]\tvalid_0's f1: 0.696273\n",
      "[100]\tvalid_0's f1: 0.708452\n",
      "[150]\tvalid_0's f1: 0.709111\n",
      "[200]\tvalid_0's f1: 0.712815\n",
      "[250]\tvalid_0's f1: 0.713659\n",
      "[300]\tvalid_0's f1: 0.713447\n",
      "[350]\tvalid_0's f1: 0.714349\n",
      "[400]\tvalid_0's f1: 0.71648\n",
      "[450]\tvalid_0's f1: 0.716768\n",
      "[500]\tvalid_0's f1: 0.717042\n",
      "[550]\tvalid_0's f1: 0.715943\n",
      "[600]\tvalid_0's f1: 0.716823\n",
      "[650]\tvalid_0's f1: 0.717292\n",
      "[700]\tvalid_0's f1: 0.717454\n",
      "[750]\tvalid_0's f1: 0.717454\n",
      "[800]\tvalid_0's f1: 0.717211\n",
      "[850]\tvalid_0's f1: 0.718134\n",
      "[900]\tvalid_0's f1: 0.71764\n",
      "[950]\tvalid_0's f1: 0.719132\n",
      "[1000]\tvalid_0's f1: 0.718087\n",
      "[1050]\tvalid_0's f1: 0.718236\n",
      "[1100]\tvalid_0's f1: 0.718684\n",
      "[1150]\tvalid_0's f1: 0.717796\n",
      "[1200]\tvalid_0's f1: 0.717982\n",
      "[1250]\tvalid_0's f1: 0.719031\n",
      "Early stopping, best iteration is:\n",
      "[951]\tvalid_0's f1: 0.719616\n",
      "\n",
      "Fold 8 Val score: 0.71962\n",
      "\n",
      "6\n",
      "Training until validation scores don't improve for 300 rounds\n",
      "[50]\tvalid_0's f1: 0.729371\n",
      "[100]\tvalid_0's f1: 0.73815\n",
      "[150]\tvalid_0's f1: 0.741883\n",
      "[200]\tvalid_0's f1: 0.743618\n",
      "[250]\tvalid_0's f1: 0.743002\n",
      "[300]\tvalid_0's f1: 0.74277\n",
      "[350]\tvalid_0's f1: 0.744203\n",
      "[400]\tvalid_0's f1: 0.744963\n",
      "[450]\tvalid_0's f1: 0.745108\n",
      "[500]\tvalid_0's f1: 0.745782\n",
      "[550]\tvalid_0's f1: 0.745813\n",
      "[600]\tvalid_0's f1: 0.745791\n",
      "[650]\tvalid_0's f1: 0.745456\n",
      "[700]\tvalid_0's f1: 0.745037\n",
      "[750]\tvalid_0's f1: 0.745264\n",
      "[800]\tvalid_0's f1: 0.747346\n",
      "[850]\tvalid_0's f1: 0.74594\n",
      "[900]\tvalid_0's f1: 0.746618\n",
      "[950]\tvalid_0's f1: 0.746549\n",
      "[1000]\tvalid_0's f1: 0.745257\n",
      "[1050]\tvalid_0's f1: 0.745032\n",
      "[1100]\tvalid_0's f1: 0.745079\n",
      "[1150]\tvalid_0's f1: 0.744948\n",
      "[1200]\tvalid_0's f1: 0.74283\n",
      "Early stopping, best iteration is:\n",
      "[936]\tvalid_0's f1: 0.747859\n",
      "\n",
      "Fold 9 Val score: 0.74786\n",
      "\n",
      "12\n",
      "Training until validation scores don't improve for 300 rounds\n",
      "[50]\tvalid_0's f1: 0.718417\n",
      "[100]\tvalid_0's f1: 0.729701\n",
      "[150]\tvalid_0's f1: 0.732353\n",
      "[200]\tvalid_0's f1: 0.731889\n",
      "[250]\tvalid_0's f1: 0.734961\n",
      "[300]\tvalid_0's f1: 0.736389\n",
      "[350]\tvalid_0's f1: 0.736674\n",
      "[400]\tvalid_0's f1: 0.736\n",
      "[450]\tvalid_0's f1: 0.735017\n",
      "[500]\tvalid_0's f1: 0.734914\n",
      "[550]\tvalid_0's f1: 0.736453\n",
      "[600]\tvalid_0's f1: 0.73636\n",
      "[650]\tvalid_0's f1: 0.735649\n",
      "Early stopping, best iteration is:\n",
      "[362]\tvalid_0's f1: 0.737293\n",
      "\n",
      "Fold 10 Val score: 0.73729\n",
      "\n",
      "8\n",
      "Training until validation scores don't improve for 300 rounds\n",
      "[50]\tvalid_0's f1: 0.722449\n",
      "[100]\tvalid_0's f1: 0.724064\n",
      "[150]\tvalid_0's f1: 0.727635\n",
      "[200]\tvalid_0's f1: 0.728618\n",
      "[250]\tvalid_0's f1: 0.728723\n",
      "[300]\tvalid_0's f1: 0.727637\n",
      "[350]\tvalid_0's f1: 0.726793\n",
      "[400]\tvalid_0's f1: 0.727994\n",
      "[450]\tvalid_0's f1: 0.729337\n",
      "[500]\tvalid_0's f1: 0.72948\n",
      "[550]\tvalid_0's f1: 0.728196\n",
      "[600]\tvalid_0's f1: 0.726938\n",
      "[650]\tvalid_0's f1: 0.727732\n",
      "[700]\tvalid_0's f1: 0.728284\n",
      "[750]\tvalid_0's f1: 0.729506\n",
      "Early stopping, best iteration is:\n",
      "[489]\tvalid_0's f1: 0.731174\n",
      "\n",
      "Fold 11 Val score: 0.73117\n",
      "\n",
      "\n",
      "OOF Auc is : 0.73041\n"
     ]
    }
   ],
   "source": [
    "np.random.seed(52)\n",
    "N_SPLITS = 11\n",
    "folds = StratifiedKFold(N_SPLITS, shuffle = True, random_state = 2)\n",
    "oofs = np.zeros((len(train), 7))\n",
    "preds = np.zeros((len(test), 7))\n",
    "fi_df = pd.DataFrame()\n",
    "\n",
    "for fold_, (trn_idx, val_idx) in enumerate(folds.split(train, train[TARGET_COL])):\n",
    "    \n",
    "    X_trn, y_trn = train[fts].iloc[trn_idx], train[TARGET_COL].iloc[trn_idx]\n",
    "    X_val, y_val = train[fts].iloc[val_idx], train[TARGET_COL].iloc[val_idx]\n",
    "    \n",
    "    params = {\n",
    "        'learning_rate': np.random.choice([0.05, 0.06, 0.08, 0.04, 0.1])/2,\n",
    "        'colsample_bytree': np.random.choice([0.25, 0.5, 0.65, 0.8, 0.95, 0.7, 0.68]),\n",
    "        'reg_alpha': np.random.choice([0.22, 0.85, 0.65, 0.7, 0.1]),\n",
    "        'reg_lambda': np.random.choice([0.7, 0.1, 0.22, 0.85, 0.65, 0.05]),\n",
    "        'max_depth': np.random.choice([4, 6, 8, 12, -1]),\n",
    "        'n_estimators': 10000000000,\n",
    "        'metric': 'None',\n",
    "        'subsample_for_bin': 100000000000,\n",
    "        'objective':'binary',\n",
    "        'num_leaves': 61,\n",
    "        'min_child_samples': 10,\n",
    "    }\n",
    "\n",
    "    print(params['max_depth'])\n",
    "    \n",
    "    clf = LGBMClassifier(**params)\n",
    "    clf.fit(X_trn, y_trn, eval_set = [(X_val, y_val)], verbose = 50, early_stopping_rounds = 300, eval_metric = lgb_f1_score)\n",
    "    \n",
    "    vp = clf.predict_proba(X_val)\n",
    "    val_score = round(f1_score(y_val, vp.argmax(axis = 1), average = 'macro'), 5)\n",
    "    \n",
    "    print(f'\\nFold {fold_+1} Val score: {val_score}\\n')\n",
    "    \n",
    "    tp = clf.predict_proba(test[fts])\n",
    "    \n",
    "    oofs[val_idx] = vp\n",
    "    preds += tp/N_SPLITS\n",
    "        \n",
    "    fi_df = fi_df.append(pd.DataFrame({'fold': fold_, 'feature': fts, 'importance': clf.feature_importances_}))\n",
    "    \n",
    "oof_score = round(f1_score(train[TARGET_COL], oofs.argmax(axis=1), average = 'macro'), 6)\n",
    "print(f'\\nOOF Auc is : {oof_score}')"
   ]
  },
  {
   "cell_type": "code",
   "execution_count": 33,
   "metadata": {},
   "outputs": [
    {
     "name": "stdout",
     "output_type": "stream",
     "text": [
      "\n",
      "OOF Auc is : 0.73041\n"
     ]
    }
   ],
   "source": [
    "oof_score = round(f1_score(train[TARGET_COL], oofs.argmax(axis=1), average = 'macro'), 6)\n",
    "print(f'\\nOOF Auc is : {oof_score}')"
   ]
  },
  {
   "cell_type": "code",
   "execution_count": 34,
   "metadata": {},
   "outputs": [],
   "source": [
    "train2 = oofs.copy()\n",
    "test2 = preds.copy()\n"
   ]
  },
  {
   "cell_type": "code",
   "execution_count": 35,
   "metadata": {},
   "outputs": [
    {
     "name": "stdout",
     "output_type": "stream",
     "text": [
      "Training until validation scores don't improve for 200 rounds\n",
      "[50]\tvalid_0's f1: 0.715424\n",
      "[100]\tvalid_0's f1: 0.726623\n",
      "[150]\tvalid_0's f1: 0.725932\n",
      "[200]\tvalid_0's f1: 0.727193\n",
      "[250]\tvalid_0's f1: 0.725912\n",
      "[300]\tvalid_0's f1: 0.725957\n",
      "[350]\tvalid_0's f1: 0.725906\n",
      "Early stopping, best iteration is:\n",
      "[193]\tvalid_0's f1: 0.72727\n",
      "\n",
      "Fold 1 Val score: 0.72727\n",
      "\n",
      "Training until validation scores don't improve for 200 rounds\n",
      "[50]\tvalid_0's f1: 0.736366\n",
      "[100]\tvalid_0's f1: 0.733128\n",
      "[150]\tvalid_0's f1: 0.732927\n",
      "[200]\tvalid_0's f1: 0.735188\n",
      "[250]\tvalid_0's f1: 0.735297\n",
      "Early stopping, best iteration is:\n",
      "[53]\tvalid_0's f1: 0.73845\n",
      "\n",
      "Fold 2 Val score: 0.73845\n",
      "\n",
      "Training until validation scores don't improve for 200 rounds\n",
      "[50]\tvalid_0's f1: 0.717226\n",
      "[100]\tvalid_0's f1: 0.721783\n",
      "[150]\tvalid_0's f1: 0.722363\n",
      "[200]\tvalid_0's f1: 0.720736\n",
      "[250]\tvalid_0's f1: 0.720244\n",
      "[300]\tvalid_0's f1: 0.719309\n",
      "Early stopping, best iteration is:\n",
      "[112]\tvalid_0's f1: 0.723476\n",
      "\n",
      "Fold 3 Val score: 0.72348\n",
      "\n",
      "Training until validation scores don't improve for 200 rounds\n",
      "[50]\tvalid_0's f1: 0.728803\n",
      "[100]\tvalid_0's f1: 0.736937\n",
      "[150]\tvalid_0's f1: 0.739847\n",
      "[200]\tvalid_0's f1: 0.740511\n",
      "[250]\tvalid_0's f1: 0.739816\n",
      "[300]\tvalid_0's f1: 0.737929\n",
      "[350]\tvalid_0's f1: 0.737268\n",
      "Early stopping, best iteration is:\n",
      "[155]\tvalid_0's f1: 0.741016\n",
      "\n",
      "Fold 4 Val score: 0.74102\n",
      "\n",
      "Training until validation scores don't improve for 200 rounds\n",
      "[50]\tvalid_0's f1: 0.727495\n",
      "[100]\tvalid_0's f1: 0.729426\n",
      "[150]\tvalid_0's f1: 0.729961\n",
      "[200]\tvalid_0's f1: 0.728746\n",
      "[250]\tvalid_0's f1: 0.728637\n",
      "Early stopping, best iteration is:\n",
      "[72]\tvalid_0's f1: 0.73069\n",
      "\n",
      "Fold 5 Val score: 0.73069\n",
      "\n",
      "Training until validation scores don't improve for 200 rounds\n",
      "[50]\tvalid_0's f1: 0.714795\n",
      "[100]\tvalid_0's f1: 0.721454\n",
      "[150]\tvalid_0's f1: 0.722479\n",
      "[200]\tvalid_0's f1: 0.722805\n",
      "[250]\tvalid_0's f1: 0.723676\n",
      "[300]\tvalid_0's f1: 0.723985\n",
      "[350]\tvalid_0's f1: 0.724811\n",
      "[400]\tvalid_0's f1: 0.724439\n",
      "[450]\tvalid_0's f1: 0.723475\n",
      "[500]\tvalid_0's f1: 0.724069\n",
      "[550]\tvalid_0's f1: 0.724834\n",
      "[600]\tvalid_0's f1: 0.725079\n",
      "[650]\tvalid_0's f1: 0.723917\n",
      "[700]\tvalid_0's f1: 0.723639\n",
      "Early stopping, best iteration is:\n",
      "[512]\tvalid_0's f1: 0.725755\n",
      "\n",
      "Fold 6 Val score: 0.72576\n",
      "\n",
      "Training until validation scores don't improve for 200 rounds\n",
      "[50]\tvalid_0's f1: 0.718639\n",
      "[100]\tvalid_0's f1: 0.722337\n",
      "[150]\tvalid_0's f1: 0.72413\n",
      "[200]\tvalid_0's f1: 0.723497\n",
      "[250]\tvalid_0's f1: 0.72237\n",
      "[300]\tvalid_0's f1: 0.722879\n",
      "[350]\tvalid_0's f1: 0.72308\n",
      "Early stopping, best iteration is:\n",
      "[154]\tvalid_0's f1: 0.724636\n",
      "\n",
      "Fold 7 Val score: 0.72464\n",
      "\n",
      "Training until validation scores don't improve for 200 rounds\n",
      "[50]\tvalid_0's f1: 0.715178\n",
      "[100]\tvalid_0's f1: 0.722737\n",
      "[150]\tvalid_0's f1: 0.72379\n",
      "[200]\tvalid_0's f1: 0.72214\n",
      "[250]\tvalid_0's f1: 0.721882\n",
      "[300]\tvalid_0's f1: 0.721719\n",
      "Early stopping, best iteration is:\n",
      "[140]\tvalid_0's f1: 0.724072\n",
      "\n",
      "Fold 8 Val score: 0.72407\n",
      "\n",
      "Training until validation scores don't improve for 200 rounds\n",
      "[50]\tvalid_0's f1: 0.744123\n",
      "[100]\tvalid_0's f1: 0.748156\n",
      "[150]\tvalid_0's f1: 0.750412\n",
      "[200]\tvalid_0's f1: 0.750782\n",
      "[250]\tvalid_0's f1: 0.751399\n",
      "[300]\tvalid_0's f1: 0.749732\n",
      "[350]\tvalid_0's f1: 0.748419\n",
      "[400]\tvalid_0's f1: 0.749028\n",
      "Early stopping, best iteration is:\n",
      "[225]\tvalid_0's f1: 0.751868\n",
      "\n",
      "Fold 9 Val score: 0.75187\n",
      "\n",
      "Training until validation scores don't improve for 200 rounds\n",
      "[50]\tvalid_0's f1: 0.738586\n",
      "[100]\tvalid_0's f1: 0.744543\n",
      "[150]\tvalid_0's f1: 0.744839\n",
      "[200]\tvalid_0's f1: 0.744989\n",
      "[250]\tvalid_0's f1: 0.744989\n",
      "[300]\tvalid_0's f1: 0.745505\n",
      "[350]\tvalid_0's f1: 0.744977\n",
      "[400]\tvalid_0's f1: 0.74442\n",
      "[450]\tvalid_0's f1: 0.745\n",
      "[500]\tvalid_0's f1: 0.744701\n",
      "[550]\tvalid_0's f1: 0.743954\n",
      "Early stopping, best iteration is:\n",
      "[373]\tvalid_0's f1: 0.746218\n",
      "\n",
      "Fold 10 Val score: 0.74622\n",
      "\n",
      "Training until validation scores don't improve for 200 rounds\n",
      "[50]\tvalid_0's f1: 0.726192\n",
      "[100]\tvalid_0's f1: 0.729579\n",
      "[150]\tvalid_0's f1: 0.729697\n",
      "[200]\tvalid_0's f1: 0.729178\n",
      "[250]\tvalid_0's f1: 0.729496\n",
      "Early stopping, best iteration is:\n",
      "[72]\tvalid_0's f1: 0.731308\n",
      "\n",
      "Fold 11 Val score: 0.73131\n",
      "\n",
      "\n",
      "OOF Auc is : 0.733365\n"
     ]
    }
   ],
   "source": [
    "for fold_, (trn_idx, val_idx) in enumerate(folds.split(train, train[TARGET_COL])):\n",
    "    \n",
    "    X_trn, y_trn = train2[trn_idx], train[TARGET_COL].iloc[trn_idx]\n",
    "    X_val, y_val = train2[val_idx], train[TARGET_COL].iloc[val_idx]\n",
    "    \n",
    "    params = {\n",
    "        'learning_rate': 0.02,#np.random.choice([0.05, 0.06, 0.08, 0.04, 0.1])/5,\n",
    "        'colsample_bytree': 0.8,#np.random.choice([0.25, 0.5, 0.65, 0.8, 0.95, 0.7, 0.68]),\n",
    "        'reg_alpha': 0.3,#np.random.choice([0.22, 0.85, 0.65, 0.7, 0.1]),\n",
    "        'reg_lambda': 0.3,#np.random.choice([0.7, 0.1, 0.22, 0.85, 0.65, 0.05]),\n",
    "        'max_depth': -1,#np.random.choice([4, 6, 8, 12, -1]),\n",
    "        'n_estimators': 10000000000,\n",
    "        'metric': 'None',\n",
    "        'subsample_for_bin': 100000000000,\n",
    "        'objective':'binary',\n",
    "        'num_leaves': 31,\n",
    "        'min_child_samples': 7,\n",
    "    }\n",
    "\n",
    "    \n",
    "    clf = LGBMClassifier(**params)\n",
    "    clf.fit(X_trn, y_trn, eval_set = [(X_val, y_val)], verbose = 50, early_stopping_rounds = 200, eval_metric = lgb_f1_score)\n",
    "    \n",
    "    vp = clf.predict_proba(X_val)\n",
    "    val_score = round(f1_score(y_val, vp.argmax(axis = 1), average = 'macro'), 5)\n",
    "    \n",
    "    print(f'\\nFold {fold_+1} Val score: {val_score}\\n')\n",
    "    \n",
    "    tp = clf.predict_proba(test2)\n",
    "    \n",
    "    oofs[val_idx] = vp\n",
    "    preds += tp/N_SPLITS\n",
    "\n",
    "    \n",
    "oof_score = round(f1_score(train[TARGET_COL], oofs.argmax(axis=1), average = 'macro'), 6)\n",
    "print(f'\\nOOF Auc is : {oof_score}')"
   ]
  },
  {
   "cell_type": "code",
   "execution_count": 36,
   "metadata": {},
   "outputs": [
    {
     "name": "stdout",
     "output_type": "stream",
     "text": [
      "0.7333645335429434\n"
     ]
    }
   ],
   "source": [
    "tmp = oofs.copy()\n",
    "oof_score = f1_score(train[TARGET_COL], tmp.round(4).argmax(axis=1), average = 'macro')\n",
    "print(oof_score)\n",
    "pd.DataFrame(oofs).round(4).to_csv('oofs_seed_2_nikhil_cv_0.733.csv')"
   ]
  },
  {
   "cell_type": "code",
   "execution_count": 37,
   "metadata": {},
   "outputs": [],
   "source": [
    "tmp = preds.copy()\n",
    "pred_labels = pd.Series(tmp.argmax(axis = 1))\n",
    "preds_actual = pred_labels.map(target_inv_mapper)\n",
    "pd.DataFrame(preds).round(4).to_csv('preds_seed_2_nikhil_cv_0.733.csv')"
   ]
  }
 ],
 "metadata": {
  "kernelspec": {
   "display_name": "Python 3",
   "language": "python",
   "name": "python3"
  },
  "language_info": {
   "codemirror_mode": {
    "name": "ipython",
    "version": 3
   },
   "file_extension": ".py",
   "mimetype": "text/x-python",
   "name": "python",
   "nbconvert_exporter": "python",
   "pygments_lexer": "ipython3",
   "version": "3.7.4"
  }
 },
 "nbformat": 4,
 "nbformat_minor": 4
}
