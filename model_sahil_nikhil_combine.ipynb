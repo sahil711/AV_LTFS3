{
 "cells": [
  {
   "cell_type": "code",
   "execution_count": 1,
   "metadata": {},
   "outputs": [],
   "source": [
    "%config Completer.use_jedi = False\n",
    "import pandas as pd\n",
    "import numpy as np\n",
    "pd.options.display.max_rows=1000\n",
    "pd.options.display.max_columns=1000\n",
    "import math\n",
    "import re\n",
    "import datetime as dt\n",
    "from bureau_fc import get_bureau_feats\n",
    "from multiprocessing import Pool\n",
    "import warnings\n",
    "warnings.filterwarnings(\"ignore\")\n",
    "import copy\n",
    "from sklearn.metrics import f1_score"
   ]
  },
  {
   "cell_type": "code",
   "execution_count": 2,
   "metadata": {},
   "outputs": [
    {
     "data": {
      "text/html": [
       "<style type='text/css'>\n",
       ".datatable table.frame { margin-bottom: 0; }\n",
       ".datatable table.frame thead { border-bottom: none; }\n",
       ".datatable table.frame tr.coltypes td {  color: #FFFFFF;  line-height: 6px;  padding: 0 0.5em;}\n",
       ".datatable .bool    { background: #DDDD99; }\n",
       ".datatable .object  { background: #565656; }\n",
       ".datatable .int     { background: #5D9E5D; }\n",
       ".datatable .float   { background: #4040CC; }\n",
       ".datatable .str     { background: #CC4040; }\n",
       ".datatable .row_index {  background: var(--jp-border-color3);  border-right: 1px solid var(--jp-border-color0);  color: var(--jp-ui-font-color3);  font-size: 9px;}\n",
       ".datatable .frame tr.coltypes .row_index {  background: var(--jp-border-color0);}\n",
       ".datatable th:nth-child(2) { padding-left: 12px; }\n",
       ".datatable .hellipsis {  color: var(--jp-cell-editor-border-color);}\n",
       ".datatable .vellipsis {  background: var(--jp-layout-color0);  color: var(--jp-cell-editor-border-color);}\n",
       ".datatable .na {  color: var(--jp-cell-editor-border-color);  font-size: 80%;}\n",
       ".datatable .footer { font-size: 9px; }\n",
       ".datatable .frame_dimensions {  background: var(--jp-border-color3);  border-top: 1px solid var(--jp-border-color0);  color: var(--jp-ui-font-color3);  display: inline-block;  opacity: 0.6;  padding: 1px 10px 1px 5px;}\n",
       "</style>\n"
      ],
      "text/plain": [
       "<IPython.core.display.HTML object>"
      ]
     },
     "metadata": {},
     "output_type": "display_data"
    }
   ],
   "source": [
    "import sys\n",
    "sys.path.append('ml_lib/')\n",
    "from encoding import FreqeuncyEncoding\n",
    "from custom_classifier_mutliclass import Estimator\n",
    "from hyperopt_multiclass import HyperOptModelSelection\n",
    "from hyperopt import hp\n",
    "from sklearn.model_selection import StratifiedKFold\n",
    "from lightgbm import LGBMClassifier"
   ]
  },
  {
   "cell_type": "code",
   "execution_count": 3,
   "metadata": {},
   "outputs": [],
   "source": [
    "DATA_DIR = '/home/sahil/data/av/AV_LTFS3/data/'"
   ]
  },
  {
   "cell_type": "code",
   "execution_count": 4,
   "metadata": {},
   "outputs": [],
   "source": [
    "train = pd.read_csv(DATA_DIR+'train_Data.csv')\n",
    "test = pd.read_csv(DATA_DIR+'test_Data.csv')"
   ]
  },
  {
   "cell_type": "code",
   "execution_count": 5,
   "metadata": {},
   "outputs": [],
   "source": [
    "target_map = {'No Top-up Service': 0,\n",
    " '12-18 Months': 1,\n",
    " '18-24 Months': 2,\n",
    " '24-30 Months': 3,\n",
    " '30-36 Months': 4,\n",
    " '36-48 Months': 5,\n",
    " ' > 48 Months': 6,\n",
    " }\n",
    "train['Top-up Month'] = train['Top-up Month'].map(target_map)"
   ]
  },
  {
   "cell_type": "code",
   "execution_count": 6,
   "metadata": {},
   "outputs": [],
   "source": [
    "reverse_map = {v:k for k,v in target_map.items()}"
   ]
  },
  {
   "cell_type": "code",
   "execution_count": 7,
   "metadata": {},
   "outputs": [
    {
     "data": {
      "text/plain": [
       "{0: 'No Top-up Service',\n",
       " 1: '12-18 Months',\n",
       " 2: '18-24 Months',\n",
       " 3: '24-30 Months',\n",
       " 4: '30-36 Months',\n",
       " 5: '36-48 Months',\n",
       " 6: ' > 48 Months'}"
      ]
     },
     "execution_count": 7,
     "metadata": {},
     "output_type": "execute_result"
    }
   ],
   "source": [
    "reverse_map"
   ]
  },
  {
   "cell_type": "code",
   "execution_count": 8,
   "metadata": {},
   "outputs": [
    {
     "data": {
      "text/plain": [
       "0    106677\n",
       "6      8366\n",
       "5      3656\n",
       "3      3492\n",
       "4      3062\n",
       "2      2368\n",
       "1      1034\n",
       "Name: Top-up Month, dtype: int64"
      ]
     },
     "execution_count": 8,
     "metadata": {},
     "output_type": "execute_result"
    }
   ],
   "source": [
    "train['Top-up Month'].value_counts()"
   ]
  },
  {
   "cell_type": "code",
   "execution_count": 9,
   "metadata": {},
   "outputs": [
    {
     "data": {
      "text/plain": [
       "0"
      ]
     },
     "execution_count": 9,
     "metadata": {},
     "output_type": "execute_result"
    }
   ],
   "source": [
    "df = pd.read_pickle('sahil_top_500_feats.pkl')\n",
    "df2 = pd.read_pickle('nikhil_feats.pkl')\n",
    "df2 = df2[df2.columns[~df2.columns.isin(df.columns)].tolist()+['ID']]\n",
    "df2.shape\n",
    "df = df.merge(df2,on='ID')\n",
    "del df2\n",
    "import gc\n",
    "gc.collect()"
   ]
  },
  {
   "cell_type": "code",
   "execution_count": 10,
   "metadata": {},
   "outputs": [
    {
     "data": {
      "text/plain": [
       "(143400, 1551)"
      ]
     },
     "execution_count": 10,
     "metadata": {},
     "output_type": "execute_result"
    }
   ],
   "source": [
    "df.shape"
   ]
  },
  {
   "cell_type": "code",
   "execution_count": 11,
   "metadata": {},
   "outputs": [
    {
     "name": "stdout",
     "output_type": "stream",
     "text": [
      "0\n",
      "100\n",
      "200\n",
      "300\n",
      "400\n",
      "500\n",
      "600\n",
      "700\n",
      "CPU times: user 57.5 s, sys: 58.1 s, total: 1min 55s\n",
      "Wall time: 1min 55s\n"
     ]
    }
   ],
   "source": [
    "%%time\n",
    "cols = df.columns[(df.max()<32000)&(df.min()>-32000)]\n",
    "for i,col in enumerate(cols):\n",
    "    df[col] = df[col].astype('float32')\n",
    "    if i%100==0:\n",
    "        print(i)"
   ]
  },
  {
   "cell_type": "code",
   "execution_count": 12,
   "metadata": {},
   "outputs": [
    {
     "data": {
      "text/plain": [
       "22"
      ]
     },
     "execution_count": 12,
     "metadata": {},
     "output_type": "execute_result"
    }
   ],
   "source": [
    "gc.collect()"
   ]
  },
  {
   "cell_type": "code",
   "execution_count": 13,
   "metadata": {},
   "outputs": [],
   "source": [
    "cat_cols=[]\n",
    "target = 'Top-up Month'\n",
    "drop_cols = ['ID','DisbursalDate','MaturityDAte','AuthDate','AssetID']\n",
    "num_cols = (df.columns[~df.columns.isin([target]+drop_cols+cat_cols)].tolist())\n",
    "use_cols = cat_cols+num_cols"
   ]
  },
  {
   "cell_type": "code",
   "execution_count": 14,
   "metadata": {},
   "outputs": [
    {
     "data": {
      "text/plain": [
       "1549"
      ]
     },
     "execution_count": 14,
     "metadata": {},
     "output_type": "execute_result"
    }
   ],
   "source": [
    "len(num_cols)"
   ]
  },
  {
   "cell_type": "code",
   "execution_count": 15,
   "metadata": {},
   "outputs": [],
   "source": [
    "train = df[df.ID.isin(train.ID)]\n",
    "test = df[df.ID.isin(test.ID)]\n",
    "train = train.sort_values('ID',ascending=True)\n",
    "test = test.sort_values('ID',ascending=True)\n",
    "train[target] = train[target].astype('int')"
   ]
  },
  {
   "cell_type": "code",
   "execution_count": 16,
   "metadata": {},
   "outputs": [
    {
     "data": {
      "text/plain": [
       "((128655, 1551), (14745, 1551))"
      ]
     },
     "execution_count": 16,
     "metadata": {},
     "output_type": "execute_result"
    }
   ],
   "source": [
    "train.shape,test.shape"
   ]
  },
  {
   "cell_type": "code",
   "execution_count": 18,
   "metadata": {},
   "outputs": [
    {
     "data": {
      "text/plain": [
       "22"
      ]
     },
     "execution_count": 18,
     "metadata": {},
     "output_type": "execute_result"
    }
   ],
   "source": [
    "del df,\n",
    "gc.collect()"
   ]
  },
  {
   "cell_type": "code",
   "execution_count": 17,
   "metadata": {},
   "outputs": [],
   "source": [
    "# train.head()"
   ]
  },
  {
   "cell_type": "code",
   "execution_count": null,
   "metadata": {},
   "outputs": [],
   "source": []
  },
  {
   "cell_type": "code",
   "execution_count": 18,
   "metadata": {},
   "outputs": [],
   "source": [
    "# use_cols = ['MonthlyIncome', 'cal_tenor', 'State', 'emi_sal_ratio', 'AGE', 'City', 'SupplierID', 'BranchID', 'pin3', 'pin1', 'disb_year', 'EMI', 'pin2', 'AssetCost', 'LTV', 'min_tenor', 'ltv2', 'median_tenor', 'max_tenor', 'ltfs_min_tenor', 'ltfs_max_tenor', 'disb_day', 'Area', 'ltfs_median_tenor', 'disb_mon', 'Tenure', 'next_correctedDISBURSED-AMT/HIGH CREDIT_value', 'prev_tenor_value', 'mat_year', 'total_sanctioned_amount_Personal Loan', 'mean_correctedDISBURSED-AMT/HIGH CREDIT', 'sum_correctedDISBURSED-AMT/HIGH CREDIT', 'mat_mon', 'std_count', 'prev_correctedDISBURSED-AMT/HIGH CREDIT_value', '1_yr_frm_disbmax_day_start_day_diff_app_vs_other', 'std_percent_paid_off', 'min_correctedDISBURSED-AMT/HIGH CREDIT', 'gold_4_yr_frm_disbmax_correctedDISBURSED-AMT/HIGH CREDIT', 'mean_percent_paid_off', 'next_correctedCURRENT-BAL_value', 'ltfs_std_count', 'mat_dow', 'std_correctedDISBURSED-AMT/HIGH CREDIT', '2_yr_frm_disbmax_day_start_day_diff_app_vs_other', 'ltfs_min_correctedDISBURSED-AMT/HIGH CREDIT', 'ManufacturerID', 'total_count', 'min_percent_paid_off', 'gold_2_yr_frm_disbmax_correctedDISBURSED-AMT/HIGH CREDIT', 'max_days_bw_loans', 'total_sanctioned_amount__between_0_and_365_days', 'min_day_start_day_diff_app_vs_other', 'total_sanctioned_amount_Tractor Loan', 'mean_correctedCURRENT-BAL', 'overall_percent_paid_off', 'max_correctedDISBURSED-AMT/HIGH CREDIT', 'mean_days_bw_loans', 'overall_percentage_paid_off__between_0_and_365_days', 'disb_dow', 'min_days_bw_loans', 'LoanStatus', 'AmountFinance', 'gold_1_yr_frm_disbmax_correctedDISBURSED-AMT/HIGH CREDIT', 'sum_correctedCURRENT-BAL', 'ltfs_min_percent_paid_off', 'std_correctedCURRENT-BAL', 'overall_percentage_paid_off_Tractor Loan', 'std_day_start_day_diff_app_vs_other', 'overall_percentage_paid_off_Personal Loan', 'std_days_bw_loans', '1_yr_frm_disbmin_day_start_day_diff_app_vs_other', 'gold_3_yr_frm_disbmax_correctedDISBURSED-AMT/HIGH CREDIT', '0_yr_frm_disbmax_day_start_day_diff_app_vs_other', '1_yr_frm_disbmean_day_start_day_diff_app_vs_other', '1_yr_frm_disbmin_correctedDISBURSED-AMT/HIGH CREDIT', 'mean_day_start_day_diff_app_vs_other', '2_yr_frm_disbmin_day_start_day_diff_app_vs_other', 'ltfs_mean_correctedDISBURSED-AMT/HIGH CREDIT', '2_yr_frm_disbmin_correctedDISBURSED-AMT/HIGH CREDIT', 'ltfs_sum_correctedDISBURSED-AMT/HIGH CREDIT', 'PaymentMode', 'max_percent_paid_off', 'min_correctedCURRENT-BAL', 'max_correctedCURRENT-BAL', 'next_tenor_value', 'mean_dpd_str', '1_yr_frm_disbmax_correctedDISBURSED-AMT/HIGH CREDIT', 'DisbursalAmount', 'ltfs_total_count', 'total_curr_bal__between_0_and_365_days', 'ltfs_total_sanctioned_amount_Tractor Loan', 'total_curr_bal_Tractor Loan', '1_yr_frm_disbmin_tenor', 'xxx_count', '4_yr_frm_disbmin_correctedDISBURSED-AMT/HIGH CREDIT', '2_yr_frm_disbmean_day_start_day_diff_app_vs_other', 'ltfs_max_percent_paid_off', '2_yr_frm_disbmax_correctedDISBURSED-AMT/HIGH CREDIT', 'ltfs_max_correctedCURRENT-BAL', 'ltfs_overall_percentage_paid_off__between_0_and_365_days', 'ltfs_min_correctedCURRENT-BAL', 'max_day_start_day_diff_app_vs_other', '0_yr_frm_disbmin_day_start_day_diff_app_vs_other', 'std_dpd_str', 'ltfs_min_day_start_day_diff_app_vs_other', 'ltfs_total_sanctioned_amount__between_0_and_365_days', 'ltfs_mean_percent_paid_off', 'ltfs_total_curr_bal__between_0_and_365_days', '1_yr_frm_disbmedian_tenor', '3_yr_frm_disbmax_correctedDISBURSED-AMT/HIGH CREDIT', 'gold_1_yr_frm_disbmax_day_start_day_diff_app_vs_other', 'ltfs_max_correctedDISBURSED-AMT/HIGH CREDIT', '1_yr_frm_disbmin_time_delta_anchor_close_vs_start', '2_yr_frm_disbmin_tenor', '0_yr_frm_disbmax_tenor', '1_yr_frm_disbmax_tenor', '0_yr_frm_disbmin_tenor', 'total_sanctioned_amount_Overdraft', '0_yr_frm_disbmedian_tenor', '1_yr_frm_disbmax_time_delta_anchor_close_vs_start', 'ltfs_max_day_start_day_diff_app_vs_other', 'max_dpd_str', 'ddd_count', '0_yr_frm_disbmin_time_delta_anchor_close_vs_start', '4_yr_frm_disbmin_tenor', '3_yr_frm_disbmin_correctedDISBURSED-AMT/HIGH CREDIT', '1_yr_frm_disbmin_disb_ratio', 'num_open_accounts', '1_yr_frm_disbmean_correctedDISBURSED-AMT/HIGH CREDIT', 'total_sanctioned_amount_Gold Loan', '0_yr_frm_disbmean_day_start_day_diff_app_vs_other', 'ltfs_mean_correctedCURRENT-BAL', 'overall_percentage_paid_off_Business Loan Priority Sector  Agriculture', '3_yr_frm_disbmax_day_start_day_diff_app_vs_other', '0_yr_frm_disbmax_time_delta_anchor_close_vs_start', 'mat_day', '4_yr_frm_disbtotal_sanctioned_amount_Overdraft', 'prev_correctedCURRENT-BAL_value', 'sum_days_bw_loans', 'ltfs_overall_percentage_paid_off_Tractor Loan', 'ltfs_num_open_accounts', '0_yr_frm_disbmin_disb_ratio', 'ltfs_num_closed_accounts', '1_yr_frm_disbsum_disb_ratio', '1_yr_frm_disbmean_time_delta_anchor_close_vs_start', 'ltfs_mean_days_bw_loans', '0_yr_frm_disbmean_time_delta_anchor_close_vs_start', '1_yr_frm_disbtotal_sanctioned_amount_Overdraft', 'late_count', '4_yr_frm_disbstd_percent_paid_off', '0_yr_frm_disbmin_correctedDISBURSED-AMT/HIGH CREDIT', 'ltfs_mean_day_start_day_diff_app_vs_other', '4_yr_frm_disbmax_correctedDISBURSED-AMT/HIGH CREDIT', 'total_sanctioned_amount__between_365_and_730_days', 'std_correctedOVERDUE-AMT', 'ltfs_sum_correctedCURRENT-BAL', '1_yr_frm_disbmax_disb_ratio', '0_yr_frm_disbsum_disb_ratio', '2_yr_frm_disbtotal_sanctioned_amount_Overdraft', 'gold_2_yr_frm_disbmax_day_start_day_diff_app_vs_other', '2_yr_frm_disbmin_disb_ratio', 'ltfs_min_days_bw_loans', 'ltfs_max_days_bw_loans', '4_yr_frm_disbmin_percent_paid_off', '1_yr_frm_disbmean_disb_ratio', '0_yr_frm_disbsum_correctedDISBURSED-AMT/HIGH CREDIT', '2_yr_frm_disbmean_correctedDISBURSED-AMT/HIGH CREDIT', 'ltfs_overall_percent_paid_off', '2_yr_frm_disbmax_time_delta_anchor_close_vs_start', 'ltfs_std_correctedDISBURSED-AMT/HIGH CREDIT', 'ltfs_std_correctedCURRENT-BAL', '2_yr_frm_disbmax_tenor', '3_yr_frm_disbmin_tenor', 'overall_percentage_paid_off_Gold Loan', '1_yr_frm_disbsum_correctedDISBURSED-AMT/HIGH CREDIT', 'gold_4_yr_frm_disbmin_correctedDISBURSED-AMT/HIGH CREDIT', 'gold_1_yr_frm_disbmean_day_start_day_diff_app_vs_other', 'mean_correctedOVERDUE-AMT', '4_yr_frm_disbstd_correctedDISBURSED-AMT/HIGH CREDIT', 'overall_percentage_paid_off_Kisan Credit Card', 'gold_1_yr_frm_disbmin_correctedDISBURSED-AMT/HIGH CREDIT', 'ltfs_mean_dpd_str', 'overall_percentage_paid_off_Overdraft', '4_yr_frm_disbmedian_tenor', '4_yr_frm_disbmean_correctedDISBURSED-AMT/HIGH CREDIT', '4_yr_frm_disbmax_tenor', 'ltfs_std_percent_paid_off', '2_yr_frm_disbmin_time_delta_anchor_close_vs_start', '2_yr_frm_disbmedian_tenor', '3_yr_frm_disbmedian_tenor', 'ltfs_total_curr_bal_Tractor Loan', 'ltfs_std_dpd_str', '1_yr_frm_disbmin_percent_paid_off', '3_yr_frm_disbmin_disb_ratio', 'trac_4_yr_frm_disbmin_tenor_is_ltfs', '0_yr_frm_disbmean_correctedDISBURSED-AMT/HIGH CREDIT', '0_yr_frm_disbmean_disb_ratio', '4_yr_frm_disbmean_day_start_day_diff_app_vs_other', 'num_accounts_Personal Loan', '4_yr_frm_disboverall_percent_paid_off', '1_yr_frm_disbstd_percent_paid_off', 'mean_dpd_str_application_loan', '1_yr_frm_disbmin_correctedCURRENT-BAL', 'gold_1_yr_frm_disbmin_day_start_day_diff_app_vs_other', '1_yr_frm_disbstd_days_bw_loans', '0_yr_frm_disbmax_disb_ratio', 'total_sanctioned_amount_Business Loan Priority Sector  Agriculture', '4_yr_frm_disbmax_day_start_day_diff_app_vs_other', '2_yr_frm_disbmean_disb_ratio', 'trac_2_yr_frm_disbmin_correctedDISBURSED-AMT/HIGH CREDIT', '3_yr_frm_disbmax_tenor', 'trac_2_yr_frm_disbmax_time_delta_anchor_close_vs_start', 'overall_percentage_paid_off__between_365_and_730_days', 'trac_1_yr_frm_disbmax_day_start_day_diff_app_vs_other', '4_yr_frm_disbmin_disb_ratio', 'gold_2_yr_frm_disbmean_correctedDISBURSED-AMT/HIGH CREDIT', 'trac_2_yr_frm_disbmax_day_start_day_diff_app_vs_other', '0_yr_frm_disbmax_correctedDISBURSED-AMT/HIGH CREDIT', '2_yr_frm_disbmin_correctedCURRENT-BAL', 'trac_1_yr_frm_disbmin_correctedDISBURSED-AMT/HIGH CREDIT', 'gold_4_yr_frm_disbmean_correctedDISBURSED-AMT/HIGH CREDIT', '2_yr_frm_disbsum_disb_ratio', 'overall_percentage_paid_off_Auto Loan (Personal)', '4_yr_frm_disbsum_correctedCURRENT-BAL', 'trac_4_yr_frm_disbmax_tenor_is_ltfs', '4_yr_frm_disbstd_correctedCURRENT-BAL', '2_yr_frm_disbmax_disb_ratio', '4_yr_frm_disbmin_day_start_day_diff_app_vs_other', 'trac_2_yr_frm_disbmin_time_delta_anchor_close_vs_start', '2_yr_frm_disbsum_correctedDISBURSED-AMT/HIGH CREDIT', '3_yr_frm_disbmean_day_start_day_diff_app_vs_other', '4_yr_frm_disbnum_open_accounts', '1_yr_frm_disbmin_days_bw_loans', '2_yr_frm_disbmean_time_delta_anchor_close_vs_start', 'ltfs_max_dpd_str', 'Frequency', '1_yr_frm_disbmean_percent_paid_off', '0_yr_frm_disbmin_percent_paid_off', '4_yr_frm_disbmin_tenor_is_ltfs', 'max_dpd_str_application_loan', '1_yr_frm_disbmean_correctedCURRENT-BAL', '0_yr_frm_disbstd_disb_ratio', 'std_dpd_str_application_loan', '0_yr_frm_disboverall_percent_paid_off', '_90_count_application_loan', '1_yr_frm_disbstd_correctedDISBURSED-AMT/HIGH CREDIT', '2_yr_frm_disbstd_percent_paid_off', '2_yr_frm_disbstd_correctedDISBURSED-AMT/HIGH CREDIT', 'ltfs_max_dpd_str_application_loan', '2_yr_frm_disboverall_percentage_paid_off_Overdraft', '1_yr_frm_disbmax_percent_paid_off', '4_yr_frm_disbstd_disb_ratio', 'gold_3_yr_frm_disbmax_day_start_day_diff_app_vs_other', '3_yr_frm_disbmean_correctedDISBURSED-AMT/HIGH CREDIT', 'max_correctedOVERDUE-AMT', 'overall_percentage_paid_off__between_730_and_1095_days', '3_yr_frm_disbmin_day_start_day_diff_app_vs_other', '1_yr_frm_disboverall_percentage_paid_off_Overdraft', '2_yr_frm_disbmin_percent_paid_off', '2_yr_frm_disbstd_disb_ratio', 'num_accounts_Overdraft', 'trac_2_yr_frm_disbmean_time_delta_anchor_close_vs_start', '3_yr_frm_disbsum_correctedDISBURSED-AMT/HIGH CREDIT', '1_yr_frm_disbstd_correctedCURRENT-BAL', '_30_count', 'gold_2_yr_frm_disbmin_day_start_day_diff_app_vs_other', 'gold_1_yr_frm_disbmax_tenor', 'trac_3_yr_frm_disbmin_correctedDISBURSED-AMT/HIGH CREDIT', '1_yr_frm_disbstd_disb_ratio', '1_yr_frm_disbtotal_sanctioned_amount_Gold Loan', '4_yr_frm_disbmin_days_bw_loans', '0_yr_frm_disbstd_correctedDISBURSED-AMT/HIGH CREDIT', 'ltfs__90_count_application_loan', '3_yr_frm_disbmean_disb_ratio', 'total_sanctioned_amount__between_730_and_1095_days', '4_yr_frm_disbmax_correctedCURRENT-BAL', 'gold_0_yr_frm_disbmax_day_start_day_diff_app_vs_other', 'trac_4_yr_frm_disbmin_correctedDISBURSED-AMT/HIGH CREDIT', 'trac_4_yr_frm_disbtotal_curr_bal_is_ltfs', '1_yr_frm_disbstd_time_delta_anchor_close_vs_start', 'curr_bal_grtr_0', '4_yr_frm_disbmean_disb_ratio', 'gold_1_yr_frm_disbmean_correctedDISBURSED-AMT/HIGH CREDIT', '4_yr_frm_disbmean_correctedCURRENT-BAL', '0_yr_frm_disbmean_percent_paid_off', 'gold_2_yr_frm_disbmax_disb_ratio', '1_yr_frm_disbmax_correctedCURRENT-BAL', 'ltfs_std_dpd_str_application_loan', '1_yr_frm_disboverall_percent_paid_off', 'total_sanctioned_amount__between_1095_and_1460_days', 'gold_3_yr_frm_disbmean_correctedDISBURSED-AMT/HIGH CREDIT', '4_yr_frm_disbmean_percent_paid_off', 'ltfs_mean_dpd_str_application_loan', 'ltfs_late_count', 'total_curr_bal_Gold Loan', '2_yr_frm_disbmean_correctedCURRENT-BAL', '4_yr_frm_disbstd_days_bw_loans', 'overall_percentage_paid_off_Other', '2_yr_frm_disbmax_correctedCURRENT-BAL', 'total_curr_bal_Kisan Credit Card', '4_yr_frm_disbmax_tenor_is_ltfs', 'trac_2_yr_frm_disbmin_disb_ratio', '2_yr_frm_disbmin_days_bw_loans', '3_yr_frm_disbmax_disb_ratio', '2_yr_frm_disbmax_days_bw_loans', 'total_curr_bal_Business Loan Priority Sector  Agriculture', 'trac_1_yr_frm_disbmin_time_delta_anchor_close_vs_start', 'SEX', 'gold_1_yr_frm_disbmax_disb_ratio', '2_yr_frm_disbmax_percent_paid_off', '4_yr_frm_disbnum_accounts_Overdraft', '1_yr_frm_disbmean_days_bw_loans', '2_yr_frm_disbtotal_sanctioned_amount_Gold Loan', 'gold_2_yr_frm_disbmin_correctedDISBURSED-AMT/HIGH CREDIT', '3_yr_frm_disbsum_disb_ratio', 'std_count_application_loan', '3_yr_frm_disbstd_correctedDISBURSED-AMT/HIGH CREDIT', '3_yr_frm_disboverall_percentage_paid_off_Overdraft', 'num_closed_accounts', '0_yr_frm_disbsum_days_bw_loans', 'trac_2_yr_frm_disbmin_day_start_day_diff_app_vs_other', '4_yr_frm_disbsum_correctedDISBURSED-AMT/HIGH CREDIT', 'trac_2_yr_frm_disbtotal_sanctioned_amount_is_ltfs', '0_yr_frm_disbmin_days_bw_loans', '3_yr_frm_disbmin_percent_paid_off', 'gold_2_yr_frm_disbmean_day_start_day_diff_app_vs_other', 'total_curr_bal_Personal Loan', '3_yr_frm_disbtotal_sanctioned_amount_Overdraft', 'trac_4_yr_frm_disbmin_disb_ratio', '_60_count_application_loan', 'trac_4_yr_frm_disbtotal_sanctioned_amount_is_ltfs', '4_yr_frm_disbmax_disb_ratio', 'ltfs__60_count_application_loan', '2_yr_frm_disbstd_correctedCURRENT-BAL', 'total_curr_bal__between_365_and_730_days', '1_yr_frm_disbmax_days_bw_loans', '2_yr_frm_disbmean_percent_paid_off', 'gold_1_yr_frm_disbmin_tenor', '1_yr_frm_disbstd_day_start_day_diff_app_vs_other', 'total_sanctioned_amount_Auto Loan (Personal)', '4_yr_frm_disbindividual_accounts', '1_yr_frm_disbmax_tenor_is_ltfs', '1_yr_frm_disbsum_days_bw_loans', '0_yr_frm_disbmean_correctedCURRENT-BAL', '0_yr_frm_disbmean_days_bw_loans', '_60_count', '0_yr_frm_disbstd_percent_paid_off', '2_yr_frm_disbmean_days_bw_loans', 'gold_1_yr_frm_disbmedian_tenor', '4_yr_frm_disbsum_days_bw_loans', '3_yr_frm_disbmin_days_bw_loans', '4_yr_frm_disbsum_disb_ratio', 'gold_2_yr_frm_disbmin_percent_paid_off', '4_yr_frm_disbmean_days_bw_loans', '2_yr_frm_disbstd_time_delta_anchor_close_vs_start', 'ltfs_ddd_count', 'individual_accounts', '4_yr_frm_disbmax_percent_paid_off', '0_yr_frm_disbsum_correctedCURRENT-BAL', 'trac_2_yr_frm_disbmean_day_start_day_diff_app_vs_other', '1_yr_frm_disbsum_correctedCURRENT-BAL', '3_yr_frm_disbstd_days_bw_loans', 'ltfs__30_count', 'sum_correctedOVERDUE-AMT', '3_yr_frm_disbtotal_sanctioned_amount_Gold Loan', 'trac_2_yr_frm_disbmean_disb_ratio', 'overall_percentage_paid_off__between_1460_and_3650_days', 'trac_1_yr_frm_disbmax_time_delta_anchor_close_vs_start', 'ltfs_sum_days_bw_loans', 'gold_0_yr_frm_disbmean_day_start_day_diff_app_vs_other', 'trac_2_yr_frm_disbmin_tenor', 'gold_1_yr_frm_disbmin_percent_paid_off', 'trac_2_yr_frm_disbmean_correctedDISBURSED-AMT/HIGH CREDIT', 'trac_1_yr_frm_disbsum_disb_ratio', '4_yr_frm_disbnum_accounts', 'gold_1_yr_frm_disbmean_disb_ratio', '2_yr_frm_disboverall_percent_paid_off', '1_yr_frm_disbmean_correctedOVERDUE-AMT', 'trac_1_yr_frm_disbsum_correctedDISBURSED-AMT/HIGH CREDIT', '2_yr_frm_disbsum_days_bw_loans', 'gold_1_yr_frm_disbsum_disb_ratio', 'total_sanctioned_amount_Kisan Credit Card', 'trac_2_yr_frm_disboverall_percentage_paid_off_is_ltfs', 'gold_1_yr_frm_disbmin_time_delta_anchor_close_vs_start', 'trac_1_yr_frm_disbmean_time_delta_anchor_close_vs_start', '0_yr_frm_disbmax_percent_paid_off', 'gold_0_yr_frm_disbmin_tenor', '3_yr_frm_disbstd_day_start_day_diff_app_vs_other', '0_yr_frm_disbmin_correctedCURRENT-BAL', 'trac_1_yr_frm_disbtotal_sanctioned_amount_is_ltfs', '0_yr_frm_disbstd_correctedCURRENT-BAL', '0_yr_frm_disbmax_days_bw_loans', 'gold_0_yr_frm_disbmin_day_start_day_diff_app_vs_other', 'total_curr_bal_Auto Loan (Personal)', '4_yr_frm_disbmin_correctedCURRENT-BAL', 'trac_4_yr_frm_disbsum_disb_ratio', 'trac_2_yr_frm_disbmax_disb_ratio', '3_yr_frm_disbstd_percent_paid_off', 'overall_percentage_paid_off__between_1095_and_1460_days', 'trac_4_yr_frm_disbmax_day_start_day_diff_app_vs_other', 'trac_4_yr_frm_disbmin_day_start_day_diff_app_vs_other', '3_yr_frm_disbindividual_accounts', 'trac_4_yr_frm_disbmax_disb_ratio', '0_yr_frm_disbtotal_sanctioned_amount_Gold Loan', 'total_curr_bal__between_730_and_1095_days', '4_yr_frm_disbcurr_bal_grtr_0', '3_yr_frm_disbmean_days_bw_loans', '0_yr_frm_disbmin_correctedOVERDUE-AMT', 'gold_2_yr_frm_disbmin_tenor', '4_yr_frm_disboverall_percentage_paid_off_Overdraft', 'gold_1_yr_frm_disbmax_time_delta_anchor_close_vs_start', 'trac_4_yr_frm_disbmedian_tenor', 'trac_2_yr_frm_disbmin_tenor_is_ltfs', 'ltfs_total_sanctioned_amount__between_1095_and_1460_days', 'trac_4_yr_frm_disboverall_percentage_paid_off_is_ltfs', '3_yr_frm_disbstd_disb_ratio', '2_yr_frm_disbsum_correctedCURRENT-BAL', 'gold_0_yr_frm_disbsum_disb_ratio', 'trac_4_yr_frm_disbmean_correctedDISBURSED-AMT/HIGH CREDIT', '0_yr_frm_disbmax_correctedCURRENT-BAL', '3_yr_frm_disbmean_correctedCURRENT-BAL', 'total_sanctioned_amount__between_1460_and_3650_days', '2_yr_frm_disbtotal_sanctioned_amount_Tractor Loan', '1_yr_frm_disbmin_tenor_is_ltfs', '0_yr_frm_disbstd_day_start_day_diff_app_vs_other', 'trac_4_yr_frm_disbmean_disb_ratio', '2_yr_frm_disbstd_day_start_day_diff_app_vs_other', 'gold_0_yr_frm_disbmax_time_delta_anchor_close_vs_start', '2_yr_frm_disbmean_correctedOVERDUE-AMT', '4_yr_frm_disbstd_day_start_day_diff_app_vs_other', 'trac_2_yr_frm_disbmax_correctedDISBURSED-AMT/HIGH CREDIT', 'trac_1_yr_frm_disbmax_tenor_is_ltfs', 'trac_1_yr_frm_disbmean_day_start_day_diff_app_vs_other', 'trac_4_yr_frm_disbmin_tenor', 'trac_3_yr_frm_disbmax_tenor_is_ltfs', 'trac_3_yr_frm_disbmin_tenor', 'trac_2_yr_frm_disbtotal_curr_bal_is_ltfs', 'gold_0_yr_frm_disbmedian_tenor', '4_yr_frm_disbtotal_curr_bal_Overdraft', '1_yr_frm_disbtotal_sanctioned_amount_Tractor Loan', 'gold_1_yr_frm_disbmean_time_delta_anchor_close_vs_start', 'gold_0_yr_frm_disbmin_correctedDISBURSED-AMT/HIGH CREDIT', 'gold_0_yr_frm_disbmin_time_delta_anchor_close_vs_start', 'gold_2_yr_frm_disbmax_tenor', 'ltfs_total_sanctioned_amount__between_730_and_1095_days', '1_yr_frm_disbmin_correctedOVERDUE-AMT', 'gold_2_yr_frm_disbmean_disb_ratio', '2_yr_frm_disbtotal_sanctioned_amount_is_ltfs', 'gold_0_yr_frm_disbmax_tenor', 'total_sanctioned_amount_Other', 'gold_0_yr_frm_disbmax_disb_ratio', 'trac_4_yr_frm_disbmax_correctedDISBURSED-AMT/HIGH CREDIT', 'ltfs_total_curr_bal__between_365_and_730_days', '4_yr_frm_disbmax_days_bw_loans', 'gold_1_yr_frm_disbmax_correctedCURRENT-BAL', 'gold_3_yr_frm_disbmax_disb_ratio', 'trac_3_yr_frm_disbtotal_sanctioned_amount_is_ltfs', 'gold_1_yr_frm_disbmin_disb_ratio', 'num_accounts', 'ltfs_std_day_start_day_diff_app_vs_other', '4_yr_frm_disbtotal_sanctioned_amount_Tractor Loan', 'ltfs_joint_accounts', 'gold_0_yr_frm_disbmax_correctedDISBURSED-AMT/HIGH CREDIT', '4_yr_frm_disbtotal_sanctioned_amount_is_ltfs', '3_yr_frm_disbmin_time_delta_anchor_close_vs_start', 'trac_3_yr_frm_disbmax_day_start_day_diff_app_vs_other', '3_yr_frm_disbmean_percent_paid_off', 'gold_3_yr_frm_disbmin_day_start_day_diff_app_vs_other', 'gold_4_yr_frm_disbmax_disb_ratio', '3_yr_frm_disbsum_days_bw_loans', '2_yr_frm_disbstd_days_bw_loans', 'gold_2_yr_frm_disbsum_disb_ratio', '1_yr_frm_disbmax_correctedOVERDUE-AMT', '3_yr_frm_disbmax_correctedCURRENT-BAL', 'trac_2_yr_frm_disbmedian_tenor', '3_yr_frm_disbtotal_sanctioned_amount_Tractor Loan', 'gold_3_yr_frm_disbmean_disb_ratio', 'gold_0_yr_frm_disbmean_disb_ratio', '3_yr_frm_disbsum_correctedCURRENT-BAL', 'gold_3_yr_frm_disbmin_correctedDISBURSED-AMT/HIGH CREDIT', '0_yr_frm_disbindividual_accounts', 'gold_1_yr_frm_disbsum_correctedDISBURSED-AMT/HIGH CREDIT', 'gold_3_yr_frm_disbsum_disb_ratio', '2_yr_frm_disbmax_tenor_is_ltfs', 'ltfs_total_curr_bal__between_730_and_1095_days', '3_yr_frm_disbstd_correctedCURRENT-BAL', 'trac_4_yr_frm_disbmax_tenor', 'ltfs_total_sanctioned_amount__between_365_and_730_days', '1_yr_frm_disbstd_correctedOVERDUE-AMT', 'late_count_application_loan', '_30_count_application_loan', '4_yr_frm_disbmean_correctedOVERDUE-AMT', 'gold_0_yr_frm_disbmin_disb_ratio', 'gold_1_yr_frm_disbstd_correctedDISBURSED-AMT/HIGH CREDIT', 'trac_1_yr_frm_disbmean_correctedDISBURSED-AMT/HIGH CREDIT', 'trac_1_yr_frm_disbmin_tenor', '4_yr_frm_disbstd_correctedOVERDUE-AMT', 'num_accounts_Gold Loan', 'gold_2_yr_frm_disbsum_correctedDISBURSED-AMT/HIGH CREDIT']"
   ]
  },
  {
   "cell_type": "code",
   "execution_count": 19,
   "metadata": {},
   "outputs": [
    {
     "data": {
      "text/plain": [
       "1549"
      ]
     },
     "execution_count": 19,
     "metadata": {},
     "output_type": "execute_result"
    }
   ],
   "source": [
    "len(use_cols)"
   ]
  },
  {
   "cell_type": "code",
   "execution_count": 29,
   "metadata": {},
   "outputs": [],
   "source": [
    "# df[['ID']+use_cols].to_pickle('sahil_top_500_feats.pkl')"
   ]
  },
  {
   "cell_type": "code",
   "execution_count": 20,
   "metadata": {},
   "outputs": [
    {
     "data": {
      "text/plain": [
       "44"
      ]
     },
     "execution_count": 20,
     "metadata": {},
     "output_type": "execute_result"
    }
   ],
   "source": [
    "import gc\n",
    "gc.collect()"
   ]
  },
  {
   "cell_type": "code",
   "execution_count": 21,
   "metadata": {},
   "outputs": [],
   "source": [
    "folds = StratifiedKFold(5, shuffle = True, random_state = 2)\n",
    "folds = [(x,y) for x,y in folds.split(train,train[target])]"
   ]
  },
  {
   "cell_type": "code",
   "execution_count": 22,
   "metadata": {},
   "outputs": [
    {
     "data": {
      "text/plain": [
       "1549"
      ]
     },
     "execution_count": 22,
     "metadata": {},
     "output_type": "execute_result"
    }
   ],
   "source": [
    "len(use_cols)"
   ]
  },
  {
   "cell_type": "code",
   "execution_count": 23,
   "metadata": {},
   "outputs": [],
   "source": [
    "lgbm_space = {\n",
    "    \"n_estimators\": 5000,\n",
    "    \"num_leaves\": hp.quniform(\"num_leaves\", 32, 192, 32),\n",
    "    \"min_child_weight\": hp.quniform(\"min_child_weight\", 10, 100, 20),\n",
    "    \"subsample\": hp.quniform(\"subsample\", 0.5, 1, 0.1),\n",
    "    \"colsample_bytree\": hp.quniform(\"colsample_bytree\", 0.5, 1, 0.1),\n",
    "    \"subsample_freq\": 5,\n",
    "    \"objective\": \"multiclass\",\n",
    "    \"boosting_type\": \"gbdt\",\n",
    "    \"learning_rate\": 0.1,\n",
    "    \"n_jobs\": -1,\n",
    "}"
   ]
  },
  {
   "cell_type": "code",
   "execution_count": 24,
   "metadata": {},
   "outputs": [],
   "source": [
    "est = Estimator(model = LGBMClassifier(),validation_scheme=folds,early_stopping_rounds=100,n_jobs=-1)"
   ]
  },
  {
   "cell_type": "code",
   "execution_count": 25,
   "metadata": {},
   "outputs": [
    {
     "name": "stdout",
     "output_type": "stream",
     "text": [
      "CPU times: user 202 µs, sys: 191 µs, total: 393 µs\n",
      "Wall time: 303 µs\n"
     ]
    }
   ],
   "source": [
    "%%time\n",
    "hyp= HyperOptModelSelection(model=est,space=lgbm_space,max_evals=50,is_maximize=True,log_file_path='hyp4.txt')"
   ]
  },
  {
   "cell_type": "code",
   "execution_count": 26,
   "metadata": {},
   "outputs": [
    {
     "name": "stdout",
     "output_type": "stream",
     "text": [
      "CPU times: user 2 µs, sys: 1e+03 ns, total: 3 µs\n",
      "Wall time: 4.29 µs\n"
     ]
    }
   ],
   "source": [
    "%%time\n",
    "# hyp.fit(train[use_cols].values,train[target].values)"
   ]
  },
  {
   "cell_type": "code",
   "execution_count": 27,
   "metadata": {},
   "outputs": [],
   "source": [
    "# params={'boosting_type': 'gbdt', 'colsample_bytree': 0.8, 'learning_rate': 0.1, 'min_child_weight': 40.0, 'n_estimators': 5000,\n",
    "#         'n_jobs': -1, 'num_leaves': 96, 'objective': 'multiclass', 'subsample': 1.0, 'subsample_freq': 5}\n",
    "\n",
    "params = {'boosting_type': 'gbdt', 'colsample_bytree': 0.8, 'learning_rate': 0.1, 'min_child_weight': 20.0, 'n_estimators': 5000,\n",
    " 'n_jobs': -1, 'num_leaves': 64, 'objective': 'multiclass', 'subsample': 1.0, 'subsample_freq': 5}"
   ]
  },
  {
   "cell_type": "code",
   "execution_count": 28,
   "metadata": {},
   "outputs": [],
   "source": [
    "# est = Estimator(model = LGBMClassifier(colsample_bytree=0.7000000000000001, min_child_weight=60.0,learning_rate=0.1,\n",
    "#                n_estimators=5000, num_leaves=64, objective='multiclass',metric='None',\n",
    "#                subsample_freq=5),validation_scheme=folds,early_stopping_rounds=100,n_jobs=-1)\n",
    "\n",
    "est = Estimator(model = LGBMClassifier(**params),validation_scheme=folds,early_stopping_rounds=100,n_jobs=-1)"
   ]
  },
  {
   "cell_type": "code",
   "execution_count": 29,
   "metadata": {},
   "outputs": [
    {
     "name": "stdout",
     "output_type": "stream",
     "text": [
      "Training until validation scores don't improve for 100 rounds\n",
      "[100]\tvalid_0's multi_logloss: 0.258375\tvalid_1's multi_logloss: 0.132077\n",
      "Early stopping, best iteration is:\n",
      "[99]\tvalid_0's multi_logloss: 0.258368\tvalid_1's multi_logloss: 0.132906\n",
      "Training until validation scores don't improve for 100 rounds\n",
      "[100]\tvalid_0's multi_logloss: 0.255681\tvalid_1's multi_logloss: 0.133248\n",
      "Early stopping, best iteration is:\n",
      "[91]\tvalid_0's multi_logloss: 0.255486\tvalid_1's multi_logloss: 0.141035\n",
      "Training until validation scores don't improve for 100 rounds\n",
      "[100]\tvalid_0's multi_logloss: 0.256969\tvalid_1's multi_logloss: 0.131944\n",
      "Early stopping, best iteration is:\n",
      "[95]\tvalid_0's multi_logloss: 0.256868\tvalid_1's multi_logloss: 0.136149\n",
      "Training until validation scores don't improve for 100 rounds\n",
      "[100]\tvalid_0's multi_logloss: 0.257432\tvalid_1's multi_logloss: 0.132902\n",
      "[200]\tvalid_0's multi_logloss: 0.263187\tvalid_1's multi_logloss: 0.0735875\n",
      "Early stopping, best iteration is:\n",
      "[100]\tvalid_0's multi_logloss: 0.257432\tvalid_1's multi_logloss: 0.132902\n",
      "Training until validation scores don't improve for 100 rounds\n",
      "[100]\tvalid_0's multi_logloss: 0.247419\tvalid_1's multi_logloss: 0.134232\n",
      "Early stopping, best iteration is:\n",
      "[95]\tvalid_0's multi_logloss: 0.247292\tvalid_1's multi_logloss: 0.138544\n"
     ]
    }
   ],
   "source": [
    "temp = est.fit_transform(train[use_cols].values,train[target].values)"
   ]
  },
  {
   "cell_type": "code",
   "execution_count": 30,
   "metadata": {},
   "outputs": [
    {
     "data": {
      "text/plain": [
       "([0.7334718744600853,\n",
       "  0.7304890392602986,\n",
       "  0.7374923985736554,\n",
       "  0.7337399913717115,\n",
       "  0.7442295329769361],\n",
       " 0.7360326951257737)"
      ]
     },
     "execution_count": 30,
     "metadata": {},
     "output_type": "execute_result"
    }
   ],
   "source": [
    "est.cv_scores,est.overall_cv_score"
   ]
  },
  {
   "cell_type": "code",
   "execution_count": 31,
   "metadata": {},
   "outputs": [],
   "source": [
    "feat_imp = est.feature_importance_df(use_cols)"
   ]
  },
  {
   "cell_type": "code",
   "execution_count": 33,
   "metadata": {},
   "outputs": [
    {
     "data": {
      "text/html": [
       "<div>\n",
       "<style scoped>\n",
       "    .dataframe tbody tr th:only-of-type {\n",
       "        vertical-align: middle;\n",
       "    }\n",
       "\n",
       "    .dataframe tbody tr th {\n",
       "        vertical-align: top;\n",
       "    }\n",
       "\n",
       "    .dataframe thead th {\n",
       "        text-align: right;\n",
       "    }\n",
       "</style>\n",
       "<table border=\"1\" class=\"dataframe\">\n",
       "  <thead>\n",
       "    <tr style=\"text-align: right;\">\n",
       "      <th></th>\n",
       "      <th>column</th>\n",
       "      <th>feature_importance</th>\n",
       "      <th>rank</th>\n",
       "    </tr>\n",
       "  </thead>\n",
       "  <tbody>\n",
       "    <tr>\n",
       "      <th>0</th>\n",
       "      <td>MonthlyIncome</td>\n",
       "      <td>0.013520</td>\n",
       "      <td>1</td>\n",
       "    </tr>\n",
       "    <tr>\n",
       "      <th>521</th>\n",
       "      <td>MonthlyIncome_freq</td>\n",
       "      <td>0.012352</td>\n",
       "      <td>2</td>\n",
       "    </tr>\n",
       "    <tr>\n",
       "      <th>766</th>\n",
       "      <td>DisbursalDate_days_since_start</td>\n",
       "      <td>0.009206</td>\n",
       "      <td>3</td>\n",
       "    </tr>\n",
       "    <tr>\n",
       "      <th>3</th>\n",
       "      <td>emi_sal_ratio</td>\n",
       "      <td>0.008461</td>\n",
       "      <td>4</td>\n",
       "    </tr>\n",
       "    <tr>\n",
       "      <th>785</th>\n",
       "      <td>ZiPCODEdd_min</td>\n",
       "      <td>0.007785</td>\n",
       "      <td>5</td>\n",
       "    </tr>\n",
       "    <tr>\n",
       "      <th>501</th>\n",
       "      <td>ZiPCODE</td>\n",
       "      <td>0.007681</td>\n",
       "      <td>6</td>\n",
       "    </tr>\n",
       "    <tr>\n",
       "      <th>512</th>\n",
       "      <td>EMI_freq</td>\n",
       "      <td>0.007508</td>\n",
       "      <td>7</td>\n",
       "    </tr>\n",
       "    <tr>\n",
       "      <th>4</th>\n",
       "      <td>AGE</td>\n",
       "      <td>0.007490</td>\n",
       "      <td>8</td>\n",
       "    </tr>\n",
       "    <tr>\n",
       "      <th>779</th>\n",
       "      <td>SupplierIDdd_min</td>\n",
       "      <td>0.007425</td>\n",
       "      <td>9</td>\n",
       "    </tr>\n",
       "    <tr>\n",
       "      <th>1</th>\n",
       "      <td>cal_tenor</td>\n",
       "      <td>0.007308</td>\n",
       "      <td>10</td>\n",
       "    </tr>\n",
       "    <tr>\n",
       "      <th>524</th>\n",
       "      <td>ZiPCODE_freq</td>\n",
       "      <td>0.007244</td>\n",
       "      <td>11</td>\n",
       "    </tr>\n",
       "    <tr>\n",
       "      <th>786</th>\n",
       "      <td>ZiPCODE_dd_max</td>\n",
       "      <td>0.007162</td>\n",
       "      <td>12</td>\n",
       "    </tr>\n",
       "    <tr>\n",
       "      <th>781</th>\n",
       "      <td>Citydd_min</td>\n",
       "      <td>0.007109</td>\n",
       "      <td>13</td>\n",
       "    </tr>\n",
       "    <tr>\n",
       "      <th>780</th>\n",
       "      <td>SupplierID_dd_max</td>\n",
       "      <td>0.006924</td>\n",
       "      <td>14</td>\n",
       "    </tr>\n",
       "    <tr>\n",
       "      <th>8</th>\n",
       "      <td>pin3</td>\n",
       "      <td>0.006726</td>\n",
       "      <td>15</td>\n",
       "    </tr>\n",
       "    <tr>\n",
       "      <th>5</th>\n",
       "      <td>City</td>\n",
       "      <td>0.006640</td>\n",
       "      <td>16</td>\n",
       "    </tr>\n",
       "    <tr>\n",
       "      <th>782</th>\n",
       "      <td>City_dd_max</td>\n",
       "      <td>0.006546</td>\n",
       "      <td>17</td>\n",
       "    </tr>\n",
       "    <tr>\n",
       "      <th>11</th>\n",
       "      <td>EMI</td>\n",
       "      <td>0.006431</td>\n",
       "      <td>18</td>\n",
       "    </tr>\n",
       "    <tr>\n",
       "      <th>509</th>\n",
       "      <td>AssetCost_freq</td>\n",
       "      <td>0.006393</td>\n",
       "      <td>19</td>\n",
       "    </tr>\n",
       "    <tr>\n",
       "      <th>15</th>\n",
       "      <td>min_tenor</td>\n",
       "      <td>0.006361</td>\n",
       "      <td>20</td>\n",
       "    </tr>\n",
       "    <tr>\n",
       "      <th>12</th>\n",
       "      <td>pin2</td>\n",
       "      <td>0.006324</td>\n",
       "      <td>21</td>\n",
       "    </tr>\n",
       "    <tr>\n",
       "      <th>514</th>\n",
       "      <td>MaturityDAte_freq</td>\n",
       "      <td>0.006130</td>\n",
       "      <td>22</td>\n",
       "    </tr>\n",
       "    <tr>\n",
       "      <th>717</th>\n",
       "      <td>DISBURSED-AMT/HIGH CREDIT_last</td>\n",
       "      <td>0.006117</td>\n",
       "      <td>23</td>\n",
       "    </tr>\n",
       "    <tr>\n",
       "      <th>518</th>\n",
       "      <td>LTV_freq</td>\n",
       "      <td>0.006099</td>\n",
       "      <td>24</td>\n",
       "    </tr>\n",
       "    <tr>\n",
       "      <th>2</th>\n",
       "      <td>State</td>\n",
       "      <td>0.006056</td>\n",
       "      <td>25</td>\n",
       "    </tr>\n",
       "    <tr>\n",
       "      <th>9</th>\n",
       "      <td>pin1</td>\n",
       "      <td>0.006027</td>\n",
       "      <td>26</td>\n",
       "    </tr>\n",
       "    <tr>\n",
       "      <th>13</th>\n",
       "      <td>AssetCost</td>\n",
       "      <td>0.005982</td>\n",
       "      <td>27</td>\n",
       "    </tr>\n",
       "    <tr>\n",
       "      <th>7</th>\n",
       "      <td>BranchID</td>\n",
       "      <td>0.005924</td>\n",
       "      <td>28</td>\n",
       "    </tr>\n",
       "    <tr>\n",
       "      <th>768</th>\n",
       "      <td>MaturityDAte_days_since_start</td>\n",
       "      <td>0.005834</td>\n",
       "      <td>29</td>\n",
       "    </tr>\n",
       "    <tr>\n",
       "      <th>6</th>\n",
       "      <td>SupplierID</td>\n",
       "      <td>0.005776</td>\n",
       "      <td>30</td>\n",
       "    </tr>\n",
       "    <tr>\n",
       "      <th>14</th>\n",
       "      <td>LTV</td>\n",
       "      <td>0.005771</td>\n",
       "      <td>31</td>\n",
       "    </tr>\n",
       "    <tr>\n",
       "      <th>773</th>\n",
       "      <td>BranchIDdd_min</td>\n",
       "      <td>0.005594</td>\n",
       "      <td>32</td>\n",
       "    </tr>\n",
       "    <tr>\n",
       "      <th>767</th>\n",
       "      <td>DisbursalDate_days_from_end</td>\n",
       "      <td>0.005580</td>\n",
       "      <td>33</td>\n",
       "    </tr>\n",
       "    <tr>\n",
       "      <th>16</th>\n",
       "      <td>ltv2</td>\n",
       "      <td>0.005528</td>\n",
       "      <td>34</td>\n",
       "    </tr>\n",
       "    <tr>\n",
       "      <th>520</th>\n",
       "      <td>AGE_freq</td>\n",
       "      <td>0.005505</td>\n",
       "      <td>35</td>\n",
       "    </tr>\n",
       "    <tr>\n",
       "      <th>1539</th>\n",
       "      <td>SELF-INDICATOR_True_DISBURSED_DT_max</td>\n",
       "      <td>0.005483</td>\n",
       "      <td>36</td>\n",
       "    </tr>\n",
       "    <tr>\n",
       "      <th>17</th>\n",
       "      <td>median_tenor</td>\n",
       "      <td>0.005446</td>\n",
       "      <td>37</td>\n",
       "    </tr>\n",
       "    <tr>\n",
       "      <th>19</th>\n",
       "      <td>ltfs_min_tenor</td>\n",
       "      <td>0.005165</td>\n",
       "      <td>38</td>\n",
       "    </tr>\n",
       "    <tr>\n",
       "      <th>774</th>\n",
       "      <td>BranchID_dd_max</td>\n",
       "      <td>0.005136</td>\n",
       "      <td>39</td>\n",
       "    </tr>\n",
       "    <tr>\n",
       "      <th>783</th>\n",
       "      <td>Statedd_min</td>\n",
       "      <td>0.005116</td>\n",
       "      <td>40</td>\n",
       "    </tr>\n",
       "    <tr>\n",
       "      <th>513</th>\n",
       "      <td>DisbursalDate_freq</td>\n",
       "      <td>0.005050</td>\n",
       "      <td>41</td>\n",
       "    </tr>\n",
       "    <tr>\n",
       "      <th>784</th>\n",
       "      <td>State_dd_max</td>\n",
       "      <td>0.004863</td>\n",
       "      <td>42</td>\n",
       "    </tr>\n",
       "    <tr>\n",
       "      <th>677</th>\n",
       "      <td>CURRENT-BAL_last</td>\n",
       "      <td>0.004857</td>\n",
       "      <td>43</td>\n",
       "    </tr>\n",
       "    <tr>\n",
       "      <th>770</th>\n",
       "      <td>AuthDate_days_since_start</td>\n",
       "      <td>0.004834</td>\n",
       "      <td>44</td>\n",
       "    </tr>\n",
       "    <tr>\n",
       "      <th>1374</th>\n",
       "      <td>ACCT-TYPE_Personal Loan_DISBURSED_DT_max - Dis...</td>\n",
       "      <td>0.004759</td>\n",
       "      <td>45</td>\n",
       "    </tr>\n",
       "    <tr>\n",
       "      <th>515</th>\n",
       "      <td>AuthDate_freq</td>\n",
       "      <td>0.004756</td>\n",
       "      <td>46</td>\n",
       "    </tr>\n",
       "    <tr>\n",
       "      <th>25</th>\n",
       "      <td>Tenure</td>\n",
       "      <td>0.004633</td>\n",
       "      <td>47</td>\n",
       "    </tr>\n",
       "    <tr>\n",
       "      <th>35</th>\n",
       "      <td>1_yr_frm_disbmax_day_start_day_diff_app_vs_other</td>\n",
       "      <td>0.004602</td>\n",
       "      <td>48</td>\n",
       "    </tr>\n",
       "    <tr>\n",
       "      <th>44</th>\n",
       "      <td>2_yr_frm_disbmax_day_start_day_diff_app_vs_other</td>\n",
       "      <td>0.004464</td>\n",
       "      <td>49</td>\n",
       "    </tr>\n",
       "    <tr>\n",
       "      <th>23</th>\n",
       "      <td>ltfs_median_tenor</td>\n",
       "      <td>0.004220</td>\n",
       "      <td>50</td>\n",
       "    </tr>\n",
       "    <tr>\n",
       "      <th>716</th>\n",
       "      <td>DISBURSED-AMT/HIGH CREDIT_first</td>\n",
       "      <td>0.004197</td>\n",
       "      <td>51</td>\n",
       "    </tr>\n",
       "    <tr>\n",
       "      <th>49</th>\n",
       "      <td>gold_2_yr_frm_disbmax_correctedDISBURSED-AMT/H...</td>\n",
       "      <td>0.004179</td>\n",
       "      <td>52</td>\n",
       "    </tr>\n",
       "    <tr>\n",
       "      <th>772</th>\n",
       "      <td>DisbursalDate - MaturityDAte</td>\n",
       "      <td>0.004146</td>\n",
       "      <td>53</td>\n",
       "    </tr>\n",
       "    <tr>\n",
       "      <th>38</th>\n",
       "      <td>gold_4_yr_frm_disbmax_correctedDISBURSED-AMT/H...</td>\n",
       "      <td>0.004094</td>\n",
       "      <td>54</td>\n",
       "    </tr>\n",
       "    <tr>\n",
       "      <th>758</th>\n",
       "      <td>total_sum_disbursed_before_loan_applied</td>\n",
       "      <td>0.004082</td>\n",
       "      <td>55</td>\n",
       "    </tr>\n",
       "    <tr>\n",
       "      <th>510</th>\n",
       "      <td>AmountFinance_freq</td>\n",
       "      <td>0.003871</td>\n",
       "      <td>56</td>\n",
       "    </tr>\n",
       "    <tr>\n",
       "      <th>1546</th>\n",
       "      <td>SELF-INDICATOR_False_DISBURSED_DT_min</td>\n",
       "      <td>0.003845</td>\n",
       "      <td>57</td>\n",
       "    </tr>\n",
       "    <tr>\n",
       "      <th>21</th>\n",
       "      <td>disb_day</td>\n",
       "      <td>0.003814</td>\n",
       "      <td>58</td>\n",
       "    </tr>\n",
       "    <tr>\n",
       "      <th>1041</th>\n",
       "      <td>kharacha_2_Personal Loan_max</td>\n",
       "      <td>0.003772</td>\n",
       "      <td>59</td>\n",
       "    </tr>\n",
       "    <tr>\n",
       "      <th>22</th>\n",
       "      <td>Area</td>\n",
       "      <td>0.003734</td>\n",
       "      <td>60</td>\n",
       "    </tr>\n",
       "    <tr>\n",
       "      <th>775</th>\n",
       "      <td>Areadd_min</td>\n",
       "      <td>0.003573</td>\n",
       "      <td>61</td>\n",
       "    </tr>\n",
       "    <tr>\n",
       "      <th>33</th>\n",
       "      <td>std_count</td>\n",
       "      <td>0.003542</td>\n",
       "      <td>62</td>\n",
       "    </tr>\n",
       "    <tr>\n",
       "      <th>511</th>\n",
       "      <td>DisbursalAmount_freq</td>\n",
       "      <td>0.003533</td>\n",
       "      <td>63</td>\n",
       "    </tr>\n",
       "    <tr>\n",
       "      <th>719</th>\n",
       "      <td>DISBURSED-AMT/HIGH CREDIT_second_last</td>\n",
       "      <td>0.003517</td>\n",
       "      <td>64</td>\n",
       "    </tr>\n",
       "    <tr>\n",
       "      <th>589</th>\n",
       "      <td>CLOSE-DT_days_from_end</td>\n",
       "      <td>0.003485</td>\n",
       "      <td>65</td>\n",
       "    </tr>\n",
       "    <tr>\n",
       "      <th>552</th>\n",
       "      <td>DISBURSED-DT_diff_to_next</td>\n",
       "      <td>0.003400</td>\n",
       "      <td>66</td>\n",
       "    </tr>\n",
       "    <tr>\n",
       "      <th>1031</th>\n",
       "      <td>kharacha_2_Gold Loan_max</td>\n",
       "      <td>0.003364</td>\n",
       "      <td>67</td>\n",
       "    </tr>\n",
       "    <tr>\n",
       "      <th>72</th>\n",
       "      <td>gold_3_yr_frm_disbmax_correctedDISBURSED-AMT/H...</td>\n",
       "      <td>0.003354</td>\n",
       "      <td>68</td>\n",
       "    </tr>\n",
       "    <tr>\n",
       "      <th>20</th>\n",
       "      <td>ltfs_max_tenor</td>\n",
       "      <td>0.003353</td>\n",
       "      <td>69</td>\n",
       "    </tr>\n",
       "    <tr>\n",
       "      <th>30</th>\n",
       "      <td>mean_correctedDISBURSED-AMT/HIGH CREDIT</td>\n",
       "      <td>0.003226</td>\n",
       "      <td>70</td>\n",
       "    </tr>\n",
       "    <tr>\n",
       "      <th>18</th>\n",
       "      <td>max_tenor</td>\n",
       "      <td>0.003196</td>\n",
       "      <td>71</td>\n",
       "    </tr>\n",
       "    <tr>\n",
       "      <th>48</th>\n",
       "      <td>min_percent_paid_off</td>\n",
       "      <td>0.003196</td>\n",
       "      <td>72</td>\n",
       "    </tr>\n",
       "    <tr>\n",
       "      <th>771</th>\n",
       "      <td>AuthDate_days_from_end</td>\n",
       "      <td>0.003193</td>\n",
       "      <td>73</td>\n",
       "    </tr>\n",
       "    <tr>\n",
       "      <th>37</th>\n",
       "      <td>min_correctedDISBURSED-AMT/HIGH CREDIT</td>\n",
       "      <td>0.003148</td>\n",
       "      <td>74</td>\n",
       "    </tr>\n",
       "    <tr>\n",
       "      <th>1544</th>\n",
       "      <td>SELF-INDICATOR_False_DISBURSED_DT_max</td>\n",
       "      <td>0.003116</td>\n",
       "      <td>75</td>\n",
       "    </tr>\n",
       "    <tr>\n",
       "      <th>1335</th>\n",
       "      <td>ACCT-TYPE_Tractor Loan_DISBURSED_DT_max</td>\n",
       "      <td>0.003098</td>\n",
       "      <td>76</td>\n",
       "    </tr>\n",
       "    <tr>\n",
       "      <th>718</th>\n",
       "      <td>DISBURSED-AMT/HIGH CREDIT_second_first</td>\n",
       "      <td>0.003088</td>\n",
       "      <td>77</td>\n",
       "    </tr>\n",
       "    <tr>\n",
       "      <th>45</th>\n",
       "      <td>ltfs_min_correctedDISBURSED-AMT/HIGH CREDIT</td>\n",
       "      <td>0.003062</td>\n",
       "      <td>78</td>\n",
       "    </tr>\n",
       "    <tr>\n",
       "      <th>41</th>\n",
       "      <td>ltfs_std_count</td>\n",
       "      <td>0.003042</td>\n",
       "      <td>79</td>\n",
       "    </tr>\n",
       "    <tr>\n",
       "      <th>508</th>\n",
       "      <td>Tenure_freq</td>\n",
       "      <td>0.002898</td>\n",
       "      <td>80</td>\n",
       "    </tr>\n",
       "    <tr>\n",
       "      <th>676</th>\n",
       "      <td>CURRENT-BAL_first</td>\n",
       "      <td>0.002881</td>\n",
       "      <td>81</td>\n",
       "    </tr>\n",
       "    <tr>\n",
       "      <th>31</th>\n",
       "      <td>sum_correctedDISBURSED-AMT/HIGH CREDIT</td>\n",
       "      <td>0.002872</td>\n",
       "      <td>82</td>\n",
       "    </tr>\n",
       "    <tr>\n",
       "      <th>39</th>\n",
       "      <td>mean_percent_paid_off</td>\n",
       "      <td>0.002865</td>\n",
       "      <td>83</td>\n",
       "    </tr>\n",
       "    <tr>\n",
       "      <th>24</th>\n",
       "      <td>disb_mon</td>\n",
       "      <td>0.002837</td>\n",
       "      <td>84</td>\n",
       "    </tr>\n",
       "    <tr>\n",
       "      <th>61</th>\n",
       "      <td>LoanStatus</td>\n",
       "      <td>0.002832</td>\n",
       "      <td>85</td>\n",
       "    </tr>\n",
       "    <tr>\n",
       "      <th>762</th>\n",
       "      <td>total_loan_days_min</td>\n",
       "      <td>0.002789</td>\n",
       "      <td>86</td>\n",
       "    </tr>\n",
       "    <tr>\n",
       "      <th>63</th>\n",
       "      <td>gold_1_yr_frm_disbmax_correctedDISBURSED-AMT/H...</td>\n",
       "      <td>0.002756</td>\n",
       "      <td>87</td>\n",
       "    </tr>\n",
       "    <tr>\n",
       "      <th>891</th>\n",
       "      <td>kharacha_Tractor Loan</td>\n",
       "      <td>0.002730</td>\n",
       "      <td>88</td>\n",
       "    </tr>\n",
       "    <tr>\n",
       "      <th>763</th>\n",
       "      <td>total_loan_days_first</td>\n",
       "      <td>0.002720</td>\n",
       "      <td>89</td>\n",
       "    </tr>\n",
       "    <tr>\n",
       "      <th>1336</th>\n",
       "      <td>ACCT-TYPE_Tractor Loan_DISBURSED_DT_min</td>\n",
       "      <td>0.002714</td>\n",
       "      <td>90</td>\n",
       "    </tr>\n",
       "    <tr>\n",
       "      <th>707</th>\n",
       "      <td>ACCT-TYPE_last</td>\n",
       "      <td>0.002713</td>\n",
       "      <td>91</td>\n",
       "    </tr>\n",
       "    <tr>\n",
       "      <th>1326</th>\n",
       "      <td>sum_DISBURSED-AMT/HIGH CREDIT_Tractor Loan_NBF...</td>\n",
       "      <td>0.002623</td>\n",
       "      <td>92</td>\n",
       "    </tr>\n",
       "    <tr>\n",
       "      <th>747</th>\n",
       "      <td>ba_last</td>\n",
       "      <td>0.002580</td>\n",
       "      <td>93</td>\n",
       "    </tr>\n",
       "    <tr>\n",
       "      <th>55</th>\n",
       "      <td>overall_percent_paid_off</td>\n",
       "      <td>0.002576</td>\n",
       "      <td>94</td>\n",
       "    </tr>\n",
       "    <tr>\n",
       "      <th>36</th>\n",
       "      <td>std_percent_paid_off</td>\n",
       "      <td>0.002575</td>\n",
       "      <td>95</td>\n",
       "    </tr>\n",
       "    <tr>\n",
       "      <th>764</th>\n",
       "      <td>total_loan_days_last</td>\n",
       "      <td>0.002568</td>\n",
       "      <td>96</td>\n",
       "    </tr>\n",
       "    <tr>\n",
       "      <th>776</th>\n",
       "      <td>Area_dd_max</td>\n",
       "      <td>0.002556</td>\n",
       "      <td>97</td>\n",
       "    </tr>\n",
       "    <tr>\n",
       "      <th>32</th>\n",
       "      <td>mat_mon</td>\n",
       "      <td>0.002530</td>\n",
       "      <td>98</td>\n",
       "    </tr>\n",
       "    <tr>\n",
       "      <th>77</th>\n",
       "      <td>2_yr_frm_disbmin_day_start_day_diff_app_vs_other</td>\n",
       "      <td>0.002502</td>\n",
       "      <td>99</td>\n",
       "    </tr>\n",
       "    <tr>\n",
       "      <th>42</th>\n",
       "      <td>mat_dow</td>\n",
       "      <td>0.002499</td>\n",
       "      <td>100</td>\n",
       "    </tr>\n",
       "  </tbody>\n",
       "</table>\n",
       "</div>"
      ],
      "text/plain": [
       "                                                 column  feature_importance  \\\n",
       "0                                         MonthlyIncome            0.013520   \n",
       "521                                  MonthlyIncome_freq            0.012352   \n",
       "766                      DisbursalDate_days_since_start            0.009206   \n",
       "3                                         emi_sal_ratio            0.008461   \n",
       "785                                       ZiPCODEdd_min            0.007785   \n",
       "501                                             ZiPCODE            0.007681   \n",
       "512                                            EMI_freq            0.007508   \n",
       "4                                                   AGE            0.007490   \n",
       "779                                    SupplierIDdd_min            0.007425   \n",
       "1                                             cal_tenor            0.007308   \n",
       "524                                        ZiPCODE_freq            0.007244   \n",
       "786                                      ZiPCODE_dd_max            0.007162   \n",
       "781                                          Citydd_min            0.007109   \n",
       "780                                   SupplierID_dd_max            0.006924   \n",
       "8                                                  pin3            0.006726   \n",
       "5                                                  City            0.006640   \n",
       "782                                         City_dd_max            0.006546   \n",
       "11                                                  EMI            0.006431   \n",
       "509                                      AssetCost_freq            0.006393   \n",
       "15                                            min_tenor            0.006361   \n",
       "12                                                 pin2            0.006324   \n",
       "514                                   MaturityDAte_freq            0.006130   \n",
       "717                      DISBURSED-AMT/HIGH CREDIT_last            0.006117   \n",
       "518                                            LTV_freq            0.006099   \n",
       "2                                                 State            0.006056   \n",
       "9                                                  pin1            0.006027   \n",
       "13                                            AssetCost            0.005982   \n",
       "7                                              BranchID            0.005924   \n",
       "768                       MaturityDAte_days_since_start            0.005834   \n",
       "6                                            SupplierID            0.005776   \n",
       "14                                                  LTV            0.005771   \n",
       "773                                      BranchIDdd_min            0.005594   \n",
       "767                         DisbursalDate_days_from_end            0.005580   \n",
       "16                                                 ltv2            0.005528   \n",
       "520                                            AGE_freq            0.005505   \n",
       "1539               SELF-INDICATOR_True_DISBURSED_DT_max            0.005483   \n",
       "17                                         median_tenor            0.005446   \n",
       "19                                       ltfs_min_tenor            0.005165   \n",
       "774                                     BranchID_dd_max            0.005136   \n",
       "783                                         Statedd_min            0.005116   \n",
       "513                                  DisbursalDate_freq            0.005050   \n",
       "784                                        State_dd_max            0.004863   \n",
       "677                                    CURRENT-BAL_last            0.004857   \n",
       "770                           AuthDate_days_since_start            0.004834   \n",
       "1374  ACCT-TYPE_Personal Loan_DISBURSED_DT_max - Dis...            0.004759   \n",
       "515                                       AuthDate_freq            0.004756   \n",
       "25                                               Tenure            0.004633   \n",
       "35     1_yr_frm_disbmax_day_start_day_diff_app_vs_other            0.004602   \n",
       "44     2_yr_frm_disbmax_day_start_day_diff_app_vs_other            0.004464   \n",
       "23                                    ltfs_median_tenor            0.004220   \n",
       "716                     DISBURSED-AMT/HIGH CREDIT_first            0.004197   \n",
       "49    gold_2_yr_frm_disbmax_correctedDISBURSED-AMT/H...            0.004179   \n",
       "772                        DisbursalDate - MaturityDAte            0.004146   \n",
       "38    gold_4_yr_frm_disbmax_correctedDISBURSED-AMT/H...            0.004094   \n",
       "758             total_sum_disbursed_before_loan_applied            0.004082   \n",
       "510                                  AmountFinance_freq            0.003871   \n",
       "1546              SELF-INDICATOR_False_DISBURSED_DT_min            0.003845   \n",
       "21                                             disb_day            0.003814   \n",
       "1041                       kharacha_2_Personal Loan_max            0.003772   \n",
       "22                                                 Area            0.003734   \n",
       "775                                          Areadd_min            0.003573   \n",
       "33                                            std_count            0.003542   \n",
       "511                                DisbursalAmount_freq            0.003533   \n",
       "719               DISBURSED-AMT/HIGH CREDIT_second_last            0.003517   \n",
       "589                              CLOSE-DT_days_from_end            0.003485   \n",
       "552                           DISBURSED-DT_diff_to_next            0.003400   \n",
       "1031                           kharacha_2_Gold Loan_max            0.003364   \n",
       "72    gold_3_yr_frm_disbmax_correctedDISBURSED-AMT/H...            0.003354   \n",
       "20                                       ltfs_max_tenor            0.003353   \n",
       "30              mean_correctedDISBURSED-AMT/HIGH CREDIT            0.003226   \n",
       "18                                            max_tenor            0.003196   \n",
       "48                                 min_percent_paid_off            0.003196   \n",
       "771                              AuthDate_days_from_end            0.003193   \n",
       "37               min_correctedDISBURSED-AMT/HIGH CREDIT            0.003148   \n",
       "1544              SELF-INDICATOR_False_DISBURSED_DT_max            0.003116   \n",
       "1335            ACCT-TYPE_Tractor Loan_DISBURSED_DT_max            0.003098   \n",
       "718              DISBURSED-AMT/HIGH CREDIT_second_first            0.003088   \n",
       "45          ltfs_min_correctedDISBURSED-AMT/HIGH CREDIT            0.003062   \n",
       "41                                       ltfs_std_count            0.003042   \n",
       "508                                         Tenure_freq            0.002898   \n",
       "676                                   CURRENT-BAL_first            0.002881   \n",
       "31               sum_correctedDISBURSED-AMT/HIGH CREDIT            0.002872   \n",
       "39                                mean_percent_paid_off            0.002865   \n",
       "24                                             disb_mon            0.002837   \n",
       "61                                           LoanStatus            0.002832   \n",
       "762                                 total_loan_days_min            0.002789   \n",
       "63    gold_1_yr_frm_disbmax_correctedDISBURSED-AMT/H...            0.002756   \n",
       "891                               kharacha_Tractor Loan            0.002730   \n",
       "763                               total_loan_days_first            0.002720   \n",
       "1336            ACCT-TYPE_Tractor Loan_DISBURSED_DT_min            0.002714   \n",
       "707                                      ACCT-TYPE_last            0.002713   \n",
       "1326  sum_DISBURSED-AMT/HIGH CREDIT_Tractor Loan_NBF...            0.002623   \n",
       "747                                             ba_last            0.002580   \n",
       "55                             overall_percent_paid_off            0.002576   \n",
       "36                                 std_percent_paid_off            0.002575   \n",
       "764                                total_loan_days_last            0.002568   \n",
       "776                                         Area_dd_max            0.002556   \n",
       "32                                              mat_mon            0.002530   \n",
       "77     2_yr_frm_disbmin_day_start_day_diff_app_vs_other            0.002502   \n",
       "42                                              mat_dow            0.002499   \n",
       "\n",
       "      rank  \n",
       "0        1  \n",
       "521      2  \n",
       "766      3  \n",
       "3        4  \n",
       "785      5  \n",
       "501      6  \n",
       "512      7  \n",
       "4        8  \n",
       "779      9  \n",
       "1       10  \n",
       "524     11  \n",
       "786     12  \n",
       "781     13  \n",
       "780     14  \n",
       "8       15  \n",
       "5       16  \n",
       "782     17  \n",
       "11      18  \n",
       "509     19  \n",
       "15      20  \n",
       "12      21  \n",
       "514     22  \n",
       "717     23  \n",
       "518     24  \n",
       "2       25  \n",
       "9       26  \n",
       "13      27  \n",
       "7       28  \n",
       "768     29  \n",
       "6       30  \n",
       "14      31  \n",
       "773     32  \n",
       "767     33  \n",
       "16      34  \n",
       "520     35  \n",
       "1539    36  \n",
       "17      37  \n",
       "19      38  \n",
       "774     39  \n",
       "783     40  \n",
       "513     41  \n",
       "784     42  \n",
       "677     43  \n",
       "770     44  \n",
       "1374    45  \n",
       "515     46  \n",
       "25      47  \n",
       "35      48  \n",
       "44      49  \n",
       "23      50  \n",
       "716     51  \n",
       "49      52  \n",
       "772     53  \n",
       "38      54  \n",
       "758     55  \n",
       "510     56  \n",
       "1546    57  \n",
       "21      58  \n",
       "1041    59  \n",
       "22      60  \n",
       "775     61  \n",
       "33      62  \n",
       "511     63  \n",
       "719     64  \n",
       "589     65  \n",
       "552     66  \n",
       "1031    67  \n",
       "72      68  \n",
       "20      69  \n",
       "30      70  \n",
       "18      71  \n",
       "48      72  \n",
       "771     73  \n",
       "37      74  \n",
       "1544    75  \n",
       "1335    76  \n",
       "718     77  \n",
       "45      78  \n",
       "41      79  \n",
       "508     80  \n",
       "676     81  \n",
       "31      82  \n",
       "39      83  \n",
       "24      84  \n",
       "61      85  \n",
       "762     86  \n",
       "63      87  \n",
       "891     88  \n",
       "763     89  \n",
       "1336    90  \n",
       "707     91  \n",
       "1326    92  \n",
       "747     93  \n",
       "55      94  \n",
       "36      95  \n",
       "764     96  \n",
       "776     97  \n",
       "32      98  \n",
       "77      99  \n",
       "42     100  "
      ]
     },
     "execution_count": 33,
     "metadata": {},
     "output_type": "execute_result"
    }
   ],
   "source": [
    "feat_imp.head(100)"
   ]
  },
  {
   "cell_type": "code",
   "execution_count": 34,
   "metadata": {},
   "outputs": [
    {
     "data": {
      "text/plain": [
       "0.7360326951257737"
      ]
     },
     "execution_count": 34,
     "metadata": {},
     "output_type": "execute_result"
    }
   ],
   "source": [
    "f1_score(train[target],pd.Series(temp.argmax(axis=1)),average='macro')"
   ]
  },
  {
   "cell_type": "code",
   "execution_count": 35,
   "metadata": {},
   "outputs": [],
   "source": [
    "test_preds = [est.predict_proba(test[use_cols].values) for est in est.fitted_models]"
   ]
  },
  {
   "cell_type": "code",
   "execution_count": 36,
   "metadata": {},
   "outputs": [],
   "source": [
    "test['Top-up Month'] = np.sum(test_preds,axis=0).argmax(axis=1)"
   ]
  },
  {
   "cell_type": "code",
   "execution_count": 37,
   "metadata": {},
   "outputs": [
    {
     "data": {
      "text/plain": [
       "0    0.920109\n",
       "6    0.036758\n",
       "5    0.014852\n",
       "2    0.007799\n",
       "4    0.007664\n",
       "3    0.007189\n",
       "1    0.005629\n",
       "Name: Top-up Month, dtype: float64"
      ]
     },
     "execution_count": 37,
     "metadata": {},
     "output_type": "execute_result"
    }
   ],
   "source": [
    "test['Top-up Month'].value_counts(1)"
   ]
  },
  {
   "cell_type": "code",
   "execution_count": 39,
   "metadata": {},
   "outputs": [],
   "source": [
    "sub = test[['ID','Top-up Month']]"
   ]
  },
  {
   "cell_type": "code",
   "execution_count": 40,
   "metadata": {},
   "outputs": [],
   "source": [
    "sub['Top-up Month'] = sub['Top-up Month'].map(reverse_map)"
   ]
  },
  {
   "cell_type": "code",
   "execution_count": 41,
   "metadata": {},
   "outputs": [],
   "source": [
    "sub.to_csv('NM_SV_LGBM_CV0.736.csv',index=False)"
   ]
  }
 ],
 "metadata": {
  "kernelspec": {
   "display_name": "Python 3",
   "language": "python",
   "name": "python3"
  },
  "language_info": {
   "codemirror_mode": {
    "name": "ipython",
    "version": 3
   },
   "file_extension": ".py",
   "mimetype": "text/x-python",
   "name": "python",
   "nbconvert_exporter": "python",
   "pygments_lexer": "ipython3",
   "version": "3.7.4"
  }
 },
 "nbformat": 4,
 "nbformat_minor": 4
}
