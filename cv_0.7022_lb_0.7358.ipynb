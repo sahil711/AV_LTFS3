{
 "cells": [
  {
   "cell_type": "code",
   "execution_count": 1,
   "metadata": {},
   "outputs": [
    {
     "name": "stdout",
     "output_type": "stream",
     "text": [
      "Collecting pandarallel\n",
      "  Downloading pandarallel-1.5.1.tar.gz (14 kB)\n",
      "Requirement already satisfied: dill in /home/sahil/anaconda3/lib/python3.7/site-packages (from pandarallel) (0.3.2)\n",
      "Building wheels for collected packages: pandarallel\n",
      "  Building wheel for pandarallel (setup.py) ... \u001b[?25ldone\n",
      "\u001b[?25h  Created wheel for pandarallel: filename=pandarallel-1.5.1-py3-none-any.whl size=17126 sha256=cc3a3947036e03a26714eb57ca767583e73842d85e4343284f4f6939ba3f2f76\n",
      "  Stored in directory: /home/sahil/.cache/pip/wheels/bd/da/5f/2e65e230a994adb965df002373975e66b3bd1cb90c0706b9ac\n",
      "Successfully built pandarallel\n",
      "Installing collected packages: pandarallel\n",
      "Successfully installed pandarallel-1.5.1\n"
     ]
    }
   ],
   "source": [
    "!pip3 install pandarallel"
   ]
  },
  {
   "cell_type": "code",
   "execution_count": 6,
   "metadata": {},
   "outputs": [
    {
     "name": "stdout",
     "output_type": "stream",
     "text": [
      "INFO: Pandarallel will run on 12 workers.\n",
      "INFO: Pandarallel will use Memory file system to transfer data between the main process and workers.\n"
     ]
    }
   ],
   "source": [
    "%config Completer.use_jedi = False\n",
    "import numpy as np # linear algebra\n",
    "import pandas as pd # data processing, CSV file I/O (e.g. pd.read_csv)\n",
    "# pd.set_option('display.max_colwidth', None)\n",
    "from sklearn.model_selection import *\n",
    "from lightgbm import LGBMClassifier, LGBMRegressor\n",
    "from sklearn.metrics import roc_auc_score as auc, f1_score\n",
    "import lightgbm as lgb\n",
    "import gc\n",
    "from pandarallel import pandarallel\n",
    "pandarallel.initialize()\n",
    "from tqdm.notebook import tqdm\n",
    "pd.options.display.max_columns = 100"
   ]
  },
  {
   "cell_type": "code",
   "execution_count": 7,
   "metadata": {},
   "outputs": [],
   "source": [
    "DATA_DIR = '/home/sahil/data/av/AV_LTFS3/data/'"
   ]
  },
  {
   "cell_type": "code",
   "execution_count": 9,
   "metadata": {},
   "outputs": [
    {
     "name": "stdout",
     "output_type": "stream",
     "text": [
      "CPU times: user 3.12 s, sys: 212 ms, total: 3.33 s\n",
      "Wall time: 3.75 s\n"
     ]
    }
   ],
   "source": [
    "%%time\n",
    "train_bureau = pd.read_csv(DATA_DIR+'train_bureau.csv')\n",
    "test_bureau = pd.read_csv(DATA_DIR+'test_bureau.csv')\n",
    "train = pd.read_csv(DATA_DIR+'train_Data.csv')\n",
    "test = pd.read_csv(DATA_DIR+'test_Data.csv')\n",
    "# data_dict = pd.read_csv('data_dict.csv')"
   ]
  },
  {
   "cell_type": "code",
   "execution_count": 13,
   "metadata": {},
   "outputs": [
    {
     "data": {
      "text/plain": [
       "Index(['ID', 'Frequency', 'InstlmentMode', 'LoanStatus', 'PaymentMode',\n",
       "       'BranchID', 'Area', 'Tenure', 'AssetCost', 'AmountFinance',\n",
       "       'DisbursalAmount', 'EMI', 'DisbursalDate', 'MaturityDAte', 'AuthDate',\n",
       "       'AssetID', 'ManufacturerID', 'SupplierID', 'LTV', 'SEX', 'AGE',\n",
       "       'MonthlyIncome', 'City', 'State', 'ZiPCODE', 'Top-up Month'],\n",
       "      dtype='object')"
      ]
     },
     "execution_count": 13,
     "metadata": {},
     "output_type": "execute_result"
    }
   ],
   "source": [
    "pd.read_csv('train_Data.csv').columns"
   ]
  },
  {
   "cell_type": "code",
   "execution_count": 11,
   "metadata": {},
   "outputs": [],
   "source": [
    "# ss = pd.read_csv('sample_submission_ejm25Dc.csv')\n",
    "\n",
    "ID_COL, TARGET_COL = 'ID', 'Top-up Month'\n",
    "target_mapper = pd.Series({'No Top-up Service': 0,\n",
    "                           '12-18 Months': 1,\n",
    "                           '18-24 Months': 2,\n",
    "                           '24-30 Months': 3,\n",
    "                           '30-36 Months': 4,\n",
    "                           '36-48 Months': 5,\n",
    "                           ' > 48 Months': 6,\n",
    " })\n",
    "target_inv_mapper = pd.Series(index = target_mapper.values, data = target_mapper.index)\n",
    "train[TARGET_COL] = train[TARGET_COL].map(target_mapper)"
   ]
  },
  {
   "cell_type": "code",
   "execution_count": 12,
   "metadata": {},
   "outputs": [
    {
     "data": {
      "text/plain": [
       "414"
      ]
     },
     "execution_count": 12,
     "metadata": {},
     "output_type": "execute_result"
    }
   ],
   "source": [
    "df = train.append(test).reset_index(drop = True)\n",
    "date_cols = ['DisbursalDate', 'MaturityDAte', 'AuthDate']\n",
    "df[date_cols] = df[date_cols].apply(lambda x: pd.to_datetime(x))\n",
    "\n",
    "del df['AssetID']\n",
    "gc.collect()"
   ]
  },
  {
   "cell_type": "code",
   "execution_count": 13,
   "metadata": {},
   "outputs": [],
   "source": [
    "orig_columns = df.columns.tolist()\n",
    "orig_fts = [c for c in df.columns if c not in ['ID', 'Top-up Month']]"
   ]
  },
  {
   "cell_type": "code",
   "execution_count": 14,
   "metadata": {},
   "outputs": [],
   "source": [
    "df[[c + '_freq' for c in orig_fts]] = df[orig_fts].apply(lambda x: x.map(x.value_counts()))"
   ]
  },
  {
   "cell_type": "code",
   "execution_count": 15,
   "metadata": {},
   "outputs": [],
   "source": [
    "df_bureau = train_bureau.append(test_bureau).reset_index(drop = True)\n",
    "df_bureau = df_bureau.drop_duplicates(['ID','DISBURSED-DT'],keep='first')\n",
    "date_cols = ['DATE-REPORTED', 'DISBURSED-DT', 'CLOSE-DT', 'LAST-PAYMENT-DATE']\n",
    "df_bureau[date_cols] = df_bureau[date_cols].apply(lambda x: pd.to_datetime(x, errors = 'coerce'))\n",
    "df_bureau = df_bureau.sort_values(by = ['ID', 'DISBURSED-DT']).reset_index(drop = True)\n",
    "df_bureau['app_dd'] = df_bureau['ID'].map(df.set_index('ID')['DisbursalDate'])"
   ]
  },
  {
   "cell_type": "code",
   "execution_count": 16,
   "metadata": {},
   "outputs": [],
   "source": [
    "fltr = df_bureau['CLOSE-DT'].isnull()\n",
    "df_bureau.loc[fltr, 'CLOSE-DT'] = df_bureau.loc[fltr, 'LAST-PAYMENT-DATE']"
   ]
  },
  {
   "cell_type": "code",
   "execution_count": 17,
   "metadata": {},
   "outputs": [],
   "source": [
    "df_bureau['accounts_closed'] = (~df_bureau['CLOSE-DT'].isnull()) * 1\n",
    "df_bureau['total_accounts_closed'] = df_bureau.groupby(\"ID\")['accounts_closed'].transform('sum')\n",
    "df_bureau['avg_no_accounts_closed'] = df_bureau.groupby(\"ID\")['accounts_closed'].transform('mean')\n",
    "df_bureau['total_accounts_closed_ACCT-TYPE'] = df_bureau.groupby([\"ID\", 'ACCT-TYPE'])['accounts_closed'].transform('sum')\n",
    "df_bureau['avg_no_accounts_closed_ACCT-TYPE'] = df_bureau.groupby([\"ID\", 'ACCT-TYPE'])['accounts_closed'].transform('mean')\n",
    "df_bureau['total_accounts_closed_CONTRIBUTOR-TYPE'] = df_bureau.groupby([\"ID\", 'CONTRIBUTOR-TYPE'])['accounts_closed'].transform('sum')\n",
    "df_bureau['avg_no_accounts_closed_CONTRIBUTOR-TYPE'] = df_bureau.groupby([\"ID\", 'CONTRIBUTOR-TYPE'])['accounts_closed'].transform('mean')"
   ]
  },
  {
   "cell_type": "code",
   "execution_count": 18,
   "metadata": {},
   "outputs": [],
   "source": [
    "fltr = df_bureau['app_dd'] == df_bureau['DISBURSED-DT']\n",
    "for f in ['total_accounts_closed_ACCT-TYPE', 'avg_no_accounts_closed_ACCT-TYPE', 'total_accounts_closed_CONTRIBUTOR-TYPE',\n",
    "         'avg_no_accounts_closed_CONTRIBUTOR-TYPE']:\n",
    "    df[f] = df['ID'].map(df_bureau[fltr].set_index('ID')[f])"
   ]
  },
  {
   "cell_type": "code",
   "execution_count": 19,
   "metadata": {},
   "outputs": [],
   "source": [
    "df_bureau['ba'] = pd.factorize(df_bureau['ACCT-TYPE'].astype('str') + df_bureau['CONTRIBUTOR-TYPE'].astype('str'))[0]"
   ]
  },
  {
   "cell_type": "code",
   "execution_count": 20,
   "metadata": {},
   "outputs": [],
   "source": [
    "def clean(x):\n",
    "    try:\n",
    "        return float(str(x).replace(',', ''))\n",
    "    except:\n",
    "        return np.nan"
   ]
  },
  {
   "cell_type": "code",
   "execution_count": 21,
   "metadata": {},
   "outputs": [],
   "source": [
    "df_bureau['CURRENT-BAL'] = df_bureau['CURRENT-BAL'].apply(lambda x: clean(x))\n",
    "df_bureau['INSTALLMENT-AMT'] = df_bureau['INSTALLMENT-AMT'].apply(lambda x: clean(x))\n",
    "df_bureau['CREDIT-LIMIT/SANC AMT'] = df_bureau['CREDIT-LIMIT/SANC AMT'].apply(lambda x: clean(x))"
   ]
  },
  {
   "cell_type": "code",
   "execution_count": 22,
   "metadata": {},
   "outputs": [
    {
     "data": {
      "application/vnd.jupyter.widget-view+json": {
       "model_id": "063e73d48ed8423e9924184d7f8f676d",
       "version_major": 2,
       "version_minor": 0
      },
      "text/plain": [
       "HBox(children=(HTML(value=''), FloatProgress(value=0.0, max=3.0), HTML(value='')))"
      ]
     },
     "metadata": {},
     "output_type": "display_data"
    },
    {
     "name": "stdout",
     "output_type": "stream",
     "text": [
      "\n"
     ]
    },
    {
     "data": {
      "application/vnd.jupyter.widget-view+json": {
       "model_id": "6ed99c19cd7d4d5fbb649826b053d326",
       "version_major": 2,
       "version_minor": 0
      },
      "text/plain": [
       "HBox(children=(HTML(value=''), FloatProgress(value=0.0, max=2.0), HTML(value='')))"
      ]
     },
     "metadata": {},
     "output_type": "display_data"
    },
    {
     "name": "stdout",
     "output_type": "stream",
     "text": [
      "\n"
     ]
    }
   ],
   "source": [
    "for c in tqdm(['DATE-REPORTED', 'DISBURSED-DT', 'CLOSE-DT']):\n",
    "    df_bureau[c + '_days_since_start'] = (df_bureau[c] - df_bureau[c].min()).dt.days\n",
    "    df_bureau[c + '_days_from_end'] = (df_bureau[c].max() - df_bureau[c]).dt.days\n",
    "    \n",
    "    df_bureau[c + '_ACCT_TYPE_min'] = df_bureau.groupby('ACCT-TYPE')[c + '_days_since_start'].transform('min')\n",
    "    df_bureau[c + '_ACCT_TYPE_max'] = df_bureau.groupby('ACCT-TYPE')[c + '_days_since_start'].transform('max')\n",
    "    \n",
    "    df_bureau[c + '_max'] = df_bureau.groupby('ID')[c].transform('max')\n",
    "    df_bureau[c + '_min'] = df_bureau.groupby('ID')[c].transform('min')\n",
    "    df_bureau[c + '_2nd_max'] = df_bureau.groupby('ID')[c].transform('nth', -2)\n",
    "    df_bureau[c + '_2nd_min'] = df_bureau.groupby('ID')[c].transform('nth', 1)\n",
    "    \n",
    "    df_bureau[c + '_range_in_days'] = (df_bureau[c + '_max'] - df_bureau[c + '_min']).dt.days\n",
    "    \n",
    "    df_bureau[c + '_next'] = df_bureau.groupby('ID')[c].shift(-1)\n",
    "    df_bureau[c + '_prev'] = df_bureau.groupby('ID')[c].shift(1)\n",
    "    \n",
    "    df_bureau[c + '_2nd_next'] = df_bureau.groupby('ID')[c].shift(-2)\n",
    "    df_bureau[c + '_2nd_prev'] = df_bureau.groupby('ID')[c].shift(2)\n",
    "    \n",
    "    df_bureau[c + '_diff_to_next'] = (df_bureau[c + '_next'] - df_bureau[c]).dt.days\n",
    "    df_bureau[c + '_diff_to_prev'] = (df_bureau[c] - df_bureau[c + '_prev']).dt.days\n",
    "    df_bureau[c + '_diff_prev_to_next'] = (df_bureau[c + '_next'] - df_bureau[c + '_prev']).dt.days\n",
    "    df_bureau[c + '_diff_to_2nd_next'] = (df_bureau[c + '_2nd_next'] - df_bureau[c]).dt.days\n",
    "    df_bureau[c + '_diff_to_2nd_prev'] = (df_bureau[c] - df_bureau[c + '_2nd_prev']).dt.days\n",
    "    \n",
    "    df_bureau[c + '_diff_to_max'] = (df_bureau[c + '_max'] - df_bureau[c]).dt.days\n",
    "    df_bureau[c + '_diff_to_min'] = (df_bureau[c] - df_bureau[c + '_min']).dt.days\n",
    "    df_bureau[c + '_diff_to_2nd_max'] = (df_bureau[c + '_2nd_max'] - df_bureau[c]).dt.days\n",
    "    df_bureau[c + '_diff_to_2nd_min'] = (df_bureau[c] - df_bureau[c + '_2nd_min']).dt.days\n",
    "    \n",
    "    df_bureau[c+ '_diff_to_next_acct_type'] = (df_bureau[c] - df_bureau.groupby(['ACCT-TYPE', 'ID'])[c].shift(-1)).dt.days\n",
    "    df_bureau[c+ '_diff_to_prev_acct_type'] = (df_bureau[c] - df_bureau.groupby(['ACCT-TYPE', 'ID'])[c].shift(1)).dt.days\n",
    "    \n",
    "    df_bureau[c+ '_diff_to_next_CONTRIBUTOR-TYPE'] = (df_bureau[c] - df_bureau.groupby(['CONTRIBUTOR-TYPE', 'ID'])[c].shift(-1)).dt.days\n",
    "    df_bureau[c+ '_diff_to_prev_CONTRIBUTOR-TYPE'] = (df_bureau[c] - df_bureau.groupby(['CONTRIBUTOR-TYPE', 'ID'])[c].shift(1)).dt.days\n",
    "    \n",
    "    df_bureau[f'max_{c}_ACCT-TYPE'] = df_bureau.groupby(['ACCT-TYPE', 'ID'])[c].transform('max')\n",
    "    df_bureau[f'min_{c}_ACCT-TYPE'] = df_bureau.groupby(['ACCT-TYPE', 'ID'])[c].transform('min')\n",
    "    df_bureau[f'range_{c}_ACCT_TYPE'] = (df_bureau[f'max_{c}_ACCT-TYPE'] - df_bureau[f'min_{c}_ACCT-TYPE']).dt.days\n",
    "    df_bureau[f'diff_to_max_{c}_ACCT-TYPE'] = (df_bureau[c] - df_bureau[f'max_{c}_ACCT-TYPE']).dt.days\n",
    "    df_bureau[f'diff_to_min_{c}_ACCT-TYPE'] = (df_bureau[c] - df_bureau[f'min_{c}_ACCT-TYPE']).dt.days\n",
    "    \n",
    "    fltr = df_bureau['app_dd'] == df_bureau['DISBURSED-DT']\n",
    "    for f in [c + '_diff_to_next', c + '_diff_to_prev', c + '_diff_prev_to_next', c + '_range_in_days',\n",
    "             c + '_diff_to_max', c + '_diff_to_min', c + '_diff_to_2nd_max', c + '_diff_to_2nd_min',\n",
    "             c + '_diff_to_2nd_next', c + '_diff_to_2nd_prev',c+ '_diff_to_next_acct_type', c+ '_diff_to_prev_acct_type'\n",
    "              , f'diff_to_max_{c}_ACCT-TYPE',f'diff_to_min_{c}_ACCT-TYPE', c+ '_diff_to_next_CONTRIBUTOR-TYPE',\n",
    "             c+ '_diff_to_prev_CONTRIBUTOR-TYPE', 'total_accounts_closed','avg_no_accounts_closed', 'ACCT-TYPE', 'CONTRIBUTOR-TYPE',\n",
    "             c + '_days_since_start', c + '_days_from_end', c + '_ACCT_TYPE_max', c + '_ACCT_TYPE_min']:\n",
    "        df[f] = df['ID'].map(df_bureau[fltr].set_index('ID')[f])\n",
    "\n",
    "df['ID_freq'] = df['ID'].map(df_bureau['ID'].value_counts())\n",
    "\n",
    "for c in tqdm(['DATE-REPORTED', 'CLOSE-DT']):\n",
    "    df_bureau[f'{c} - DISBURSED-DT'] = (df_bureau[c] - df_bureau['DISBURSED-DT']).dt.days\n",
    "    df_bureau[f'{c} - DISBURSED-DT_max'] = (df_bureau[c] - df_bureau['DISBURSED-DT_max']).dt.days\n",
    "    df_bureau[f'{c} - DISBURSED-DT_min'] = (df_bureau[c] - df_bureau['DISBURSED-DT_min']).dt.days\n",
    "    \n"
   ]
  },
  {
   "cell_type": "code",
   "execution_count": 23,
   "metadata": {},
   "outputs": [],
   "source": [
    "df_bureau[f'DATE-REPORTED - CLOSE-DT'] = (df_bureau['DATE-REPORTED'] - df_bureau['DISBURSED-DT']).dt.days\n",
    "for f in [f'DATE-REPORTED - CLOSE-DT']:\n",
    "    df[f] = df['ID'].map(df_bureau[fltr].set_index('ID')[f])"
   ]
  },
  {
   "cell_type": "code",
   "execution_count": 24,
   "metadata": {},
   "outputs": [],
   "source": [
    "\n",
    "    \n",
    "df_bureau['DISBURSED-AMT/HIGH CREDIT'] = df_bureau['DISBURSED-AMT/HIGH CREDIT'].apply(lambda x: clean(x))"
   ]
  },
  {
   "cell_type": "code",
   "execution_count": 25,
   "metadata": {},
   "outputs": [
    {
     "data": {
      "application/vnd.jupyter.widget-view+json": {
       "model_id": "94e34153e8e2470bb917902825afb967",
       "version_major": 2,
       "version_minor": 0
      },
      "text/plain": [
       "HBox(children=(HTML(value=''), FloatProgress(value=0.0, max=14.0), HTML(value='')))"
      ]
     },
     "metadata": {},
     "output_type": "display_data"
    },
    {
     "name": "stdout",
     "output_type": "stream",
     "text": [
      "\n"
     ]
    }
   ],
   "source": [
    "fltr = df_bureau['app_dd'] == df_bureau['DISBURSED-DT']\n",
    "df_bureau['disbursed_amt_diff'] = df_bureau.groupby('ID')['DISBURSED-AMT/HIGH CREDIT'].shift(0) - df_bureau.groupby('ID')['DISBURSED-AMT/HIGH CREDIT'].shift(-1)\n",
    "for i in tqdm(range(-7, 7)):\n",
    "    if i == 0:\n",
    "        continue\n",
    "    df_bureau[f'disbursed_amt_next_{i}'] = df_bureau.groupby('ID')['DISBURSED-AMT/HIGH CREDIT'].shift(i)\n",
    "    df_bureau[f'disbursed_amt_prev_{i}'] = df_bureau.groupby('ID')['DISBURSED-AMT/HIGH CREDIT'].shift(-i)\n",
    "    df_bureau[f'disbursed_amt_next_ACCT-TYPE_{i}'] = df_bureau.groupby(['ID', 'ACCT-TYPE'])['DISBURSED-AMT/HIGH CREDIT'].shift(i)\n",
    "    df_bureau[f'disbursed_amt_prev_ACCT-TYPE_{i}'] = df_bureau.groupby(['ID', 'ACCT-TYPE'])['DISBURSED-AMT/HIGH CREDIT'].shift(-i)\n",
    "    \n",
    "    \n",
    "    df_bureau[f'disbursed_amt_diff_to_next_{i}'] = df_bureau['DISBURSED-AMT/HIGH CREDIT'] - df_bureau[f'disbursed_amt_next_{i}']\n",
    "    df_bureau[f'disbursed_amt_diff_to_prev_{i}'] = df_bureau['DISBURSED-AMT/HIGH CREDIT'] - df_bureau[f'disbursed_amt_prev_{i}']\n",
    "    for f in [f'disbursed_amt_next_{i}', f'disbursed_amt_prev_{i}', f'disbursed_amt_diff_to_next_{i}',\n",
    "              f'disbursed_amt_diff_to_prev_{i}', 'disbursed_amt_diff', f'disbursed_amt_next_ACCT-TYPE_{i}',\n",
    "              f'disbursed_amt_prev_ACCT-TYPE_{i}']:\n",
    "        \n",
    "        df[f] = df['ID'].map(df_bureau[fltr].set_index('ID')[f])"
   ]
  },
  {
   "cell_type": "code",
   "execution_count": 26,
   "metadata": {},
   "outputs": [],
   "source": [
    "fltr = df_bureau['app_dd'] == df_bureau['DISBURSED-DT']\n",
    "df['ACCT-TYPE'] = df['ID'].map(df_bureau[fltr].set_index('ID')['ACCT-TYPE'])\n",
    "df['ACCT-TYPE'] = pd.factorize(df['ACCT-TYPE'])[0]\n",
    "df['TENURE'] = df['ID'].map(df_bureau[fltr].set_index('ID')['TENURE'])"
   ]
  },
  {
   "cell_type": "code",
   "execution_count": 27,
   "metadata": {},
   "outputs": [],
   "source": [
    "fltr = (df_bureau['DISBURSED-DT'] == df_bureau['app_dd'])\n",
    "df_bureau['app_close_dt'] = df_bureau['ID'].map(df_bureau[fltr].set_index('ID')['CLOSE-DT'])\n",
    "\n",
    "fltr = df_bureau['DISBURSED-DT'] > df_bureau['app_dd']\n",
    "df_bureau['tmp'] = (df_bureau['DISBURSED-DT'] < df_bureau['app_close_dt'])\n",
    "df['n_loans_before_app_close_dt'] = df['ID'].map(df_bureau[fltr].groupby('ID')['tmp'].sum())\n",
    "\n",
    "fltr = (df_bureau['DISBURSED-DT'] > df_bureau['app_dd']) & (df_bureau['DISBURSED-DT'] < df_bureau['app_close_dt'])\n",
    "df['n_loans_after_curr_loan_before_app_close_dt'] = df['ID'].map(df_bureau[fltr].groupby('ID')['DISBURSED-AMT/HIGH CREDIT'].sum()).fillna(-1)"
   ]
  },
  {
   "cell_type": "code",
   "execution_count": 28,
   "metadata": {},
   "outputs": [],
   "source": [
    "for c in ['CURRENT-BAL', 'INSTALLMENT-AMT', 'CREDIT-LIMIT/SANC AMT', 'ACCT-TYPE', 'DISBURSED-AMT/HIGH CREDIT', 'SELF-INDICATOR',\n",
    "         'MATCH-TYPE', 'ba']:\n",
    "    df[c + '_first'] = df['ID'].map(df_bureau.groupby('ID')[c].first())\n",
    "    df[c + '_last'] = df['ID'].map(df_bureau.groupby('ID')[c].last())\n",
    "    df[c + '_second_first'] = df['ID'].map(df_bureau.groupby('ID')[c].nth(1))\n",
    "    df[c + '_second_last'] = df['ID'].map(df_bureau.groupby('ID')[c].nth(-2))\n",
    "    df[c + '_third_first'] = df['ID'].map(df_bureau.groupby('ID')[c].nth(2))\n",
    "    df[c + '_third_last'] = df['ID'].map(df_bureau.groupby('ID')[c].nth(-3))\n",
    "    df[c + '_fourth_first'] = df['ID'].map(df_bureau.groupby('ID')[c].nth(3))\n",
    "    df[c + '_fourth_last'] = df['ID'].map(df_bureau.groupby('ID')[c].nth(-4))\n",
    "    df[c + '_fifth_first'] = df['ID'].map(df_bureau.groupby('ID')[c].nth(4))\n",
    "    df[c + '_fifth_last'] = df['ID'].map(df_bureau.groupby('ID')[c].nth(-5))"
   ]
  },
  {
   "cell_type": "code",
   "execution_count": 29,
   "metadata": {},
   "outputs": [],
   "source": [
    "\n",
    "df_bureau['tmp'] = df_bureau['DISBURSED-DT'] > df_bureau['app_dd']\n",
    "df['n_loans_after_curr_loan'] = df['ID'].map(df_bureau.groupby('ID')['tmp'].sum())\n",
    "\n",
    "df_bureau['tmp2'] = df_bureau['DISBURSED-AMT/HIGH CREDIT'] * df_bureau['tmp']\n",
    "df['total_sum_disbursed_after_loan_applied'] =  df['ID'].map(df_bureau.groupby('ID')['tmp2'].sum())\n",
    "\n",
    "df_bureau['tmp2'] = df_bureau['DISBURSED-AMT/HIGH CREDIT'] * (1 - df_bureau['tmp'])\n",
    "df['total_sum_disbursed_before_loan_applied'] =  df['ID'].map(df_bureau.groupby('ID')['tmp2'].sum())\n",
    "\n",
    "del df_bureau['tmp'], df_bureau['tmp2']\n",
    "gc.collect()\n",
    "\n",
    "df['mean_sum_disbursed_after_loan_applied'] = df['total_sum_disbursed_after_loan_applied']/df['n_loans_after_curr_loan']"
   ]
  },
  {
   "cell_type": "code",
   "execution_count": 30,
   "metadata": {},
   "outputs": [],
   "source": [
    "fltr = df_bureau['app_dd'] == df_bureau['DISBURSED-DT']\n",
    "df_bureau['total_loan_days'] = (df_bureau['CLOSE-DT'] - df_bureau['DISBURSED-DT']).dt.days\n",
    "df['total_loan_days'] = df['ID'].map(df_bureau[fltr].set_index('ID')['total_loan_days'])\n",
    "df['total_loan_days_max'] = df['ID'].map(df_bureau.groupby('ID')['total_loan_days'].max())\n",
    "df['total_loan_days_min'] = df['ID'].map(df_bureau.groupby('ID')['total_loan_days'].min())\n",
    "df['total_loan_days_first'] = df['ID'].map(df_bureau.groupby('ID')['total_loan_days'].first())\n",
    "df['total_loan_days_last'] = df['ID'].map(df_bureau.groupby('ID')['total_loan_days'].last())\n",
    "df['total_loan_days_range'] = df['total_loan_days_max'] - df['total_loan_days_min']"
   ]
  },
  {
   "cell_type": "code",
   "execution_count": 31,
   "metadata": {},
   "outputs": [
    {
     "data": {
      "text/plain": [
       "0        2016-01-15\n",
       "1        2016-02-15\n",
       "2        2023-02-10\n",
       "3        2017-11-10\n",
       "4        2015-07-05\n",
       "            ...    \n",
       "143395   2015-02-10\n",
       "143396   2015-04-05\n",
       "143397   2015-04-05\n",
       "143398   2014-08-10\n",
       "143399   2014-08-10\n",
       "Name: MaturityDAte, Length: 143400, dtype: datetime64[ns]"
      ]
     },
     "execution_count": 31,
     "metadata": {},
     "output_type": "execute_result"
    }
   ],
   "source": [
    "df['MaturityDAte']"
   ]
  },
  {
   "cell_type": "code",
   "execution_count": 32,
   "metadata": {},
   "outputs": [
    {
     "name": "stdout",
     "output_type": "stream",
     "text": [
      "DisbursalDate\n",
      "MaturityDAte\n",
      "AuthDate\n"
     ]
    }
   ],
   "source": [
    "for c in ['DisbursalDate', 'MaturityDAte', 'AuthDate']:\n",
    "    print(c)\n",
    "    df[c + '_days_since_start'] = (df[c] - df[c].min()).dt.days\n",
    "    df[c + '_days_from_end'] = (df[c].max() - df[c]).dt.days\n",
    "\n",
    "df['DisbursalDate - MaturityDAte'] = (df['DisbursalDate'] - df['MaturityDAte']).dt.days"
   ]
  },
  {
   "cell_type": "code",
   "execution_count": 33,
   "metadata": {},
   "outputs": [
    {
     "data": {
      "text/plain": [
       "Index(['ID', 'Frequency', 'InstlmentMode', 'LoanStatus', 'PaymentMode',\n",
       "       'BranchID', 'Area', 'Tenure', 'AssetCost', 'AmountFinance',\n",
       "       'DisbursalAmount', 'EMI', 'DisbursalDate', 'MaturityDAte', 'AuthDate',\n",
       "       'ManufacturerID', 'SupplierID', 'LTV', 'SEX', 'AGE', 'MonthlyIncome',\n",
       "       'City', 'State', 'ZiPCODE', 'Top-up Month'],\n",
       "      dtype='object')"
      ]
     },
     "execution_count": 33,
     "metadata": {},
     "output_type": "execute_result"
    }
   ],
   "source": [
    "df.columns[:25]"
   ]
  },
  {
   "cell_type": "code",
   "execution_count": 34,
   "metadata": {},
   "outputs": [],
   "source": [
    "for c in ['BranchID', 'Area', 'ManufacturerID', 'SupplierID', 'City', 'State', 'ZiPCODE']:\n",
    "    df[c + 'dd_min'] = df.groupby(c)['DisbursalDate_days_since_start'].transform('max')\n",
    "    df[c + '_dd_max'] = df.groupby(c)['DisbursalDate_days_since_start'].transform('min')"
   ]
  },
  {
   "cell_type": "code",
   "execution_count": 35,
   "metadata": {},
   "outputs": [
    {
     "name": "stdout",
     "output_type": "stream",
     "text": [
      "['Frequency', 'InstlmentMode', 'LoanStatus', 'PaymentMode', 'Area', 'SEX', 'City', 'State', 'CONTRIBUTOR-TYPE', 'ACCT-TYPE_first', 'ACCT-TYPE_last', 'ACCT-TYPE_second_first', 'ACCT-TYPE_second_last', 'ACCT-TYPE_third_first', 'ACCT-TYPE_third_last', 'ACCT-TYPE_fourth_first', 'ACCT-TYPE_fourth_last', 'ACCT-TYPE_fifth_first', 'ACCT-TYPE_fifth_last', 'SELF-INDICATOR_second_first', 'SELF-INDICATOR_second_last', 'SELF-INDICATOR_third_first', 'SELF-INDICATOR_third_last', 'SELF-INDICATOR_fourth_first', 'SELF-INDICATOR_fourth_last', 'SELF-INDICATOR_fifth_first', 'SELF-INDICATOR_fifth_last', 'MATCH-TYPE_first', 'MATCH-TYPE_last', 'MATCH-TYPE_second_first', 'MATCH-TYPE_second_last', 'MATCH-TYPE_third_first', 'MATCH-TYPE_third_last', 'MATCH-TYPE_fourth_first', 'MATCH-TYPE_fourth_last', 'MATCH-TYPE_fifth_first', 'MATCH-TYPE_fifth_last']\n"
     ]
    }
   ],
   "source": [
    "cat_cols = df.head().select_dtypes('object').columns.tolist()\n",
    "cat_cols = [c for c in cat_cols if c not in ['DisbursalDate', 'MaturityDAte', 'AuthDate']]\n",
    "print(cat_cols)\n",
    "for c in cat_cols:\n",
    "    df[c] = pd.factorize(df[c])[0]\n",
    "\n"
   ]
  },
  {
   "cell_type": "code",
   "execution_count": 36,
   "metadata": {},
   "outputs": [],
   "source": [
    "tmp = df_bureau[['ID', 'ACCT-TYPE']]\n",
    "tmp = pd.get_dummies(tmp, columns = ['ACCT-TYPE'])\n",
    "tmp = tmp.groupby('ID').sum().reset_index()\n",
    "tmp.columns = ['ID'] + [c + '_total_for_user' for c in tmp.columns[1:]]\n",
    "df = pd.merge(df, tmp, on = 'ID', how = 'left')"
   ]
  },
  {
   "cell_type": "code",
   "execution_count": 37,
   "metadata": {},
   "outputs": [],
   "source": [
    "tmp = df_bureau[df_bureau['DISBURSED-DT'] > df_bureau['app_dd']][['ID', 'ACCT-TYPE']]\n",
    "tmp = pd.get_dummies(tmp, columns = ['ACCT-TYPE'])\n",
    "tmp = tmp.groupby('ID').sum().reset_index()\n",
    "tmp.columns = ['ID'] + [c + '_total_for_user_2' for c in tmp.columns[1:]]\n",
    "df = pd.merge(df, tmp, on = 'ID', how = 'left')"
   ]
  },
  {
   "cell_type": "code",
   "execution_count": 38,
   "metadata": {},
   "outputs": [
    {
     "data": {
      "application/vnd.jupyter.widget-view+json": {
       "model_id": "1d506a83f359490c8de707daa9ab2b70",
       "version_major": 2,
       "version_minor": 0
      },
      "text/plain": [
       "HBox(children=(HTML(value=''), FloatProgress(value=0.0, max=12.0), HTML(value='')))"
      ]
     },
     "metadata": {},
     "output_type": "display_data"
    },
    {
     "name": "stdout",
     "output_type": "stream",
     "text": [
      "\n"
     ]
    }
   ],
   "source": [
    "tmp = df_bureau[df_bureau['DISBURSED-DT'] > df_bureau['app_dd']]\n",
    "for c in tqdm(tmp['CONTRIBUTOR-TYPE'].unique()):\n",
    "    df[f'CONTRIBUTOR-TYPE_{c}_max_amount_after_loan'] = np.nan"
   ]
  },
  {
   "cell_type": "code",
   "execution_count": 39,
   "metadata": {},
   "outputs": [
    {
     "data": {
      "application/vnd.jupyter.widget-view+json": {
       "model_id": "c929ca67eb76444bb260875fe162a36e",
       "version_major": 2,
       "version_minor": 0
      },
      "text/plain": [
       "HBox(children=(HTML(value=''), FloatProgress(value=0.0, max=50.0), HTML(value='')))"
      ]
     },
     "metadata": {},
     "output_type": "display_data"
    },
    {
     "name": "stdout",
     "output_type": "stream",
     "text": [
      "\n"
     ]
    }
   ],
   "source": [
    "tmp = df_bureau[df_bureau['DISBURSED-DT'] > df_bureau['app_dd']][['ID', 'ACCT-TYPE']]\n",
    "for c in tqdm(tmp['ACCT-TYPE'].unique()):\n",
    "    df[f'kharacha_{c}'] = df['ID'].map(df_bureau[df_bureau['ACCT-TYPE'] == c].groupby('ID')['DISBURSED-AMT/HIGH CREDIT'].sum())\n",
    "    df[f'kharacha_{c}_max'] = np.nan"
   ]
  },
  {
   "cell_type": "code",
   "execution_count": 40,
   "metadata": {},
   "outputs": [
    {
     "data": {
      "application/vnd.jupyter.widget-view+json": {
       "model_id": "e1410ec8c22f4411a5468d64bb50bdd9",
       "version_major": 2,
       "version_minor": 0
      },
      "text/plain": [
       "HBox(children=(HTML(value=''), FloatProgress(value=0.0, max=50.0), HTML(value='')))"
      ]
     },
     "metadata": {},
     "output_type": "display_data"
    },
    {
     "name": "stdout",
     "output_type": "stream",
     "text": [
      "\n"
     ]
    }
   ],
   "source": [
    "tmp = df_bureau[df_bureau['DISBURSED-DT'] > df_bureau['app_dd']]\n",
    "for c in tqdm(tmp['ACCT-TYPE'].unique()):\n",
    "    df[f'kharacha_2_{c}'] = df['ID'].map(tmp[tmp['ACCT-TYPE'] == c].groupby('ID')['DISBURSED-AMT/HIGH CREDIT'].sum())\n",
    "    df[f'kharacha_2_{c}_max'] = df['ID'].map(tmp[tmp['ACCT-TYPE'] == c].groupby('ID')['DISBURSED-AMT/HIGH CREDIT'].max())\n",
    "    df[f'kharacha_2_{c}_min'] = df['ID'].map(tmp[tmp['ACCT-TYPE'] == c].groupby('ID')['DISBURSED-AMT/HIGH CREDIT'].mean())\n",
    "    df[f'kharacha_2_{c}_days_min'] = np.nan\n",
    "#     df_bureau[]\n",
    "#     df[f'kharacha_2_{c}_min'] = df['ID'].map(tmp[tmp['ACCT-TYPE'] == c].groupby('ID')['DISBURSED-AMT/HIGH CREDIT'].sum())\n",
    "    df[f'kharcha_1_2_{c}_diff'] = df[f'kharacha_{c}'] - df[f'kharacha_2_{c}']"
   ]
  },
  {
   "cell_type": "code",
   "execution_count": 41,
   "metadata": {},
   "outputs": [
    {
     "data": {
      "application/vnd.jupyter.widget-view+json": {
       "model_id": "beb1d56b9708418e969d161a9340133d",
       "version_major": 2,
       "version_minor": 0
      },
      "text/plain": [
       "HBox(children=(HTML(value=''), FloatProgress(value=0.0, max=45.0), HTML(value='')))"
      ]
     },
     "metadata": {},
     "output_type": "display_data"
    },
    {
     "name": "stdout",
     "output_type": "stream",
     "text": [
      "\n"
     ]
    }
   ],
   "source": [
    "tmp = df_bureau[df_bureau['DISBURSED-DT'] <= df_bureau['app_dd']]\n",
    "for c in tqdm(tmp['ACCT-TYPE'].unique()):\n",
    "    df[f'kharacha_3_{c}'] = df['ID'].map(tmp[tmp['ACCT-TYPE'] == c].groupby('ID')['DISBURSED-AMT/HIGH CREDIT'].max())"
   ]
  },
  {
   "cell_type": "code",
   "execution_count": 42,
   "metadata": {},
   "outputs": [],
   "source": [
    "df['days_diff_to_first_Disbursal_Date'] = (df['DisbursalDate'] - df['ID'].map(df_bureau.groupby('ID')['DISBURSED-DT'].min())).dt.days\n",
    "df['days_diff_to_last_Disbursal_Date'] = (df['DisbursalDate'] - df['ID'].map(df_bureau.groupby('ID')['DISBURSED-DT'].max())).dt.days"
   ]
  },
  {
   "cell_type": "code",
   "execution_count": 43,
   "metadata": {},
   "outputs": [
    {
     "name": "stderr",
     "output_type": "stream",
     "text": [
      "/home/sahil/anaconda3/lib/python3.7/site-packages/ipykernel_launcher.py:7: SettingWithCopyWarning: \n",
      "A value is trying to be set on a copy of a slice from a DataFrame.\n",
      "Try using .loc[row_indexer,col_indexer] = value instead\n",
      "\n",
      "See the caveats in the documentation: https://pandas.pydata.org/pandas-docs/stable/user_guide/indexing.html#returning-a-view-versus-a-copy\n",
      "  import sys\n"
     ]
    },
    {
     "data": {
      "text/plain": [
       "0               NaN\n",
       "1          130000.0\n",
       "2           -4176.0\n",
       "3           21630.0\n",
       "4               NaN\n",
       "            ...    \n",
       "143395          NaN\n",
       "143396     271176.0\n",
       "143397   -1020000.0\n",
       "143398   -1020000.0\n",
       "143399    -641837.0\n",
       "Name: cola, Length: 143400, dtype: float64"
      ]
     },
     "execution_count": 43,
     "metadata": {},
     "output_type": "execute_result"
    }
   ],
   "source": [
    "fltr = df_bureau['DISBURSED-DT'] > df_bureau['app_dd']\n",
    "df['CLOSING-DT-diff_to_next_loan'] = df['ID'].map((df_bureau[fltr].groupby('ID')['CLOSE-DT'].first() - df_bureau[fltr].groupby('ID')['CLOSE-DT'].nth(1)).dt.days)\n",
    "df['CLOSING-DT-diff_to_next_loan']\n",
    "\n",
    "fltr = df_bureau['DISBURSED-DT'] >= df_bureau['app_dd']\n",
    "tmp = df_bureau[fltr]\n",
    "tmp['cola'] = tmp.groupby(['ID', 'ACCT-TYPE'])['DISBURSED-AMT/HIGH CREDIT'].transform('first') - df_bureau[fltr].groupby(['ID', 'ACCT-TYPE'])['DISBURSED-AMT/HIGH CREDIT'].transform('nth', 1)\n",
    "df['cola'] = tmp.groupby('ID')['cola'].first()\n",
    "df['cola']"
   ]
  },
  {
   "cell_type": "code",
   "execution_count": 44,
   "metadata": {},
   "outputs": [
    {
     "name": "stderr",
     "output_type": "stream",
     "text": [
      "/home/sahil/anaconda3/lib/python3.7/site-packages/ipykernel_launcher.py:3: SettingWithCopyWarning: \n",
      "A value is trying to be set on a copy of a slice from a DataFrame.\n",
      "Try using .loc[row_indexer,col_indexer] = value instead\n",
      "\n",
      "See the caveats in the documentation: https://pandas.pydata.org/pandas-docs/stable/user_guide/indexing.html#returning-a-view-versus-a-copy\n",
      "  This is separate from the ipykernel package so we can avoid doing imports until\n",
      "/home/sahil/anaconda3/lib/python3.7/site-packages/ipykernel_launcher.py:7: SettingWithCopyWarning: \n",
      "A value is trying to be set on a copy of a slice from a DataFrame.\n",
      "Try using .loc[row_indexer,col_indexer] = value instead\n",
      "\n",
      "See the caveats in the documentation: https://pandas.pydata.org/pandas-docs/stable/user_guide/indexing.html#returning-a-view-versus-a-copy\n",
      "  import sys\n",
      "/home/sahil/anaconda3/lib/python3.7/site-packages/ipykernel_launcher.py:10: SettingWithCopyWarning: \n",
      "A value is trying to be set on a copy of a slice from a DataFrame.\n",
      "Try using .loc[row_indexer,col_indexer] = value instead\n",
      "\n",
      "See the caveats in the documentation: https://pandas.pydata.org/pandas-docs/stable/user_guide/indexing.html#returning-a-view-versus-a-copy\n",
      "  # Remove the CWD from sys.path while we load stuff.\n"
     ]
    }
   ],
   "source": [
    "fltr = df_bureau['DISBURSED-DT'] >= df_bureau['app_dd']\n",
    "tmp = df_bureau[fltr]\n",
    "tmp['cola'] = tmp.groupby(['ID', 'ACCT-TYPE'])['DISBURSED-AMT/HIGH CREDIT'].transform('first') - df_bureau[fltr].groupby(['ID', 'ACCT-TYPE'])['DISBURSED-AMT/HIGH CREDIT'].transform('nth', 2)\n",
    "df['cola2'] = tmp.groupby('ID')['cola'].first()\n",
    "\n",
    "\n",
    "tmp['cola'] = tmp.groupby(['ID', 'ACCT-TYPE'])['DISBURSED-AMT/HIGH CREDIT'].transform('first') - df_bureau[fltr].groupby(['ID', 'ACCT-TYPE'])['DISBURSED-AMT/HIGH CREDIT'].transform('nth', 3)\n",
    "df['cola3'] = tmp.groupby('ID')['cola'].first()\n",
    "\n",
    "tmp['cola'] = tmp.groupby(['ID', 'ACCT-TYPE'])['DISBURSED-AMT/HIGH CREDIT'].transform('first') - df_bureau[~fltr].groupby(['ID', 'ACCT-TYPE'])['DISBURSED-AMT/HIGH CREDIT'].transform('nth', -1)\n",
    "df['cola4'] = tmp.groupby('ID')['cola'].first()"
   ]
  },
  {
   "cell_type": "code",
   "execution_count": 45,
   "metadata": {},
   "outputs": [],
   "source": [
    "df_bureau['loan_closed'] = (df_bureau['LAST-PAYMENT-DATE'].isnull()) * 1\n",
    "fltr = df_bureau['DISBURSED-DT'] <= df_bureau['app_dd']\n",
    "df['loans_closed_before_disbursal_mean'] = df['ID'].map(df_bureau[fltr].groupby('ID')['loan_closed'].mean())\n",
    "\n",
    "fltr = df_bureau['DISBURSED-DT'] > df_bureau['app_dd']\n",
    "df['loans_closed_after_disbursal_mean'] = df['ID'].map(df_bureau[fltr].groupby('ID')['loan_closed'].mean())"
   ]
  },
  {
   "cell_type": "code",
   "execution_count": 46,
   "metadata": {},
   "outputs": [
    {
     "data": {
      "text/plain": [
       "0          60.000000\n",
       "1          86.166667\n",
       "2          66.000000\n",
       "3          16.500000\n",
       "4          46.400000\n",
       "             ...    \n",
       "143395    132.333333\n",
       "143396           NaN\n",
       "143397           NaN\n",
       "143398           NaN\n",
       "143399           NaN\n",
       "Name: mean_TENURE, Length: 143400, dtype: float64"
      ]
     },
     "execution_count": 46,
     "metadata": {},
     "output_type": "execute_result"
    }
   ],
   "source": [
    "df['TENURE'] = df['TENURE'].fillna(-1)\n",
    "df['mean_TENURE'] = df['ID'].map(df_bureau.groupby('ID')['TENURE'].mean())\n",
    "df['max_TENURE'] = df['ID'].map(df_bureau.groupby('ID')['TENURE'].max())\n",
    "df['min_TENURE'] = df['ID'].map(df_bureau.groupby('ID')['TENURE'].min())\n",
    "df['mean_TENURE']"
   ]
  },
  {
   "cell_type": "code",
   "execution_count": 47,
   "metadata": {},
   "outputs": [],
   "source": [
    "df['DisbursalDate_freq'] = df['DisbursalDate'].map(df['DisbursalDate'].value_counts())"
   ]
  },
  {
   "cell_type": "code",
   "execution_count": 48,
   "metadata": {},
   "outputs": [],
   "source": [
    "df['mean_self_indicator'] = df['ID'].map(df_bureau.groupby('ID')['SELF-INDICATOR'].mean())\n",
    "df['sum_self_indicator'] = df['ID'].map(df_bureau.groupby('ID')['SELF-INDICATOR'].sum())\n",
    "fltr = df_bureau['DISBURSED-DT'] > df_bureau['app_dd']\n",
    "tmp = df_bureau[fltr]\n",
    "df['mean_self_indicator_after_loan'] = df['ID'].map(tmp.groupby('ID')['SELF-INDICATOR'].mean())\n",
    "df['sum_self_indicator_after_loan'] = df['ID'].map(tmp.groupby('ID')['SELF-INDICATOR'].sum())"
   ]
  },
  {
   "cell_type": "code",
   "execution_count": 49,
   "metadata": {},
   "outputs": [
    {
     "data": {
      "text/plain": [
       "array(['Individual', 'Guarantor', 'Joint', 'Primary', 'Supl Card Holder'],\n",
       "      dtype=object)"
      ]
     },
     "execution_count": 49,
     "metadata": {},
     "output_type": "execute_result"
    }
   ],
   "source": [
    "df_bureau['OWNERSHIP-IND'].unique()"
   ]
  },
  {
   "cell_type": "code",
   "execution_count": 50,
   "metadata": {},
   "outputs": [],
   "source": [
    "\n",
    "for c in df_bureau['OWNERSHIP-IND'].unique():\n",
    "    df_bureau['tmp'] = (df_bureau['OWNERSHIP-IND'] == c)*1\n",
    "    df[f'mean_{c}_all'] = df['ID'].map(df_bureau.groupby('ID')['tmp'].mean())\n",
    "    df[f'sum_{c}_all'] = df['ID'].map(df_bureau.groupby('ID')['tmp'].sum())"
   ]
  },
  {
   "cell_type": "code",
   "execution_count": 51,
   "metadata": {},
   "outputs": [],
   "source": [
    "\n",
    "for c in df_bureau['OWNERSHIP-IND'].unique():\n",
    "    df_bureau['tmp'] = (df_bureau['OWNERSHIP-IND'] == c)*1\n",
    "    df[f'mean_{c}_all'] = df['ID'].map(df_bureau.groupby('ID')['tmp'].mean())\n",
    "    df[f'sum_{c}_all'] = df['ID'].map(df_bureau.groupby('ID')['tmp'].sum())"
   ]
  },
  {
   "cell_type": "code",
   "execution_count": 52,
   "metadata": {},
   "outputs": [],
   "source": [
    "for c in df_bureau['ACCOUNT-STATUS'].unique():\n",
    "    df_bureau['tmp'] = (df_bureau['ACCOUNT-STATUS'] == c)*1\n",
    "    df[f'mean_{c}_all'] = df['ID'].map(df_bureau.groupby('ID')['tmp'].mean())\n",
    "    df[f'sum_{c}_all'] = df['ID'].map(df_bureau.groupby('ID')['tmp'].sum())"
   ]
  },
  {
   "cell_type": "code",
   "execution_count": 53,
   "metadata": {},
   "outputs": [
    {
     "data": {
      "application/vnd.jupyter.widget-view+json": {
       "model_id": "de8cf1c1ef034e00810a83ca5243f677",
       "version_major": 2,
       "version_minor": 0
      },
      "text/plain": [
       "HBox(children=(HTML(value=''), FloatProgress(value=0.0, max=51.0), HTML(value='')))"
      ]
     },
     "metadata": {},
     "output_type": "display_data"
    },
    {
     "name": "stdout",
     "output_type": "stream",
     "text": [
      "\n"
     ]
    }
   ],
   "source": [
    "for a in tqdm(df_bureau['ACCT-TYPE'].unique()):\n",
    "    for c in df_bureau['CONTRIBUTOR-TYPE'].unique():\n",
    "        fltr = (df_bureau['ACCT-TYPE'] == a) & (df_bureau['CONTRIBUTOR-TYPE'] == c)\n",
    "        if (fltr.sum()/fltr.shape[0]) > 0.2:\n",
    "            df[f'sum_DISBURSED-AMT/HIGH CREDIT_{a}_{c}_all_accounts'] = df['ID'].map(df_bureau[fltr].groupby('ID')['DISBURSED-AMT/HIGH CREDIT'].sum())"
   ]
  },
  {
   "cell_type": "code",
   "execution_count": 54,
   "metadata": {},
   "outputs": [],
   "source": [
    "fltr = df_bureau['DISBURSED-DT'] > df_bureau['app_dd']\n",
    "tmp = df_bureau[fltr]\n",
    "for c in df_bureau['SELF-INDICATOR'].unique():\n",
    "    df_bureau['tmp'] = (df_bureau['SELF-INDICATOR'] == c)*1\n",
    "    df[f'mean_{c}_all'] = df['ID'].map(tmp.groupby('ID')['tmp'].mean())\n",
    "    df[f'sum_{c}_all'] = df['ID'].map(tmp.groupby('ID')['tmp'].sum())"
   ]
  },
  {
   "cell_type": "code",
   "execution_count": 55,
   "metadata": {},
   "outputs": [],
   "source": [
    "fltr_a = df_bureau['DISBURSED-DT'] > df_bureau['app_dd']\n",
    "tmp = df_bureau[fltr]\n",
    "for c in df_bureau['SELF-INDICATOR'].unique():\n",
    "    fltr_b = (df_bureau['SELF-INDICATOR'] == c)\n",
    "    fltr_net = fltr_a & fltr_b\n",
    "    df[f'mean_{c}_high_DISBURSED-AMT/HIGH CREDIT'] = df['ID'].map(df_bureau[fltr_net].groupby('ID')['DISBURSED-AMT/HIGH CREDIT'].mean())\n",
    "    df[f'sum_{c}_DISBURSED-AMT/HIGH CREDIT'] = df['ID'].map(df_bureau[fltr_net].groupby('ID')['DISBURSED-AMT/HIGH CREDIT'].sum())"
   ]
  },
  {
   "cell_type": "code",
   "execution_count": 56,
   "metadata": {},
   "outputs": [],
   "source": [
    "df = df.fillna(-9999)"
   ]
  },
  {
   "cell_type": "code",
   "execution_count": 57,
   "metadata": {},
   "outputs": [
    {
     "data": {
      "application/vnd.jupyter.widget-view+json": {
       "model_id": "892a328c09974501b6719dc90054993b",
       "version_major": 2,
       "version_minor": 0
      },
      "text/plain": [
       "HBox(children=(HTML(value=''), FloatProgress(value=0.0, max=51.0), HTML(value='')))"
      ]
     },
     "metadata": {},
     "output_type": "display_data"
    },
    {
     "name": "stdout",
     "output_type": "stream",
     "text": [
      "\n"
     ]
    },
    {
     "data": {
      "text/plain": [
       "215"
      ]
     },
     "execution_count": 57,
     "metadata": {},
     "output_type": "execute_result"
    }
   ],
   "source": [
    "for a in tqdm(df_bureau['ACCT-TYPE'].unique()):\n",
    "    fltr = df_bureau['ACCT-TYPE'] == a\n",
    "    df[f'ACCT-TYPE_{a}_DISBURSED_DT_max'] = df['ID'].map(df_bureau[fltr].groupby('ID')['DISBURSED-DT_days_since_start'].max())\n",
    "    df[f'ACCT-TYPE_{a}_DISBURSED_DT_min'] = df['ID'].map(df_bureau[fltr].groupby('ID')['DISBURSED-DT_days_since_start'].min())\n",
    "    df[f'ACCT-TYPE_{a}_DISBURSED_DT_range'] = (df[f'ACCT-TYPE_{a}_DISBURSED_DT_max'] -\\\n",
    "                                               df[f'ACCT-TYPE_{a}_DISBURSED_DT_min'])\n",
    "    \n",
    "    df['tmp'] = df['ID'].map(df_bureau[fltr].groupby('ID')['DISBURSED-DT'].max())\n",
    "    df[f'ACCT-TYPE_{a}_DISBURSED_DT_max - DisbursalDate'] = (df['tmp'] - df['DisbursalDate']).dt.days\n",
    "    \n",
    "del df['tmp']\n",
    "gc.collect()"
   ]
  },
  {
   "cell_type": "code",
   "execution_count": 58,
   "metadata": {},
   "outputs": [
    {
     "data": {
      "application/vnd.jupyter.widget-view+json": {
       "model_id": "a608137e96c64131b05fe7c83a6ddcd6",
       "version_major": 2,
       "version_minor": 0
      },
      "text/plain": [
       "HBox(children=(HTML(value=''), FloatProgress(value=0.0, max=2.0), HTML(value='')))"
      ]
     },
     "metadata": {},
     "output_type": "display_data"
    },
    {
     "name": "stdout",
     "output_type": "stream",
     "text": [
      "\n"
     ]
    },
    {
     "data": {
      "text/plain": [
       "35"
      ]
     },
     "execution_count": 58,
     "metadata": {},
     "output_type": "execute_result"
    }
   ],
   "source": [
    "for a in tqdm(df_bureau['SELF-INDICATOR'].unique()):\n",
    "    fltr = df_bureau['SELF-INDICATOR'] == a\n",
    "    df[f'SELF-INDICATOR_{a}_DISBURSED_DT_max'] = df['ID'].map(df_bureau[fltr].groupby('ID')['DISBURSED-DT_days_since_start'].max())\n",
    "    df[f'SELF-INDICATOR_{a}_DISBURSED_DT_2nd_last'] = df['ID'].map(df_bureau[fltr].groupby('ID')['DISBURSED-DT_days_since_start'].nth(-2))\n",
    "    f = f'SELF-INDICATOR_{a}_DISBURSED_DT_max - SELF-INDICATOR_{a}_DISBURSED_DT_2nd_last'\n",
    "    df[f] = df[f'SELF-INDICATOR_{a}_DISBURSED_DT_max'] - df[f'SELF-INDICATOR_{a}_DISBURSED_DT_2nd_last']\n",
    "    del df[f'SELF-INDICATOR_{a}_DISBURSED_DT_2nd_last']\n",
    "    df[f'SELF-INDICATOR_{a}_DISBURSED_DT_min'] = df['ID'].map(df_bureau[fltr].groupby('ID')['DISBURSED-DT_days_since_start'].min())\n",
    "    df[f'SELF-INDICATOR_{a}_DISBURSED_DT_range'] = (df[f'SELF-INDICATOR_{a}_DISBURSED_DT_max'] -\\\n",
    "                                               df[f'SELF-INDICATOR_{a}_DISBURSED_DT_min'])\n",
    "    \n",
    "    df['tmp'] = df['ID'].map(df_bureau[fltr].groupby('ID')['DISBURSED-DT'].max())\n",
    "    df[f'SELF-INDICATOR_{a}_DISBURSED_DT_max - DisbursalDate'] = (df['tmp'] - df['DisbursalDate']).dt.days\n",
    "    \n",
    "del df['tmp']\n",
    "gc.collect()"
   ]
  },
  {
   "cell_type": "code",
   "execution_count": 59,
   "metadata": {},
   "outputs": [],
   "source": [
    "df = df.fillna(-1)"
   ]
  },
  {
   "cell_type": "code",
   "execution_count": 60,
   "metadata": {},
   "outputs": [],
   "source": [
    "train, test = df[:train.shape[0]].reset_index(drop = True), df[train.shape[0]:].reset_index(drop = True)\n",
    "train.shape, test.shape\n",
    "threshold = 0.8\n",
    "null_percent = (df.isnull().sum()/df.shape[0]).sort_values(ascending = False)\n",
    "drop_fts_2 = null_percent[null_percent > threshold].index.tolist()"
   ]
  },
  {
   "cell_type": "code",
   "execution_count": 61,
   "metadata": {},
   "outputs": [
    {
     "name": "stdout",
     "output_type": "stream",
     "text": [
      "1067\n"
     ]
    }
   ],
   "source": [
    "ignore_fts = ['DisbursalDate', 'MaturityDAte', 'AuthDate','last_reported_date', 'first_reported_date',\n",
    "             'first_DISBURSED-AMT/HIGH CREDIT - DisbursalAmount','last_DISBURSED-AMT/HIGH CREDIT - DisbursalAmount',\n",
    "             'n_loans_before_curr_loan', 'ACCT-TYPE_and_next_ACCT-TYPE_same', 'substandard_asset_class_count',\n",
    "             'mean_days_number_of_loans_applied', 'total_sum_disbursed_after_loan_applied/day_diff_last',\n",
    "             'total_sum_disbursed_after_loan_applied/DisbursalAmount', 'sum CUR BAL - HIST', 'mean_disbursed_amt_forward_diff',\n",
    "             'Branch_ID_nunq_ACCT_TYPE', 'ACCT_TYPE_Branch_ID_nunq','next_ACCOUNT-STATUS',\n",
    "              'ACCT-TYPE', 'last 3 mean CUR BAL - HIST',\n",
    "           'DisbursalAmount/AssetCost', 'EMI/DisbursalAmount','last_DISBURSED-DT', 'first_DISBURSED-DT'\n",
    "             ]\n",
    "\n",
    "drop_fts = ['first_DISBURSED-AMT/HIGH CREDIT - last_DISBURSED-AMT/HIGH CREDIT',\n",
    " 'ACCT-TYPE_Telco Landline_total_for_user',\n",
    " 'ACCT-TYPE_Pradhan Mantri Awas Yojana - CLSS_total_for_user',\n",
    " 'ACCT-TYPE_Business Non-Funded Credit Facility-Priority Sector-Others_total_for_user',\n",
    " 'ACCT-TYPE_Commercial Equipment Loan_total_for_user',\n",
    " 'ACCT-TYPE_Staff Loan_total_for_user',\n",
    " 'ACCT-TYPE_Corporate Credit Card_total_for_user',\n",
    " 'ACCT-TYPE_Prime Minister Jaan Dhan Yojana - Overdraft_total_for_user',\n",
    " 'ACCT-TYPE_Fleet Card_total_for_user',\n",
    " 'ACCT-TYPE_JLG Group_total_for_user',\n",
    " 'ACCT-TYPE_SHG Individual_total_for_user',\n",
    " 'ACCT-TYPE_Leasing_total_for_user',\n",
    " 'ACCT-TYPE_Loan on Credit Card_total_for_user',\n",
    " 'ACCT-TYPE_SHG Group_total_for_user',\n",
    " 'ACCT-TYPE_Microfinance Personal Loan_total_for_user',\n",
    " 'ACCT-TYPE_Microfinance Housing Loan_total_for_user']\n",
    "\n",
    "fts = [c for c in train.columns if c not in [ID_COL,TARGET_COL] + ignore_fts + drop_fts + drop_fts_2]\n",
    "print(len(fts))"
   ]
  },
  {
   "cell_type": "code",
   "execution_count": null,
   "metadata": {},
   "outputs": [],
   "source": []
  },
  {
   "cell_type": "code",
   "execution_count": 71,
   "metadata": {},
   "outputs": [],
   "source": [
    "df[['ID']+fts].to_pickle('nikhil_feats.pkl')"
   ]
  },
  {
   "cell_type": "code",
   "execution_count": 558,
   "metadata": {},
   "outputs": [
    {
     "name": "stdout",
     "output_type": "stream",
     "text": [
      "8\n",
      "Training until validation scores don't improve for 100 rounds\n",
      "[50]\tvalid_0's multi_logloss: 0.280113\n",
      "[100]\tvalid_0's multi_logloss: 0.282715\n",
      "[150]\tvalid_0's multi_logloss: 0.290397\n",
      "Early stopping, best iteration is:\n",
      "[63]\tvalid_0's multi_logloss: 0.279803\n",
      "\n",
      "Fold 1 Val score: 0.69817\n",
      "\n",
      "12\n",
      "Training until validation scores don't improve for 100 rounds\n",
      "[50]\tvalid_0's multi_logloss: 0.292326\n",
      "[100]\tvalid_0's multi_logloss: 0.27753\n",
      "[150]\tvalid_0's multi_logloss: 0.277404\n",
      "[200]\tvalid_0's multi_logloss: 0.280183\n",
      "Early stopping, best iteration is:\n",
      "[118]\tvalid_0's multi_logloss: 0.276869\n",
      "\n",
      "Fold 2 Val score: 0.69266\n",
      "\n",
      "6\n",
      "Training until validation scores don't improve for 100 rounds\n",
      "[50]\tvalid_0's multi_logloss: 0.291251\n",
      "[100]\tvalid_0's multi_logloss: 0.281591\n",
      "[150]\tvalid_0's multi_logloss: 0.279394\n",
      "[200]\tvalid_0's multi_logloss: 0.279081\n",
      "[250]\tvalid_0's multi_logloss: 0.279603\n",
      "Early stopping, best iteration is:\n",
      "[189]\tvalid_0's multi_logloss: 0.27883\n",
      "\n",
      "Fold 3 Val score: 0.69414\n",
      "\n",
      "-1\n",
      "Training until validation scores don't improve for 100 rounds\n",
      "[50]\tvalid_0's multi_logloss: 0.28869\n",
      "[100]\tvalid_0's multi_logloss: 0.281688\n",
      "[150]\tvalid_0's multi_logloss: 0.287743\n",
      "Early stopping, best iteration is:\n",
      "[90]\tvalid_0's multi_logloss: 0.281294\n",
      "\n",
      "Fold 4 Val score: 0.69731\n",
      "\n",
      "12\n",
      "Training until validation scores don't improve for 100 rounds\n",
      "[50]\tvalid_0's multi_logloss: 0.277566\n",
      "[100]\tvalid_0's multi_logloss: 0.276321\n",
      "[150]\tvalid_0's multi_logloss: 0.283832\n",
      "Early stopping, best iteration is:\n",
      "[68]\tvalid_0's multi_logloss: 0.27457\n",
      "\n",
      "Fold 5 Val score: 0.71013\n",
      "\n",
      "\n",
      "OOF Auc is : 0.69869\n"
     ]
    }
   ],
   "source": [
    "np.random.seed(52)\n",
    "N_SPLITS = 5\n",
    "folds = StratifiedKFold(N_SPLITS, shuffle = True, random_state = 2)\n",
    "oofs = np.zeros((len(train), 7))\n",
    "preds = np.zeros((len(test), 7))\n",
    "fi_df = pd.DataFrame()\n",
    "\n",
    "for fold_, (trn_idx, val_idx) in enumerate(folds.split(train, train[TARGET_COL])):\n",
    "    \n",
    "    X_trn, y_trn = train[fts].iloc[trn_idx], train[TARGET_COL].iloc[trn_idx]\n",
    "    X_val, y_val = train[fts].iloc[val_idx], train[TARGET_COL].iloc[val_idx]\n",
    "    \n",
    "    params = {\n",
    "        'learning_rate': np.random.choice([0.05, 0.06, 0.08, 0.04, 0.1]),\n",
    "        'colsample_bytree': np.random.choice([0.25, 0.5, 0.65, 0.8, 0.95, 0.7, 0.68]),\n",
    "        'reg_alpha': np.random.choice([0.22, 0.85, 0.65, 0.7, 0.1]),\n",
    "        'reg_lambda': np.random.choice([0.7, 0.1, 0.22, 0.85, 0.65, 0.05]),\n",
    "        'max_depth': np.random.choice([4, 6, 8, 12, -1]),\n",
    "        'n_estimators': 10000000000,\n",
    "        'metric': 'None',\n",
    "        'subsample_for_bin': 100000000000,\n",
    "        'objective':'binary',\n",
    "        'num_leaves': 127,\n",
    "        'min_child_samples': 2,\n",
    "    }\n",
    "\n",
    "    print(params['max_depth'])\n",
    "    \n",
    "    clf = LGBMClassifier(**params)\n",
    "    clf.fit(X_trn, y_trn, eval_set = [(X_val, y_val)], verbose = 50, early_stopping_rounds = 100, eval_metric = 'multi_logloss')\n",
    "    \n",
    "    vp = clf.predict_proba(X_val)\n",
    "    val_score = round(f1_score(y_val, vp.argmax(axis = 1), average = 'macro'), 5)\n",
    "    \n",
    "    print(f'\\nFold {fold_+1} Val score: {val_score}\\n')\n",
    "    \n",
    "    tp = clf.predict_proba(test[fts])\n",
    "    \n",
    "    oofs[val_idx] = vp\n",
    "    preds += tp/N_SPLITS\n",
    "        \n",
    "    fi_df = fi_df.append(pd.DataFrame({'fold': fold_, 'feature': fts, 'importance': clf.feature_importances_}))\n",
    "    \n",
    "oof_score = round(f1_score(train[TARGET_COL], oofs.argmax(axis=1), average = 'macro'), 6)\n",
    "print(f'\\nOOF Auc is : {oof_score}')"
   ]
  },
  {
   "cell_type": "code",
   "execution_count": 559,
   "metadata": {},
   "outputs": [
    {
     "data": {
      "text/plain": [
       "0.6986900805343287"
      ]
     },
     "execution_count": 559,
     "metadata": {},
     "output_type": "execute_result"
    }
   ],
   "source": [
    "tmp = oofs.copy()\n",
    "oof_score = f1_score(train[TARGET_COL], tmp.argmax(axis=1), average = 'macro')\n",
    "oof_score"
   ]
  },
  {
   "cell_type": "code",
   "execution_count": 560,
   "metadata": {},
   "outputs": [
    {
     "data": {
      "text/plain": [
       "0.7022080265181362"
      ]
     },
     "execution_count": 560,
     "metadata": {},
     "output_type": "execute_result"
    }
   ],
   "source": [
    "tmp = oofs.copy()\n",
    "tmp[tmp[:, 0] < 0.5, 0] = 0\n",
    "# tmp[tmp[:, 6] < 0.15, 6] = 0\n",
    "oof_score = f1_score(train[TARGET_COL], tmp.argmax(axis=1), average = 'macro')\n",
    "f1_score(train[TARGET_COL], tmp.argmax(axis=1), average='macro')"
   ]
  },
  {
   "cell_type": "code",
   "execution_count": 565,
   "metadata": {},
   "outputs": [],
   "source": [
    "tmp = preds.copy()\n",
    "tmp[tmp[:, 0] < 0.5, 0] = 0\n",
    "pred_labels = pd.Series(tmp.argmax(axis = 1))\n",
    "preds_actual = pred_labels.map(target_inv_mapper)"
   ]
  },
  {
   "cell_type": "code",
   "execution_count": 566,
   "metadata": {},
   "outputs": [],
   "source": [
    "ss[TARGET_COL] = preds_actual\n",
    "ss.to_csv('ltfs_3_rocks.csv', index=False)"
   ]
  },
  {
   "cell_type": "code",
   "execution_count": 567,
   "metadata": {},
   "outputs": [
    {
     "data": {
      "text/plain": [
       "No Top-up Service    0.918142\n",
       " > 48 Months         0.037979\n",
       "36-48 Months         0.014378\n",
       "30-36 Months         0.008274\n",
       "18-24 Months         0.007799\n",
       "24-30 Months         0.007596\n",
       "12-18 Months         0.005832\n",
       "Name: Top-up Month, dtype: float64"
      ]
     },
     "execution_count": 567,
     "metadata": {},
     "output_type": "execute_result"
    }
   ],
   "source": [
    "ss[TARGET_COL].value_counts(normalize = True)"
   ]
  },
  {
   "cell_type": "code",
   "execution_count": 568,
   "metadata": {},
   "outputs": [
    {
     "data": {
      "text/plain": [
       "No Top-up Service    13538\n",
       " > 48 Months           560\n",
       "36-48 Months           212\n",
       "30-36 Months           122\n",
       "18-24 Months           115\n",
       "24-30 Months           112\n",
       "12-18 Months            86\n",
       "Name: Top-up Month, dtype: int64"
      ]
     },
     "execution_count": 568,
     "metadata": {},
     "output_type": "execute_result"
    }
   ],
   "source": [
    "ss[TARGET_COL].value_counts()"
   ]
  },
  {
   "cell_type": "code",
   "execution_count": null,
   "metadata": {},
   "outputs": [],
   "source": []
  },
  {
   "cell_type": "code",
   "execution_count": null,
   "metadata": {},
   "outputs": [],
   "source": []
  }
 ],
 "metadata": {
  "kernelspec": {
   "display_name": "Python 3",
   "language": "python",
   "name": "python3"
  },
  "language_info": {
   "codemirror_mode": {
    "name": "ipython",
    "version": 3
   },
   "file_extension": ".py",
   "mimetype": "text/x-python",
   "name": "python",
   "nbconvert_exporter": "python",
   "pygments_lexer": "ipython3",
   "version": "3.7.4"
  }
 },
 "nbformat": 4,
 "nbformat_minor": 4
}
