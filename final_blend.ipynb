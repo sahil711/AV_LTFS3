{
 "cells": [
  {
   "cell_type": "code",
   "execution_count": 1,
   "metadata": {},
   "outputs": [
    {
     "name": "stdout",
     "output_type": "stream",
     "text": [
      "Requirement already satisfied: lightgbm==3.1.1 in /home/sahil/anaconda3/lib/python3.7/site-packages (3.1.1)\n",
      "Requirement already satisfied: scipy in /home/sahil/anaconda3/lib/python3.7/site-packages (from lightgbm==3.1.1) (1.5.2)\n",
      "Requirement already satisfied: numpy in /home/sahil/anaconda3/lib/python3.7/site-packages (from lightgbm==3.1.1) (1.19.2)\n",
      "Requirement already satisfied: scikit-learn!=0.22.0 in /home/sahil/anaconda3/lib/python3.7/site-packages (from lightgbm==3.1.1) (0.23.2)\n",
      "Requirement already satisfied: wheel in /home/sahil/anaconda3/lib/python3.7/site-packages (from lightgbm==3.1.1) (0.36.2)\n",
      "Requirement already satisfied: joblib>=0.11 in /home/sahil/anaconda3/lib/python3.7/site-packages (from scikit-learn!=0.22.0->lightgbm==3.1.1) (1.0.0)\n",
      "Requirement already satisfied: threadpoolctl>=2.0.0 in /home/sahil/anaconda3/lib/python3.7/site-packages (from scikit-learn!=0.22.0->lightgbm==3.1.1) (2.1.0)\n"
     ]
    }
   ],
   "source": [
    "!pip install lightgbm==3.1.1"
   ]
  },
  {
   "cell_type": "code",
   "execution_count": 2,
   "metadata": {},
   "outputs": [
    {
     "data": {
      "text/html": [
       "<style type='text/css'>\n",
       ".datatable table.frame { margin-bottom: 0; }\n",
       ".datatable table.frame thead { border-bottom: none; }\n",
       ".datatable table.frame tr.coltypes td {  color: #FFFFFF;  line-height: 6px;  padding: 0 0.5em;}\n",
       ".datatable .bool    { background: #DDDD99; }\n",
       ".datatable .object  { background: #565656; }\n",
       ".datatable .int     { background: #5D9E5D; }\n",
       ".datatable .float   { background: #4040CC; }\n",
       ".datatable .str     { background: #CC4040; }\n",
       ".datatable .row_index {  background: var(--jp-border-color3);  border-right: 1px solid var(--jp-border-color0);  color: var(--jp-ui-font-color3);  font-size: 9px;}\n",
       ".datatable .frame tr.coltypes .row_index {  background: var(--jp-border-color0);}\n",
       ".datatable th:nth-child(2) { padding-left: 12px; }\n",
       ".datatable .hellipsis {  color: var(--jp-cell-editor-border-color);}\n",
       ".datatable .vellipsis {  background: var(--jp-layout-color0);  color: var(--jp-cell-editor-border-color);}\n",
       ".datatable .na {  color: var(--jp-cell-editor-border-color);  font-size: 80%;}\n",
       ".datatable .footer { font-size: 9px; }\n",
       ".datatable .frame_dimensions {  background: var(--jp-border-color3);  border-top: 1px solid var(--jp-border-color0);  color: var(--jp-ui-font-color3);  display: inline-block;  opacity: 0.6;  padding: 1px 10px 1px 5px;}\n",
       "</style>\n"
      ],
      "text/plain": [
       "<IPython.core.display.HTML object>"
      ]
     },
     "metadata": {},
     "output_type": "display_data"
    }
   ],
   "source": [
    "import numpy as np\n",
    "import pandas as pd\n",
    "from sklearn.metrics import f1_score\n",
    "from sklearn.model_selection import *\n",
    "import numpy as np\n",
    "import pandas as pd\n",
    "from sklearn.model_selection import *\n",
    "from lightgbm import LGBMClassifier\n",
    "from sklearn.metrics import f1_score\n",
    "import gc\n",
    "from tqdm.notebook import tqdm\n",
    "pd.options.display.max_columns = 100"
   ]
  },
  {
   "cell_type": "code",
   "execution_count": 3,
   "metadata": {},
   "outputs": [],
   "source": [
    "DATA_DIR = 'data/'"
   ]
  },
  {
   "cell_type": "code",
   "execution_count": 4,
   "metadata": {},
   "outputs": [
    {
     "name": "stderr",
     "output_type": "stream",
     "text": [
      "/home/sahil/anaconda3/lib/python3.7/site-packages/ipykernel_launcher.py:16: SettingWithCopyWarning: \n",
      "A value is trying to be set on a copy of a slice from a DataFrame.\n",
      "Try using .loc[row_indexer,col_indexer] = value instead\n",
      "\n",
      "See the caveats in the documentation: https://pandas.pydata.org/pandas-docs/stable/user_guide/indexing.html#returning-a-view-versus-a-copy\n",
      "  app.launch_new_instance()\n"
     ]
    }
   ],
   "source": [
    "train = pd.read_csv(DATA_DIR+'train_Data.csv')\n",
    "test = pd.read_csv(DATA_DIR+'test_Data.csv')\n",
    "\n",
    "ID_COL, TARGET_COL = 'ID', 'Top-up Month'\n",
    "target_mapper = pd.Series({'No Top-up Service': 0,\n",
    "                           '12-18 Months': 1,\n",
    "                           '18-24 Months': 2,\n",
    "                           '24-30 Months': 3,\n",
    "                           '30-36 Months': 4,\n",
    "                           '36-48 Months': 5,\n",
    "                           ' > 48 Months': 6,\n",
    " })\n",
    "target_inv_mapper = pd.Series(index = target_mapper.values, data = target_mapper.index)\n",
    "train[TARGET_COL] = train[TARGET_COL].map(target_mapper)\n",
    "ss = test[['ID']]\n",
    "ss[TARGET_COL] = np.nan"
   ]
  },
  {
   "cell_type": "code",
   "execution_count": 5,
   "metadata": {},
   "outputs": [],
   "source": [
    "use_cols = ['0', '1', '2', '3', '4', '5', '6']"
   ]
  },
  {
   "cell_type": "code",
   "execution_count": 6,
   "metadata": {},
   "outputs": [
    {
     "name": "stdout",
     "output_type": "stream",
     "text": [
      "0.7362930258503323\n"
     ]
    }
   ],
   "source": [
    "a = pd.read_csv('oofs_seed_122_nikhil_cv_0.7304.csv')[use_cols]\n",
    "b = pd.read_csv('oofs_seed_2_nikhil_cv_0.733.csv')[use_cols]\n",
    "c = pd.read_csv('oofs_seed_777_nikhil_cv_0.7325.csv')[use_cols]\n",
    "blnd_oofs_nikhil = a * 0.3 + b * 0.35 + c * 0.35\n",
    "blnd_oofs_nikhil = blnd_oofs_nikhil.values\n",
    "blnd_oofs_nikhil[blnd_oofs_nikhil[:, 0] < 0.5, 0] = 0\n",
    "print(f1_score(train[TARGET_COL], blnd_oofs_nikhil.argmax(axis=1), average = 'macro'))\n"
   ]
  },
  {
   "cell_type": "code",
   "execution_count": 7,
   "metadata": {},
   "outputs": [],
   "source": [
    "a = pd.read_csv('preds_seed_122_nikhil_cv_0.7304.csv')[use_cols]\n",
    "b = pd.read_csv('preds_seed_2_nikhil_cv_0.733.csv')[use_cols]\n",
    "c = pd.read_csv('preds_seed_777_nikhil_cv_0.7325.csv')[use_cols]\n",
    "blnd_preds_nikhil = a * 0.3 + b * 0.35 + c * 0.35\n",
    "# blnd_preds_nikhil.round(4).to_csv('3_seeds_blended_preds_cv_0.7355.csv', index=False)"
   ]
  },
  {
   "cell_type": "code",
   "execution_count": 8,
   "metadata": {},
   "outputs": [],
   "source": [
    "use_cols = [0, 1, 2, 3, 4, 5, 6]"
   ]
  },
  {
   "cell_type": "code",
   "execution_count": 9,
   "metadata": {},
   "outputs": [],
   "source": [
    "a = pd.read_pickle('test_preds_lgbm_depth_128.pkl')[use_cols]\n",
    "b = pd.read_pickle('test_preds_lgbm_depth_32.pkl')[use_cols]\n",
    "c = pd.read_pickle('test_preds_lgbm_depth_192.pkl')[use_cols]\n",
    "d = pd.read_pickle('xgb_test_preds_682_feats_3_seeds_avg.pkl')[use_cols]\n",
    "overal_sahil_preds = np.concatenate((a, b, c, d), axis=1)"
   ]
  },
  {
   "cell_type": "code",
   "execution_count": 10,
   "metadata": {},
   "outputs": [],
   "source": [
    "a = pd.read_pickle('oof_preds_lgbm_depth_128.pkl')[use_cols]\n",
    "b = pd.read_pickle('oof_preds_lgbm_depth_32.pkl')[use_cols]\n",
    "c = pd.read_pickle('oof_preds_lgbm_depth_192.pkl')[use_cols]\n",
    "d = pd.read_pickle('xgb_oof_preds_682_feats_3_seeds_avg.pkl')[use_cols]\n",
    "overal_sahil_oofs = np.concatenate((a, b, c, d), axis=1)"
   ]
  },
  {
   "cell_type": "code",
   "execution_count": 11,
   "metadata": {},
   "outputs": [],
   "source": [
    "train2 = overal_sahil_oofs.copy()\n",
    "test2 = overal_sahil_preds.copy()"
   ]
  },
  {
   "cell_type": "code",
   "execution_count": 12,
   "metadata": {},
   "outputs": [],
   "source": [
    "np.random.seed(52)\n",
    "N_SPLITS = 9\n",
    "folds = StratifiedKFold(N_SPLITS, shuffle = True, random_state = 777)"
   ]
  },
  {
   "cell_type": "code",
   "execution_count": 13,
   "metadata": {},
   "outputs": [],
   "source": [
    "def lgb_f1_score(y_true, y_pred):\n",
    "    y_pred = y_pred.reshape(7, -1).T\n",
    "    y_pred = y_pred.argmax(axis=1) # scikits f1 doesn't like probabilities\n",
    "    return 'f1', f1_score(y_true, y_pred, average='macro'), True"
   ]
  },
  {
   "cell_type": "code",
   "execution_count": 14,
   "metadata": {},
   "outputs": [
    {
     "name": "stdout",
     "output_type": "stream",
     "text": [
      "Training until validation scores don't improve for 200 rounds\n",
      "[50]\tvalid_0's f1: 0.744113\n",
      "[100]\tvalid_0's f1: 0.750955\n",
      "[150]\tvalid_0's f1: 0.750266\n",
      "[200]\tvalid_0's f1: 0.74981\n",
      "[250]\tvalid_0's f1: 0.748929\n",
      "[300]\tvalid_0's f1: 0.748156\n",
      "Early stopping, best iteration is:\n",
      "[100]\tvalid_0's f1: 0.750955\n",
      "\n",
      "Fold 1 Val score: 0.75095\n",
      "\n",
      "Training until validation scores don't improve for 200 rounds\n",
      "[50]\tvalid_0's f1: 0.749188\n",
      "[100]\tvalid_0's f1: 0.749746\n",
      "[150]\tvalid_0's f1: 0.75004\n",
      "[200]\tvalid_0's f1: 0.750591\n",
      "[250]\tvalid_0's f1: 0.750448\n",
      "[300]\tvalid_0's f1: 0.751029\n",
      "[350]\tvalid_0's f1: 0.752036\n",
      "[400]\tvalid_0's f1: 0.750391\n",
      "[450]\tvalid_0's f1: 0.751043\n",
      "[500]\tvalid_0's f1: 0.74897\n",
      "Early stopping, best iteration is:\n",
      "[346]\tvalid_0's f1: 0.752605\n",
      "\n",
      "Fold 2 Val score: 0.7526\n",
      "\n",
      "Training until validation scores don't improve for 200 rounds\n",
      "[50]\tvalid_0's f1: 0.742667\n",
      "[100]\tvalid_0's f1: 0.750404\n",
      "[150]\tvalid_0's f1: 0.749818\n",
      "[200]\tvalid_0's f1: 0.748478\n",
      "[250]\tvalid_0's f1: 0.749899\n",
      "Early stopping, best iteration is:\n",
      "[82]\tvalid_0's f1: 0.75178\n",
      "\n",
      "Fold 3 Val score: 0.75178\n",
      "\n",
      "Training until validation scores don't improve for 200 rounds\n",
      "[50]\tvalid_0's f1: 0.749598\n",
      "[100]\tvalid_0's f1: 0.754945\n",
      "[150]\tvalid_0's f1: 0.754981\n",
      "[200]\tvalid_0's f1: 0.754751\n",
      "[250]\tvalid_0's f1: 0.754002\n",
      "[300]\tvalid_0's f1: 0.75462\n",
      "Early stopping, best iteration is:\n",
      "[140]\tvalid_0's f1: 0.756012\n",
      "\n",
      "Fold 4 Val score: 0.75601\n",
      "\n",
      "Training until validation scores don't improve for 200 rounds\n",
      "[50]\tvalid_0's f1: 0.740574\n",
      "[100]\tvalid_0's f1: 0.74461\n",
      "[150]\tvalid_0's f1: 0.7463\n",
      "[200]\tvalid_0's f1: 0.74632\n",
      "[250]\tvalid_0's f1: 0.745405\n",
      "[300]\tvalid_0's f1: 0.745891\n",
      "[350]\tvalid_0's f1: 0.745927\n",
      "Early stopping, best iteration is:\n",
      "[182]\tvalid_0's f1: 0.746871\n",
      "\n",
      "Fold 5 Val score: 0.74687\n",
      "\n",
      "Training until validation scores don't improve for 200 rounds\n",
      "[50]\tvalid_0's f1: 0.750022\n",
      "[100]\tvalid_0's f1: 0.752727\n",
      "[150]\tvalid_0's f1: 0.753104\n",
      "[200]\tvalid_0's f1: 0.753985\n",
      "[250]\tvalid_0's f1: 0.753909\n",
      "[300]\tvalid_0's f1: 0.753886\n",
      "[350]\tvalid_0's f1: 0.754696\n",
      "[400]\tvalid_0's f1: 0.754323\n",
      "[450]\tvalid_0's f1: 0.752231\n",
      "[500]\tvalid_0's f1: 0.75158\n",
      "Early stopping, best iteration is:\n",
      "[327]\tvalid_0's f1: 0.755251\n",
      "\n",
      "Fold 6 Val score: 0.75525\n",
      "\n",
      "Training until validation scores don't improve for 200 rounds\n",
      "[50]\tvalid_0's f1: 0.739388\n",
      "[100]\tvalid_0's f1: 0.747456\n",
      "[150]\tvalid_0's f1: 0.747295\n",
      "[200]\tvalid_0's f1: 0.747826\n",
      "[250]\tvalid_0's f1: 0.747239\n",
      "[300]\tvalid_0's f1: 0.748235\n",
      "[350]\tvalid_0's f1: 0.748165\n",
      "[400]\tvalid_0's f1: 0.74855\n",
      "[450]\tvalid_0's f1: 0.747824\n",
      "Early stopping, best iteration is:\n",
      "[285]\tvalid_0's f1: 0.748686\n",
      "\n",
      "Fold 7 Val score: 0.74869\n",
      "\n",
      "Training until validation scores don't improve for 200 rounds\n",
      "[50]\tvalid_0's f1: 0.750906\n",
      "[100]\tvalid_0's f1: 0.75567\n",
      "[150]\tvalid_0's f1: 0.75632\n",
      "[200]\tvalid_0's f1: 0.756191\n",
      "[250]\tvalid_0's f1: 0.756099\n",
      "[300]\tvalid_0's f1: 0.75566\n",
      "[350]\tvalid_0's f1: 0.754855\n",
      "Early stopping, best iteration is:\n",
      "[152]\tvalid_0's f1: 0.756805\n",
      "\n",
      "Fold 8 Val score: 0.75681\n",
      "\n",
      "Training until validation scores don't improve for 200 rounds\n",
      "[50]\tvalid_0's f1: 0.752882\n",
      "[100]\tvalid_0's f1: 0.755264\n",
      "[150]\tvalid_0's f1: 0.755985\n",
      "[200]\tvalid_0's f1: 0.754594\n",
      "[250]\tvalid_0's f1: 0.753566\n",
      "Early stopping, best iteration is:\n",
      "[70]\tvalid_0's f1: 0.756512\n",
      "\n",
      "Fold 9 Val score: 0.75651\n",
      "\n",
      "\n",
      "OOF Auc is : 0.753011\n"
     ]
    }
   ],
   "source": [
    "oofs = np.zeros((len(train), 7))\n",
    "preds = np.zeros((len(test), 7))\n",
    "\n",
    "for fold_, (trn_idx, val_idx) in enumerate(folds.split(train, train[TARGET_COL])):\n",
    "    \n",
    "    X_trn, y_trn = train2[trn_idx], train[TARGET_COL].iloc[trn_idx]\n",
    "    X_val, y_val = train2[val_idx], train[TARGET_COL].iloc[val_idx]\n",
    "    \n",
    "    params = {\n",
    "        'learning_rate': 0.02,#np.random.choice([0.05, 0.06, 0.08, 0.04, 0.1])/5,\n",
    "        'colsample_bytree': 0.8,#np.random.choice([0.25, 0.5, 0.65, 0.8, 0.95, 0.7, 0.68]),\n",
    "        'reg_alpha': 0.3,#np.random.choice([0.22, 0.85, 0.65, 0.7, 0.1]),\n",
    "        'reg_lambda': 0.3,#np.random.choice([0.7, 0.1, 0.22, 0.85, 0.65, 0.05]),\n",
    "        'max_depth': -1,#np.random.choice([4, 6, 8, 12, -1]),\n",
    "        'n_estimators': 10000000000,\n",
    "        'metric': 'None',\n",
    "        'subsample_for_bin': 100000000000,\n",
    "        'objective':'binary',\n",
    "        'num_leaves': 31,\n",
    "        'min_child_samples': 7,\n",
    "    }\n",
    "\n",
    "    \n",
    "    clf = LGBMClassifier(**params)\n",
    "    clf.fit(X_trn, y_trn, eval_set = [(X_val, y_val)], verbose = 50, early_stopping_rounds = 200, eval_metric = lgb_f1_score)\n",
    "    \n",
    "    vp = clf.predict_proba(X_val)\n",
    "    val_score = round(f1_score(y_val, vp.argmax(axis = 1), average = 'macro'), 5)\n",
    "    \n",
    "    print(f'\\nFold {fold_+1} Val score: {val_score}\\n')\n",
    "    \n",
    "    tp = clf.predict_proba(test2)\n",
    "    \n",
    "    oofs[val_idx] = vp\n",
    "    preds += tp/N_SPLITS\n",
    "\n",
    "    \n",
    "oof_score = round(f1_score(train[TARGET_COL], oofs.argmax(axis=1), average = 'macro'), 6)\n",
    "print(f'\\nOOF Auc is : {oof_score}')"
   ]
  },
  {
   "cell_type": "code",
   "execution_count": 15,
   "metadata": {},
   "outputs": [
    {
     "name": "stdout",
     "output_type": "stream",
     "text": [
      "0.7549807457366647\n"
     ]
    }
   ],
   "source": [
    "blnd_final = oofs * 0.65 + blnd_oofs_nikhil * 0.35\n",
    "print(f1_score(train[TARGET_COL], blnd_final.argmax(axis=1), average = 'macro'))"
   ]
  },
  {
   "cell_type": "code",
   "execution_count": 16,
   "metadata": {},
   "outputs": [],
   "source": [
    "blnd_final = preds * 0.65 + blnd_preds_nikhil * 0.35"
   ]
  },
  {
   "cell_type": "code",
   "execution_count": 17,
   "metadata": {},
   "outputs": [],
   "source": [
    "pred_labels = pd.Series(blnd_final.values.argmax(axis = 1))\n",
    "preds_actual = pred_labels.map(target_inv_mapper)"
   ]
  },
  {
   "cell_type": "code",
   "execution_count": 18,
   "metadata": {},
   "outputs": [
    {
     "name": "stderr",
     "output_type": "stream",
     "text": [
      "/home/sahil/anaconda3/lib/python3.7/site-packages/ipykernel_launcher.py:1: SettingWithCopyWarning: \n",
      "A value is trying to be set on a copy of a slice from a DataFrame.\n",
      "Try using .loc[row_indexer,col_indexer] = value instead\n",
      "\n",
      "See the caveats in the documentation: https://pandas.pydata.org/pandas-docs/stable/user_guide/indexing.html#returning-a-view-versus-a-copy\n",
      "  \"\"\"Entry point for launching an IPython kernel.\n"
     ]
    }
   ],
   "source": [
    "ss[TARGET_COL] = preds_actual\n",
    "ss.to_csv('final_submission.csv', index=False)"
   ]
  },
  {
   "cell_type": "code",
   "execution_count": 19,
   "metadata": {},
   "outputs": [
    {
     "data": {
      "text/plain": [
       "No Top-up Service    13564\n",
       " > 48 Months           518\n",
       "36-48 Months           220\n",
       "24-30 Months           115\n",
       "30-36 Months           115\n",
       "18-24 Months           115\n",
       "12-18 Months            98\n",
       "Name: Top-up Month, dtype: int64"
      ]
     },
     "execution_count": 19,
     "metadata": {},
     "output_type": "execute_result"
    }
   ],
   "source": [
    "ss[TARGET_COL].value_counts()"
   ]
  }
 ],
 "metadata": {
  "kernelspec": {
   "display_name": "Python 3",
   "language": "python",
   "name": "python3"
  },
  "language_info": {
   "codemirror_mode": {
    "name": "ipython",
    "version": 3
   },
   "file_extension": ".py",
   "mimetype": "text/x-python",
   "name": "python",
   "nbconvert_exporter": "python",
   "pygments_lexer": "ipython3",
   "version": "3.7.4"
  }
 },
 "nbformat": 4,
 "nbformat_minor": 4
}
